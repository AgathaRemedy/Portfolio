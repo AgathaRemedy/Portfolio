{
 "cells": [
  {
   "cell_type": "markdown",
   "metadata": {},
   "source": [
    "# Анализ пользовательского поведения в мобильном приложении"
   ]
  },
  {
   "cell_type": "markdown",
   "metadata": {},
   "source": [
    "## Содержание\n",
    "\n",
    "\n",
    "<ul>\n",
    "    <li><a href=\"#step_1\">Введение</a></li>\n",
    "    <li><a href=\"#step_2\">Изучение общей информации о данных</a></li>\n",
    "    <li><a href=\"#step_3\">Предобработка данных</a></li>\n",
    "    <li><a href=\"#step_4\">Изучение и проверка данных</a>\n",
    "    <ul>\n",
    "        <li><a href=\"#step_4_1\">Определение количества событий в логе</a></li>\n",
    "        <li><a href=\"#step_4_2\">Определение количества пользователей в логе</a></li>\n",
    "        <li><a href=\"#step_4_3\">Определение среднего количества событий на пользователя</a></li>\n",
    "        <li><a href=\"#step_4_4\">Определение временных границ эксперимента</a></li>\n",
    "    </ul></li>\n",
    "    <li><a href=\"#step_5\">Изучение воронки событий</a>\n",
    "    <ul>\n",
    "        <li><a href=\"#step_5_1\">Частота встречаемости событий в логах</a></li>\n",
    "        <li><a href=\"#step_5_2\">Определение количества пользователей совершивших каждое из событий</a></li> \n",
    "        <li><a href=\"#step_5_3\">Вид воронки событий</a></li>\n",
    "        <li><a href=\"#step_5_4\">Расчёт доли пользователей, переходящих на следующий шаг воронки</a></li>\n",
    "    </ul></li>\n",
    "    <li><a href=\"#step_6\">Изучение результатов эксперимента</a>\n",
    "        <ul>\n",
    "        <li><a href=\"#step_6_1\">Определение количества пользователей в каждой экспериментальной группе</a></li> \n",
    "        <li><a href=\"#step_6_2\">Проверка наличия статистической значимости между пользователями групп 246 и 247 (A/A-тест)</a></li> \n",
    "        <li><a href=\"#step_6_3\">Анализ результатов A/B-теста</a></li> \n",
    "        <li><a href=\"#step_6_4\">Выбор уровня статистической значимости</a></li> \n",
    "    </ul></li>\n",
    "    <li><a href=\"#step_7\">Выводы</a></li>\n",
    "</ul>"
   ]
  },
  {
   "cell_type": "markdown",
   "metadata": {},
   "source": [
    "<a id='step_1'></a>\n",
    "## Введение\n",
    "\n",
    "**Краткое описание проекта**: нужно разобраться, как ведут себя пользователи мобильного приложения стартапа, который продаёт продукты питания.   \n",
    "- Изучить воронку продаж и выяснить, как пользователи доходят до покупки. Определить: сколько пользователей доходит до покупки, а сколько — «застревает» на предыдущих шагах. Определить, что это за шаги.   \n",
    "- Исследовать результаты A/A/B-эксперимента: дизайнеры захотели поменять шрифты во всём приложении, а менеджеры испугались, что пользователям будет непривычно. Договорились принять решение по результатам A/A/B-теста. Пользователей разбили на 3 группы: 2 контрольные со старыми шрифтами и одну экспериментальную — с новыми. Выяснить, какой шрифт лучше.   \n",
    "\n",
    "**Краткий план работы**:<br/>      \n",
    "**Шаг 1**. Открыть файл с данными и изучить общую информацию;    \n",
    "**Шаг 2**. Подготовить данные (скорректировать названия столбцов, преобразовать данные в нужные типы, обработать пропуски);   \n",
    "**Шаг 3**. Изучить и проверить данные;  \n",
    "**Шаг 4**. Изучить воронку событий;   \n",
    "**Шаг 5**. Изучить результаты эксперимента;   \n",
    "**Шаг 6**. Сделать общие выводы.   "
   ]
  },
  {
   "cell_type": "markdown",
   "metadata": {},
   "source": [
    "<a id='step_2'></a>\n",
    "## Изучение общей информации о данных"
   ]
  },
  {
   "cell_type": "markdown",
   "metadata": {},
   "source": [
    "Импортируем все библиотеки, необходимые для выполнения проекта."
   ]
  },
  {
   "cell_type": "code",
   "execution_count": 37,
   "metadata": {},
   "outputs": [],
   "source": [
    "import pandas as pd\n",
    "import datetime as dt\n",
    "import matplotlib.pyplot as plt \n",
    "import math as mth\n",
    "import numpy as np\n",
    "import scipy.stats as st\n",
    "import plotly.express as px\n",
    "from plotly import graph_objects as go\n",
    "import warnings\n",
    "\n",
    "\n",
    "warnings.filterwarnings('ignore')"
   ]
  },
  {
   "cell_type": "markdown",
   "metadata": {},
   "source": [
    "Считываем .CSV-файл с данными в датафрейм `log_exp`. Выведем общую информацию о содержимом."
   ]
  },
  {
   "cell_type": "code",
   "execution_count": 38,
   "metadata": {},
   "outputs": [
    {
     "name": "stdout",
     "output_type": "stream",
     "text": [
      "<class 'pandas.core.frame.DataFrame'>\n",
      "RangeIndex: 244126 entries, 0 to 244125\n",
      "Data columns (total 4 columns):\n",
      " #   Column          Non-Null Count   Dtype \n",
      "---  ------          --------------   ----- \n",
      " 0   EventName       244126 non-null  object\n",
      " 1   DeviceIDHash    244126 non-null  int64 \n",
      " 2   EventTimestamp  244126 non-null  int64 \n",
      " 3   ExpId           244126 non-null  int64 \n",
      "dtypes: int64(3), object(1)\n",
      "memory usage: 7.5+ MB\n"
     ]
    },
    {
     "data": {
      "text/html": [
       "<div>\n",
       "<style scoped>\n",
       "    .dataframe tbody tr th:only-of-type {\n",
       "        vertical-align: middle;\n",
       "    }\n",
       "\n",
       "    .dataframe tbody tr th {\n",
       "        vertical-align: top;\n",
       "    }\n",
       "\n",
       "    .dataframe thead th {\n",
       "        text-align: right;\n",
       "    }\n",
       "</style>\n",
       "<table border=\"1\" class=\"dataframe\">\n",
       "  <thead>\n",
       "    <tr style=\"text-align: right;\">\n",
       "      <th></th>\n",
       "      <th>EventName</th>\n",
       "      <th>DeviceIDHash</th>\n",
       "      <th>EventTimestamp</th>\n",
       "      <th>ExpId</th>\n",
       "    </tr>\n",
       "  </thead>\n",
       "  <tbody>\n",
       "    <tr>\n",
       "      <th>0</th>\n",
       "      <td>MainScreenAppear</td>\n",
       "      <td>4575588528974610257</td>\n",
       "      <td>1564029816</td>\n",
       "      <td>246</td>\n",
       "    </tr>\n",
       "    <tr>\n",
       "      <th>1</th>\n",
       "      <td>MainScreenAppear</td>\n",
       "      <td>7416695313311560658</td>\n",
       "      <td>1564053102</td>\n",
       "      <td>246</td>\n",
       "    </tr>\n",
       "    <tr>\n",
       "      <th>2</th>\n",
       "      <td>PaymentScreenSuccessful</td>\n",
       "      <td>3518123091307005509</td>\n",
       "      <td>1564054127</td>\n",
       "      <td>248</td>\n",
       "    </tr>\n",
       "    <tr>\n",
       "      <th>3</th>\n",
       "      <td>CartScreenAppear</td>\n",
       "      <td>3518123091307005509</td>\n",
       "      <td>1564054127</td>\n",
       "      <td>248</td>\n",
       "    </tr>\n",
       "    <tr>\n",
       "      <th>4</th>\n",
       "      <td>PaymentScreenSuccessful</td>\n",
       "      <td>6217807653094995999</td>\n",
       "      <td>1564055322</td>\n",
       "      <td>248</td>\n",
       "    </tr>\n",
       "    <tr>\n",
       "      <th>5</th>\n",
       "      <td>CartScreenAppear</td>\n",
       "      <td>6217807653094995999</td>\n",
       "      <td>1564055323</td>\n",
       "      <td>248</td>\n",
       "    </tr>\n",
       "    <tr>\n",
       "      <th>6</th>\n",
       "      <td>OffersScreenAppear</td>\n",
       "      <td>8351860793733343758</td>\n",
       "      <td>1564066242</td>\n",
       "      <td>246</td>\n",
       "    </tr>\n",
       "    <tr>\n",
       "      <th>7</th>\n",
       "      <td>MainScreenAppear</td>\n",
       "      <td>5682100281902512875</td>\n",
       "      <td>1564085677</td>\n",
       "      <td>246</td>\n",
       "    </tr>\n",
       "    <tr>\n",
       "      <th>8</th>\n",
       "      <td>MainScreenAppear</td>\n",
       "      <td>1850981295691852772</td>\n",
       "      <td>1564086702</td>\n",
       "      <td>247</td>\n",
       "    </tr>\n",
       "    <tr>\n",
       "      <th>9</th>\n",
       "      <td>MainScreenAppear</td>\n",
       "      <td>5407636962369102641</td>\n",
       "      <td>1564112112</td>\n",
       "      <td>246</td>\n",
       "    </tr>\n",
       "  </tbody>\n",
       "</table>\n",
       "</div>"
      ],
      "text/plain": [
       "                 EventName         DeviceIDHash  EventTimestamp  ExpId\n",
       "0         MainScreenAppear  4575588528974610257      1564029816    246\n",
       "1         MainScreenAppear  7416695313311560658      1564053102    246\n",
       "2  PaymentScreenSuccessful  3518123091307005509      1564054127    248\n",
       "3         CartScreenAppear  3518123091307005509      1564054127    248\n",
       "4  PaymentScreenSuccessful  6217807653094995999      1564055322    248\n",
       "5         CartScreenAppear  6217807653094995999      1564055323    248\n",
       "6       OffersScreenAppear  8351860793733343758      1564066242    246\n",
       "7         MainScreenAppear  5682100281902512875      1564085677    246\n",
       "8         MainScreenAppear  1850981295691852772      1564086702    247\n",
       "9         MainScreenAppear  5407636962369102641      1564112112    246"
      ]
     },
     "execution_count": 38,
     "metadata": {},
     "output_type": "execute_result"
    }
   ],
   "source": [
    "try:\n",
    "    logs_exp = pd.read_csv('/datasets/logs_exp.csv', sep='\\t')\n",
    "except:\n",
    "    logs_exp = pd.read_csv('https://datasets/logs_exp.csv', sep='\\t')\n",
    "logs_exp.info()\n",
    "logs_exp.head(10)"
   ]
  },
  {
   "cell_type": "markdown",
   "metadata": {},
   "source": [
    " Исследуем, какие значения содержатся в каждом столбце:"
   ]
  },
  {
   "cell_type": "code",
   "execution_count": 39,
   "metadata": {},
   "outputs": [
    {
     "name": "stdout",
     "output_type": "stream",
     "text": [
      "EventName: ['MainScreenAppear' 'PaymentScreenSuccessful' 'CartScreenAppear'\n",
      " 'OffersScreenAppear' 'Tutorial']\n",
      "\n",
      "Всего уникальных значений в EventName: 5\n",
      "Количество уникальных значений в колонке EventName:\n",
      " EventName\n",
      "MainScreenAppear           119205\n",
      "OffersScreenAppear          46825\n",
      "CartScreenAppear            42731\n",
      "PaymentScreenSuccessful     34313\n",
      "Tutorial                     1052\n",
      "Name: EventName, dtype: int64\n",
      "\n",
      "\n",
      "DeviceIDHash: [4575588528974610257 7416695313311560658 3518123091307005509 ...\n",
      " 6660805781687343085 7823752606740475984 3454683894921357834]\n",
      "\n",
      "Всего уникальных значений в DeviceIDHash: 7551\n",
      "Количество уникальных значений в колонке DeviceIDHash:\n",
      " DeviceIDHash\n",
      "6304868067479728361    2308\n",
      "197027893265565660     2003\n",
      "4623191541214045580    1771\n",
      "6932517045703054087    1448\n",
      "1754140665440434215    1222\n",
      "                       ... \n",
      "395376432319166724        1\n",
      "7340109038762980814       1\n",
      "4890736107619881150       1\n",
      "2284191870135457477       1\n",
      "6888746892508752          1\n",
      "Name: DeviceIDHash, Length: 7551, dtype: int64\n",
      "\n",
      "\n",
      "EventTimestamp: [1564029816 1564053102 1564054127 ... 1565212483 1565212498 1565212517]\n",
      "\n",
      "Всего уникальных значений в EventTimestamp: 176654\n",
      "Количество уникальных значений в колонке EventTimestamp:\n",
      " EventTimestamp\n",
      "1564670435    9\n",
      "1564935799    9\n",
      "1565017227    8\n",
      "1565176721    8\n",
      "1564911846    8\n",
      "             ..\n",
      "1564837824    1\n",
      "1564837843    1\n",
      "1564837844    1\n",
      "1564837845    1\n",
      "1565212517    1\n",
      "Name: EventTimestamp, Length: 176654, dtype: int64\n",
      "\n",
      "\n",
      "ExpId: [246 248 247]\n",
      "\n",
      "Всего уникальных значений в ExpId: 3\n",
      "Количество уникальных значений в колонке ExpId:\n",
      " ExpId\n",
      "248    85747\n",
      "246    80304\n",
      "247    78075\n",
      "Name: ExpId, dtype: int64\n",
      "\n",
      "\n"
     ]
    }
   ],
   "source": [
    "columns = logs_exp.columns\n",
    "for column in columns:\n",
    "    print(column+\":\",logs_exp[column].unique())\n",
    "    print('\\nВсего уникальных значений в '+column+':', logs_exp[column].nunique())\n",
    "    print('Количество уникальных значений в колонке '+column+':\\n', logs_exp.groupby(column)[column].count().sort_values(ascending=False))\n",
    "    print('\\n')   "
   ]
  },
  {
   "cell_type": "markdown",
   "metadata": {},
   "source": [
    "Tак как значения `ExpId` являются маркерами группы и математические операции с ними не имеют смысла, можем заменить тип данных этого столбца на `object`."
   ]
  },
  {
   "cell_type": "code",
   "execution_count": 40,
   "metadata": {},
   "outputs": [
    {
     "name": "stdout",
     "output_type": "stream",
     "text": [
      "<class 'pandas.core.frame.DataFrame'>\n",
      "RangeIndex: 244126 entries, 0 to 244125\n",
      "Data columns (total 4 columns):\n",
      " #   Column          Non-Null Count   Dtype \n",
      "---  ------          --------------   ----- \n",
      " 0   EventName       244126 non-null  object\n",
      " 1   DeviceIDHash    244126 non-null  int64 \n",
      " 2   EventTimestamp  244126 non-null  int64 \n",
      " 3   ExpId           244126 non-null  object\n",
      "dtypes: int64(2), object(2)\n",
      "memory usage: 7.5+ MB\n"
     ]
    }
   ],
   "source": [
    "logs_exp['ExpId'] = logs_exp['ExpId'].astype(object)\n",
    "logs_exp.info()"
   ]
  },
  {
   "cell_type": "markdown",
   "metadata": {},
   "source": [
    "**Вывод**: \n",
    "- В датафрейме содержится 4 столбца и 244 126 строк. В данных отсутствуюют пропущенные значения;\n",
    "- В столбце `EventName` содержатся названия событий, котрые составляют воронку событий:   \n",
    "    - `MainScreenAppear` &mdash; появление главного экрана;\n",
    "    - `OffersScreenAppear` &mdash; появление экрана предложений;\n",
    "    - `CartScreenAppear` &mdash; появление экрана корзины;\n",
    "    - `PaymentScreenSuccessful`&mdash; экран успешной покупки;\n",
    "    - `Tutorial` &mdash; обучение;  \n",
    "    Неявные дубликаты и значения-заглушки отсутствуют, тип данных столбца верный.\n",
    "- `DeviceIDHash` &mdash; содержит уникальные идентификаторы пользователей (всего уникальных идентификаторов 7551). В столбце нет значений-заглушек и неявных дубликатов, тип данных столбца верный;\n",
    "- `EventTimestamp` &mdash; время события (в количестве секунд от `1970-01-01`);\n",
    "- `ExpId` &mdash; номер эксперимента. Так как значения этого столбца являются маркерами группы и математические операции с ними не имеют смысла, можем заменить тип данных на `object`;\n",
    "\n",
    "Далее приведём названия столбцов к &laquo;змеиному&raquo; регистру, обработаем явные дубликаты, а так же выделим из столбца `EventTimestamp` информацию о дате и времения события.\n"
   ]
  },
  {
   "cell_type": "markdown",
   "metadata": {},
   "source": [
    "<a id='step_3'></a>\n",
    "## Предобработка данных"
   ]
  },
  {
   "cell_type": "markdown",
   "metadata": {},
   "source": [
    "Приведём названия столбцов к &laquo;змеиному&raquo; регистру:"
   ]
  },
  {
   "cell_type": "code",
   "execution_count": 41,
   "metadata": {},
   "outputs": [
    {
     "data": {
      "text/html": [
       "<div>\n",
       "<style scoped>\n",
       "    .dataframe tbody tr th:only-of-type {\n",
       "        vertical-align: middle;\n",
       "    }\n",
       "\n",
       "    .dataframe tbody tr th {\n",
       "        vertical-align: top;\n",
       "    }\n",
       "\n",
       "    .dataframe thead th {\n",
       "        text-align: right;\n",
       "    }\n",
       "</style>\n",
       "<table border=\"1\" class=\"dataframe\">\n",
       "  <thead>\n",
       "    <tr style=\"text-align: right;\">\n",
       "      <th></th>\n",
       "      <th>event_name</th>\n",
       "      <th>device_id_hash</th>\n",
       "      <th>event_timestamp</th>\n",
       "      <th>exp_id</th>\n",
       "    </tr>\n",
       "  </thead>\n",
       "  <tbody>\n",
       "    <tr>\n",
       "      <th>0</th>\n",
       "      <td>MainScreenAppear</td>\n",
       "      <td>4575588528974610257</td>\n",
       "      <td>1564029816</td>\n",
       "      <td>246</td>\n",
       "    </tr>\n",
       "    <tr>\n",
       "      <th>1</th>\n",
       "      <td>MainScreenAppear</td>\n",
       "      <td>7416695313311560658</td>\n",
       "      <td>1564053102</td>\n",
       "      <td>246</td>\n",
       "    </tr>\n",
       "    <tr>\n",
       "      <th>2</th>\n",
       "      <td>PaymentScreenSuccessful</td>\n",
       "      <td>3518123091307005509</td>\n",
       "      <td>1564054127</td>\n",
       "      <td>248</td>\n",
       "    </tr>\n",
       "    <tr>\n",
       "      <th>3</th>\n",
       "      <td>CartScreenAppear</td>\n",
       "      <td>3518123091307005509</td>\n",
       "      <td>1564054127</td>\n",
       "      <td>248</td>\n",
       "    </tr>\n",
       "    <tr>\n",
       "      <th>4</th>\n",
       "      <td>PaymentScreenSuccessful</td>\n",
       "      <td>6217807653094995999</td>\n",
       "      <td>1564055322</td>\n",
       "      <td>248</td>\n",
       "    </tr>\n",
       "  </tbody>\n",
       "</table>\n",
       "</div>"
      ],
      "text/plain": [
       "                event_name       device_id_hash  event_timestamp exp_id\n",
       "0         MainScreenAppear  4575588528974610257       1564029816    246\n",
       "1         MainScreenAppear  7416695313311560658       1564053102    246\n",
       "2  PaymentScreenSuccessful  3518123091307005509       1564054127    248\n",
       "3         CartScreenAppear  3518123091307005509       1564054127    248\n",
       "4  PaymentScreenSuccessful  6217807653094995999       1564055322    248"
      ]
     },
     "execution_count": 41,
     "metadata": {},
     "output_type": "execute_result"
    }
   ],
   "source": [
    "logs_exp = logs_exp.rename(columns = {'EventName':'event_name', \n",
    "                                      'DeviceIDHash':'device_id_hash', \n",
    "                                      'EventTimestamp':'event_timestamp',\n",
    "                                      'ExpId': 'exp_id'})\n",
    "logs_exp.head()"
   ]
  },
  {
   "cell_type": "markdown",
   "metadata": {},
   "source": [
    "Обработаем явные дубликаты датафрейма:"
   ]
  },
  {
   "cell_type": "code",
   "execution_count": 42,
   "metadata": {},
   "outputs": [
    {
     "name": "stdout",
     "output_type": "stream",
     "text": [
      "Количество явных дубликатов: 413\n"
     ]
    }
   ],
   "source": [
    "print(\"Количество явных дубликатов:\", logs_exp.duplicated().sum())"
   ]
  },
  {
   "cell_type": "code",
   "execution_count": 43,
   "metadata": {},
   "outputs": [
    {
     "name": "stdout",
     "output_type": "stream",
     "text": [
      "Количество явных дубликатов: 0\n",
      "<class 'pandas.core.frame.DataFrame'>\n",
      "Index: 243713 entries, 0 to 244125\n",
      "Data columns (total 4 columns):\n",
      " #   Column           Non-Null Count   Dtype \n",
      "---  ------           --------------   ----- \n",
      " 0   event_name       243713 non-null  object\n",
      " 1   device_id_hash   243713 non-null  int64 \n",
      " 2   event_timestamp  243713 non-null  int64 \n",
      " 3   exp_id           243713 non-null  object\n",
      "dtypes: int64(2), object(2)\n",
      "memory usage: 9.3+ MB\n"
     ]
    }
   ],
   "source": [
    "logs_exp = logs_exp.drop_duplicates(keep='first')\n",
    "print(\"Количество явных дубликатов:\", logs_exp.duplicated().sum())\n",
    "logs_exp.info()"
   ]
  },
  {
   "cell_type": "markdown",
   "metadata": {},
   "source": [
    "Из датафрейма удалено 412 явных дубликатов."
   ]
  },
  {
   "cell_type": "markdown",
   "metadata": {},
   "source": [
    "Добавим столбец даты и времени, а также отдельный столбец дат (как уже было указано ранее, значения в `event_timestamp` &mdash; это количество секунд прошедщих с 01-01-1970 00:00."
   ]
  },
  {
   "cell_type": "code",
   "execution_count": 44,
   "metadata": {},
   "outputs": [
    {
     "data": {
      "text/html": [
       "<div>\n",
       "<style scoped>\n",
       "    .dataframe tbody tr th:only-of-type {\n",
       "        vertical-align: middle;\n",
       "    }\n",
       "\n",
       "    .dataframe tbody tr th {\n",
       "        vertical-align: top;\n",
       "    }\n",
       "\n",
       "    .dataframe thead th {\n",
       "        text-align: right;\n",
       "    }\n",
       "</style>\n",
       "<table border=\"1\" class=\"dataframe\">\n",
       "  <thead>\n",
       "    <tr style=\"text-align: right;\">\n",
       "      <th></th>\n",
       "      <th>event_name</th>\n",
       "      <th>device_id_hash</th>\n",
       "      <th>event_timestamp</th>\n",
       "      <th>exp_id</th>\n",
       "      <th>date_time</th>\n",
       "      <th>date</th>\n",
       "    </tr>\n",
       "  </thead>\n",
       "  <tbody>\n",
       "    <tr>\n",
       "      <th>0</th>\n",
       "      <td>MainScreenAppear</td>\n",
       "      <td>4575588528974610257</td>\n",
       "      <td>1564029816</td>\n",
       "      <td>246</td>\n",
       "      <td>2019-07-25 04:43:36</td>\n",
       "      <td>2019-07-25</td>\n",
       "    </tr>\n",
       "    <tr>\n",
       "      <th>1</th>\n",
       "      <td>MainScreenAppear</td>\n",
       "      <td>7416695313311560658</td>\n",
       "      <td>1564053102</td>\n",
       "      <td>246</td>\n",
       "      <td>2019-07-25 11:11:42</td>\n",
       "      <td>2019-07-25</td>\n",
       "    </tr>\n",
       "    <tr>\n",
       "      <th>2</th>\n",
       "      <td>PaymentScreenSuccessful</td>\n",
       "      <td>3518123091307005509</td>\n",
       "      <td>1564054127</td>\n",
       "      <td>248</td>\n",
       "      <td>2019-07-25 11:28:47</td>\n",
       "      <td>2019-07-25</td>\n",
       "    </tr>\n",
       "    <tr>\n",
       "      <th>3</th>\n",
       "      <td>CartScreenAppear</td>\n",
       "      <td>3518123091307005509</td>\n",
       "      <td>1564054127</td>\n",
       "      <td>248</td>\n",
       "      <td>2019-07-25 11:28:47</td>\n",
       "      <td>2019-07-25</td>\n",
       "    </tr>\n",
       "    <tr>\n",
       "      <th>4</th>\n",
       "      <td>PaymentScreenSuccessful</td>\n",
       "      <td>6217807653094995999</td>\n",
       "      <td>1564055322</td>\n",
       "      <td>248</td>\n",
       "      <td>2019-07-25 11:48:42</td>\n",
       "      <td>2019-07-25</td>\n",
       "    </tr>\n",
       "    <tr>\n",
       "      <th>...</th>\n",
       "      <td>...</td>\n",
       "      <td>...</td>\n",
       "      <td>...</td>\n",
       "      <td>...</td>\n",
       "      <td>...</td>\n",
       "      <td>...</td>\n",
       "    </tr>\n",
       "    <tr>\n",
       "      <th>244121</th>\n",
       "      <td>MainScreenAppear</td>\n",
       "      <td>4599628364049201812</td>\n",
       "      <td>1565212345</td>\n",
       "      <td>247</td>\n",
       "      <td>2019-08-07 21:12:25</td>\n",
       "      <td>2019-08-07</td>\n",
       "    </tr>\n",
       "    <tr>\n",
       "      <th>244122</th>\n",
       "      <td>MainScreenAppear</td>\n",
       "      <td>5849806612437486590</td>\n",
       "      <td>1565212439</td>\n",
       "      <td>246</td>\n",
       "      <td>2019-08-07 21:13:59</td>\n",
       "      <td>2019-08-07</td>\n",
       "    </tr>\n",
       "    <tr>\n",
       "      <th>244123</th>\n",
       "      <td>MainScreenAppear</td>\n",
       "      <td>5746969938801999050</td>\n",
       "      <td>1565212483</td>\n",
       "      <td>246</td>\n",
       "      <td>2019-08-07 21:14:43</td>\n",
       "      <td>2019-08-07</td>\n",
       "    </tr>\n",
       "    <tr>\n",
       "      <th>244124</th>\n",
       "      <td>MainScreenAppear</td>\n",
       "      <td>5746969938801999050</td>\n",
       "      <td>1565212498</td>\n",
       "      <td>246</td>\n",
       "      <td>2019-08-07 21:14:58</td>\n",
       "      <td>2019-08-07</td>\n",
       "    </tr>\n",
       "    <tr>\n",
       "      <th>244125</th>\n",
       "      <td>OffersScreenAppear</td>\n",
       "      <td>5746969938801999050</td>\n",
       "      <td>1565212517</td>\n",
       "      <td>246</td>\n",
       "      <td>2019-08-07 21:15:17</td>\n",
       "      <td>2019-08-07</td>\n",
       "    </tr>\n",
       "  </tbody>\n",
       "</table>\n",
       "<p>243713 rows × 6 columns</p>\n",
       "</div>"
      ],
      "text/plain": [
       "                     event_name       device_id_hash  event_timestamp exp_id  \\\n",
       "0              MainScreenAppear  4575588528974610257       1564029816    246   \n",
       "1              MainScreenAppear  7416695313311560658       1564053102    246   \n",
       "2       PaymentScreenSuccessful  3518123091307005509       1564054127    248   \n",
       "3              CartScreenAppear  3518123091307005509       1564054127    248   \n",
       "4       PaymentScreenSuccessful  6217807653094995999       1564055322    248   \n",
       "...                         ...                  ...              ...    ...   \n",
       "244121         MainScreenAppear  4599628364049201812       1565212345    247   \n",
       "244122         MainScreenAppear  5849806612437486590       1565212439    246   \n",
       "244123         MainScreenAppear  5746969938801999050       1565212483    246   \n",
       "244124         MainScreenAppear  5746969938801999050       1565212498    246   \n",
       "244125       OffersScreenAppear  5746969938801999050       1565212517    246   \n",
       "\n",
       "                 date_time        date  \n",
       "0      2019-07-25 04:43:36  2019-07-25  \n",
       "1      2019-07-25 11:11:42  2019-07-25  \n",
       "2      2019-07-25 11:28:47  2019-07-25  \n",
       "3      2019-07-25 11:28:47  2019-07-25  \n",
       "4      2019-07-25 11:48:42  2019-07-25  \n",
       "...                    ...         ...  \n",
       "244121 2019-08-07 21:12:25  2019-08-07  \n",
       "244122 2019-08-07 21:13:59  2019-08-07  \n",
       "244123 2019-08-07 21:14:43  2019-08-07  \n",
       "244124 2019-08-07 21:14:58  2019-08-07  \n",
       "244125 2019-08-07 21:15:17  2019-08-07  \n",
       "\n",
       "[243713 rows x 6 columns]"
      ]
     },
     "execution_count": 44,
     "metadata": {},
     "output_type": "execute_result"
    }
   ],
   "source": [
    "logs_exp['date_time'] = pd.to_datetime(logs_exp['event_timestamp'], unit='s')\n",
    "logs_exp['date'] = logs_exp['date_time'].dt.date\n",
    "logs_exp"
   ]
  },
  {
   "cell_type": "markdown",
   "metadata": {
    "scrolled": false
   },
   "source": [
    "<a id='step_4'></a>\n",
    "## Изучение и проверка данных"
   ]
  },
  {
   "cell_type": "markdown",
   "metadata": {},
   "source": [
    "<a id='step_4_1'></a>\n",
    "### Определение количества событий в логе"
   ]
  },
  {
   "cell_type": "code",
   "execution_count": 45,
   "metadata": {},
   "outputs": [
    {
     "name": "stdout",
     "output_type": "stream",
     "text": [
      "Количество событий в логе: 243713\n"
     ]
    }
   ],
   "source": [
    "events_count = logs_exp['event_name'].shape[0]\n",
    "print('Количество событий в логе:', events_count)"
   ]
  },
  {
   "cell_type": "markdown",
   "metadata": {},
   "source": [
    "<a id='step_4_2'></a>\n",
    "### Определение количества пользователей в логе"
   ]
  },
  {
   "cell_type": "code",
   "execution_count": 46,
   "metadata": {},
   "outputs": [
    {
     "name": "stdout",
     "output_type": "stream",
     "text": [
      "Количество уникальных пользователей в логе: 7551\n"
     ]
    }
   ],
   "source": [
    "users_count = logs_exp['device_id_hash'].unique().shape[0]\n",
    "print('Количество уникальных пользователей в логе:', users_count)"
   ]
  },
  {
   "cell_type": "markdown",
   "metadata": {},
   "source": [
    "<a id='step_4_3'></a>\n",
    "### Определение среднего количества событий на пользователя"
   ]
  },
  {
   "cell_type": "markdown",
   "metadata": {},
   "source": [
    "Разделим общее количество событий на количество уникальных пользователей:"
   ]
  },
  {
   "cell_type": "code",
   "execution_count": 47,
   "metadata": {},
   "outputs": [
    {
     "name": "stdout",
     "output_type": "stream",
     "text": [
      "Среднее количество событий на пользователя: 32.28\n"
     ]
    }
   ],
   "source": [
    "print('Среднее количество событий на пользователя:', round(events_count/users_count,2))"
   ]
  },
  {
   "cell_type": "markdown",
   "metadata": {},
   "source": [
    "Создадим сводную таблицу, где строки будут содержать id устроства пользователя, а столбец `event_count` &mdash; количество событий совершенных пользователем."
   ]
  },
  {
   "cell_type": "code",
   "execution_count": 48,
   "metadata": {},
   "outputs": [
    {
     "data": {
      "text/html": [
       "<div>\n",
       "<style scoped>\n",
       "    .dataframe tbody tr th:only-of-type {\n",
       "        vertical-align: middle;\n",
       "    }\n",
       "\n",
       "    .dataframe tbody tr th {\n",
       "        vertical-align: top;\n",
       "    }\n",
       "\n",
       "    .dataframe thead th {\n",
       "        text-align: right;\n",
       "    }\n",
       "</style>\n",
       "<table border=\"1\" class=\"dataframe\">\n",
       "  <thead>\n",
       "    <tr style=\"text-align: right;\">\n",
       "      <th></th>\n",
       "      <th>event_count</th>\n",
       "    </tr>\n",
       "    <tr>\n",
       "      <th>device_id_hash</th>\n",
       "      <th></th>\n",
       "    </tr>\n",
       "  </thead>\n",
       "  <tbody>\n",
       "    <tr>\n",
       "      <th>6304868067479728361</th>\n",
       "      <td>2307</td>\n",
       "    </tr>\n",
       "    <tr>\n",
       "      <th>197027893265565660</th>\n",
       "      <td>1998</td>\n",
       "    </tr>\n",
       "    <tr>\n",
       "      <th>4623191541214045580</th>\n",
       "      <td>1768</td>\n",
       "    </tr>\n",
       "    <tr>\n",
       "      <th>6932517045703054087</th>\n",
       "      <td>1439</td>\n",
       "    </tr>\n",
       "    <tr>\n",
       "      <th>1754140665440434215</th>\n",
       "      <td>1221</td>\n",
       "    </tr>\n",
       "    <tr>\n",
       "      <th>...</th>\n",
       "      <td>...</td>\n",
       "    </tr>\n",
       "    <tr>\n",
       "      <th>7399061063341528729</th>\n",
       "      <td>1</td>\n",
       "    </tr>\n",
       "    <tr>\n",
       "      <th>2968164493349205501</th>\n",
       "      <td>1</td>\n",
       "    </tr>\n",
       "    <tr>\n",
       "      <th>8071397669512236988</th>\n",
       "      <td>1</td>\n",
       "    </tr>\n",
       "    <tr>\n",
       "      <th>425817683219936619</th>\n",
       "      <td>1</td>\n",
       "    </tr>\n",
       "    <tr>\n",
       "      <th>6888746892508752</th>\n",
       "      <td>1</td>\n",
       "    </tr>\n",
       "  </tbody>\n",
       "</table>\n",
       "<p>7551 rows × 1 columns</p>\n",
       "</div>"
      ],
      "text/plain": [
       "                     event_count\n",
       "device_id_hash                  \n",
       "6304868067479728361         2307\n",
       "197027893265565660          1998\n",
       "4623191541214045580         1768\n",
       "6932517045703054087         1439\n",
       "1754140665440434215         1221\n",
       "...                          ...\n",
       "7399061063341528729            1\n",
       "2968164493349205501            1\n",
       "8071397669512236988            1\n",
       "425817683219936619             1\n",
       "6888746892508752               1\n",
       "\n",
       "[7551 rows x 1 columns]"
      ]
     },
     "metadata": {},
     "output_type": "display_data"
    },
    {
     "data": {
      "text/plain": [
       "count    7551.000000\n",
       "mean       32.275593\n",
       "std        65.154219\n",
       "min         1.000000\n",
       "25%         9.000000\n",
       "50%        20.000000\n",
       "75%        37.000000\n",
       "max      2307.000000\n",
       "Name: event_count, dtype: float64"
      ]
     },
     "execution_count": 48,
     "metadata": {},
     "output_type": "execute_result"
    }
   ],
   "source": [
    "events_per_user = logs_exp.pivot_table(index = 'device_id_hash', values = 'event_name', aggfunc='count')\n",
    "events_per_user.columns = ['event_count']\n",
    "display(events_per_user.sort_values(by='event_count', ascending = False))\n",
    "events_per_user['event_count'].describe()"
   ]
  },
  {
   "cell_type": "markdown",
   "metadata": {},
   "source": [
    "Максимальное количество действий, совершенных пользователем &mdash; 2307. Минимальное &mdash; 1. Среднее количество событий на пользователя соствляет 32,28. Медиана &mdash; 20. Построим гистограмму, отражающую распределение количества событий на одного пользователя:"
   ]
  },
  {
   "cell_type": "code",
   "execution_count": 49,
   "metadata": {},
   "outputs": [
    {
     "data": {
      "image/png": "[encoded data removed]",
      "text/plain": [
       "<Figure size 1500x400 with 1 Axes>"
      ]
     },
     "metadata": {},
     "output_type": "display_data"
    }
   ],
   "source": [
    "plt.figure(figsize=(15,4))\n",
    "plt.hist(events_per_user, bins=100) \n",
    "plt.xlabel('Количество событий')\n",
    "plt.ylabel('Количество пользователей')\n",
    "plt.grid()\n",
    "plt.title('Распределение количества событий на пользователя');"
   ]
  },
  {
   "cell_type": "markdown",
   "metadata": {},
   "source": [
    "Больше всего пользователей совершили 1 до 50 событий. Перестроим гистограмму с ограничем количества событий на пользователя до 100."
   ]
  },
  {
   "cell_type": "code",
   "execution_count": 50,
   "metadata": {},
   "outputs": [
    {
     "data": {
      "image/png": "[encoded data removed]",
      "text/plain": [
       "<Figure size 640x480 with 1 Axes>"
      ]
     },
     "metadata": {},
     "output_type": "display_data"
    }
   ],
   "source": [
    "plt.hist(events_per_user.query('event_count<100'), bins=100)\n",
    "plt.title('Распределение количества событий на пользователя')\n",
    "plt.xlabel('Количество событий')\n",
    "plt.ylabel('Количество пользователей')\n",
    "plt.grid();"
   ]
  },
  {
   "cell_type": "markdown",
   "metadata": {},
   "source": [
    "Больше всего пользователей совершили 5 действий в приложении. С ростом количества действий уменьшается и количество пользователей их совершивших."
   ]
  },
  {
   "cell_type": "code",
   "execution_count": 51,
   "metadata": {},
   "outputs": [
    {
     "data": {
      "image/png": "[encoded data removed]",
      "text/plain": [
       "<Figure size 1700x200 with 1 Axes>"
      ]
     },
     "metadata": {},
     "output_type": "display_data"
    }
   ],
   "source": [
    "fig, ax = plt.subplots(figsize = (17,2))\n",
    "ax = events_per_user[['event_count']].boxplot(vert = False, ax = ax)\n",
    "ax.set_title('Диаграмма размаха количества событий на пользователя')\n",
    "\n",
    "plt.xlabel(\"Количество событий на пользователя\");\n"
   ]
  },
  {
   "cell_type": "markdown",
   "metadata": {},
   "source": [
    "<a id='step_4_4'></a>\n",
    "### Определение временных границ эксперимента"
   ]
  },
  {
   "cell_type": "code",
   "execution_count": 52,
   "metadata": {},
   "outputs": [
    {
     "name": "stdout",
     "output_type": "stream",
     "text": [
      "Старт эксперимента: 2019-07-25\n",
      "Конец эксперимента: 2019-08-07\n"
     ]
    }
   ],
   "source": [
    "print('Старт эксперимента:', logs_exp['date'].min())\n",
    "print('Конец эксперимента:', logs_exp['date'].max())"
   ]
  },
  {
   "cell_type": "markdown",
   "metadata": {},
   "source": [
    "Построим столбчатую диаграммму которая отобразит количество событий в зависимости от времени в разрезе групп:"
   ]
  },
  {
   "cell_type": "code",
   "execution_count": 53,
   "metadata": {},
   "outputs": [
    {
     "data": {
      "text/html": [
       "<div>\n",
       "<style scoped>\n",
       "    .dataframe tbody tr th:only-of-type {\n",
       "        vertical-align: middle;\n",
       "    }\n",
       "\n",
       "    .dataframe tbody tr th {\n",
       "        vertical-align: top;\n",
       "    }\n",
       "\n",
       "    .dataframe thead th {\n",
       "        text-align: right;\n",
       "    }\n",
       "</style>\n",
       "<table border=\"1\" class=\"dataframe\">\n",
       "  <thead>\n",
       "    <tr style=\"text-align: right;\">\n",
       "      <th></th>\n",
       "      <th>date</th>\n",
       "      <th>246</th>\n",
       "      <th>247</th>\n",
       "      <th>248</th>\n",
       "    </tr>\n",
       "  </thead>\n",
       "  <tbody>\n",
       "    <tr>\n",
       "      <th>0</th>\n",
       "      <td>2019-07-25</td>\n",
       "      <td>4</td>\n",
       "      <td>1</td>\n",
       "      <td>4</td>\n",
       "    </tr>\n",
       "    <tr>\n",
       "      <th>1</th>\n",
       "      <td>2019-07-26</td>\n",
       "      <td>14</td>\n",
       "      <td>8</td>\n",
       "      <td>9</td>\n",
       "    </tr>\n",
       "    <tr>\n",
       "      <th>2</th>\n",
       "      <td>2019-07-27</td>\n",
       "      <td>24</td>\n",
       "      <td>23</td>\n",
       "      <td>8</td>\n",
       "    </tr>\n",
       "    <tr>\n",
       "      <th>3</th>\n",
       "      <td>2019-07-28</td>\n",
       "      <td>33</td>\n",
       "      <td>36</td>\n",
       "      <td>36</td>\n",
       "    </tr>\n",
       "    <tr>\n",
       "      <th>4</th>\n",
       "      <td>2019-07-29</td>\n",
       "      <td>55</td>\n",
       "      <td>58</td>\n",
       "      <td>71</td>\n",
       "    </tr>\n",
       "    <tr>\n",
       "      <th>5</th>\n",
       "      <td>2019-07-30</td>\n",
       "      <td>129</td>\n",
       "      <td>138</td>\n",
       "      <td>145</td>\n",
       "    </tr>\n",
       "    <tr>\n",
       "      <th>6</th>\n",
       "      <td>2019-07-31</td>\n",
       "      <td>620</td>\n",
       "      <td>664</td>\n",
       "      <td>746</td>\n",
       "    </tr>\n",
       "    <tr>\n",
       "      <th>7</th>\n",
       "      <td>2019-08-01</td>\n",
       "      <td>11561</td>\n",
       "      <td>12306</td>\n",
       "      <td>12274</td>\n",
       "    </tr>\n",
       "    <tr>\n",
       "      <th>8</th>\n",
       "      <td>2019-08-02</td>\n",
       "      <td>10946</td>\n",
       "      <td>10990</td>\n",
       "      <td>13618</td>\n",
       "    </tr>\n",
       "    <tr>\n",
       "      <th>9</th>\n",
       "      <td>2019-08-03</td>\n",
       "      <td>10575</td>\n",
       "      <td>11024</td>\n",
       "      <td>11683</td>\n",
       "    </tr>\n",
       "    <tr>\n",
       "      <th>10</th>\n",
       "      <td>2019-08-04</td>\n",
       "      <td>11514</td>\n",
       "      <td>9942</td>\n",
       "      <td>11512</td>\n",
       "    </tr>\n",
       "    <tr>\n",
       "      <th>11</th>\n",
       "      <td>2019-08-05</td>\n",
       "      <td>12368</td>\n",
       "      <td>10949</td>\n",
       "      <td>12741</td>\n",
       "    </tr>\n",
       "    <tr>\n",
       "      <th>12</th>\n",
       "      <td>2019-08-06</td>\n",
       "      <td>11726</td>\n",
       "      <td>11720</td>\n",
       "      <td>12342</td>\n",
       "    </tr>\n",
       "    <tr>\n",
       "      <th>13</th>\n",
       "      <td>2019-08-07</td>\n",
       "      <td>10612</td>\n",
       "      <td>10091</td>\n",
       "      <td>10393</td>\n",
       "    </tr>\n",
       "  </tbody>\n",
       "</table>\n",
       "</div>"
      ],
      "text/plain": [
       "          date    246    247    248\n",
       "0   2019-07-25      4      1      4\n",
       "1   2019-07-26     14      8      9\n",
       "2   2019-07-27     24     23      8\n",
       "3   2019-07-28     33     36     36\n",
       "4   2019-07-29     55     58     71\n",
       "5   2019-07-30    129    138    145\n",
       "6   2019-07-31    620    664    746\n",
       "7   2019-08-01  11561  12306  12274\n",
       "8   2019-08-02  10946  10990  13618\n",
       "9   2019-08-03  10575  11024  11683\n",
       "10  2019-08-04  11514   9942  11512\n",
       "11  2019-08-05  12368  10949  12741\n",
       "12  2019-08-06  11726  11720  12342\n",
       "13  2019-08-07  10612  10091  10393"
      ]
     },
     "execution_count": 53,
     "metadata": {},
     "output_type": "execute_result"
    }
   ],
   "source": [
    "group_246 = logs_exp.query('exp_id==246')\n",
    "group_246 = group_246.groupby('date').agg({'event_name':'count'}).reset_index()\n",
    "group_246.columns = ['date','246']\n",
    "group_246 = group_246.set_index('date')\n",
    "\n",
    "group_247 = logs_exp.query('exp_id==247')\n",
    "group_247 = group_247.groupby('date').agg({'event_name':'count'}).reset_index()\n",
    "group_247.columns = ['date','247']\n",
    "group_247 = group_247.set_index('date')\n",
    "\n",
    "group_248 = logs_exp.query('exp_id==248')\n",
    "group_248 = group_248.groupby('date').agg({'event_name':'count'}).reset_index()\n",
    "group_248.columns = ['date','248']\n",
    "group_248 = group_248.set_index('date')\n",
    "\n",
    "bar_plot_date = pd.concat([\n",
    "    group_246,\n",
    "    group_247,\n",
    "    group_248\n",
    "], axis=1)\n",
    "\n",
    "bar_plot_date.reset_index()"
   ]
  },
  {
   "cell_type": "code",
   "execution_count": 54,
   "metadata": {},
   "outputs": [
    {
     "data": {
      "image/png": "[encoded data removed]",
      "text/plain": [
       "<Figure size 1100x500 with 1 Axes>"
      ]
     },
     "metadata": {},
     "output_type": "display_data"
    }
   ],
   "source": [
    "bar_plot_date.plot.bar(stacked=True, alpha=0.5, figsize=(11,5))\n",
    "plt. ylabel(\"Количество событий\")\n",
    "plt.xlabel(\"Дата\")\n",
    "plt.title(\"Количество событий в зависимости от времени в разрезе групп\", pad='20.0');"
   ]
  },
  {
   "cell_type": "markdown",
   "metadata": {},
   "source": [
    "На графике хорошо видно, как мало зафиксировано событий в период с 25 по 31 июля 2019 года. **Будем считать что данные полные в период с 1 по 7 августа**, остальное отфильтруем."
   ]
  },
  {
   "cell_type": "markdown",
   "metadata": {},
   "source": [
    "Определим, много ли событий и пользователей было утрачено после фильтрации:"
   ]
  },
  {
   "cell_type": "code",
   "execution_count": 55,
   "metadata": {},
   "outputs": [
    {
     "name": "stdout",
     "output_type": "stream",
     "text": [
      "Отфильтровано событий: 2826\n",
      "Доля отфильтрованных событий от общего объёма данных: 1.16 %\n"
     ]
    }
   ],
   "source": [
    "drop_date = logs_exp.query('date_time<\"2019-08-01\"')\n",
    "print('Отфильтровано событий:', drop_date.shape[0])\n",
    "print('Доля отфильтрованных событий от общего объёма данных:', round(drop_date.shape[0]/logs_exp.shape[0]*100,2), \"%\")"
   ]
  },
  {
   "cell_type": "code",
   "execution_count": 56,
   "metadata": {},
   "outputs": [
    {
     "name": "stdout",
     "output_type": "stream",
     "text": [
      "Отфильтровано пользователей: 17\n",
      "Доля отфильтрованных событий от общего объёма данных: 0.23 %\n"
     ]
    }
   ],
   "source": [
    "uq_users_before = logs_exp['device_id_hash'].nunique()\n",
    "logs_exp = logs_exp.query('date_time>=\"2019-08-01\"')\n",
    "uq_users_after = logs_exp['device_id_hash'].nunique()\n",
    "print('Отфильтровано пользователей:', uq_users_before - uq_users_after)\n",
    "print('Доля отфильтрованных событий от общего объёма данных:', round((uq_users_before - uq_users_after)/uq_users_before*100,2), \"%\")"
   ]
  },
  {
   "cell_type": "markdown",
   "metadata": {},
   "source": [
    "Проверим, что в отфильтрованной выборке присутствуют пользователи  из трёх эксперементальных групп."
   ]
  },
  {
   "cell_type": "code",
   "execution_count": 57,
   "metadata": {},
   "outputs": [
    {
     "data": {
      "image/png": "[encoded data removed]",
      "text/plain": [
       "<Figure size 1100x500 with 1 Axes>"
      ]
     },
     "metadata": {},
     "output_type": "display_data"
    }
   ],
   "source": [
    "filtered_users = logs_exp.groupby('exp_id').agg({'device_id_hash':'nunique'}).reset_index()\n",
    "filtered_users.columns = ['exp_id','count']\n",
    "\n",
    "filtered_users.plot(x = 'exp_id', y='count',kind = 'bar', figsize=(11,5))\n",
    "plt.ylabel(\"Количество пользователей\")\n",
    "plt.xlabel(\"Группа пользователей\")\n",
    "plt.title(\"Количество пользователей в зависимости от группы\", pad='20.0');"
   ]
  },
  {
   "cell_type": "code",
   "execution_count": 58,
   "metadata": {},
   "outputs": [
    {
     "data": {
      "text/html": [
       "<div>\n",
       "<style scoped>\n",
       "    .dataframe tbody tr th:only-of-type {\n",
       "        vertical-align: middle;\n",
       "    }\n",
       "\n",
       "    .dataframe tbody tr th {\n",
       "        vertical-align: top;\n",
       "    }\n",
       "\n",
       "    .dataframe thead th {\n",
       "        text-align: right;\n",
       "    }\n",
       "</style>\n",
       "<table border=\"1\" class=\"dataframe\">\n",
       "  <thead>\n",
       "    <tr style=\"text-align: right;\">\n",
       "      <th></th>\n",
       "      <th>count</th>\n",
       "    </tr>\n",
       "    <tr>\n",
       "      <th>exp_id</th>\n",
       "      <th></th>\n",
       "    </tr>\n",
       "  </thead>\n",
       "  <tbody>\n",
       "    <tr>\n",
       "      <th>246</th>\n",
       "      <td>2484</td>\n",
       "    </tr>\n",
       "    <tr>\n",
       "      <th>247</th>\n",
       "      <td>2513</td>\n",
       "    </tr>\n",
       "    <tr>\n",
       "      <th>248</th>\n",
       "      <td>2537</td>\n",
       "    </tr>\n",
       "  </tbody>\n",
       "</table>\n",
       "</div>"
      ],
      "text/plain": [
       "        count\n",
       "exp_id       \n",
       "246      2484\n",
       "247      2513\n",
       "248      2537"
      ]
     },
     "execution_count": 58,
     "metadata": {},
     "output_type": "execute_result"
    }
   ],
   "source": [
    "filtered_users.set_index('exp_id')"
   ]
  },
  {
   "cell_type": "markdown",
   "metadata": {},
   "source": [
    "**Вывод**: В ходе проверки данных выяснили, что на исследование были предоставлены данные с 25.07.2019 по 07.08.2019. В логе находились записи о 243&nbsp;713 событиях. Количество уникальных пользователей: 7551. Среднее количество событий на пользователя &mdash; 32.28. После визуальзации распределяния событий по времени, определили что наиболее полные данные представлены за период с 1 по 7 августа, остальные данные отфильтруем. После фильтрации было утрачено 2826 записей о событиях с 25 июля по 31 июля и данные (~1% от общего объёма), и о 17 уникальных пользователях (<1% от общего объема). В отфильтрованном датафрейме присутствуют пользователи из всех трёх уникальных групп."
   ]
  },
  {
   "cell_type": "markdown",
   "metadata": {},
   "source": [
    "<a id='step_5'></a>\n",
    "## Изучение воронки событий"
   ]
  },
  {
   "cell_type": "markdown",
   "metadata": {},
   "source": [
    "<a id='step_5_1'></a>\n",
    "### Частота встречаемости событий в логах"
   ]
  },
  {
   "cell_type": "code",
   "execution_count": 59,
   "metadata": {},
   "outputs": [
    {
     "data": {
      "text/plain": [
       "event_name\n",
       "MainScreenAppear           117328\n",
       "OffersScreenAppear          46333\n",
       "CartScreenAppear            42303\n",
       "PaymentScreenSuccessful     33918\n",
       "Tutorial                     1005\n",
       "Name: event_name, dtype: int64"
      ]
     },
     "execution_count": 59,
     "metadata": {},
     "output_type": "execute_result"
    }
   ],
   "source": [
    "filtered_events = logs_exp.groupby('event_name')['event_name'].count()\n",
    "filtered_events.sort_values(ascending=False)"
   ]
  },
  {
   "cell_type": "markdown",
   "metadata": {},
   "source": [
    "Наиболее популярным событием является `MainScreenAppear` &mdash; появление главного экрана (117 328 событий), на втором месте `OffersScreenAppear` &mdash; появление экрана предложения (46 333 события), на третьем месте `CartScreenAppear` &mdash; появление экрана корзины (42 203 события), на четвёртом месте `PaymentScreenSuccessful` &mdash; появление экрана успешной оплаты (33 918 события), и на последнем месте `Tutorial` &mdash; обучение (1005 событий)."
   ]
  },
  {
   "cell_type": "markdown",
   "metadata": {},
   "source": [
    "<a id='step_5_2'></a>\n",
    "### Определение количества пользователей совершивших каждое из событий"
   ]
  },
  {
   "cell_type": "code",
   "execution_count": 60,
   "metadata": {},
   "outputs": [
    {
     "data": {
      "text/html": [
       "<div>\n",
       "<style scoped>\n",
       "    .dataframe tbody tr th:only-of-type {\n",
       "        vertical-align: middle;\n",
       "    }\n",
       "\n",
       "    .dataframe tbody tr th {\n",
       "        vertical-align: top;\n",
       "    }\n",
       "\n",
       "    .dataframe thead th {\n",
       "        text-align: right;\n",
       "    }\n",
       "</style>\n",
       "<table border=\"1\" class=\"dataframe\">\n",
       "  <thead>\n",
       "    <tr style=\"text-align: right;\">\n",
       "      <th></th>\n",
       "      <th>device_count</th>\n",
       "      <th>share</th>\n",
       "    </tr>\n",
       "    <tr>\n",
       "      <th>event_name</th>\n",
       "      <th></th>\n",
       "      <th></th>\n",
       "    </tr>\n",
       "  </thead>\n",
       "  <tbody>\n",
       "    <tr>\n",
       "      <th>MainScreenAppear</th>\n",
       "      <td>7419</td>\n",
       "      <td>98.47</td>\n",
       "    </tr>\n",
       "    <tr>\n",
       "      <th>OffersScreenAppear</th>\n",
       "      <td>4593</td>\n",
       "      <td>60.96</td>\n",
       "    </tr>\n",
       "    <tr>\n",
       "      <th>CartScreenAppear</th>\n",
       "      <td>3734</td>\n",
       "      <td>49.56</td>\n",
       "    </tr>\n",
       "    <tr>\n",
       "      <th>PaymentScreenSuccessful</th>\n",
       "      <td>3539</td>\n",
       "      <td>46.97</td>\n",
       "    </tr>\n",
       "    <tr>\n",
       "      <th>Tutorial</th>\n",
       "      <td>840</td>\n",
       "      <td>11.15</td>\n",
       "    </tr>\n",
       "  </tbody>\n",
       "</table>\n",
       "</div>"
      ],
      "text/plain": [
       "                         device_count  share\n",
       "event_name                                  \n",
       "MainScreenAppear                 7419  98.47\n",
       "OffersScreenAppear               4593  60.96\n",
       "CartScreenAppear                 3734  49.56\n",
       "PaymentScreenSuccessful          3539  46.97\n",
       "Tutorial                          840  11.15"
      ]
     },
     "execution_count": 60,
     "metadata": {},
     "output_type": "execute_result"
    }
   ],
   "source": [
    "filtered_events = logs_exp.pivot_table(index = 'event_name', values = 'device_id_hash', aggfunc='nunique').sort_values(by = 'device_id_hash', ascending = False)\n",
    "filtered_events.columns = ['device_count']\n",
    "filtered_events['share'] = round(filtered_events['device_count']/logs_exp['device_id_hash'].nunique()*100,2)\n",
    "filtered_events"
   ]
  },
  {
   "cell_type": "markdown",
   "metadata": {},
   "source": [
    "Около 1.5% пользователей миновали главный экран. Причины могут быть следующими:\n",
    "1. Пользователь попал на главный экран 31.07 поздней ночью, а заказ завершил только 01.08. Так как выше были отфильтрованы логи с 25.07 по 31.07 были утеряны записи о входе в воронку событий.\n",
    "2. Возможно приложение рассылает рекламные push-сообщения/письма/SMS с прямой ссылкой на экран предложений. Пользователь делает заказ минуя главный экран."
   ]
  },
  {
   "cell_type": "code",
   "execution_count": 61,
   "metadata": {},
   "outputs": [
    {
     "data": {
      "image/png": "[encoded data removed]",
      "text/plain": [
       "<Figure size 700x700 with 1 Axes>"
      ]
     },
     "metadata": {},
     "output_type": "display_data"
    }
   ],
   "source": [
    "filtered_events.plot( y='share', kind = 'pie', autopct='%1.1f%%', figsize=(7, 7), legend = None)\n",
    "plt.ylabel(\"\")\n",
    "plt.title(\"Распределение пользователей по событиям\", pad='20.0');"
   ]
  },
  {
   "cell_type": "markdown",
   "metadata": {},
   "source": [
    "Больше всего пользователей увидели экран главного приложения (событие `MainScreenAppear`) &mdash; 98.47%, экран предложений (`OffersScreenAppear`) увидели 60.96% пользователей, корзину (`CartScreenAppear`) &mdash; 49.56%, а экран успешной оплаты (`PaymentScreenSuccessful`) &mdash; 46.97%. Обучение (`Tutorial`) прошли только 11.15% пользователей."
   ]
  },
  {
   "cell_type": "markdown",
   "metadata": {},
   "source": [
    "<a id='step_5_3'></a>\n",
    "### Вид воронки событий"
   ]
  },
  {
   "cell_type": "code",
   "execution_count": 62,
   "metadata": {},
   "outputs": [
    {
     "data": {
      "application/vnd.plotly.v1+json": {
       "config": {
        "plotlyServerURL": "https://plot.ly"
       },
       "data": [
        {
         "hovertemplate": "number=%{x}<br>stage=%{y}<extra></extra>",
         "legendgroup": "",
         "marker": {
          "color": "#636efa"
         },
         "name": "",
         "orientation": "h",
         "showlegend": false,
         "type": "funnel",
         "x": [
          7419,
          4593,
          3734,
          3539
         ],
         "xaxis": "x",
         "y": [
          "MainScreenAppear",
          "OffersScreenAppear",
          "CartScreenAppear",
          "PaymentScreenSuccessful"
         ],
         "yaxis": "y"
        }
       ],
       "layout": {
        "autosize": true,
        "legend": {
         "tracegroupgap": 0
        },
        "template": {
         "data": {
          "bar": [
           {
            "error_x": {
             "color": "#2a3f5f"
            },
            "error_y": {
             "color": "#2a3f5f"
            },
            "marker": {
             "line": {
              "color": "#E5ECF6",
              "width": 0.5
             },
             "pattern": {
              "fillmode": "overlay",
              "size": 10,
              "solidity": 0.2
             }
            },
            "type": "bar"
           }
          ],
          "barpolar": [
           {
            "marker": {
             "line": {
              "color": "#E5ECF6",
              "width": 0.5
             },
             "pattern": {
              "fillmode": "overlay",
              "size": 10,
              "solidity": 0.2
             }
            },
            "type": "barpolar"
           }
          ],
          "carpet": [
           {
            "aaxis": {
             "endlinecolor": "#2a3f5f",
             "gridcolor": "white",
             "linecolor": "white",
             "minorgridcolor": "white",
             "startlinecolor": "#2a3f5f"
            },
            "baxis": {
             "endlinecolor": "#2a3f5f",
             "gridcolor": "white",
             "linecolor": "white",
             "minorgridcolor": "white",
             "startlinecolor": "#2a3f5f"
            },
            "type": "carpet"
           }
          ],
          "choropleth": [
           {
            "colorbar": {
             "outlinewidth": 0,
             "ticks": ""
            },
            "type": "choropleth"
           }
          ],
          "contour": [
           {
            "colorbar": {
             "outlinewidth": 0,
             "ticks": ""
            },
            "colorscale": [
             [
              0,
              "#0d0887"
             ],
             [
              0.1111111111111111,
              "#46039f"
             ],
             [
              0.2222222222222222,
              "#7201a8"
             ],
             [
              0.3333333333333333,
              "#9c179e"
             ],
             [
              0.4444444444444444,
              "#bd3786"
             ],
             [
              0.5555555555555556,
              "#d8576b"
             ],
             [
              0.6666666666666666,
              "#ed7953"
             ],
             [
              0.7777777777777778,
              "#fb9f3a"
             ],
             [
              0.8888888888888888,
              "#fdca26"
             ],
             [
              1,
              "#f0f921"
             ]
            ],
            "type": "contour"
           }
          ],
          "contourcarpet": [
           {
            "colorbar": {
             "outlinewidth": 0,
             "ticks": ""
            },
            "type": "contourcarpet"
           }
          ],
          "heatmap": [
           {
            "colorbar": {
             "outlinewidth": 0,
             "ticks": ""
            },
            "colorscale": [
             [
              0,
              "#0d0887"
             ],
             [
              0.1111111111111111,
              "#46039f"
             ],
             [
              0.2222222222222222,
              "#7201a8"
             ],
             [
              0.3333333333333333,
              "#9c179e"
             ],
             [
              0.4444444444444444,
              "#bd3786"
             ],
             [
              0.5555555555555556,
              "#d8576b"
             ],
             [
              0.6666666666666666,
              "#ed7953"
             ],
             [
              0.7777777777777778,
              "#fb9f3a"
             ],
             [
              0.8888888888888888,
              "#fdca26"
             ],
             [
              1,
              "#f0f921"
             ]
            ],
            "type": "heatmap"
           }
          ],
          "heatmapgl": [
           {
            "colorbar": {
             "outlinewidth": 0,
             "ticks": ""
            },
            "colorscale": [
             [
              0,
              "#0d0887"
             ],
             [
              0.1111111111111111,
              "#46039f"
             ],
             [
              0.2222222222222222,
              "#7201a8"
             ],
             [
              0.3333333333333333,
              "#9c179e"
             ],
             [
              0.4444444444444444,
              "#bd3786"
             ],
             [
              0.5555555555555556,
              "#d8576b"
             ],
             [
              0.6666666666666666,
              "#ed7953"
             ],
             [
              0.7777777777777778,
              "#fb9f3a"
             ],
             [
              0.8888888888888888,
              "#fdca26"
             ],
             [
              1,
              "#f0f921"
             ]
            ],
            "type": "heatmapgl"
           }
          ],
          "histogram": [
           {
            "marker": {
             "pattern": {
              "fillmode": "overlay",
              "size": 10,
              "solidity": 0.2
             }
            },
            "type": "histogram"
           }
          ],
          "histogram2d": [
           {
            "colorbar": {
             "outlinewidth": 0,
             "ticks": ""
            },
            "colorscale": [
             [
              0,
              "#0d0887"
             ],
             [
              0.1111111111111111,
              "#46039f"
             ],
             [
              0.2222222222222222,
              "#7201a8"
             ],
             [
              0.3333333333333333,
              "#9c179e"
             ],
             [
              0.4444444444444444,
              "#bd3786"
             ],
             [
              0.5555555555555556,
              "#d8576b"
             ],
             [
              0.6666666666666666,
              "#ed7953"
             ],
             [
              0.7777777777777778,
              "#fb9f3a"
             ],
             [
              0.8888888888888888,
              "#fdca26"
             ],
             [
              1,
              "#f0f921"
             ]
            ],
            "type": "histogram2d"
           }
          ],
          "histogram2dcontour": [
           {
            "colorbar": {
             "outlinewidth": 0,
             "ticks": ""
            },
            "colorscale": [
             [
              0,
              "#0d0887"
             ],
             [
              0.1111111111111111,
              "#46039f"
             ],
             [
              0.2222222222222222,
              "#7201a8"
             ],
             [
              0.3333333333333333,
              "#9c179e"
             ],
             [
              0.4444444444444444,
              "#bd3786"
             ],
             [
              0.5555555555555556,
              "#d8576b"
             ],
             [
              0.6666666666666666,
              "#ed7953"
             ],
             [
              0.7777777777777778,
              "#fb9f3a"
             ],
             [
              0.8888888888888888,
              "#fdca26"
             ],
             [
              1,
              "#f0f921"
             ]
            ],
            "type": "histogram2dcontour"
           }
          ],
          "mesh3d": [
           {
            "colorbar": {
             "outlinewidth": 0,
             "ticks": ""
            },
            "type": "mesh3d"
           }
          ],
          "parcoords": [
           {
            "line": {
             "colorbar": {
              "outlinewidth": 0,
              "ticks": ""
             }
            },
            "type": "parcoords"
           }
          ],
          "pie": [
           {
            "automargin": true,
            "type": "pie"
           }
          ],
          "scatter": [
           {
            "fillpattern": {
             "fillmode": "overlay",
             "size": 10,
             "solidity": 0.2
            },
            "type": "scatter"
           }
          ],
          "scatter3d": [
           {
            "line": {
             "colorbar": {
              "outlinewidth": 0,
              "ticks": ""
             }
            },
            "marker": {
             "colorbar": {
              "outlinewidth": 0,
              "ticks": ""
             }
            },
            "type": "scatter3d"
           }
          ],
          "scattercarpet": [
           {
            "marker": {
             "colorbar": {
              "outlinewidth": 0,
              "ticks": ""
             }
            },
            "type": "scattercarpet"
           }
          ],
          "scattergeo": [
           {
            "marker": {
             "colorbar": {
              "outlinewidth": 0,
              "ticks": ""
             }
            },
            "type": "scattergeo"
           }
          ],
          "scattergl": [
           {
            "marker": {
             "colorbar": {
              "outlinewidth": 0,
              "ticks": ""
             }
            },
            "type": "scattergl"
           }
          ],
          "scattermapbox": [
           {
            "marker": {
             "colorbar": {
              "outlinewidth": 0,
              "ticks": ""
             }
            },
            "type": "scattermapbox"
           }
          ],
          "scatterpolar": [
           {
            "marker": {
             "colorbar": {
              "outlinewidth": 0,
              "ticks": ""
             }
            },
            "type": "scatterpolar"
           }
          ],
          "scatterpolargl": [
           {
            "marker": {
             "colorbar": {
              "outlinewidth": 0,
              "ticks": ""
             }
            },
            "type": "scatterpolargl"
           }
          ],
          "scatterternary": [
           {
            "marker": {
             "colorbar": {
              "outlinewidth": 0,
              "ticks": ""
             }
            },
            "type": "scatterternary"
           }
          ],
          "surface": [
           {
            "colorbar": {
             "outlinewidth": 0,
             "ticks": ""
            },
            "colorscale": [
             [
              0,
              "#0d0887"
             ],
             [
              0.1111111111111111,
              "#46039f"
             ],
             [
              0.2222222222222222,
              "#7201a8"
             ],
             [
              0.3333333333333333,
              "#9c179e"
             ],
             [
              0.4444444444444444,
              "#bd3786"
             ],
             [
              0.5555555555555556,
              "#d8576b"
             ],
             [
              0.6666666666666666,
              "#ed7953"
             ],
             [
              0.7777777777777778,
              "#fb9f3a"
             ],
             [
              0.8888888888888888,
              "#fdca26"
             ],
             [
              1,
              "#f0f921"
             ]
            ],
            "type": "surface"
           }
          ],
          "table": [
           {
            "cells": {
             "fill": {
              "color": "#EBF0F8"
             },
             "line": {
              "color": "white"
             }
            },
            "header": {
             "fill": {
              "color": "#C8D4E3"
             },
             "line": {
              "color": "white"
             }
            },
            "type": "table"
           }
          ]
         },
         "layout": {
          "annotationdefaults": {
           "arrowcolor": "#2a3f5f",
           "arrowhead": 0,
           "arrowwidth": 1
          },
          "autotypenumbers": "strict",
          "coloraxis": {
           "colorbar": {
            "outlinewidth": 0,
            "ticks": ""
           }
          },
          "colorscale": {
           "diverging": [
            [
             0,
             "#8e0152"
            ],
            [
             0.1,
             "#c51b7d"
            ],
            [
             0.2,
             "#de77ae"
            ],
            [
             0.3,
             "#f1b6da"
            ],
            [
             0.4,
             "#fde0ef"
            ],
            [
             0.5,
             "#f7f7f7"
            ],
            [
             0.6,
             "#e6f5d0"
            ],
            [
             0.7,
             "#b8e186"
            ],
            [
             0.8,
             "#7fbc41"
            ],
            [
             0.9,
             "#4d9221"
            ],
            [
             1,
             "#276419"
            ]
           ],
           "sequential": [
            [
             0,
             "#0d0887"
            ],
            [
             0.1111111111111111,
             "#46039f"
            ],
            [
             0.2222222222222222,
             "#7201a8"
            ],
            [
             0.3333333333333333,
             "#9c179e"
            ],
            [
             0.4444444444444444,
             "#bd3786"
            ],
            [
             0.5555555555555556,
             "#d8576b"
            ],
            [
             0.6666666666666666,
             "#ed7953"
            ],
            [
             0.7777777777777778,
             "#fb9f3a"
            ],
            [
             0.8888888888888888,
             "#fdca26"
            ],
            [
             1,
             "#f0f921"
            ]
           ],
           "sequentialminus": [
            [
             0,
             "#0d0887"
            ],
            [
             0.1111111111111111,
             "#46039f"
            ],
            [
             0.2222222222222222,
             "#7201a8"
            ],
            [
             0.3333333333333333,
             "#9c179e"
            ],
            [
             0.4444444444444444,
             "#bd3786"
            ],
            [
             0.5555555555555556,
             "#d8576b"
            ],
            [
             0.6666666666666666,
             "#ed7953"
            ],
            [
             0.7777777777777778,
             "#fb9f3a"
            ],
            [
             0.8888888888888888,
             "#fdca26"
            ],
            [
             1,
             "#f0f921"
            ]
           ]
          },
          "colorway": [
           "#636efa",
           "#EF553B",
           "#00cc96",
           "#ab63fa",
           "#FFA15A",
           "#19d3f3",
           "#FF6692",
           "#B6E880",
           "#FF97FF",
           "#FECB52"
          ],
          "font": {
           "color": "#2a3f5f"
          },
          "geo": {
           "bgcolor": "white",
           "lakecolor": "white",
           "landcolor": "#E5ECF6",
           "showlakes": true,
           "showland": true,
           "subunitcolor": "white"
          },
          "hoverlabel": {
           "align": "left"
          },
          "hovermode": "closest",
          "mapbox": {
           "style": "light"
          },
          "paper_bgcolor": "white",
          "plot_bgcolor": "#E5ECF6",
          "polar": {
           "angularaxis": {
            "gridcolor": "white",
            "linecolor": "white",
            "ticks": ""
           },
           "bgcolor": "#E5ECF6",
           "radialaxis": {
            "gridcolor": "white",
            "linecolor": "white",
            "ticks": ""
           }
          },
          "scene": {
           "xaxis": {
            "backgroundcolor": "#E5ECF6",
            "gridcolor": "white",
            "gridwidth": 2,
            "linecolor": "white",
            "showbackground": true,
            "ticks": "",
            "zerolinecolor": "white"
           },
           "yaxis": {
            "backgroundcolor": "#E5ECF6",
            "gridcolor": "white",
            "gridwidth": 2,
            "linecolor": "white",
            "showbackground": true,
            "ticks": "",
            "zerolinecolor": "white"
           },
           "zaxis": {
            "backgroundcolor": "#E5ECF6",
            "gridcolor": "white",
            "gridwidth": 2,
            "linecolor": "white",
            "showbackground": true,
            "ticks": "",
            "zerolinecolor": "white"
           }
          },
          "shapedefaults": {
           "line": {
            "color": "#2a3f5f"
           }
          },
          "ternary": {
           "aaxis": {
            "gridcolor": "white",
            "linecolor": "white",
            "ticks": ""
           },
           "baxis": {
            "gridcolor": "white",
            "linecolor": "white",
            "ticks": ""
           },
           "bgcolor": "#E5ECF6",
           "caxis": {
            "gridcolor": "white",
            "linecolor": "white",
            "ticks": ""
           }
          },
          "title": {
           "x": 0.05
          },
          "xaxis": {
           "automargin": true,
           "gridcolor": "white",
           "linecolor": "white",
           "ticks": "",
           "title": {
            "standoff": 15
           },
           "zerolinecolor": "white",
           "zerolinewidth": 2
          },
          "yaxis": {
           "automargin": true,
           "gridcolor": "white",
           "linecolor": "white",
           "ticks": "",
           "title": {
            "standoff": 15
           },
           "zerolinecolor": "white",
           "zerolinewidth": 2
          }
         }
        },
        "title": {
         "text": "Визуализация воронки событий"
        },
        "xaxis": {
         "anchor": "y",
         "autorange": true,
         "domain": [
          0,
          1
         ],
         "range": [
          -4121.666666666667,
          4121.666666666667
         ],
         "title": {
          "text": "number"
         },
         "type": "linear"
        },
        "yaxis": {
         "anchor": "x",
         "autorange": true,
         "domain": [
          0,
          1
         ],
         "range": [
          3.5,
          -0.5
         ],
         "title": {
          "text": "stage"
         },
         "type": "category"
        }
       }
      },
      "image/png": "[encoded data removed]",
      "text/html": [
       "<div>                            <div id=\"682ab380-62db-4ddf-8fe1-57001068bede\" class=\"plotly-graph-div\" style=\"height:525px; width:100%;\"></div>            <script type=\"text/javascript\">                require([\"plotly\"], function(Plotly) {                    window.PLOTLYENV=window.PLOTLYENV || {};                                    if (document.getElementById(\"682ab380-62db-4ddf-8fe1-57001068bede\")) {                    Plotly.newPlot(                        \"682ab380-62db-4ddf-8fe1-57001068bede\",                        [{\"hovertemplate\":\"number=%{x}<br>stage=%{y}<extra></extra>\",\"legendgroup\":\"\",\"marker\":{\"color\":\"#636efa\"},\"name\":\"\",\"orientation\":\"h\",\"showlegend\":false,\"x\":[7419,4593,3734,3539],\"xaxis\":\"x\",\"y\":[\"MainScreenAppear\",\"OffersScreenAppear\",\"CartScreenAppear\",\"PaymentScreenSuccessful\"],\"yaxis\":\"y\",\"type\":\"funnel\"}],                        {\"template\":{\"data\":{\"histogram2dcontour\":[{\"type\":\"histogram2dcontour\",\"colorbar\":{\"outlinewidth\":0,\"ticks\":\"\"},\"colorscale\":[[0.0,\"#0d0887\"],[0.1111111111111111,\"#46039f\"],[0.2222222222222222,\"#7201a8\"],[0.3333333333333333,\"#9c179e\"],[0.4444444444444444,\"#bd3786\"],[0.5555555555555556,\"#d8576b\"],[0.6666666666666666,\"#ed7953\"],[0.7777777777777778,\"#fb9f3a\"],[0.8888888888888888,\"#fdca26\"],[1.0,\"#f0f921\"]]}],\"choropleth\":[{\"type\":\"choropleth\",\"colorbar\":{\"outlinewidth\":0,\"ticks\":\"\"}}],\"histogram2d\":[{\"type\":\"histogram2d\",\"colorbar\":{\"outlinewidth\":0,\"ticks\":\"\"},\"colorscale\":[[0.0,\"#0d0887\"],[0.1111111111111111,\"#46039f\"],[0.2222222222222222,\"#7201a8\"],[0.3333333333333333,\"#9c179e\"],[0.4444444444444444,\"#bd3786\"],[0.5555555555555556,\"#d8576b\"],[0.6666666666666666,\"#ed7953\"],[0.7777777777777778,\"#fb9f3a\"],[0.8888888888888888,\"#fdca26\"],[1.0,\"#f0f921\"]]}],\"heatmap\":[{\"type\":\"heatmap\",\"colorbar\":{\"outlinewidth\":0,\"ticks\":\"\"},\"colorscale\":[[0.0,\"#0d0887\"],[0.1111111111111111,\"#46039f\"],[0.2222222222222222,\"#7201a8\"],[0.3333333333333333,\"#9c179e\"],[0.4444444444444444,\"#bd3786\"],[0.5555555555555556,\"#d8576b\"],[0.6666666666666666,\"#ed7953\"],[0.7777777777777778,\"#fb9f3a\"],[0.8888888888888888,\"#fdca26\"],[1.0,\"#f0f921\"]]}],\"heatmapgl\":[{\"type\":\"heatmapgl\",\"colorbar\":{\"outlinewidth\":0,\"ticks\":\"\"},\"colorscale\":[[0.0,\"#0d0887\"],[0.1111111111111111,\"#46039f\"],[0.2222222222222222,\"#7201a8\"],[0.3333333333333333,\"#9c179e\"],[0.4444444444444444,\"#bd3786\"],[0.5555555555555556,\"#d8576b\"],[0.6666666666666666,\"#ed7953\"],[0.7777777777777778,\"#fb9f3a\"],[0.8888888888888888,\"#fdca26\"],[1.0,\"#f0f921\"]]}],\"contourcarpet\":[{\"type\":\"contourcarpet\",\"colorbar\":{\"outlinewidth\":0,\"ticks\":\"\"}}],\"contour\":[{\"type\":\"contour\",\"colorbar\":{\"outlinewidth\":0,\"ticks\":\"\"},\"colorscale\":[[0.0,\"#0d0887\"],[0.1111111111111111,\"#46039f\"],[0.2222222222222222,\"#7201a8\"],[0.3333333333333333,\"#9c179e\"],[0.4444444444444444,\"#bd3786\"],[0.5555555555555556,\"#d8576b\"],[0.6666666666666666,\"#ed7953\"],[0.7777777777777778,\"#fb9f3a\"],[0.8888888888888888,\"#fdca26\"],[1.0,\"#f0f921\"]]}],\"surface\":[{\"type\":\"surface\",\"colorbar\":{\"outlinewidth\":0,\"ticks\":\"\"},\"colorscale\":[[0.0,\"#0d0887\"],[0.1111111111111111,\"#46039f\"],[0.2222222222222222,\"#7201a8\"],[0.3333333333333333,\"#9c179e\"],[0.4444444444444444,\"#bd3786\"],[0.5555555555555556,\"#d8576b\"],[0.6666666666666666,\"#ed7953\"],[0.7777777777777778,\"#fb9f3a\"],[0.8888888888888888,\"#fdca26\"],[1.0,\"#f0f921\"]]}],\"mesh3d\":[{\"type\":\"mesh3d\",\"colorbar\":{\"outlinewidth\":0,\"ticks\":\"\"}}],\"scatter\":[{\"fillpattern\":{\"fillmode\":\"overlay\",\"size\":10,\"solidity\":0.2},\"type\":\"scatter\"}],\"parcoords\":[{\"type\":\"parcoords\",\"line\":{\"colorbar\":{\"outlinewidth\":0,\"ticks\":\"\"}}}],\"scatterpolargl\":[{\"type\":\"scatterpolargl\",\"marker\":{\"colorbar\":{\"outlinewidth\":0,\"ticks\":\"\"}}}],\"bar\":[{\"error_x\":{\"color\":\"#2a3f5f\"},\"error_y\":{\"color\":\"#2a3f5f\"},\"marker\":{\"line\":{\"color\":\"#E5ECF6\",\"width\":0.5},\"pattern\":{\"fillmode\":\"overlay\",\"size\":10,\"solidity\":0.2}},\"type\":\"bar\"}],\"scattergeo\":[{\"type\":\"scattergeo\",\"marker\":{\"colorbar\":{\"outlinewidth\":0,\"ticks\":\"\"}}}],\"scatterpolar\":[{\"type\":\"scatterpolar\",\"marker\":{\"colorbar\":{\"outlinewidth\":0,\"ticks\":\"\"}}}],\"histogram\":[{\"marker\":{\"pattern\":{\"fillmode\":\"overlay\",\"size\":10,\"solidity\":0.2}},\"type\":\"histogram\"}],\"scattergl\":[{\"type\":\"scattergl\",\"marker\":{\"colorbar\":{\"outlinewidth\":0,\"ticks\":\"\"}}}],\"scatter3d\":[{\"type\":\"scatter3d\",\"line\":{\"colorbar\":{\"outlinewidth\":0,\"ticks\":\"\"}},\"marker\":{\"colorbar\":{\"outlinewidth\":0,\"ticks\":\"\"}}}],\"scattermapbox\":[{\"type\":\"scattermapbox\",\"marker\":{\"colorbar\":{\"outlinewidth\":0,\"ticks\":\"\"}}}],\"scatterternary\":[{\"type\":\"scatterternary\",\"marker\":{\"colorbar\":{\"outlinewidth\":0,\"ticks\":\"\"}}}],\"scattercarpet\":[{\"type\":\"scattercarpet\",\"marker\":{\"colorbar\":{\"outlinewidth\":0,\"ticks\":\"\"}}}],\"carpet\":[{\"aaxis\":{\"endlinecolor\":\"#2a3f5f\",\"gridcolor\":\"white\",\"linecolor\":\"white\",\"minorgridcolor\":\"white\",\"startlinecolor\":\"#2a3f5f\"},\"baxis\":{\"endlinecolor\":\"#2a3f5f\",\"gridcolor\":\"white\",\"linecolor\":\"white\",\"minorgridcolor\":\"white\",\"startlinecolor\":\"#2a3f5f\"},\"type\":\"carpet\"}],\"table\":[{\"cells\":{\"fill\":{\"color\":\"#EBF0F8\"},\"line\":{\"color\":\"white\"}},\"header\":{\"fill\":{\"color\":\"#C8D4E3\"},\"line\":{\"color\":\"white\"}},\"type\":\"table\"}],\"barpolar\":[{\"marker\":{\"line\":{\"color\":\"#E5ECF6\",\"width\":0.5},\"pattern\":{\"fillmode\":\"overlay\",\"size\":10,\"solidity\":0.2}},\"type\":\"barpolar\"}],\"pie\":[{\"automargin\":true,\"type\":\"pie\"}]},\"layout\":{\"autotypenumbers\":\"strict\",\"colorway\":[\"#636efa\",\"#EF553B\",\"#00cc96\",\"#ab63fa\",\"#FFA15A\",\"#19d3f3\",\"#FF6692\",\"#B6E880\",\"#FF97FF\",\"#FECB52\"],\"font\":{\"color\":\"#2a3f5f\"},\"hovermode\":\"closest\",\"hoverlabel\":{\"align\":\"left\"},\"paper_bgcolor\":\"white\",\"plot_bgcolor\":\"#E5ECF6\",\"polar\":{\"bgcolor\":\"#E5ECF6\",\"angularaxis\":{\"gridcolor\":\"white\",\"linecolor\":\"white\",\"ticks\":\"\"},\"radialaxis\":{\"gridcolor\":\"white\",\"linecolor\":\"white\",\"ticks\":\"\"}},\"ternary\":{\"bgcolor\":\"#E5ECF6\",\"aaxis\":{\"gridcolor\":\"white\",\"linecolor\":\"white\",\"ticks\":\"\"},\"baxis\":{\"gridcolor\":\"white\",\"linecolor\":\"white\",\"ticks\":\"\"},\"caxis\":{\"gridcolor\":\"white\",\"linecolor\":\"white\",\"ticks\":\"\"}},\"coloraxis\":{\"colorbar\":{\"outlinewidth\":0,\"ticks\":\"\"}},\"colorscale\":{\"sequential\":[[0.0,\"#0d0887\"],[0.1111111111111111,\"#46039f\"],[0.2222222222222222,\"#7201a8\"],[0.3333333333333333,\"#9c179e\"],[0.4444444444444444,\"#bd3786\"],[0.5555555555555556,\"#d8576b\"],[0.6666666666666666,\"#ed7953\"],[0.7777777777777778,\"#fb9f3a\"],[0.8888888888888888,\"#fdca26\"],[1.0,\"#f0f921\"]],\"sequentialminus\":[[0.0,\"#0d0887\"],[0.1111111111111111,\"#46039f\"],[0.2222222222222222,\"#7201a8\"],[0.3333333333333333,\"#9c179e\"],[0.4444444444444444,\"#bd3786\"],[0.5555555555555556,\"#d8576b\"],[0.6666666666666666,\"#ed7953\"],[0.7777777777777778,\"#fb9f3a\"],[0.8888888888888888,\"#fdca26\"],[1.0,\"#f0f921\"]],\"diverging\":[[0,\"#8e0152\"],[0.1,\"#c51b7d\"],[0.2,\"#de77ae\"],[0.3,\"#f1b6da\"],[0.4,\"#fde0ef\"],[0.5,\"#f7f7f7\"],[0.6,\"#e6f5d0\"],[0.7,\"#b8e186\"],[0.8,\"#7fbc41\"],[0.9,\"#4d9221\"],[1,\"#276419\"]]},\"xaxis\":{\"gridcolor\":\"white\",\"linecolor\":\"white\",\"ticks\":\"\",\"title\":{\"standoff\":15},\"zerolinecolor\":\"white\",\"automargin\":true,\"zerolinewidth\":2},\"yaxis\":{\"gridcolor\":\"white\",\"linecolor\":\"white\",\"ticks\":\"\",\"title\":{\"standoff\":15},\"zerolinecolor\":\"white\",\"automargin\":true,\"zerolinewidth\":2},\"scene\":{\"xaxis\":{\"backgroundcolor\":\"#E5ECF6\",\"gridcolor\":\"white\",\"linecolor\":\"white\",\"showbackground\":true,\"ticks\":\"\",\"zerolinecolor\":\"white\",\"gridwidth\":2},\"yaxis\":{\"backgroundcolor\":\"#E5ECF6\",\"gridcolor\":\"white\",\"linecolor\":\"white\",\"showbackground\":true,\"ticks\":\"\",\"zerolinecolor\":\"white\",\"gridwidth\":2},\"zaxis\":{\"backgroundcolor\":\"#E5ECF6\",\"gridcolor\":\"white\",\"linecolor\":\"white\",\"showbackground\":true,\"ticks\":\"\",\"zerolinecolor\":\"white\",\"gridwidth\":2}},\"shapedefaults\":{\"line\":{\"color\":\"#2a3f5f\"}},\"annotationdefaults\":{\"arrowcolor\":\"#2a3f5f\",\"arrowhead\":0,\"arrowwidth\":1},\"geo\":{\"bgcolor\":\"white\",\"landcolor\":\"#E5ECF6\",\"subunitcolor\":\"white\",\"showland\":true,\"showlakes\":true,\"lakecolor\":\"white\"},\"title\":{\"x\":0.05},\"mapbox\":{\"style\":\"light\"}}},\"xaxis\":{\"anchor\":\"y\",\"domain\":[0.0,1.0],\"title\":{\"text\":\"number\"}},\"yaxis\":{\"anchor\":\"x\",\"domain\":[0.0,1.0],\"title\":{\"text\":\"stage\"}},\"legend\":{\"tracegroupgap\":0},\"title\":{\"text\":\"\\u0412\\u0438\\u0437\\u0443\\u0430\\u043b\\u0438\\u0437\\u0430\\u0446\\u0438\\u044f \\u0432\\u043e\\u0440\\u043e\\u043d\\u043a\\u0438 \\u0441\\u043e\\u0431\\u044b\\u0442\\u0438\\u0439\"}},                        {\"responsive\": true}                    ).then(function(){\n",
       "                            \n",
       "var gd = document.getElementById('682ab380-62db-4ddf-8fe1-57001068bede');\n",
       "var x = new MutationObserver(function (mutations, observer) {{\n",
       "        var display = window.getComputedStyle(gd).display;\n",
       "        if (!display || display === 'none') {{\n",
       "            console.log([gd, 'removed!']);\n",
       "            Plotly.purge(gd);\n",
       "            observer.disconnect();\n",
       "        }}\n",
       "}});\n",
       "\n",
       "// Listen for the removal of the full notebook cells\n",
       "var notebookContainer = gd.closest('#notebook-container');\n",
       "if (notebookContainer) {{\n",
       "    x.observe(notebookContainer, {childList: true});\n",
       "}}\n",
       "\n",
       "// Listen for the clearing of the current output cell\n",
       "var outputEl = gd.closest('.output');\n",
       "if (outputEl) {{\n",
       "    x.observe(outputEl, {childList: true});\n",
       "}}\n",
       "\n",
       "                        })                };                });            </script>        </div>"
      ]
     },
     "metadata": {},
     "output_type": "display_data"
    }
   ],
   "source": [
    "filtered_events = filtered_events.reset_index()\n",
    "filtered_events = filtered_events.query('event_name!=\"Tutorial\"')\n",
    "data = dict(\n",
    "    number = filtered_events['device_count'],\n",
    "    stage = filtered_events['event_name']) \n",
    "fig = px.funnel(data, x='number', y='stage', title='Визуализация воронки событий')\n",
    "fig.show()\n"
   ]
  },
  {
   "cell_type": "markdown",
   "metadata": {},
   "source": [
    "Согласно диаграмме воронка событий имеет следующий вид:  \n",
    "`MainScreenAppear` → `OffersScreenAppear` → `CartScreenAppar` → `PaymentSuccessfull`  \n",
    "Сначала пользователь попадает на главный экран приложения. Далее переходит на экран предложений (товаров), после чего перемещается в корзину и оплачивает заказ. Обучение `Tutorial` не входит в воронку &mdash; это событие опционально, сделать заказ можно не проходя обучение."
   ]
  },
  {
   "cell_type": "markdown",
   "metadata": {},
   "source": [
    "<a id='step_5_4'></a>\n",
    "### Расчёт доли пользователей, переходящих на следующий шаг воронки"
   ]
  },
  {
   "cell_type": "code",
   "execution_count": 63,
   "metadata": {},
   "outputs": [
    {
     "data": {
      "text/html": [
       "<div>\n",
       "<style scoped>\n",
       "    .dataframe tbody tr th:only-of-type {\n",
       "        vertical-align: middle;\n",
       "    }\n",
       "\n",
       "    .dataframe tbody tr th {\n",
       "        vertical-align: top;\n",
       "    }\n",
       "\n",
       "    .dataframe thead th {\n",
       "        text-align: right;\n",
       "    }\n",
       "</style>\n",
       "<table border=\"1\" class=\"dataframe\">\n",
       "  <thead>\n",
       "    <tr style=\"text-align: right;\">\n",
       "      <th></th>\n",
       "      <th>event_name</th>\n",
       "      <th>device_count</th>\n",
       "      <th>share</th>\n",
       "      <th>conversion_events</th>\n",
       "    </tr>\n",
       "  </thead>\n",
       "  <tbody>\n",
       "    <tr>\n",
       "      <th>0</th>\n",
       "      <td>MainScreenAppear</td>\n",
       "      <td>7419</td>\n",
       "      <td>98.47</td>\n",
       "      <td>NaN</td>\n",
       "    </tr>\n",
       "    <tr>\n",
       "      <th>1</th>\n",
       "      <td>OffersScreenAppear</td>\n",
       "      <td>4593</td>\n",
       "      <td>60.96</td>\n",
       "      <td>61.91</td>\n",
       "    </tr>\n",
       "    <tr>\n",
       "      <th>2</th>\n",
       "      <td>CartScreenAppear</td>\n",
       "      <td>3734</td>\n",
       "      <td>49.56</td>\n",
       "      <td>81.30</td>\n",
       "    </tr>\n",
       "    <tr>\n",
       "      <th>3</th>\n",
       "      <td>PaymentScreenSuccessful</td>\n",
       "      <td>3539</td>\n",
       "      <td>46.97</td>\n",
       "      <td>94.78</td>\n",
       "    </tr>\n",
       "  </tbody>\n",
       "</table>\n",
       "</div>"
      ],
      "text/plain": [
       "                event_name  device_count  share  conversion_events\n",
       "0         MainScreenAppear          7419  98.47                NaN\n",
       "1       OffersScreenAppear          4593  60.96              61.91\n",
       "2         CartScreenAppear          3734  49.56              81.30\n",
       "3  PaymentScreenSuccessful          3539  46.97              94.78"
      ]
     },
     "execution_count": 63,
     "metadata": {},
     "output_type": "execute_result"
    }
   ],
   "source": [
    "filtered_events['conversion_events'] =  round((filtered_events['device_count'].pct_change() + 1)*100,2)\n",
    "filtered_events"
   ]
  },
  {
   "cell_type": "markdown",
   "metadata": {},
   "source": [
    "Больше всего теряется пользователей при переходе от первого шага воронки (появление Главного экрана) ко второму (Появление экрана с предложением товара) (теряется 38% пользователей). "
   ]
  },
  {
   "cell_type": "code",
   "execution_count": 64,
   "metadata": {},
   "outputs": [
    {
     "name": "stdout",
     "output_type": "stream",
     "text": [
      "Доля пользователей, дошедших от первого события до оплаты: 48.0 %\n"
     ]
    }
   ],
   "source": [
    "total_conversion = round(filtered_events['device_count'][3]/filtered_events['device_count'][0],2)*100\n",
    "print('Доля пользователей, дошедших от первого события до оплаты:',total_conversion,'%')\n"
   ]
  },
  {
   "cell_type": "markdown",
   "metadata": {},
   "source": [
    "**Вывод**: наиболее более популярным событием является `MainScreenAppear` &mdash; оно же открывает воронку событий, которая имеет следующий вид: `MainScreenAppear` → `OffersScreenAppear` → `CartScreenAppar` → `PaymentSuccessfull`   \n",
    "По расчётам доли пользователей, перешедших на следующий шаг воронки, больше всего пользователей теряется при переходе от первого шага воронки (появление Главного экрана) ко второму (появление экрана с предложением товара) &mdash; 38%: возможно есть какая-то проблема на главном экране, которая мешает перейти на следующий шаг: например не все ссылки/кнопки активны, или другая ошибка, которая усложняет процесс оформелния заказа или отпугивает пользователя. Самые малые потери на этапе перехода от экрана корзины к оплате &mdash; 95% пользователей переходят от шага 3 к шагу 4."
   ]
  },
  {
   "cell_type": "markdown",
   "metadata": {},
   "source": [
    "<a id='step_6'></a>\n",
    "## Изучение результатов эксперимента"
   ]
  },
  {
   "cell_type": "markdown",
   "metadata": {},
   "source": [
    "<a id='step_6_1'></a>\n",
    "### Определение количества пользователей в каждой экспериментальной группе"
   ]
  },
  {
   "cell_type": "code",
   "execution_count": 65,
   "metadata": {},
   "outputs": [
    {
     "data": {
      "text/html": [
       "<div>\n",
       "<style scoped>\n",
       "    .dataframe tbody tr th:only-of-type {\n",
       "        vertical-align: middle;\n",
       "    }\n",
       "\n",
       "    .dataframe tbody tr th {\n",
       "        vertical-align: top;\n",
       "    }\n",
       "\n",
       "    .dataframe thead th {\n",
       "        text-align: right;\n",
       "    }\n",
       "</style>\n",
       "<table border=\"1\" class=\"dataframe\">\n",
       "  <thead>\n",
       "    <tr style=\"text-align: right;\">\n",
       "      <th></th>\n",
       "      <th>count</th>\n",
       "    </tr>\n",
       "    <tr>\n",
       "      <th>exp_id</th>\n",
       "      <th></th>\n",
       "    </tr>\n",
       "  </thead>\n",
       "  <tbody>\n",
       "    <tr>\n",
       "      <th>246</th>\n",
       "      <td>2484</td>\n",
       "    </tr>\n",
       "    <tr>\n",
       "      <th>247</th>\n",
       "      <td>2513</td>\n",
       "    </tr>\n",
       "    <tr>\n",
       "      <th>248</th>\n",
       "      <td>2537</td>\n",
       "    </tr>\n",
       "  </tbody>\n",
       "</table>\n",
       "</div>"
      ],
      "text/plain": [
       "        count\n",
       "exp_id       \n",
       "246      2484\n",
       "247      2513\n",
       "248      2537"
      ]
     },
     "execution_count": 65,
     "metadata": {},
     "output_type": "execute_result"
    }
   ],
   "source": [
    "filtered_users = logs_exp.groupby('exp_id').agg({'device_id_hash':'nunique'}).reset_index()\n",
    "filtered_users.columns = ['exp_id','count']\n",
    "\n",
    "filtered_users = filtered_users.set_index('exp_id')\n",
    "filtered_users"
   ]
  },
  {
   "cell_type": "markdown",
   "metadata": {},
   "source": [
    "<a id='step_6_2'></a>\n",
    "### Проверка наличия статистической значимости между пользователями групп 246 и 247 (A/A-тест)"
   ]
  },
  {
   "cell_type": "markdown",
   "metadata": {},
   "source": [
    "Проверим что выборки отвечают критериям успешного A/A-теста:  \n",
    "1. Количество пользователей в различных группах различается не более, чем на 1%; "
   ]
  },
  {
   "cell_type": "code",
   "execution_count": 66,
   "metadata": {},
   "outputs": [
    {
     "name": "stdout",
     "output_type": "stream",
     "text": [
      "Разница между количеством пользователей составляет: 1.0 %\n"
     ]
    }
   ],
   "source": [
    "count_diff = 1 - logs_exp.query('exp_id==246')['device_id_hash'].nunique()/logs_exp.query('exp_id==247')['device_id_hash'].nunique()\n",
    "print('Разница между количеством пользователей составляет:', round(count_diff,2)*100, '%')"
   ]
  },
  {
   "cell_type": "markdown",
   "metadata": {},
   "source": [
    "2. Для всех групп фиксируют и отправляют в системы аналитики данные об одном и том же;"
   ]
  },
  {
   "cell_type": "code",
   "execution_count": 67,
   "metadata": {},
   "outputs": [
    {
     "data": {
      "text/html": [
       "<div>\n",
       "<style scoped>\n",
       "    .dataframe tbody tr th:only-of-type {\n",
       "        vertical-align: middle;\n",
       "    }\n",
       "\n",
       "    .dataframe tbody tr th {\n",
       "        vertical-align: top;\n",
       "    }\n",
       "\n",
       "    .dataframe thead th {\n",
       "        text-align: right;\n",
       "    }\n",
       "</style>\n",
       "<table border=\"1\" class=\"dataframe\">\n",
       "  <thead>\n",
       "    <tr style=\"text-align: right;\">\n",
       "      <th></th>\n",
       "      <th>event_name</th>\n",
       "      <th>device_id_hash</th>\n",
       "      <th>event_timestamp</th>\n",
       "      <th>exp_id</th>\n",
       "      <th>date_time</th>\n",
       "      <th>date</th>\n",
       "    </tr>\n",
       "  </thead>\n",
       "  <tbody>\n",
       "    <tr>\n",
       "      <th>2828</th>\n",
       "      <td>Tutorial</td>\n",
       "      <td>3737462046622621720</td>\n",
       "      <td>1564618048</td>\n",
       "      <td>246</td>\n",
       "      <td>2019-08-01 00:07:28</td>\n",
       "      <td>2019-08-01</td>\n",
       "    </tr>\n",
       "    <tr>\n",
       "      <th>2829</th>\n",
       "      <td>MainScreenAppear</td>\n",
       "      <td>3737462046622621720</td>\n",
       "      <td>1564618080</td>\n",
       "      <td>246</td>\n",
       "      <td>2019-08-01 00:08:00</td>\n",
       "      <td>2019-08-01</td>\n",
       "    </tr>\n",
       "    <tr>\n",
       "      <th>2830</th>\n",
       "      <td>MainScreenAppear</td>\n",
       "      <td>3737462046622621720</td>\n",
       "      <td>1564618135</td>\n",
       "      <td>246</td>\n",
       "      <td>2019-08-01 00:08:55</td>\n",
       "      <td>2019-08-01</td>\n",
       "    </tr>\n",
       "    <tr>\n",
       "      <th>2831</th>\n",
       "      <td>OffersScreenAppear</td>\n",
       "      <td>3737462046622621720</td>\n",
       "      <td>1564618138</td>\n",
       "      <td>246</td>\n",
       "      <td>2019-08-01 00:08:58</td>\n",
       "      <td>2019-08-01</td>\n",
       "    </tr>\n",
       "    <tr>\n",
       "      <th>2834</th>\n",
       "      <td>OffersScreenAppear</td>\n",
       "      <td>3737462046622621720</td>\n",
       "      <td>1564618226</td>\n",
       "      <td>246</td>\n",
       "      <td>2019-08-01 00:10:26</td>\n",
       "      <td>2019-08-01</td>\n",
       "    </tr>\n",
       "  </tbody>\n",
       "</table>\n",
       "</div>"
      ],
      "text/plain": [
       "              event_name       device_id_hash  event_timestamp exp_id  \\\n",
       "2828            Tutorial  3737462046622621720       1564618048    246   \n",
       "2829    MainScreenAppear  3737462046622621720       1564618080    246   \n",
       "2830    MainScreenAppear  3737462046622621720       1564618135    246   \n",
       "2831  OffersScreenAppear  3737462046622621720       1564618138    246   \n",
       "2834  OffersScreenAppear  3737462046622621720       1564618226    246   \n",
       "\n",
       "               date_time        date  \n",
       "2828 2019-08-01 00:07:28  2019-08-01  \n",
       "2829 2019-08-01 00:08:00  2019-08-01  \n",
       "2830 2019-08-01 00:08:55  2019-08-01  \n",
       "2831 2019-08-01 00:08:58  2019-08-01  \n",
       "2834 2019-08-01 00:10:26  2019-08-01  "
      ]
     },
     "metadata": {},
     "output_type": "display_data"
    },
    {
     "data": {
      "text/html": [
       "<div>\n",
       "<style scoped>\n",
       "    .dataframe tbody tr th:only-of-type {\n",
       "        vertical-align: middle;\n",
       "    }\n",
       "\n",
       "    .dataframe tbody tr th {\n",
       "        vertical-align: top;\n",
       "    }\n",
       "\n",
       "    .dataframe thead th {\n",
       "        text-align: right;\n",
       "    }\n",
       "</style>\n",
       "<table border=\"1\" class=\"dataframe\">\n",
       "  <thead>\n",
       "    <tr style=\"text-align: right;\">\n",
       "      <th></th>\n",
       "      <th>event_name</th>\n",
       "      <th>device_id_hash</th>\n",
       "      <th>event_timestamp</th>\n",
       "      <th>exp_id</th>\n",
       "      <th>date_time</th>\n",
       "      <th>date</th>\n",
       "    </tr>\n",
       "  </thead>\n",
       "  <tbody>\n",
       "    <tr>\n",
       "      <th>2832</th>\n",
       "      <td>MainScreenAppear</td>\n",
       "      <td>1433840883824088890</td>\n",
       "      <td>1564618139</td>\n",
       "      <td>247</td>\n",
       "      <td>2019-08-01 00:08:59</td>\n",
       "      <td>2019-08-01</td>\n",
       "    </tr>\n",
       "    <tr>\n",
       "      <th>2833</th>\n",
       "      <td>MainScreenAppear</td>\n",
       "      <td>4899590676214355127</td>\n",
       "      <td>1564618215</td>\n",
       "      <td>247</td>\n",
       "      <td>2019-08-01 00:10:15</td>\n",
       "      <td>2019-08-01</td>\n",
       "    </tr>\n",
       "    <tr>\n",
       "      <th>2838</th>\n",
       "      <td>MainScreenAppear</td>\n",
       "      <td>4899590676214355127</td>\n",
       "      <td>1564618288</td>\n",
       "      <td>247</td>\n",
       "      <td>2019-08-01 00:11:28</td>\n",
       "      <td>2019-08-01</td>\n",
       "    </tr>\n",
       "    <tr>\n",
       "      <th>2839</th>\n",
       "      <td>OffersScreenAppear</td>\n",
       "      <td>4899590676214355127</td>\n",
       "      <td>1564618290</td>\n",
       "      <td>247</td>\n",
       "      <td>2019-08-01 00:11:30</td>\n",
       "      <td>2019-08-01</td>\n",
       "    </tr>\n",
       "    <tr>\n",
       "      <th>2843</th>\n",
       "      <td>OffersScreenAppear</td>\n",
       "      <td>4899590676214355127</td>\n",
       "      <td>1564618356</td>\n",
       "      <td>247</td>\n",
       "      <td>2019-08-01 00:12:36</td>\n",
       "      <td>2019-08-01</td>\n",
       "    </tr>\n",
       "  </tbody>\n",
       "</table>\n",
       "</div>"
      ],
      "text/plain": [
       "              event_name       device_id_hash  event_timestamp exp_id  \\\n",
       "2832    MainScreenAppear  1433840883824088890       1564618139    247   \n",
       "2833    MainScreenAppear  4899590676214355127       1564618215    247   \n",
       "2838    MainScreenAppear  4899590676214355127       1564618288    247   \n",
       "2839  OffersScreenAppear  4899590676214355127       1564618290    247   \n",
       "2843  OffersScreenAppear  4899590676214355127       1564618356    247   \n",
       "\n",
       "               date_time        date  \n",
       "2832 2019-08-01 00:08:59  2019-08-01  \n",
       "2833 2019-08-01 00:10:15  2019-08-01  \n",
       "2838 2019-08-01 00:11:28  2019-08-01  \n",
       "2839 2019-08-01 00:11:30  2019-08-01  \n",
       "2843 2019-08-01 00:12:36  2019-08-01  "
      ]
     },
     "execution_count": 67,
     "metadata": {},
     "output_type": "execute_result"
    }
   ],
   "source": [
    "display(logs_exp.query('exp_id==246').head(5))\n",
    "logs_exp.query('exp_id==247').head(5)"
   ]
  },
  {
   "cell_type": "markdown",
   "metadata": {},
   "source": [
    "3. Попавший в одну из групп посетитель остаётся в этой группе до конца теста."
   ]
  },
  {
   "cell_type": "code",
   "execution_count": 68,
   "metadata": {},
   "outputs": [
    {
     "data": {
      "text/html": [
       "<div>\n",
       "<style scoped>\n",
       "    .dataframe tbody tr th:only-of-type {\n",
       "        vertical-align: middle;\n",
       "    }\n",
       "\n",
       "    .dataframe tbody tr th {\n",
       "        vertical-align: top;\n",
       "    }\n",
       "\n",
       "    .dataframe thead th {\n",
       "        text-align: right;\n",
       "    }\n",
       "</style>\n",
       "<table border=\"1\" class=\"dataframe\">\n",
       "  <thead>\n",
       "    <tr style=\"text-align: right;\">\n",
       "      <th></th>\n",
       "      <th>exp_id</th>\n",
       "    </tr>\n",
       "    <tr>\n",
       "      <th>device_id_hash</th>\n",
       "      <th></th>\n",
       "    </tr>\n",
       "  </thead>\n",
       "  <tbody>\n",
       "    <tr>\n",
       "      <th>6888746892508752</th>\n",
       "      <td>1</td>\n",
       "    </tr>\n",
       "    <tr>\n",
       "      <th>6204944347213293942</th>\n",
       "      <td>1</td>\n",
       "    </tr>\n",
       "    <tr>\n",
       "      <th>6215559225876063378</th>\n",
       "      <td>1</td>\n",
       "    </tr>\n",
       "    <tr>\n",
       "      <th>6215162890135937308</th>\n",
       "      <td>1</td>\n",
       "    </tr>\n",
       "    <tr>\n",
       "      <th>6213626876710715478</th>\n",
       "      <td>1</td>\n",
       "    </tr>\n",
       "    <tr>\n",
       "      <th>...</th>\n",
       "      <td>...</td>\n",
       "    </tr>\n",
       "    <tr>\n",
       "      <th>3171454373076660766</th>\n",
       "      <td>1</td>\n",
       "    </tr>\n",
       "    <tr>\n",
       "      <th>3170212200647575044</th>\n",
       "      <td>1</td>\n",
       "    </tr>\n",
       "    <tr>\n",
       "      <th>3167974726645136146</th>\n",
       "      <td>1</td>\n",
       "    </tr>\n",
       "    <tr>\n",
       "      <th>3167390091686880227</th>\n",
       "      <td>1</td>\n",
       "    </tr>\n",
       "    <tr>\n",
       "      <th>9222603179720523844</th>\n",
       "      <td>1</td>\n",
       "    </tr>\n",
       "  </tbody>\n",
       "</table>\n",
       "<p>7534 rows × 1 columns</p>\n",
       "</div>"
      ],
      "text/plain": [
       "                     exp_id\n",
       "device_id_hash             \n",
       "6888746892508752          1\n",
       "6204944347213293942       1\n",
       "6215559225876063378       1\n",
       "6215162890135937308       1\n",
       "6213626876710715478       1\n",
       "...                     ...\n",
       "3171454373076660766       1\n",
       "3170212200647575044       1\n",
       "3167974726645136146       1\n",
       "3167390091686880227       1\n",
       "9222603179720523844       1\n",
       "\n",
       "[7534 rows x 1 columns]"
      ]
     },
     "execution_count": 68,
     "metadata": {},
     "output_type": "execute_result"
    }
   ],
   "source": [
    "logs_exp.groupby('device_id_hash').agg({'exp_id':'nunique'}).sort_values('exp_id', ascending=False)"
   ]
  },
  {
   "cell_type": "markdown",
   "metadata": {},
   "source": [
    "Каждый пользователь принадлежит только одной группе A/A/B-теста."
   ]
  },
  {
   "cell_type": "markdown",
   "metadata": {},
   "source": [
    "4. Различие ключевых метрик по группам не превышает 1% и не имеет статистической значимости;  \n",
    "Сформулируем нулевую и альтернативную гипотезы:  \n",
    "$H_0$: Доли пользователей на каждом из этапов воронки в выборках 246 и 247 равны.  \n",
    "$H_1$: Доли пользователей на каждом из этапов воронки в выборках 246 и 247 различны.  \n",
    "\n",
    "Проверим гипотезу о равенстве долей с помощью Z-теста."
   ]
  },
  {
   "cell_type": "code",
   "execution_count": 69,
   "metadata": {},
   "outputs": [
    {
     "data": {
      "text/html": [
       "<div>\n",
       "<style scoped>\n",
       "    .dataframe tbody tr th:only-of-type {\n",
       "        vertical-align: middle;\n",
       "    }\n",
       "\n",
       "    .dataframe tbody tr th {\n",
       "        vertical-align: top;\n",
       "    }\n",
       "\n",
       "    .dataframe thead th {\n",
       "        text-align: right;\n",
       "    }\n",
       "</style>\n",
       "<table border=\"1\" class=\"dataframe\">\n",
       "  <thead>\n",
       "    <tr style=\"text-align: right;\">\n",
       "      <th>event_name</th>\n",
       "      <th>CartScreenAppear</th>\n",
       "      <th>MainScreenAppear</th>\n",
       "      <th>OffersScreenAppear</th>\n",
       "      <th>PaymentScreenSuccessful</th>\n",
       "      <th>total</th>\n",
       "    </tr>\n",
       "    <tr>\n",
       "      <th>exp_id</th>\n",
       "      <th></th>\n",
       "      <th></th>\n",
       "      <th></th>\n",
       "      <th></th>\n",
       "      <th></th>\n",
       "    </tr>\n",
       "  </thead>\n",
       "  <tbody>\n",
       "    <tr>\n",
       "      <th>246</th>\n",
       "      <td>1266</td>\n",
       "      <td>2450</td>\n",
       "      <td>1542</td>\n",
       "      <td>1200</td>\n",
       "      <td>2484</td>\n",
       "    </tr>\n",
       "    <tr>\n",
       "      <th>247</th>\n",
       "      <td>1238</td>\n",
       "      <td>2476</td>\n",
       "      <td>1520</td>\n",
       "      <td>1158</td>\n",
       "      <td>2513</td>\n",
       "    </tr>\n",
       "    <tr>\n",
       "      <th>248</th>\n",
       "      <td>1230</td>\n",
       "      <td>2493</td>\n",
       "      <td>1531</td>\n",
       "      <td>1181</td>\n",
       "      <td>2537</td>\n",
       "    </tr>\n",
       "  </tbody>\n",
       "</table>\n",
       "</div>"
      ],
      "text/plain": [
       "event_name  CartScreenAppear  MainScreenAppear  OffersScreenAppear  \\\n",
       "exp_id                                                               \n",
       "246                     1266              2450                1542   \n",
       "247                     1238              2476                1520   \n",
       "248                     1230              2493                1531   \n",
       "\n",
       "event_name  PaymentScreenSuccessful  total  \n",
       "exp_id                                      \n",
       "246                            1200   2484  \n",
       "247                            1158   2513  \n",
       "248                            1181   2537  "
      ]
     },
     "execution_count": 69,
     "metadata": {},
     "output_type": "execute_result"
    }
   ],
   "source": [
    "filtered_events = logs_exp.query('event_name!=\"Tutorial\"')\n",
    "filtered_events = filtered_events.pivot_table(index = 'exp_id', columns='event_name', values = 'device_id_hash', aggfunc='nunique').reset_index()\n",
    "filtered_events['total'] = [filtered_users.loc[246,\"count\"], filtered_users.loc[247,\"count\"], filtered_users.loc[248,\"count\"]]\n",
    "filtered_events = filtered_events.set_index('exp_id')   \n",
    "filtered_events"
   ]
  },
  {
   "cell_type": "code",
   "execution_count": 70,
   "metadata": {},
   "outputs": [
    {
     "data": {
      "application/vnd.plotly.v1+json": {
       "config": {
        "plotlyServerURL": "https://plot.ly"
       },
       "data": [
        {
         "name": "246",
         "textinfo": "value+percent previous",
         "type": "funnel",
         "x": [
          2450,
          1542,
          1266,
          1200
         ],
         "y": [
          "MainScreenAppear",
          "OffersScreenAppear",
          "CartScreenAppear",
          "PaymentScreenSuccessful"
         ]
        },
        {
         "name": "247",
         "orientation": "h",
         "textinfo": "value+percent previous",
         "textposition": "inside",
         "type": "funnel",
         "x": [
          2476,
          1520,
          1238,
          1158
         ],
         "y": [
          "MainScreenAppear",
          "OffersScreenAppear",
          "CartScreenAppear",
          "PaymentScreenSuccessful"
         ]
        },
        {
         "name": "248",
         "orientation": "h",
         "textinfo": "value+percent previous",
         "textposition": "inside",
         "type": "funnel",
         "x": [
          2493,
          1531,
          1230,
          1181
         ],
         "y": [
          "MainScreenAppear",
          "OffersScreenAppear",
          "CartScreenAppear",
          "PaymentScreenSuccessful"
         ]
        }
       ],
       "layout": {
        "autosize": true,
        "template": {
         "data": {
          "bar": [
           {
            "error_x": {
             "color": "#2a3f5f"
            },
            "error_y": {
             "color": "#2a3f5f"
            },
            "marker": {
             "line": {
              "color": "#E5ECF6",
              "width": 0.5
             },
             "pattern": {
              "fillmode": "overlay",
              "size": 10,
              "solidity": 0.2
             }
            },
            "type": "bar"
           }
          ],
          "barpolar": [
           {
            "marker": {
             "line": {
              "color": "#E5ECF6",
              "width": 0.5
             },
             "pattern": {
              "fillmode": "overlay",
              "size": 10,
              "solidity": 0.2
             }
            },
            "type": "barpolar"
           }
          ],
          "carpet": [
           {
            "aaxis": {
             "endlinecolor": "#2a3f5f",
             "gridcolor": "white",
             "linecolor": "white",
             "minorgridcolor": "white",
             "startlinecolor": "#2a3f5f"
            },
            "baxis": {
             "endlinecolor": "#2a3f5f",
             "gridcolor": "white",
             "linecolor": "white",
             "minorgridcolor": "white",
             "startlinecolor": "#2a3f5f"
            },
            "type": "carpet"
           }
          ],
          "choropleth": [
           {
            "colorbar": {
             "outlinewidth": 0,
             "ticks": ""
            },
            "type": "choropleth"
           }
          ],
          "contour": [
           {
            "colorbar": {
             "outlinewidth": 0,
             "ticks": ""
            },
            "colorscale": [
             [
              0,
              "#0d0887"
             ],
             [
              0.1111111111111111,
              "#46039f"
             ],
             [
              0.2222222222222222,
              "#7201a8"
             ],
             [
              0.3333333333333333,
              "#9c179e"
             ],
             [
              0.4444444444444444,
              "#bd3786"
             ],
             [
              0.5555555555555556,
              "#d8576b"
             ],
             [
              0.6666666666666666,
              "#ed7953"
             ],
             [
              0.7777777777777778,
              "#fb9f3a"
             ],
             [
              0.8888888888888888,
              "#fdca26"
             ],
             [
              1,
              "#f0f921"
             ]
            ],
            "type": "contour"
           }
          ],
          "contourcarpet": [
           {
            "colorbar": {
             "outlinewidth": 0,
             "ticks": ""
            },
            "type": "contourcarpet"
           }
          ],
          "heatmap": [
           {
            "colorbar": {
             "outlinewidth": 0,
             "ticks": ""
            },
            "colorscale": [
             [
              0,
              "#0d0887"
             ],
             [
              0.1111111111111111,
              "#46039f"
             ],
             [
              0.2222222222222222,
              "#7201a8"
             ],
             [
              0.3333333333333333,
              "#9c179e"
             ],
             [
              0.4444444444444444,
              "#bd3786"
             ],
             [
              0.5555555555555556,
              "#d8576b"
             ],
             [
              0.6666666666666666,
              "#ed7953"
             ],
             [
              0.7777777777777778,
              "#fb9f3a"
             ],
             [
              0.8888888888888888,
              "#fdca26"
             ],
             [
              1,
              "#f0f921"
             ]
            ],
            "type": "heatmap"
           }
          ],
          "heatmapgl": [
           {
            "colorbar": {
             "outlinewidth": 0,
             "ticks": ""
            },
            "colorscale": [
             [
              0,
              "#0d0887"
             ],
             [
              0.1111111111111111,
              "#46039f"
             ],
             [
              0.2222222222222222,
              "#7201a8"
             ],
             [
              0.3333333333333333,
              "#9c179e"
             ],
             [
              0.4444444444444444,
              "#bd3786"
             ],
             [
              0.5555555555555556,
              "#d8576b"
             ],
             [
              0.6666666666666666,
              "#ed7953"
             ],
             [
              0.7777777777777778,
              "#fb9f3a"
             ],
             [
              0.8888888888888888,
              "#fdca26"
             ],
             [
              1,
              "#f0f921"
             ]
            ],
            "type": "heatmapgl"
           }
          ],
          "histogram": [
           {
            "marker": {
             "pattern": {
              "fillmode": "overlay",
              "size": 10,
              "solidity": 0.2
             }
            },
            "type": "histogram"
           }
          ],
          "histogram2d": [
           {
            "colorbar": {
             "outlinewidth": 0,
             "ticks": ""
            },
            "colorscale": [
             [
              0,
              "#0d0887"
             ],
             [
              0.1111111111111111,
              "#46039f"
             ],
             [
              0.2222222222222222,
              "#7201a8"
             ],
             [
              0.3333333333333333,
              "#9c179e"
             ],
             [
              0.4444444444444444,
              "#bd3786"
             ],
             [
              0.5555555555555556,
              "#d8576b"
             ],
             [
              0.6666666666666666,
              "#ed7953"
             ],
             [
              0.7777777777777778,
              "#fb9f3a"
             ],
             [
              0.8888888888888888,
              "#fdca26"
             ],
             [
              1,
              "#f0f921"
             ]
            ],
            "type": "histogram2d"
           }
          ],
          "histogram2dcontour": [
           {
            "colorbar": {
             "outlinewidth": 0,
             "ticks": ""
            },
            "colorscale": [
             [
              0,
              "#0d0887"
             ],
             [
              0.1111111111111111,
              "#46039f"
             ],
             [
              0.2222222222222222,
              "#7201a8"
             ],
             [
              0.3333333333333333,
              "#9c179e"
             ],
             [
              0.4444444444444444,
              "#bd3786"
             ],
             [
              0.5555555555555556,
              "#d8576b"
             ],
             [
              0.6666666666666666,
              "#ed7953"
             ],
             [
              0.7777777777777778,
              "#fb9f3a"
             ],
             [
              0.8888888888888888,
              "#fdca26"
             ],
             [
              1,
              "#f0f921"
             ]
            ],
            "type": "histogram2dcontour"
           }
          ],
          "mesh3d": [
           {
            "colorbar": {
             "outlinewidth": 0,
             "ticks": ""
            },
            "type": "mesh3d"
           }
          ],
          "parcoords": [
           {
            "line": {
             "colorbar": {
              "outlinewidth": 0,
              "ticks": ""
             }
            },
            "type": "parcoords"
           }
          ],
          "pie": [
           {
            "automargin": true,
            "type": "pie"
           }
          ],
          "scatter": [
           {
            "fillpattern": {
             "fillmode": "overlay",
             "size": 10,
             "solidity": 0.2
            },
            "type": "scatter"
           }
          ],
          "scatter3d": [
           {
            "line": {
             "colorbar": {
              "outlinewidth": 0,
              "ticks": ""
             }
            },
            "marker": {
             "colorbar": {
              "outlinewidth": 0,
              "ticks": ""
             }
            },
            "type": "scatter3d"
           }
          ],
          "scattercarpet": [
           {
            "marker": {
             "colorbar": {
              "outlinewidth": 0,
              "ticks": ""
             }
            },
            "type": "scattercarpet"
           }
          ],
          "scattergeo": [
           {
            "marker": {
             "colorbar": {
              "outlinewidth": 0,
              "ticks": ""
             }
            },
            "type": "scattergeo"
           }
          ],
          "scattergl": [
           {
            "marker": {
             "colorbar": {
              "outlinewidth": 0,
              "ticks": ""
             }
            },
            "type": "scattergl"
           }
          ],
          "scattermapbox": [
           {
            "marker": {
             "colorbar": {
              "outlinewidth": 0,
              "ticks": ""
             }
            },
            "type": "scattermapbox"
           }
          ],
          "scatterpolar": [
           {
            "marker": {
             "colorbar": {
              "outlinewidth": 0,
              "ticks": ""
             }
            },
            "type": "scatterpolar"
           }
          ],
          "scatterpolargl": [
           {
            "marker": {
             "colorbar": {
              "outlinewidth": 0,
              "ticks": ""
             }
            },
            "type": "scatterpolargl"
           }
          ],
          "scatterternary": [
           {
            "marker": {
             "colorbar": {
              "outlinewidth": 0,
              "ticks": ""
             }
            },
            "type": "scatterternary"
           }
          ],
          "surface": [
           {
            "colorbar": {
             "outlinewidth": 0,
             "ticks": ""
            },
            "colorscale": [
             [
              0,
              "#0d0887"
             ],
             [
              0.1111111111111111,
              "#46039f"
             ],
             [
              0.2222222222222222,
              "#7201a8"
             ],
             [
              0.3333333333333333,
              "#9c179e"
             ],
             [
              0.4444444444444444,
              "#bd3786"
             ],
             [
              0.5555555555555556,
              "#d8576b"
             ],
             [
              0.6666666666666666,
              "#ed7953"
             ],
             [
              0.7777777777777778,
              "#fb9f3a"
             ],
             [
              0.8888888888888888,
              "#fdca26"
             ],
             [
              1,
              "#f0f921"
             ]
            ],
            "type": "surface"
           }
          ],
          "table": [
           {
            "cells": {
             "fill": {
              "color": "#EBF0F8"
             },
             "line": {
              "color": "white"
             }
            },
            "header": {
             "fill": {
              "color": "#C8D4E3"
             },
             "line": {
              "color": "white"
             }
            },
            "type": "table"
           }
          ]
         },
         "layout": {
          "annotationdefaults": {
           "arrowcolor": "#2a3f5f",
           "arrowhead": 0,
           "arrowwidth": 1
          },
          "autotypenumbers": "strict",
          "coloraxis": {
           "colorbar": {
            "outlinewidth": 0,
            "ticks": ""
           }
          },
          "colorscale": {
           "diverging": [
            [
             0,
             "#8e0152"
            ],
            [
             0.1,
             "#c51b7d"
            ],
            [
             0.2,
             "#de77ae"
            ],
            [
             0.3,
             "#f1b6da"
            ],
            [
             0.4,
             "#fde0ef"
            ],
            [
             0.5,
             "#f7f7f7"
            ],
            [
             0.6,
             "#e6f5d0"
            ],
            [
             0.7,
             "#b8e186"
            ],
            [
             0.8,
             "#7fbc41"
            ],
            [
             0.9,
             "#4d9221"
            ],
            [
             1,
             "#276419"
            ]
           ],
           "sequential": [
            [
             0,
             "#0d0887"
            ],
            [
             0.1111111111111111,
             "#46039f"
            ],
            [
             0.2222222222222222,
             "#7201a8"
            ],
            [
             0.3333333333333333,
             "#9c179e"
            ],
            [
             0.4444444444444444,
             "#bd3786"
            ],
            [
             0.5555555555555556,
             "#d8576b"
            ],
            [
             0.6666666666666666,
             "#ed7953"
            ],
            [
             0.7777777777777778,
             "#fb9f3a"
            ],
            [
             0.8888888888888888,
             "#fdca26"
            ],
            [
             1,
             "#f0f921"
            ]
           ],
           "sequentialminus": [
            [
             0,
             "#0d0887"
            ],
            [
             0.1111111111111111,
             "#46039f"
            ],
            [
             0.2222222222222222,
             "#7201a8"
            ],
            [
             0.3333333333333333,
             "#9c179e"
            ],
            [
             0.4444444444444444,
             "#bd3786"
            ],
            [
             0.5555555555555556,
             "#d8576b"
            ],
            [
             0.6666666666666666,
             "#ed7953"
            ],
            [
             0.7777777777777778,
             "#fb9f3a"
            ],
            [
             0.8888888888888888,
             "#fdca26"
            ],
            [
             1,
             "#f0f921"
            ]
           ]
          },
          "colorway": [
           "#636efa",
           "#EF553B",
           "#00cc96",
           "#ab63fa",
           "#FFA15A",
           "#19d3f3",
           "#FF6692",
           "#B6E880",
           "#FF97FF",
           "#FECB52"
          ],
          "font": {
           "color": "#2a3f5f"
          },
          "geo": {
           "bgcolor": "white",
           "lakecolor": "white",
           "landcolor": "#E5ECF6",
           "showlakes": true,
           "showland": true,
           "subunitcolor": "white"
          },
          "hoverlabel": {
           "align": "left"
          },
          "hovermode": "closest",
          "mapbox": {
           "style": "light"
          },
          "paper_bgcolor": "white",
          "plot_bgcolor": "#E5ECF6",
          "polar": {
           "angularaxis": {
            "gridcolor": "white",
            "linecolor": "white",
            "ticks": ""
           },
           "bgcolor": "#E5ECF6",
           "radialaxis": {
            "gridcolor": "white",
            "linecolor": "white",
            "ticks": ""
           }
          },
          "scene": {
           "xaxis": {
            "backgroundcolor": "#E5ECF6",
            "gridcolor": "white",
            "gridwidth": 2,
            "linecolor": "white",
            "showbackground": true,
            "ticks": "",
            "zerolinecolor": "white"
           },
           "yaxis": {
            "backgroundcolor": "#E5ECF6",
            "gridcolor": "white",
            "gridwidth": 2,
            "linecolor": "white",
            "showbackground": true,
            "ticks": "",
            "zerolinecolor": "white"
           },
           "zaxis": {
            "backgroundcolor": "#E5ECF6",
            "gridcolor": "white",
            "gridwidth": 2,
            "linecolor": "white",
            "showbackground": true,
            "ticks": "",
            "zerolinecolor": "white"
           }
          },
          "shapedefaults": {
           "line": {
            "color": "#2a3f5f"
           }
          },
          "ternary": {
           "aaxis": {
            "gridcolor": "white",
            "linecolor": "white",
            "ticks": ""
           },
           "baxis": {
            "gridcolor": "white",
            "linecolor": "white",
            "ticks": ""
           },
           "bgcolor": "#E5ECF6",
           "caxis": {
            "gridcolor": "white",
            "linecolor": "white",
            "ticks": ""
           }
          },
          "title": {
           "x": 0.05
          },
          "xaxis": {
           "automargin": true,
           "gridcolor": "white",
           "linecolor": "white",
           "ticks": "",
           "title": {
            "standoff": 15
           },
           "zerolinecolor": "white",
           "zerolinewidth": 2
          },
          "yaxis": {
           "automargin": true,
           "gridcolor": "white",
           "linecolor": "white",
           "ticks": "",
           "title": {
            "standoff": 15
           },
           "zerolinecolor": "white",
           "zerolinewidth": 2
          }
         }
        },
        "title": {
         "text": "Визуализация воронки событий"
        },
        "xaxis": {
         "autorange": true,
         "range": [
          -4121.666666666667,
          4121.666666666667
         ],
         "type": "linear"
        },
        "yaxis": {
         "autorange": true,
         "range": [
          3.5,
          -0.5
         ],
         "type": "category"
        }
       }
      },
      "image/png": "[encoded data removed]",
      "text/html": [
       "<div>                            <div id=\"df354917-1243-4dc7-80c6-54ae1ffbd28b\" class=\"plotly-graph-div\" style=\"height:525px; width:100%;\"></div>            <script type=\"text/javascript\">                require([\"plotly\"], function(Plotly) {                    window.PLOTLYENV=window.PLOTLYENV || {};                                    if (document.getElementById(\"df354917-1243-4dc7-80c6-54ae1ffbd28b\")) {                    Plotly.newPlot(                        \"df354917-1243-4dc7-80c6-54ae1ffbd28b\",                        [{\"name\":\"246\",\"textinfo\":\"value+percent previous\",\"x\":[2450,1542,1266,1200],\"y\":[\"MainScreenAppear\",\"OffersScreenAppear\",\"CartScreenAppear\",\"PaymentScreenSuccessful\"],\"type\":\"funnel\"},{\"name\":\"247\",\"orientation\":\"h\",\"textinfo\":\"value+percent previous\",\"textposition\":\"inside\",\"x\":[2476,1520,1238,1158],\"y\":[\"MainScreenAppear\",\"OffersScreenAppear\",\"CartScreenAppear\",\"PaymentScreenSuccessful\"],\"type\":\"funnel\"},{\"name\":\"248\",\"orientation\":\"h\",\"textinfo\":\"value+percent previous\",\"textposition\":\"inside\",\"x\":[2493,1531,1230,1181],\"y\":[\"MainScreenAppear\",\"OffersScreenAppear\",\"CartScreenAppear\",\"PaymentScreenSuccessful\"],\"type\":\"funnel\"}],                        {\"template\":{\"data\":{\"histogram2dcontour\":[{\"type\":\"histogram2dcontour\",\"colorbar\":{\"outlinewidth\":0,\"ticks\":\"\"},\"colorscale\":[[0.0,\"#0d0887\"],[0.1111111111111111,\"#46039f\"],[0.2222222222222222,\"#7201a8\"],[0.3333333333333333,\"#9c179e\"],[0.4444444444444444,\"#bd3786\"],[0.5555555555555556,\"#d8576b\"],[0.6666666666666666,\"#ed7953\"],[0.7777777777777778,\"#fb9f3a\"],[0.8888888888888888,\"#fdca26\"],[1.0,\"#f0f921\"]]}],\"choropleth\":[{\"type\":\"choropleth\",\"colorbar\":{\"outlinewidth\":0,\"ticks\":\"\"}}],\"histogram2d\":[{\"type\":\"histogram2d\",\"colorbar\":{\"outlinewidth\":0,\"ticks\":\"\"},\"colorscale\":[[0.0,\"#0d0887\"],[0.1111111111111111,\"#46039f\"],[0.2222222222222222,\"#7201a8\"],[0.3333333333333333,\"#9c179e\"],[0.4444444444444444,\"#bd3786\"],[0.5555555555555556,\"#d8576b\"],[0.6666666666666666,\"#ed7953\"],[0.7777777777777778,\"#fb9f3a\"],[0.8888888888888888,\"#fdca26\"],[1.0,\"#f0f921\"]]}],\"heatmap\":[{\"type\":\"heatmap\",\"colorbar\":{\"outlinewidth\":0,\"ticks\":\"\"},\"colorscale\":[[0.0,\"#0d0887\"],[0.1111111111111111,\"#46039f\"],[0.2222222222222222,\"#7201a8\"],[0.3333333333333333,\"#9c179e\"],[0.4444444444444444,\"#bd3786\"],[0.5555555555555556,\"#d8576b\"],[0.6666666666666666,\"#ed7953\"],[0.7777777777777778,\"#fb9f3a\"],[0.8888888888888888,\"#fdca26\"],[1.0,\"#f0f921\"]]}],\"heatmapgl\":[{\"type\":\"heatmapgl\",\"colorbar\":{\"outlinewidth\":0,\"ticks\":\"\"},\"colorscale\":[[0.0,\"#0d0887\"],[0.1111111111111111,\"#46039f\"],[0.2222222222222222,\"#7201a8\"],[0.3333333333333333,\"#9c179e\"],[0.4444444444444444,\"#bd3786\"],[0.5555555555555556,\"#d8576b\"],[0.6666666666666666,\"#ed7953\"],[0.7777777777777778,\"#fb9f3a\"],[0.8888888888888888,\"#fdca26\"],[1.0,\"#f0f921\"]]}],\"contourcarpet\":[{\"type\":\"contourcarpet\",\"colorbar\":{\"outlinewidth\":0,\"ticks\":\"\"}}],\"contour\":[{\"type\":\"contour\",\"colorbar\":{\"outlinewidth\":0,\"ticks\":\"\"},\"colorscale\":[[0.0,\"#0d0887\"],[0.1111111111111111,\"#46039f\"],[0.2222222222222222,\"#7201a8\"],[0.3333333333333333,\"#9c179e\"],[0.4444444444444444,\"#bd3786\"],[0.5555555555555556,\"#d8576b\"],[0.6666666666666666,\"#ed7953\"],[0.7777777777777778,\"#fb9f3a\"],[0.8888888888888888,\"#fdca26\"],[1.0,\"#f0f921\"]]}],\"surface\":[{\"type\":\"surface\",\"colorbar\":{\"outlinewidth\":0,\"ticks\":\"\"},\"colorscale\":[[0.0,\"#0d0887\"],[0.1111111111111111,\"#46039f\"],[0.2222222222222222,\"#7201a8\"],[0.3333333333333333,\"#9c179e\"],[0.4444444444444444,\"#bd3786\"],[0.5555555555555556,\"#d8576b\"],[0.6666666666666666,\"#ed7953\"],[0.7777777777777778,\"#fb9f3a\"],[0.8888888888888888,\"#fdca26\"],[1.0,\"#f0f921\"]]}],\"mesh3d\":[{\"type\":\"mesh3d\",\"colorbar\":{\"outlinewidth\":0,\"ticks\":\"\"}}],\"scatter\":[{\"fillpattern\":{\"fillmode\":\"overlay\",\"size\":10,\"solidity\":0.2},\"type\":\"scatter\"}],\"parcoords\":[{\"type\":\"parcoords\",\"line\":{\"colorbar\":{\"outlinewidth\":0,\"ticks\":\"\"}}}],\"scatterpolargl\":[{\"type\":\"scatterpolargl\",\"marker\":{\"colorbar\":{\"outlinewidth\":0,\"ticks\":\"\"}}}],\"bar\":[{\"error_x\":{\"color\":\"#2a3f5f\"},\"error_y\":{\"color\":\"#2a3f5f\"},\"marker\":{\"line\":{\"color\":\"#E5ECF6\",\"width\":0.5},\"pattern\":{\"fillmode\":\"overlay\",\"size\":10,\"solidity\":0.2}},\"type\":\"bar\"}],\"scattergeo\":[{\"type\":\"scattergeo\",\"marker\":{\"colorbar\":{\"outlinewidth\":0,\"ticks\":\"\"}}}],\"scatterpolar\":[{\"type\":\"scatterpolar\",\"marker\":{\"colorbar\":{\"outlinewidth\":0,\"ticks\":\"\"}}}],\"histogram\":[{\"marker\":{\"pattern\":{\"fillmode\":\"overlay\",\"size\":10,\"solidity\":0.2}},\"type\":\"histogram\"}],\"scattergl\":[{\"type\":\"scattergl\",\"marker\":{\"colorbar\":{\"outlinewidth\":0,\"ticks\":\"\"}}}],\"scatter3d\":[{\"type\":\"scatter3d\",\"line\":{\"colorbar\":{\"outlinewidth\":0,\"ticks\":\"\"}},\"marker\":{\"colorbar\":{\"outlinewidth\":0,\"ticks\":\"\"}}}],\"scattermapbox\":[{\"type\":\"scattermapbox\",\"marker\":{\"colorbar\":{\"outlinewidth\":0,\"ticks\":\"\"}}}],\"scatterternary\":[{\"type\":\"scatterternary\",\"marker\":{\"colorbar\":{\"outlinewidth\":0,\"ticks\":\"\"}}}],\"scattercarpet\":[{\"type\":\"scattercarpet\",\"marker\":{\"colorbar\":{\"outlinewidth\":0,\"ticks\":\"\"}}}],\"carpet\":[{\"aaxis\":{\"endlinecolor\":\"#2a3f5f\",\"gridcolor\":\"white\",\"linecolor\":\"white\",\"minorgridcolor\":\"white\",\"startlinecolor\":\"#2a3f5f\"},\"baxis\":{\"endlinecolor\":\"#2a3f5f\",\"gridcolor\":\"white\",\"linecolor\":\"white\",\"minorgridcolor\":\"white\",\"startlinecolor\":\"#2a3f5f\"},\"type\":\"carpet\"}],\"table\":[{\"cells\":{\"fill\":{\"color\":\"#EBF0F8\"},\"line\":{\"color\":\"white\"}},\"header\":{\"fill\":{\"color\":\"#C8D4E3\"},\"line\":{\"color\":\"white\"}},\"type\":\"table\"}],\"barpolar\":[{\"marker\":{\"line\":{\"color\":\"#E5ECF6\",\"width\":0.5},\"pattern\":{\"fillmode\":\"overlay\",\"size\":10,\"solidity\":0.2}},\"type\":\"barpolar\"}],\"pie\":[{\"automargin\":true,\"type\":\"pie\"}]},\"layout\":{\"autotypenumbers\":\"strict\",\"colorway\":[\"#636efa\",\"#EF553B\",\"#00cc96\",\"#ab63fa\",\"#FFA15A\",\"#19d3f3\",\"#FF6692\",\"#B6E880\",\"#FF97FF\",\"#FECB52\"],\"font\":{\"color\":\"#2a3f5f\"},\"hovermode\":\"closest\",\"hoverlabel\":{\"align\":\"left\"},\"paper_bgcolor\":\"white\",\"plot_bgcolor\":\"#E5ECF6\",\"polar\":{\"bgcolor\":\"#E5ECF6\",\"angularaxis\":{\"gridcolor\":\"white\",\"linecolor\":\"white\",\"ticks\":\"\"},\"radialaxis\":{\"gridcolor\":\"white\",\"linecolor\":\"white\",\"ticks\":\"\"}},\"ternary\":{\"bgcolor\":\"#E5ECF6\",\"aaxis\":{\"gridcolor\":\"white\",\"linecolor\":\"white\",\"ticks\":\"\"},\"baxis\":{\"gridcolor\":\"white\",\"linecolor\":\"white\",\"ticks\":\"\"},\"caxis\":{\"gridcolor\":\"white\",\"linecolor\":\"white\",\"ticks\":\"\"}},\"coloraxis\":{\"colorbar\":{\"outlinewidth\":0,\"ticks\":\"\"}},\"colorscale\":{\"sequential\":[[0.0,\"#0d0887\"],[0.1111111111111111,\"#46039f\"],[0.2222222222222222,\"#7201a8\"],[0.3333333333333333,\"#9c179e\"],[0.4444444444444444,\"#bd3786\"],[0.5555555555555556,\"#d8576b\"],[0.6666666666666666,\"#ed7953\"],[0.7777777777777778,\"#fb9f3a\"],[0.8888888888888888,\"#fdca26\"],[1.0,\"#f0f921\"]],\"sequentialminus\":[[0.0,\"#0d0887\"],[0.1111111111111111,\"#46039f\"],[0.2222222222222222,\"#7201a8\"],[0.3333333333333333,\"#9c179e\"],[0.4444444444444444,\"#bd3786\"],[0.5555555555555556,\"#d8576b\"],[0.6666666666666666,\"#ed7953\"],[0.7777777777777778,\"#fb9f3a\"],[0.8888888888888888,\"#fdca26\"],[1.0,\"#f0f921\"]],\"diverging\":[[0,\"#8e0152\"],[0.1,\"#c51b7d\"],[0.2,\"#de77ae\"],[0.3,\"#f1b6da\"],[0.4,\"#fde0ef\"],[0.5,\"#f7f7f7\"],[0.6,\"#e6f5d0\"],[0.7,\"#b8e186\"],[0.8,\"#7fbc41\"],[0.9,\"#4d9221\"],[1,\"#276419\"]]},\"xaxis\":{\"gridcolor\":\"white\",\"linecolor\":\"white\",\"ticks\":\"\",\"title\":{\"standoff\":15},\"zerolinecolor\":\"white\",\"automargin\":true,\"zerolinewidth\":2},\"yaxis\":{\"gridcolor\":\"white\",\"linecolor\":\"white\",\"ticks\":\"\",\"title\":{\"standoff\":15},\"zerolinecolor\":\"white\",\"automargin\":true,\"zerolinewidth\":2},\"scene\":{\"xaxis\":{\"backgroundcolor\":\"#E5ECF6\",\"gridcolor\":\"white\",\"linecolor\":\"white\",\"showbackground\":true,\"ticks\":\"\",\"zerolinecolor\":\"white\",\"gridwidth\":2},\"yaxis\":{\"backgroundcolor\":\"#E5ECF6\",\"gridcolor\":\"white\",\"linecolor\":\"white\",\"showbackground\":true,\"ticks\":\"\",\"zerolinecolor\":\"white\",\"gridwidth\":2},\"zaxis\":{\"backgroundcolor\":\"#E5ECF6\",\"gridcolor\":\"white\",\"linecolor\":\"white\",\"showbackground\":true,\"ticks\":\"\",\"zerolinecolor\":\"white\",\"gridwidth\":2}},\"shapedefaults\":{\"line\":{\"color\":\"#2a3f5f\"}},\"annotationdefaults\":{\"arrowcolor\":\"#2a3f5f\",\"arrowhead\":0,\"arrowwidth\":1},\"geo\":{\"bgcolor\":\"white\",\"landcolor\":\"#E5ECF6\",\"subunitcolor\":\"white\",\"showland\":true,\"showlakes\":true,\"lakecolor\":\"white\"},\"title\":{\"x\":0.05},\"mapbox\":{\"style\":\"light\"}}},\"title\":{\"text\":\"\\u0412\\u0438\\u0437\\u0443\\u0430\\u043b\\u0438\\u0437\\u0430\\u0446\\u0438\\u044f \\u0432\\u043e\\u0440\\u043e\\u043d\\u043a\\u0438 \\u0441\\u043e\\u0431\\u044b\\u0442\\u0438\\u0439\"}},                        {\"responsive\": true}                    ).then(function(){\n",
       "                            \n",
       "var gd = document.getElementById('df354917-1243-4dc7-80c6-54ae1ffbd28b');\n",
       "var x = new MutationObserver(function (mutations, observer) {{\n",
       "        var display = window.getComputedStyle(gd).display;\n",
       "        if (!display || display === 'none') {{\n",
       "            console.log([gd, 'removed!']);\n",
       "            Plotly.purge(gd);\n",
       "            observer.disconnect();\n",
       "        }}\n",
       "}});\n",
       "\n",
       "// Listen for the removal of the full notebook cells\n",
       "var notebookContainer = gd.closest('#notebook-container');\n",
       "if (notebookContainer) {{\n",
       "    x.observe(notebookContainer, {childList: true});\n",
       "}}\n",
       "\n",
       "// Listen for the clearing of the current output cell\n",
       "var outputEl = gd.closest('.output');\n",
       "if (outputEl) {{\n",
       "    x.observe(outputEl, {childList: true});\n",
       "}}\n",
       "\n",
       "                        })                };                });            </script>        </div>"
      ]
     },
     "metadata": {},
     "output_type": "display_data"
    }
   ],
   "source": [
    "funnel_plot = logs_exp.query('event_name!=\"Tutorial\"')\n",
    "funnel_plot = funnel_plot.pivot_table(index = ['exp_id','event_name'], values = 'device_id_hash', aggfunc='nunique').reset_index()\n",
    "funnel_plot = funnel_plot.sort_values(by='device_id_hash', ascending=False)\n",
    "\n",
    "fig = go.Figure()\n",
    "\n",
    "fig.add_trace(go.Funnel(\n",
    "    name = '246',\n",
    "    y = funnel_plot.query('exp_id==246')['event_name'],\n",
    "    x = funnel_plot.query('exp_id==246')['device_id_hash'],\n",
    "    textinfo = \"value+percent previous\"))\n",
    "\n",
    "fig.add_trace(go.Funnel(\n",
    "    name = '247',\n",
    "    orientation = \"h\",\n",
    "    y = funnel_plot.query('exp_id==247')['event_name'],\n",
    "    x = funnel_plot.query('exp_id==247')['device_id_hash'],\n",
    "    textposition = \"inside\",\n",
    "    textinfo = \"value+percent previous\"))\n",
    "\n",
    "fig.add_trace(go.Funnel(\n",
    "    name = '248',\n",
    "    orientation = \"h\",\n",
    "    y = funnel_plot.query('exp_id==248')['event_name'],\n",
    "    x = funnel_plot.query('exp_id==248')['device_id_hash'],\n",
    "    textposition = \"inside\",\n",
    "    textinfo = \"value+percent previous\"))\n",
    "\n",
    "fig.update_layout(title=\"Визуализация воронки событий\")\n",
    "fig.show()"
   ]
  },
  {
   "cell_type": "markdown",
   "metadata": {},
   "source": [
    "Для удобства определим специальную функцию, которая будет рассчитывать Z-критерий для двух групп. На вход фунции так же подается уровень статистической значимости $\\alpha$ который в теле корректируется с помощью поправки Бонферрони:"
   ]
  },
  {
   "cell_type": "code",
   "execution_count": 71,
   "metadata": {},
   "outputs": [],
   "source": [
    "def z_test(group_1, group_2, alpha):\n",
    "    events_name = ['CartScreenAppear','MainScreenAppear','OffersScreenAppear', 'PaymentScreenSuccessful']\n",
    "    \n",
    "    #внесение поправки Бонферрони \n",
    "    alpha/=16\n",
    "    #для каждого события каждой группы рассчитаем Z-value и p-value\n",
    "    for event in events_name:\n",
    "        p1 = group_1[event]/group_1['total']\n",
    "        p2 = group_2[event]/group_2['total']\n",
    "        p_combined = (group_1[event] + group_2[event])/(group_1['total'] + group_2['total'])\n",
    "        difference = p1 - p2 \n",
    "        \n",
    "        z_value = difference / mth.sqrt(p_combined * (1 - p_combined) * (1/group_1['total'] + 1/group_2['total']))\n",
    "\n",
    "        distr = st.norm(0, 1)  \n",
    "        \n",
    "        p_value = (1 - distr.cdf(abs(z_value))) * 2\n",
    "        \n",
    "        print('Событие:', event)\n",
    "        print('p-value:', p_value)\n",
    "        \n",
    "        if p_value < alpha:\n",
    "            print('Отвергаем нулевую гипотезу: между долями есть значимая разница')\n",
    "        else:\n",
    "            print('Не получилось отвергнуть нулевую гипотезу, нет оснований считать доли разными\\n') \n"
   ]
  },
  {
   "cell_type": "markdown",
   "metadata": {},
   "source": [
    "Вызовем функцию расчёта Z-критерия для двух групп: 246 и 247. Веричину $\\alpha$ примем равной 0.01 (вероятность отклонить гипотизу $H_0$, когда она на самом деле верна)."
   ]
  },
  {
   "cell_type": "code",
   "execution_count": 72,
   "metadata": {},
   "outputs": [
    {
     "name": "stdout",
     "output_type": "stream",
     "text": [
      "Событие: CartScreenAppear\n",
      "p-value: 0.22883372237997213\n",
      "Не получилось отвергнуть нулевую гипотезу, нет оснований считать доли разными\n",
      "\n",
      "Событие: MainScreenAppear\n",
      "p-value: 0.7570597232046099\n",
      "Не получилось отвергнуть нулевую гипотезу, нет оснований считать доли разными\n",
      "\n",
      "Событие: OffersScreenAppear\n",
      "p-value: 0.2480954578522181\n",
      "Не получилось отвергнуть нулевую гипотезу, нет оснований считать доли разными\n",
      "\n",
      "Событие: PaymentScreenSuccessful\n",
      "p-value: 0.11456679313141849\n",
      "Не получилось отвергнуть нулевую гипотезу, нет оснований считать доли разными\n",
      "\n"
     ]
    }
   ],
   "source": [
    "z_test(filtered_events.loc[246],filtered_events.loc[247], 0.01)"
   ]
  },
  {
   "cell_type": "markdown",
   "metadata": {},
   "source": [
    "В результате рассчетов выснили, что статистической разницы между A/A-группами нет. Можно сделать вывод, что разделение на группы работает корректно."
   ]
  },
  {
   "cell_type": "markdown",
   "metadata": {},
   "source": [
    "<a id='step_6_3'></a>\n",
    "### Анализ результатов A/B-теста"
   ]
  },
  {
   "cell_type": "markdown",
   "metadata": {},
   "source": [
    "Сравним каждую контрольную группу с результатами группы B. Здесь уровень статистической значимости примем равнм 0.05:"
   ]
  },
  {
   "cell_type": "code",
   "execution_count": 73,
   "metadata": {},
   "outputs": [
    {
     "name": "stdout",
     "output_type": "stream",
     "text": [
      "Событие: CartScreenAppear\n",
      "p-value: 0.07842923237520116\n",
      "Не получилось отвергнуть нулевую гипотезу, нет оснований считать доли разными\n",
      "\n",
      "Событие: MainScreenAppear\n",
      "p-value: 0.2949721933554552\n",
      "Не получилось отвергнуть нулевую гипотезу, нет оснований считать доли разными\n",
      "\n",
      "Событие: OffersScreenAppear\n",
      "p-value: 0.20836205402738917\n",
      "Не получилось отвергнуть нулевую гипотезу, нет оснований считать доли разными\n",
      "\n",
      "Событие: PaymentScreenSuccessful\n",
      "p-value: 0.2122553275697796\n",
      "Не получилось отвергнуть нулевую гипотезу, нет оснований считать доли разными\n",
      "\n"
     ]
    }
   ],
   "source": [
    "z_test(filtered_events.loc[246],filtered_events.loc[248], 0.05)"
   ]
  },
  {
   "cell_type": "code",
   "execution_count": 74,
   "metadata": {},
   "outputs": [
    {
     "name": "stdout",
     "output_type": "stream",
     "text": [
      "Событие: CartScreenAppear\n",
      "p-value: 0.5786197879539783\n",
      "Не получилось отвергнуть нулевую гипотезу, нет оснований считать доли разными\n",
      "\n",
      "Событие: MainScreenAppear\n",
      "p-value: 0.4587053616621515\n",
      "Не получилось отвергнуть нулевую гипотезу, нет оснований считать доли разными\n",
      "\n",
      "Событие: OffersScreenAppear\n",
      "p-value: 0.9197817830592261\n",
      "Не получилось отвергнуть нулевую гипотезу, нет оснований считать доли разными\n",
      "\n",
      "Событие: PaymentScreenSuccessful\n",
      "p-value: 0.7373415053803964\n",
      "Не получилось отвергнуть нулевую гипотезу, нет оснований считать доли разными\n",
      "\n"
     ]
    }
   ],
   "source": [
    "z_test(filtered_events.loc[247],filtered_events.loc[248], 0.05)"
   ]
  },
  {
   "cell_type": "markdown",
   "metadata": {},
   "source": [
    "Сравним результаты с объединенной контрольной группой (добавим строку 246247, которая будет содержать объединенные результаты контрольной выборки):"
   ]
  },
  {
   "cell_type": "code",
   "execution_count": 75,
   "metadata": {},
   "outputs": [
    {
     "data": {
      "text/html": [
       "<div>\n",
       "<style scoped>\n",
       "    .dataframe tbody tr th:only-of-type {\n",
       "        vertical-align: middle;\n",
       "    }\n",
       "\n",
       "    .dataframe tbody tr th {\n",
       "        vertical-align: top;\n",
       "    }\n",
       "\n",
       "    .dataframe thead th {\n",
       "        text-align: right;\n",
       "    }\n",
       "</style>\n",
       "<table border=\"1\" class=\"dataframe\">\n",
       "  <thead>\n",
       "    <tr style=\"text-align: right;\">\n",
       "      <th>event_name</th>\n",
       "      <th>CartScreenAppear</th>\n",
       "      <th>MainScreenAppear</th>\n",
       "      <th>OffersScreenAppear</th>\n",
       "      <th>PaymentScreenSuccessful</th>\n",
       "      <th>total</th>\n",
       "    </tr>\n",
       "    <tr>\n",
       "      <th>exp_id</th>\n",
       "      <th></th>\n",
       "      <th></th>\n",
       "      <th></th>\n",
       "      <th></th>\n",
       "      <th></th>\n",
       "    </tr>\n",
       "  </thead>\n",
       "  <tbody>\n",
       "    <tr>\n",
       "      <th>246</th>\n",
       "      <td>1266</td>\n",
       "      <td>2450</td>\n",
       "      <td>1542</td>\n",
       "      <td>1200</td>\n",
       "      <td>2484</td>\n",
       "    </tr>\n",
       "    <tr>\n",
       "      <th>247</th>\n",
       "      <td>1238</td>\n",
       "      <td>2476</td>\n",
       "      <td>1520</td>\n",
       "      <td>1158</td>\n",
       "      <td>2513</td>\n",
       "    </tr>\n",
       "    <tr>\n",
       "      <th>248</th>\n",
       "      <td>1230</td>\n",
       "      <td>2493</td>\n",
       "      <td>1531</td>\n",
       "      <td>1181</td>\n",
       "      <td>2537</td>\n",
       "    </tr>\n",
       "    <tr>\n",
       "      <th>246247</th>\n",
       "      <td>2504</td>\n",
       "      <td>4926</td>\n",
       "      <td>3062</td>\n",
       "      <td>2358</td>\n",
       "      <td>4997</td>\n",
       "    </tr>\n",
       "  </tbody>\n",
       "</table>\n",
       "</div>"
      ],
      "text/plain": [
       "event_name  CartScreenAppear  MainScreenAppear  OffersScreenAppear  \\\n",
       "exp_id                                                               \n",
       "246                     1266              2450                1542   \n",
       "247                     1238              2476                1520   \n",
       "248                     1230              2493                1531   \n",
       "246247                  2504              4926                3062   \n",
       "\n",
       "event_name  PaymentScreenSuccessful  total  \n",
       "exp_id                                      \n",
       "246                            1200   2484  \n",
       "247                            1158   2513  \n",
       "248                            1181   2537  \n",
       "246247                         2358   4997  "
      ]
     },
     "execution_count": 75,
     "metadata": {},
     "output_type": "execute_result"
    }
   ],
   "source": [
    "filtered_events.loc[246247] = filtered_events.loc[247] + filtered_events.loc[246]\n",
    "filtered_events"
   ]
  },
  {
   "cell_type": "code",
   "execution_count": 76,
   "metadata": {},
   "outputs": [
    {
     "name": "stdout",
     "output_type": "stream",
     "text": [
      "Событие: CartScreenAppear\n",
      "p-value: 0.18175875284404386\n",
      "Не получилось отвергнуть нулевую гипотезу, нет оснований считать доли разными\n",
      "\n",
      "Событие: MainScreenAppear\n",
      "p-value: 0.29424526837179577\n",
      "Не получилось отвергнуть нулевую гипотезу, нет оснований считать доли разными\n",
      "\n",
      "Событие: OffersScreenAppear\n",
      "p-value: 0.43425549655188256\n",
      "Не получилось отвергнуть нулевую гипотезу, нет оснований считать доли разными\n",
      "\n",
      "Событие: PaymentScreenSuccessful\n",
      "p-value: 0.6004294282308704\n",
      "Не получилось отвергнуть нулевую гипотезу, нет оснований считать доли разными\n",
      "\n"
     ]
    }
   ],
   "source": [
    "z_test(filtered_events.loc[246247],filtered_events.loc[248], 0.05)"
   ]
  },
  {
   "cell_type": "markdown",
   "metadata": {},
   "source": [
    "**Вывод**:\n",
    "1. В 246 группе 2484 пользователей, в 247 &mdash; 2513, в 248 &mdash; 2537.  \n",
    "2. Контрольные группы 246 и 247 отвечают критериям A/A-теста, по результам статистического теста различий между выборками не выявлено.  \n",
    "3. Так же при проведении статистических тестов контрольных групп и эксперементальных (попарно и объединенной) не было выявлено различий между выборками."
   ]
  },
  {
   "cell_type": "markdown",
   "metadata": {},
   "source": [
    "<a id='step_6_4'></a>\n",
    "### Выбор уровня статистической значимости\n"
   ]
  },
  {
   "cell_type": "markdown",
   "metadata": {},
   "source": [
    "Было проведено 4 проверки статистических гипотез, проверка гипотезы о равенстве долей двух контрольных групп (A/A-тест), поочередная проверка группы с измененным шрифтом с каждой из контрольной групп и с объединённой выборкой. \n",
    "\n",
    "Первая проверка была проведена с уровнем значимости 0.01, т.к. по условию А/А теста различие ключевых метрик по группам не превышает 1% и не имеет статистической значимости.\n",
    "\n",
    "Остальные проверки были выполнены с уровнем статистической значимости $\\alpha$ = 0.05. Выбор уровня статистической значимости зависит от нескольких факторов: \n",
    "1. Оценка потенциальных рисков, связанных с ошибками первого и второго рода. Каковы последствия ошибочного отклонения нулевой гипотезы? Что будет, если реального различия не обнаружится? \n",
    "2. Какой эффект ожидается от внедряемого изменения? Если рост метрик будет ощутимым, можно позволить себе выбрать более низкий уровень значимости, тем самым уменьшая вероятность ошибки первого рода, не рискуя при этом пропустить значимый эффект из-за недостаточной мощности теста. \n",
    "\n",
    "Так как исследуемое изменение &mdash; это сравнение двух разных шрифтов приложений, сложно ожидать от него серьезного прорыва в росте конверсии. При этом не хотелось бы опускать уровень значимости до 0.01 &mdash; следует помнить, что выбор слишком малого уровня значимости приведёт к увеличению вероятности ошибки второго рода при принятии статистического решения."
   ]
  },
  {
   "cell_type": "markdown",
   "metadata": {},
   "source": [
    "<a id='step_7'></a>\n",
    "##  Выводы"
   ]
  },
  {
   "cell_type": "markdown",
   "metadata": {},
   "source": [
    "<p>На основе результатов обработки данных, содержащих лог с информацией о действиях пользователей и событиях можем сделать следующие выводы:</p>\n",
    "<ol>\n",
    "    <li>Исходные данные потребовали предобработки: были обнаружены явные дубликаты (удалены). Названия столбцов были приведены к змеиному регистру. Так же были добавлены дополнительные столбцы с датой и временем события на основе значений столбца <code>event_timestamp</code> который содержал количество секунд, прошедших с 01.01.1970.</li>\n",
    "    <li>В ходе изучения и проверки данных определили границы эксперимента: с 01.08.2019 по 07.08.2019. Данные, не вошедшие в этот диапазон, были убраны из датафрейма. В связи с этим потеряли 1% событий из общего числа и &#60;1% процента пользователей. В отфильтрованном датафрейме присутствуют пользователи из всех трёх уникальных групп.</li>\n",
    "    <li>Определен вид воронки событий: <code>MainScreenAppear</code> → <code>OffersScreenAppear</code> → <code>CartScreenAppar</code> → <code>PaymentSuccessfull</code>  \n",
    "Сначала пользователь попадает на главный экран приложения. Далее переходит на экран предложений (товаров), после чего перемещается в корзину и оплачивает заказ. Обучение `Tutorial` не входит в воронку &mdash; это событие опционально, сделать заказ можно не проходя обучение. Больше всего пользователей теряется при переходе с шага 1 на шаг 2 &mdash; 38%. 48% пользователей проходят путь от главного экрана до успешной оплаты заказа.</li>\n",
    "    <li>Выборка пользоватей групп 246 и 247 отвечает критериям A/A-тестирования. Проверка показала, что статистически важного различия между контрольными группами нет.</li>\n",
    "    <li>По результатам статистических тестов контрольных групп 246 и 247 и эксперементальной 248 (попарно и объединенной) не было выявлено различий между выборками. <b>Новые шрифты, которые показывали пользователям группы 248 никак не повлияли на поведение пользователей внутри приложения</b>. Тест можно завершить.</li>\n",
    "</ol>    "
   ]
  },
  {
   "cell_type": "code",
   "execution_count": null,
   "metadata": {},
   "outputs": [],
   "source": []
  }
 ],
 "metadata": {
  "ExecuteTimeLog": [
   {
    "duration": 68,
    "start_time": "2024-04-29T18:30:59.361Z"
   },
   {
    "duration": 39,
    "start_time": "2024-04-29T18:31:31.608Z"
   },
   {
    "duration": 1082,
    "start_time": "2024-04-29T18:31:33.836Z"
   },
   {
    "duration": 92,
    "start_time": "2024-04-29T18:31:36.195Z"
   },
   {
    "duration": 913,
    "start_time": "2024-04-29T18:31:56.962Z"
   },
   {
    "duration": 153,
    "start_time": "2024-04-29T18:32:29.406Z"
   },
   {
    "duration": 162,
    "start_time": "2024-04-29T18:41:27.309Z"
   },
   {
    "duration": 112,
    "start_time": "2024-04-29T18:45:54.358Z"
   },
   {
    "duration": 116,
    "start_time": "2024-04-29T18:46:40.271Z"
   },
   {
    "duration": 116,
    "start_time": "2024-04-29T18:47:29.497Z"
   },
   {
    "duration": 72,
    "start_time": "2024-04-29T18:47:43.940Z"
   },
   {
    "duration": 114,
    "start_time": "2024-04-29T18:47:55.032Z"
   },
   {
    "duration": 3,
    "start_time": "2024-04-29T18:50:46.210Z"
   },
   {
    "duration": 153,
    "start_time": "2024-04-29T18:50:46.214Z"
   },
   {
    "duration": 123,
    "start_time": "2024-04-29T18:50:46.368Z"
   },
   {
    "duration": 9,
    "start_time": "2024-04-29T19:14:53.610Z"
   },
   {
    "duration": 9,
    "start_time": "2024-04-29T19:15:00.599Z"
   },
   {
    "duration": 136,
    "start_time": "2024-04-29T19:15:38.591Z"
   },
   {
    "duration": 8,
    "start_time": "2024-04-29T19:15:57.402Z"
   },
   {
    "duration": 7,
    "start_time": "2024-04-29T19:16:00.267Z"
   },
   {
    "duration": 7,
    "start_time": "2024-04-29T19:16:07.463Z"
   },
   {
    "duration": 7,
    "start_time": "2024-04-29T19:16:10.441Z"
   },
   {
    "duration": 6,
    "start_time": "2024-04-29T19:16:13.307Z"
   },
   {
    "duration": 8,
    "start_time": "2024-04-29T19:17:42.596Z"
   },
   {
    "duration": 14,
    "start_time": "2024-04-29T19:17:48.895Z"
   },
   {
    "duration": 52,
    "start_time": "2024-04-29T19:19:45.686Z"
   },
   {
    "duration": 120,
    "start_time": "2024-04-29T19:21:10.040Z"
   },
   {
    "duration": 125,
    "start_time": "2024-04-29T19:21:34.677Z"
   },
   {
    "duration": 18,
    "start_time": "2024-04-29T19:23:11.215Z"
   },
   {
    "duration": 2,
    "start_time": "2024-04-29T19:23:15.936Z"
   },
   {
    "duration": 160,
    "start_time": "2024-04-29T19:23:15.939Z"
   },
   {
    "duration": 8,
    "start_time": "2024-04-29T19:23:16.101Z"
   },
   {
    "duration": 13,
    "start_time": "2024-04-29T19:23:16.110Z"
   },
   {
    "duration": 74,
    "start_time": "2024-04-29T19:23:16.125Z"
   },
   {
    "duration": 150,
    "start_time": "2024-04-29T19:23:16.200Z"
   },
   {
    "duration": 157,
    "start_time": "2024-04-29T19:23:16.352Z"
   },
   {
    "duration": 53,
    "start_time": "2024-05-01T18:45:39.607Z"
   },
   {
    "duration": 1459,
    "start_time": "2024-05-01T18:45:42.954Z"
   },
   {
    "duration": 892,
    "start_time": "2024-05-01T18:45:44.415Z"
   },
   {
    "duration": 204,
    "start_time": "2024-05-01T18:45:45.309Z"
   },
   {
    "duration": 12,
    "start_time": "2024-05-01T18:45:45.515Z"
   },
   {
    "duration": 120,
    "start_time": "2024-05-01T18:45:45.529Z"
   },
   {
    "duration": 158,
    "start_time": "2024-05-01T18:45:45.651Z"
   },
   {
    "duration": 19,
    "start_time": "2024-05-01T18:45:45.811Z"
   },
   {
    "duration": 1217,
    "start_time": "2024-05-01T20:26:28.317Z"
   },
   {
    "duration": 1134,
    "start_time": "2024-05-01T20:26:34.386Z"
   },
   {
    "duration": 5,
    "start_time": "2024-05-01T20:26:40.796Z"
   },
   {
    "duration": 241,
    "start_time": "2024-05-01T20:26:40.804Z"
   },
   {
    "duration": 172,
    "start_time": "2024-05-01T20:26:41.046Z"
   },
   {
    "duration": 8,
    "start_time": "2024-05-01T20:26:41.220Z"
   },
   {
    "duration": 44,
    "start_time": "2024-05-01T20:26:41.231Z"
   },
   {
    "duration": 97,
    "start_time": "2024-05-01T20:26:41.277Z"
   },
   {
    "duration": 192,
    "start_time": "2024-05-01T20:26:41.376Z"
   },
   {
    "duration": 27,
    "start_time": "2024-05-01T20:26:41.569Z"
   },
   {
    "duration": 1114,
    "start_time": "2024-05-01T20:26:48.918Z"
   },
   {
    "duration": 3,
    "start_time": "2024-05-01T20:26:54.779Z"
   },
   {
    "duration": 218,
    "start_time": "2024-05-01T20:26:54.784Z"
   },
   {
    "duration": 172,
    "start_time": "2024-05-01T20:26:55.005Z"
   },
   {
    "duration": 54,
    "start_time": "2024-05-01T20:26:55.178Z"
   },
   {
    "duration": 14,
    "start_time": "2024-05-01T20:26:55.234Z"
   },
   {
    "duration": 98,
    "start_time": "2024-05-01T20:26:55.250Z"
   },
   {
    "duration": 199,
    "start_time": "2024-05-01T20:26:55.350Z"
   },
   {
    "duration": 17,
    "start_time": "2024-05-01T20:26:55.550Z"
   },
   {
    "duration": 1661,
    "start_time": "2024-05-01T20:35:33.677Z"
   },
   {
    "duration": 15,
    "start_time": "2024-05-01T20:35:59.164Z"
   },
   {
    "duration": 3,
    "start_time": "2024-05-01T20:36:10.036Z"
   },
   {
    "duration": 5,
    "start_time": "2024-05-01T20:36:13.493Z"
   },
   {
    "duration": 7,
    "start_time": "2024-05-01T20:37:17.947Z"
   },
   {
    "duration": 6,
    "start_time": "2024-05-01T20:37:30.062Z"
   },
   {
    "duration": 3,
    "start_time": "2024-05-01T20:37:40.226Z"
   },
   {
    "duration": 212,
    "start_time": "2024-05-01T20:37:40.231Z"
   },
   {
    "duration": 140,
    "start_time": "2024-05-01T20:37:40.445Z"
   },
   {
    "duration": 34,
    "start_time": "2024-05-01T20:37:40.591Z"
   },
   {
    "duration": 53,
    "start_time": "2024-05-01T20:37:40.627Z"
   },
   {
    "duration": 74,
    "start_time": "2024-05-01T20:37:40.681Z"
   },
   {
    "duration": 180,
    "start_time": "2024-05-01T20:37:40.756Z"
   },
   {
    "duration": 18,
    "start_time": "2024-05-01T20:37:40.938Z"
   },
   {
    "duration": 4,
    "start_time": "2024-05-01T20:37:40.958Z"
   },
   {
    "duration": 15,
    "start_time": "2024-05-01T20:37:40.964Z"
   },
   {
    "duration": 79,
    "start_time": "2024-05-01T20:41:38.746Z"
   },
   {
    "duration": 36,
    "start_time": "2024-05-01T20:42:21.316Z"
   },
   {
    "duration": 83,
    "start_time": "2024-05-01T20:44:19.727Z"
   },
   {
    "duration": 15,
    "start_time": "2024-05-01T20:44:24.657Z"
   },
   {
    "duration": 3,
    "start_time": "2024-05-01T20:44:35.480Z"
   },
   {
    "duration": 8,
    "start_time": "2024-05-01T20:47:52.615Z"
   },
   {
    "duration": 3,
    "start_time": "2024-05-01T20:48:01.159Z"
   },
   {
    "duration": 255,
    "start_time": "2024-05-01T20:48:01.165Z"
   },
   {
    "duration": 155,
    "start_time": "2024-05-01T20:48:01.422Z"
   },
   {
    "duration": 61,
    "start_time": "2024-05-01T20:48:01.578Z"
   },
   {
    "duration": 12,
    "start_time": "2024-05-01T20:48:01.641Z"
   },
   {
    "duration": 112,
    "start_time": "2024-05-01T20:48:01.654Z"
   },
   {
    "duration": 168,
    "start_time": "2024-05-01T20:48:01.767Z"
   },
   {
    "duration": 17,
    "start_time": "2024-05-01T20:48:01.937Z"
   },
   {
    "duration": 15,
    "start_time": "2024-05-01T20:48:01.956Z"
   },
   {
    "duration": 12,
    "start_time": "2024-05-01T20:48:01.973Z"
   },
   {
    "duration": 42,
    "start_time": "2024-05-01T20:48:01.991Z"
   },
   {
    "duration": 3,
    "start_time": "2024-05-01T20:48:02.035Z"
   },
   {
    "duration": 8,
    "start_time": "2024-05-01T20:50:24.170Z"
   },
   {
    "duration": 5,
    "start_time": "2024-05-01T20:50:34.924Z"
   },
   {
    "duration": 5,
    "start_time": "2024-05-01T20:50:46.265Z"
   },
   {
    "duration": 1495,
    "start_time": "2024-05-02T17:15:22.691Z"
   },
   {
    "duration": 924,
    "start_time": "2024-05-02T17:15:24.189Z"
   },
   {
    "duration": 196,
    "start_time": "2024-05-02T17:15:25.114Z"
   },
   {
    "duration": 39,
    "start_time": "2024-05-02T17:15:25.312Z"
   },
   {
    "duration": 29,
    "start_time": "2024-05-02T17:15:25.353Z"
   },
   {
    "duration": 89,
    "start_time": "2024-05-02T17:15:25.386Z"
   },
   {
    "duration": 231,
    "start_time": "2024-05-02T17:15:25.478Z"
   },
   {
    "duration": 18,
    "start_time": "2024-05-02T17:15:25.711Z"
   },
   {
    "duration": 4,
    "start_time": "2024-05-02T17:15:25.730Z"
   },
   {
    "duration": 8,
    "start_time": "2024-05-02T17:15:25.736Z"
   },
   {
    "duration": 3,
    "start_time": "2024-05-02T17:15:25.746Z"
   },
   {
    "duration": 11,
    "start_time": "2024-05-02T17:15:25.772Z"
   },
   {
    "duration": 107,
    "start_time": "2024-05-02T18:25:30.483Z"
   },
   {
    "duration": 20,
    "start_time": "2024-05-02T18:25:42.236Z"
   },
   {
    "duration": 31,
    "start_time": "2024-05-02T18:25:51.804Z"
   },
   {
    "duration": 21,
    "start_time": "2024-05-02T18:25:59.161Z"
   },
   {
    "duration": 4,
    "start_time": "2024-05-02T18:26:04.412Z"
   },
   {
    "duration": 213,
    "start_time": "2024-05-02T18:26:04.418Z"
   },
   {
    "duration": 154,
    "start_time": "2024-05-02T18:26:04.633Z"
   },
   {
    "duration": 36,
    "start_time": "2024-05-02T18:26:04.789Z"
   },
   {
    "duration": 12,
    "start_time": "2024-05-02T18:26:04.826Z"
   },
   {
    "duration": 96,
    "start_time": "2024-05-02T18:26:04.840Z"
   },
   {
    "duration": 196,
    "start_time": "2024-05-02T18:26:04.937Z"
   },
   {
    "duration": 18,
    "start_time": "2024-05-02T18:26:05.134Z"
   },
   {
    "duration": 19,
    "start_time": "2024-05-02T18:26:05.154Z"
   },
   {
    "duration": 51,
    "start_time": "2024-05-02T18:26:05.175Z"
   },
   {
    "duration": 37,
    "start_time": "2024-05-02T18:26:05.228Z"
   },
   {
    "duration": 11,
    "start_time": "2024-05-02T18:26:05.267Z"
   },
   {
    "duration": 24,
    "start_time": "2024-05-02T18:26:05.280Z"
   },
   {
    "duration": 33,
    "start_time": "2024-05-02T18:26:18.382Z"
   },
   {
    "duration": 31,
    "start_time": "2024-05-02T18:28:23.822Z"
   },
   {
    "duration": 38,
    "start_time": "2024-05-02T18:28:33.940Z"
   },
   {
    "duration": 33,
    "start_time": "2024-05-02T18:29:35.814Z"
   },
   {
    "duration": 42,
    "start_time": "2024-05-02T18:29:40.464Z"
   },
   {
    "duration": 38,
    "start_time": "2024-05-02T18:29:45.089Z"
   },
   {
    "duration": 94,
    "start_time": "2024-05-02T18:33:38.722Z"
   },
   {
    "duration": 91,
    "start_time": "2024-05-02T18:35:11.014Z"
   },
   {
    "duration": 3,
    "start_time": "2024-05-02T18:35:21.348Z"
   },
   {
    "duration": 222,
    "start_time": "2024-05-02T18:35:21.354Z"
   },
   {
    "duration": 162,
    "start_time": "2024-05-02T18:35:21.577Z"
   },
   {
    "duration": 49,
    "start_time": "2024-05-02T18:35:21.741Z"
   },
   {
    "duration": 14,
    "start_time": "2024-05-02T18:35:21.792Z"
   },
   {
    "duration": 94,
    "start_time": "2024-05-02T18:35:21.807Z"
   },
   {
    "duration": 188,
    "start_time": "2024-05-02T18:35:21.903Z"
   },
   {
    "duration": 18,
    "start_time": "2024-05-02T18:35:22.093Z"
   },
   {
    "duration": 24,
    "start_time": "2024-05-02T18:35:22.113Z"
   },
   {
    "duration": 20,
    "start_time": "2024-05-02T18:35:22.139Z"
   },
   {
    "duration": 13,
    "start_time": "2024-05-02T18:35:22.161Z"
   },
   {
    "duration": 17,
    "start_time": "2024-05-02T18:35:22.175Z"
   },
   {
    "duration": 104,
    "start_time": "2024-05-02T18:35:22.194Z"
   },
   {
    "duration": 55,
    "start_time": "2024-05-02T18:35:58.247Z"
   },
   {
    "duration": 65,
    "start_time": "2024-05-02T18:36:01.563Z"
   },
   {
    "duration": 66,
    "start_time": "2024-05-02T18:36:22.953Z"
   },
   {
    "duration": 63,
    "start_time": "2024-05-02T18:36:34.855Z"
   },
   {
    "duration": 62,
    "start_time": "2024-05-02T18:36:38.302Z"
   },
   {
    "duration": 63,
    "start_time": "2024-05-02T18:36:40.951Z"
   },
   {
    "duration": 89,
    "start_time": "2024-05-02T18:36:47.506Z"
   },
   {
    "duration": 95,
    "start_time": "2024-05-02T18:36:53.987Z"
   },
   {
    "duration": 93,
    "start_time": "2024-05-02T18:36:58.267Z"
   },
   {
    "duration": 95,
    "start_time": "2024-05-02T18:37:30.090Z"
   },
   {
    "duration": 95,
    "start_time": "2024-05-02T18:37:33.736Z"
   },
   {
    "duration": 315,
    "start_time": "2024-05-02T18:37:55.764Z"
   },
   {
    "duration": 38,
    "start_time": "2024-05-02T18:38:46.191Z"
   },
   {
    "duration": 41,
    "start_time": "2024-05-02T18:38:55.706Z"
   },
   {
    "duration": 37,
    "start_time": "2024-05-02T18:39:16.103Z"
   },
   {
    "duration": 37,
    "start_time": "2024-05-02T18:39:30.408Z"
   },
   {
    "duration": 66,
    "start_time": "2024-05-02T18:40:20.753Z"
   },
   {
    "duration": 37,
    "start_time": "2024-05-02T18:40:58.785Z"
   },
   {
    "duration": 36,
    "start_time": "2024-05-02T18:41:18.435Z"
   },
   {
    "duration": 87,
    "start_time": "2024-05-02T18:41:57.901Z"
   },
   {
    "duration": 90,
    "start_time": "2024-05-02T18:42:31.062Z"
   },
   {
    "duration": 96,
    "start_time": "2024-05-02T18:42:37.180Z"
   },
   {
    "duration": 94,
    "start_time": "2024-05-02T18:42:47.661Z"
   },
   {
    "duration": 293,
    "start_time": "2024-05-02T18:43:48.326Z"
   },
   {
    "duration": 436,
    "start_time": "2024-05-02T18:44:45.766Z"
   },
   {
    "duration": 310,
    "start_time": "2024-05-02T18:44:52.741Z"
   },
   {
    "duration": 286,
    "start_time": "2024-05-02T18:45:59.815Z"
   },
   {
    "duration": 168,
    "start_time": "2024-05-02T18:49:04.757Z"
   },
   {
    "duration": 285,
    "start_time": "2024-05-02T18:49:09.477Z"
   },
   {
    "duration": 46,
    "start_time": "2024-05-02T18:52:38.111Z"
   },
   {
    "duration": 18,
    "start_time": "2024-05-02T19:16:11.987Z"
   },
   {
    "duration": 3,
    "start_time": "2024-05-02T19:16:24.780Z"
   },
   {
    "duration": 238,
    "start_time": "2024-05-02T19:16:24.785Z"
   },
   {
    "duration": 172,
    "start_time": "2024-05-02T19:16:25.024Z"
   },
   {
    "duration": 36,
    "start_time": "2024-05-02T19:16:25.198Z"
   },
   {
    "duration": 13,
    "start_time": "2024-05-02T19:16:25.236Z"
   },
   {
    "duration": 93,
    "start_time": "2024-05-02T19:16:25.251Z"
   },
   {
    "duration": 186,
    "start_time": "2024-05-02T19:16:25.346Z"
   },
   {
    "duration": 13,
    "start_time": "2024-05-02T19:16:25.534Z"
   },
   {
    "duration": 0,
    "start_time": "2024-05-02T19:16:25.549Z"
   },
   {
    "duration": 0,
    "start_time": "2024-05-02T19:16:25.550Z"
   },
   {
    "duration": 0,
    "start_time": "2024-05-02T19:16:25.551Z"
   },
   {
    "duration": 0,
    "start_time": "2024-05-02T19:16:25.552Z"
   },
   {
    "duration": 0,
    "start_time": "2024-05-02T19:16:25.553Z"
   },
   {
    "duration": 0,
    "start_time": "2024-05-02T19:16:25.554Z"
   },
   {
    "duration": 14,
    "start_time": "2024-05-02T19:17:13.157Z"
   },
   {
    "duration": 52,
    "start_time": "2024-05-02T19:17:16.317Z"
   },
   {
    "duration": 15,
    "start_time": "2024-05-02T19:17:24.900Z"
   },
   {
    "duration": 14,
    "start_time": "2024-05-02T19:17:32.771Z"
   },
   {
    "duration": 104,
    "start_time": "2024-05-02T19:17:57.608Z"
   },
   {
    "duration": 3,
    "start_time": "2024-05-02T19:18:04.052Z"
   },
   {
    "duration": 249,
    "start_time": "2024-05-02T19:18:04.057Z"
   },
   {
    "duration": 164,
    "start_time": "2024-05-02T19:18:04.307Z"
   },
   {
    "duration": 62,
    "start_time": "2024-05-02T19:18:04.473Z"
   },
   {
    "duration": 14,
    "start_time": "2024-05-02T19:18:04.536Z"
   },
   {
    "duration": 103,
    "start_time": "2024-05-02T19:18:04.552Z"
   },
   {
    "duration": 201,
    "start_time": "2024-05-02T19:18:04.657Z"
   },
   {
    "duration": 103,
    "start_time": "2024-05-02T19:18:04.860Z"
   },
   {
    "duration": 8,
    "start_time": "2024-05-02T19:18:04.965Z"
   },
   {
    "duration": 19,
    "start_time": "2024-05-02T19:18:04.975Z"
   },
   {
    "duration": 13,
    "start_time": "2024-05-02T19:18:04.995Z"
   },
   {
    "duration": 42,
    "start_time": "2024-05-02T19:18:05.009Z"
   },
   {
    "duration": 152,
    "start_time": "2024-05-02T19:18:05.052Z"
   },
   {
    "duration": 291,
    "start_time": "2024-05-02T19:18:05.206Z"
   },
   {
    "duration": 127,
    "start_time": "2024-05-02T19:19:32.546Z"
   },
   {
    "duration": 105,
    "start_time": "2024-05-02T19:19:36.999Z"
   },
   {
    "duration": 4,
    "start_time": "2024-05-02T19:20:24.245Z"
   },
   {
    "duration": 101,
    "start_time": "2024-05-02T19:21:51.689Z"
   },
   {
    "duration": 56,
    "start_time": "2024-05-02T19:22:57.881Z"
   },
   {
    "duration": 20,
    "start_time": "2024-05-02T19:23:03.975Z"
   },
   {
    "duration": 92,
    "start_time": "2024-05-02T19:23:13.862Z"
   },
   {
    "duration": 101,
    "start_time": "2024-05-02T19:23:16.372Z"
   },
   {
    "duration": 96,
    "start_time": "2024-05-02T19:23:22.970Z"
   },
   {
    "duration": 15,
    "start_time": "2024-05-02T19:23:48.709Z"
   },
   {
    "duration": 14,
    "start_time": "2024-05-02T19:24:47.195Z"
   },
   {
    "duration": 95,
    "start_time": "2024-05-02T19:24:50.757Z"
   },
   {
    "duration": 126,
    "start_time": "2024-05-02T19:24:57.807Z"
   },
   {
    "duration": 83,
    "start_time": "2024-05-02T19:25:03.659Z"
   },
   {
    "duration": 95,
    "start_time": "2024-05-02T19:25:08.306Z"
   },
   {
    "duration": 4,
    "start_time": "2024-05-02T19:25:11.595Z"
   },
   {
    "duration": 233,
    "start_time": "2024-05-02T19:25:11.601Z"
   },
   {
    "duration": 180,
    "start_time": "2024-05-02T19:25:11.836Z"
   },
   {
    "duration": 39,
    "start_time": "2024-05-02T19:25:12.018Z"
   },
   {
    "duration": 18,
    "start_time": "2024-05-02T19:25:12.072Z"
   },
   {
    "duration": 120,
    "start_time": "2024-05-02T19:25:12.091Z"
   },
   {
    "duration": 212,
    "start_time": "2024-05-02T19:25:12.213Z"
   },
   {
    "duration": 113,
    "start_time": "2024-05-02T19:25:12.427Z"
   },
   {
    "duration": 4,
    "start_time": "2024-05-02T19:25:12.543Z"
   },
   {
    "duration": 11,
    "start_time": "2024-05-02T19:25:12.549Z"
   },
   {
    "duration": 4,
    "start_time": "2024-05-02T19:25:12.573Z"
   },
   {
    "duration": 43,
    "start_time": "2024-05-02T19:25:12.579Z"
   },
   {
    "duration": 157,
    "start_time": "2024-05-02T19:25:12.623Z"
   },
   {
    "duration": 283,
    "start_time": "2024-05-02T19:25:12.781Z"
   },
   {
    "duration": 281,
    "start_time": "2024-05-02T19:28:24.506Z"
   },
   {
    "duration": 392,
    "start_time": "2024-05-02T19:28:44.697Z"
   },
   {
    "duration": 517,
    "start_time": "2024-05-02T19:29:16.274Z"
   },
   {
    "duration": 319,
    "start_time": "2024-05-02T19:29:25.699Z"
   },
   {
    "duration": 285,
    "start_time": "2024-05-02T19:29:35.365Z"
   },
   {
    "duration": 309,
    "start_time": "2024-05-02T19:29:41.628Z"
   },
   {
    "duration": 282,
    "start_time": "2024-05-02T19:29:48.793Z"
   },
   {
    "duration": 318,
    "start_time": "2024-05-02T19:30:08.117Z"
   },
   {
    "duration": 9,
    "start_time": "2024-05-02T19:40:09.123Z"
   },
   {
    "duration": 356,
    "start_time": "2024-05-02T19:40:18.640Z"
   },
   {
    "duration": 18,
    "start_time": "2024-05-02T19:40:29.370Z"
   },
   {
    "duration": 80,
    "start_time": "2024-05-02T19:58:28.174Z"
   },
   {
    "duration": 8,
    "start_time": "2024-05-02T19:58:42.149Z"
   },
   {
    "duration": 13,
    "start_time": "2024-05-02T20:03:45.401Z"
   },
   {
    "duration": 33,
    "start_time": "2024-05-02T20:04:08.141Z"
   },
   {
    "duration": 29,
    "start_time": "2024-05-02T20:04:42.035Z"
   },
   {
    "duration": 4,
    "start_time": "2024-05-02T20:04:52.146Z"
   },
   {
    "duration": 235,
    "start_time": "2024-05-02T20:04:52.152Z"
   },
   {
    "duration": 152,
    "start_time": "2024-05-02T20:04:52.389Z"
   },
   {
    "duration": 45,
    "start_time": "2024-05-02T20:04:52.543Z"
   },
   {
    "duration": 10,
    "start_time": "2024-05-02T20:04:52.589Z"
   },
   {
    "duration": 87,
    "start_time": "2024-05-02T20:04:52.601Z"
   },
   {
    "duration": 200,
    "start_time": "2024-05-02T20:04:52.690Z"
   },
   {
    "duration": 99,
    "start_time": "2024-05-02T20:04:52.892Z"
   },
   {
    "duration": 3,
    "start_time": "2024-05-02T20:04:52.993Z"
   },
   {
    "duration": 29,
    "start_time": "2024-05-02T20:04:52.998Z"
   },
   {
    "duration": 4,
    "start_time": "2024-05-02T20:04:53.029Z"
   },
   {
    "duration": 58,
    "start_time": "2024-05-02T20:04:53.035Z"
   },
   {
    "duration": 144,
    "start_time": "2024-05-02T20:04:53.095Z"
   },
   {
    "duration": 480,
    "start_time": "2024-05-02T20:04:53.241Z"
   },
   {
    "duration": 7,
    "start_time": "2024-05-02T20:04:53.723Z"
   },
   {
    "duration": 34,
    "start_time": "2024-05-02T20:04:53.732Z"
   },
   {
    "duration": 3,
    "start_time": "2024-05-02T20:13:03.121Z"
   },
   {
    "duration": 9,
    "start_time": "2024-05-02T20:13:08.918Z"
   },
   {
    "duration": 9,
    "start_time": "2024-05-02T20:13:18.993Z"
   },
   {
    "duration": 19,
    "start_time": "2024-05-02T20:13:26.615Z"
   },
   {
    "duration": 23,
    "start_time": "2024-05-02T20:13:30.656Z"
   },
   {
    "duration": 26,
    "start_time": "2024-05-02T20:13:54.536Z"
   },
   {
    "duration": 24,
    "start_time": "2024-05-02T20:13:57.736Z"
   },
   {
    "duration": 195,
    "start_time": "2024-05-02T20:15:00.910Z"
   },
   {
    "duration": 187,
    "start_time": "2024-05-02T20:16:41.059Z"
   },
   {
    "duration": 1862,
    "start_time": "2024-05-02T20:17:04.532Z"
   },
   {
    "duration": 335,
    "start_time": "2024-05-02T20:17:24.028Z"
   },
   {
    "duration": 321,
    "start_time": "2024-05-02T20:17:38.547Z"
   },
   {
    "duration": 168,
    "start_time": "2024-05-02T20:17:49.651Z"
   },
   {
    "duration": 179,
    "start_time": "2024-05-02T20:18:37.639Z"
   },
   {
    "duration": 7,
    "start_time": "2024-05-02T20:18:51.183Z"
   },
   {
    "duration": 7,
    "start_time": "2024-05-02T20:19:10.058Z"
   },
   {
    "duration": 56,
    "start_time": "2024-05-02T20:25:29.454Z"
   },
   {
    "duration": 33,
    "start_time": "2024-05-02T20:27:27.156Z"
   },
   {
    "duration": 34,
    "start_time": "2024-05-02T20:27:50.084Z"
   },
   {
    "duration": 187,
    "start_time": "2024-05-02T20:28:26.339Z"
   },
   {
    "duration": 196,
    "start_time": "2024-05-02T20:28:31.860Z"
   },
   {
    "duration": 42,
    "start_time": "2024-05-02T20:29:55.208Z"
   },
   {
    "duration": 51,
    "start_time": "2024-05-02T20:29:59.237Z"
   },
   {
    "duration": 20,
    "start_time": "2024-05-02T20:30:49.416Z"
   },
   {
    "duration": 23,
    "start_time": "2024-05-02T20:30:58.505Z"
   },
   {
    "duration": 26,
    "start_time": "2024-05-02T20:31:04.321Z"
   },
   {
    "duration": 43,
    "start_time": "2024-05-02T20:31:14.792Z"
   },
   {
    "duration": 35,
    "start_time": "2024-05-02T20:31:20.512Z"
   },
   {
    "duration": 165,
    "start_time": "2024-05-02T20:31:51.165Z"
   },
   {
    "duration": 169,
    "start_time": "2024-05-02T20:31:54.338Z"
   },
   {
    "duration": 35,
    "start_time": "2024-05-02T20:32:16.828Z"
   },
   {
    "duration": 40,
    "start_time": "2024-05-02T20:32:30.228Z"
   },
   {
    "duration": 34,
    "start_time": "2024-05-02T20:32:41.422Z"
   },
   {
    "duration": 37,
    "start_time": "2024-05-02T20:32:44.814Z"
   },
   {
    "duration": 35,
    "start_time": "2024-05-02T20:32:48.698Z"
   },
   {
    "duration": 43,
    "start_time": "2024-05-02T20:32:57.284Z"
   },
   {
    "duration": 77,
    "start_time": "2024-05-02T20:33:38.445Z"
   },
   {
    "duration": 143,
    "start_time": "2024-05-02T20:33:43.100Z"
   },
   {
    "duration": 147,
    "start_time": "2024-05-02T20:34:34.400Z"
   },
   {
    "duration": 151,
    "start_time": "2024-05-02T20:34:48.115Z"
   },
   {
    "duration": 184,
    "start_time": "2024-05-02T20:38:28.117Z"
   },
   {
    "duration": 173,
    "start_time": "2024-05-02T20:38:35.851Z"
   },
   {
    "duration": 156,
    "start_time": "2024-05-02T20:42:01.838Z"
   },
   {
    "duration": 172,
    "start_time": "2024-05-02T20:42:05.871Z"
   },
   {
    "duration": 169,
    "start_time": "2024-05-02T20:42:42.781Z"
   },
   {
    "duration": 21,
    "start_time": "2024-05-02T20:58:28.023Z"
   },
   {
    "duration": 80,
    "start_time": "2024-05-02T20:58:45.343Z"
   },
   {
    "duration": 78,
    "start_time": "2024-05-02T20:59:57.921Z"
   },
   {
    "duration": 115,
    "start_time": "2024-05-02T21:00:22.830Z"
   },
   {
    "duration": 80,
    "start_time": "2024-05-02T21:00:42.102Z"
   },
   {
    "duration": 76,
    "start_time": "2024-05-02T21:00:49.970Z"
   },
   {
    "duration": 72,
    "start_time": "2024-05-02T21:01:49.408Z"
   },
   {
    "duration": 73,
    "start_time": "2024-05-02T21:02:29.390Z"
   },
   {
    "duration": 91,
    "start_time": "2024-05-02T21:02:34.433Z"
   },
   {
    "duration": 89,
    "start_time": "2024-05-02T21:02:43.475Z"
   },
   {
    "duration": 79,
    "start_time": "2024-05-02T21:02:55.437Z"
   },
   {
    "duration": 84,
    "start_time": "2024-05-02T21:03:23.949Z"
   },
   {
    "duration": 224,
    "start_time": "2024-05-02T21:04:04.759Z"
   },
   {
    "duration": 346,
    "start_time": "2024-05-02T21:05:33.429Z"
   },
   {
    "duration": 215,
    "start_time": "2024-05-02T21:05:51.445Z"
   },
   {
    "duration": 212,
    "start_time": "2024-05-02T21:07:41.543Z"
   },
   {
    "duration": 182,
    "start_time": "2024-05-02T21:08:20.766Z"
   },
   {
    "duration": 147,
    "start_time": "2024-05-02T21:09:47.683Z"
   },
   {
    "duration": 0,
    "start_time": "2024-05-06T11:09:34.900Z"
   },
   {
    "duration": 0,
    "start_time": "2024-05-06T11:09:34.901Z"
   },
   {
    "duration": 0,
    "start_time": "2024-05-06T11:09:34.902Z"
   },
   {
    "duration": 0,
    "start_time": "2024-05-06T11:09:34.904Z"
   },
   {
    "duration": 0,
    "start_time": "2024-05-06T11:09:34.905Z"
   },
   {
    "duration": 0,
    "start_time": "2024-05-06T11:09:34.906Z"
   },
   {
    "duration": 0,
    "start_time": "2024-05-06T11:09:34.907Z"
   },
   {
    "duration": 0,
    "start_time": "2024-05-06T11:09:34.908Z"
   },
   {
    "duration": 0,
    "start_time": "2024-05-06T11:09:34.909Z"
   },
   {
    "duration": 0,
    "start_time": "2024-05-06T11:09:34.910Z"
   },
   {
    "duration": 0,
    "start_time": "2024-05-06T11:09:34.911Z"
   },
   {
    "duration": 0,
    "start_time": "2024-05-06T11:09:34.911Z"
   },
   {
    "duration": 0,
    "start_time": "2024-05-06T11:09:34.912Z"
   },
   {
    "duration": 0,
    "start_time": "2024-05-06T11:09:34.913Z"
   },
   {
    "duration": 0,
    "start_time": "2024-05-06T11:09:34.914Z"
   },
   {
    "duration": 0,
    "start_time": "2024-05-06T11:09:34.915Z"
   },
   {
    "duration": 0,
    "start_time": "2024-05-06T11:09:34.916Z"
   },
   {
    "duration": 0,
    "start_time": "2024-05-06T11:09:34.917Z"
   },
   {
    "duration": 0,
    "start_time": "2024-05-06T11:09:34.918Z"
   },
   {
    "duration": 0,
    "start_time": "2024-05-06T11:09:34.919Z"
   },
   {
    "duration": 0,
    "start_time": "2024-05-06T11:09:34.920Z"
   },
   {
    "duration": 0,
    "start_time": "2024-05-06T11:09:34.921Z"
   },
   {
    "duration": 1538,
    "start_time": "2024-05-06T11:09:38.675Z"
   },
   {
    "duration": 320,
    "start_time": "2024-05-06T11:09:40.216Z"
   },
   {
    "duration": 192,
    "start_time": "2024-05-06T11:09:40.537Z"
   },
   {
    "duration": 57,
    "start_time": "2024-05-06T11:09:40.732Z"
   },
   {
    "duration": 16,
    "start_time": "2024-05-06T11:09:40.791Z"
   },
   {
    "duration": 100,
    "start_time": "2024-05-06T11:09:40.809Z"
   },
   {
    "duration": 203,
    "start_time": "2024-05-06T11:09:40.911Z"
   },
   {
    "duration": 94,
    "start_time": "2024-05-06T11:09:41.115Z"
   },
   {
    "duration": 3,
    "start_time": "2024-05-06T11:09:41.210Z"
   },
   {
    "duration": 7,
    "start_time": "2024-05-06T11:09:41.215Z"
   },
   {
    "duration": 3,
    "start_time": "2024-05-06T11:09:41.223Z"
   },
   {
    "duration": 57,
    "start_time": "2024-05-06T11:09:41.227Z"
   },
   {
    "duration": 149,
    "start_time": "2024-05-06T11:09:41.285Z"
   },
   {
    "duration": 307,
    "start_time": "2024-05-06T11:09:41.436Z"
   },
   {
    "duration": 7,
    "start_time": "2024-05-06T11:09:41.744Z"
   },
   {
    "duration": 39,
    "start_time": "2024-05-06T11:09:41.752Z"
   },
   {
    "duration": 182,
    "start_time": "2024-05-06T11:09:41.793Z"
   },
   {
    "duration": 6,
    "start_time": "2024-05-06T11:09:41.977Z"
   },
   {
    "duration": 32,
    "start_time": "2024-05-06T11:09:41.984Z"
   },
   {
    "duration": 85,
    "start_time": "2024-05-06T11:09:42.018Z"
   },
   {
    "duration": 123,
    "start_time": "2024-05-06T11:09:42.104Z"
   },
   {
    "duration": 104,
    "start_time": "2024-05-06T11:09:42.229Z"
   },
   {
    "duration": 96,
    "start_time": "2024-05-06T11:12:38.153Z"
   },
   {
    "duration": 978,
    "start_time": "2024-05-06T11:23:10.357Z"
   },
   {
    "duration": 747,
    "start_time": "2024-05-06T11:23:34.344Z"
   },
   {
    "duration": 84,
    "start_time": "2024-05-06T11:24:15.083Z"
   },
   {
    "duration": 105,
    "start_time": "2024-05-06T11:24:30.763Z"
   },
   {
    "duration": 913,
    "start_time": "2024-05-06T11:34:01.641Z"
   },
   {
    "duration": 93,
    "start_time": "2024-05-06T11:34:19.077Z"
   },
   {
    "duration": 10,
    "start_time": "2024-05-06T11:37:57.977Z"
   },
   {
    "duration": 4,
    "start_time": "2024-05-06T11:38:10.237Z"
   },
   {
    "duration": 3,
    "start_time": "2024-05-06T11:38:19.990Z"
   },
   {
    "duration": 242,
    "start_time": "2024-05-06T11:38:19.995Z"
   },
   {
    "duration": 167,
    "start_time": "2024-05-06T11:38:20.239Z"
   },
   {
    "duration": 34,
    "start_time": "2024-05-06T11:38:20.408Z"
   },
   {
    "duration": 24,
    "start_time": "2024-05-06T11:38:20.444Z"
   },
   {
    "duration": 64,
    "start_time": "2024-05-06T11:38:20.470Z"
   },
   {
    "duration": 175,
    "start_time": "2024-05-06T11:38:20.536Z"
   },
   {
    "duration": 91,
    "start_time": "2024-05-06T11:38:20.712Z"
   },
   {
    "duration": 4,
    "start_time": "2024-05-06T11:38:20.804Z"
   },
   {
    "duration": 20,
    "start_time": "2024-05-06T11:38:20.809Z"
   },
   {
    "duration": 4,
    "start_time": "2024-05-06T11:38:20.832Z"
   },
   {
    "duration": 40,
    "start_time": "2024-05-06T11:38:20.837Z"
   },
   {
    "duration": 134,
    "start_time": "2024-05-06T11:38:20.878Z"
   },
   {
    "duration": 269,
    "start_time": "2024-05-06T11:38:21.014Z"
   },
   {
    "duration": 8,
    "start_time": "2024-05-06T11:38:21.285Z"
   },
   {
    "duration": 21,
    "start_time": "2024-05-06T11:38:21.295Z"
   },
   {
    "duration": 186,
    "start_time": "2024-05-06T11:38:21.318Z"
   },
   {
    "duration": 7,
    "start_time": "2024-05-06T11:38:21.506Z"
   },
   {
    "duration": 69,
    "start_time": "2024-05-06T11:38:21.515Z"
   },
   {
    "duration": 66,
    "start_time": "2024-05-06T11:38:21.586Z"
   },
   {
    "duration": 131,
    "start_time": "2024-05-06T11:38:21.653Z"
   },
   {
    "duration": 203,
    "start_time": "2024-05-06T11:38:21.787Z"
   },
   {
    "duration": 4,
    "start_time": "2024-05-06T11:51:54.106Z"
   },
   {
    "duration": 4,
    "start_time": "2024-05-06T11:52:05.611Z"
   },
   {
    "duration": 4,
    "start_time": "2024-05-06T11:52:43.347Z"
   },
   {
    "duration": 10,
    "start_time": "2024-05-06T11:53:03.263Z"
   },
   {
    "duration": 9,
    "start_time": "2024-05-06T11:53:09.366Z"
   },
   {
    "duration": 10,
    "start_time": "2024-05-06T11:53:19.833Z"
   },
   {
    "duration": 4,
    "start_time": "2024-05-06T11:53:29.969Z"
   },
   {
    "duration": 161,
    "start_time": "2024-05-06T12:06:03.674Z"
   },
   {
    "duration": 21,
    "start_time": "2024-05-06T12:07:04.253Z"
   },
   {
    "duration": 50,
    "start_time": "2024-05-06T12:07:35.575Z"
   },
   {
    "duration": 20,
    "start_time": "2024-05-06T12:43:29.725Z"
   },
   {
    "duration": 20,
    "start_time": "2024-05-06T12:43:44.576Z"
   },
   {
    "duration": 33,
    "start_time": "2024-05-06T12:43:52.537Z"
   },
   {
    "duration": 29,
    "start_time": "2024-05-06T12:44:20.311Z"
   },
   {
    "duration": 106,
    "start_time": "2024-05-06T12:44:38.010Z"
   },
   {
    "duration": 39,
    "start_time": "2024-05-06T12:44:52.416Z"
   },
   {
    "duration": 54,
    "start_time": "2024-05-06T12:45:08.454Z"
   },
   {
    "duration": 53,
    "start_time": "2024-05-06T12:45:17.962Z"
   },
   {
    "duration": 47,
    "start_time": "2024-05-06T12:47:54.835Z"
   },
   {
    "duration": 49,
    "start_time": "2024-05-06T12:48:03.099Z"
   },
   {
    "duration": 50,
    "start_time": "2024-05-06T12:48:45.529Z"
   },
   {
    "duration": 31,
    "start_time": "2024-05-06T12:49:22.186Z"
   },
   {
    "duration": 34,
    "start_time": "2024-05-06T12:49:34.652Z"
   },
   {
    "duration": 60,
    "start_time": "2024-05-06T12:49:50.062Z"
   },
   {
    "duration": 9,
    "start_time": "2024-05-06T12:53:21.616Z"
   },
   {
    "duration": 26,
    "start_time": "2024-05-06T12:54:59.075Z"
   },
   {
    "duration": 57,
    "start_time": "2024-05-06T12:55:06.684Z"
   },
   {
    "duration": 50,
    "start_time": "2024-05-06T12:56:10.591Z"
   },
   {
    "duration": 4,
    "start_time": "2024-05-06T13:00:25.277Z"
   },
   {
    "duration": 214,
    "start_time": "2024-05-06T13:00:25.284Z"
   },
   {
    "duration": 140,
    "start_time": "2024-05-06T13:00:25.500Z"
   },
   {
    "duration": 40,
    "start_time": "2024-05-06T13:00:25.641Z"
   },
   {
    "duration": 10,
    "start_time": "2024-05-06T13:00:25.683Z"
   },
   {
    "duration": 80,
    "start_time": "2024-05-06T13:00:25.695Z"
   },
   {
    "duration": 201,
    "start_time": "2024-05-06T13:00:25.777Z"
   },
   {
    "duration": 112,
    "start_time": "2024-05-06T13:00:25.979Z"
   },
   {
    "duration": 3,
    "start_time": "2024-05-06T13:00:26.093Z"
   },
   {
    "duration": 8,
    "start_time": "2024-05-06T13:00:26.098Z"
   },
   {
    "duration": 3,
    "start_time": "2024-05-06T13:00:26.109Z"
   },
   {
    "duration": 54,
    "start_time": "2024-05-06T13:00:26.113Z"
   },
   {
    "duration": 147,
    "start_time": "2024-05-06T13:00:26.169Z"
   },
   {
    "duration": 297,
    "start_time": "2024-05-06T13:00:26.318Z"
   },
   {
    "duration": 9,
    "start_time": "2024-05-06T13:00:26.617Z"
   },
   {
    "duration": 39,
    "start_time": "2024-05-06T13:00:26.627Z"
   },
   {
    "duration": 171,
    "start_time": "2024-05-06T13:00:26.668Z"
   },
   {
    "duration": 7,
    "start_time": "2024-05-06T13:00:26.841Z"
   },
   {
    "duration": 37,
    "start_time": "2024-05-06T13:00:26.861Z"
   },
   {
    "duration": 82,
    "start_time": "2024-05-06T13:00:26.900Z"
   },
   {
    "duration": 155,
    "start_time": "2024-05-06T13:00:26.983Z"
   },
   {
    "duration": 102,
    "start_time": "2024-05-06T13:00:27.139Z"
   },
   {
    "duration": 3,
    "start_time": "2024-05-06T13:00:27.243Z"
   },
   {
    "duration": 55,
    "start_time": "2024-05-06T13:00:27.248Z"
   },
   {
    "duration": 56,
    "start_time": "2024-05-06T13:00:27.305Z"
   },
   {
    "duration": 54,
    "start_time": "2024-05-06T13:00:27.363Z"
   },
   {
    "duration": 64,
    "start_time": "2024-05-06T13:00:27.419Z"
   },
   {
    "duration": 7,
    "start_time": "2024-05-06T13:28:39.891Z"
   },
   {
    "duration": 129,
    "start_time": "2024-05-06T13:39:14.462Z"
   },
   {
    "duration": 92,
    "start_time": "2024-05-06T13:39:44.134Z"
   },
   {
    "duration": 48,
    "start_time": "2024-05-06T13:43:01.862Z"
   },
   {
    "duration": 105,
    "start_time": "2024-05-06T13:43:05.657Z"
   },
   {
    "duration": 106,
    "start_time": "2024-05-06T13:43:16.987Z"
   },
   {
    "duration": 103,
    "start_time": "2024-05-06T13:44:27.108Z"
   },
   {
    "duration": 97,
    "start_time": "2024-05-06T13:44:43.844Z"
   },
   {
    "duration": 96,
    "start_time": "2024-05-06T13:48:11.042Z"
   },
   {
    "duration": 99,
    "start_time": "2024-05-06T13:48:21.088Z"
   },
   {
    "duration": 97,
    "start_time": "2024-05-06T13:48:32.099Z"
   },
   {
    "duration": 48,
    "start_time": "2024-05-06T13:50:08.435Z"
   },
   {
    "duration": 46,
    "start_time": "2024-05-06T13:50:13.759Z"
   },
   {
    "duration": 103,
    "start_time": "2024-05-06T13:50:46.860Z"
   },
   {
    "duration": 873,
    "start_time": "2024-05-06T13:50:58.187Z"
   },
   {
    "duration": 100,
    "start_time": "2024-05-06T13:51:10.841Z"
   },
   {
    "duration": 106,
    "start_time": "2024-05-06T13:51:31.826Z"
   },
   {
    "duration": 93,
    "start_time": "2024-05-06T13:51:41.654Z"
   },
   {
    "duration": 94,
    "start_time": "2024-05-06T13:52:11.728Z"
   },
   {
    "duration": 97,
    "start_time": "2024-05-06T13:52:35.599Z"
   },
   {
    "duration": 97,
    "start_time": "2024-05-06T13:53:02.597Z"
   },
   {
    "duration": 100,
    "start_time": "2024-05-06T13:53:06.403Z"
   },
   {
    "duration": 110,
    "start_time": "2024-05-06T13:56:45.802Z"
   },
   {
    "duration": 100,
    "start_time": "2024-05-06T13:56:55.437Z"
   },
   {
    "duration": 102,
    "start_time": "2024-05-06T13:57:25.695Z"
   },
   {
    "duration": 44,
    "start_time": "2024-05-06T13:57:40.210Z"
   },
   {
    "duration": 90,
    "start_time": "2024-05-06T13:57:47.603Z"
   },
   {
    "duration": 643,
    "start_time": "2024-05-06T13:57:55.171Z"
   },
   {
    "duration": 92,
    "start_time": "2024-05-06T13:58:09.742Z"
   },
   {
    "duration": 93,
    "start_time": "2024-05-06T13:58:33.442Z"
   },
   {
    "duration": 90,
    "start_time": "2024-05-06T13:58:50.287Z"
   },
   {
    "duration": 130,
    "start_time": "2024-05-06T14:00:15.092Z"
   },
   {
    "duration": 112,
    "start_time": "2024-05-06T14:01:19.048Z"
   },
   {
    "duration": 115,
    "start_time": "2024-05-06T14:01:24.506Z"
   },
   {
    "duration": 850,
    "start_time": "2024-05-06T14:01:45.325Z"
   },
   {
    "duration": 3,
    "start_time": "2024-05-06T14:01:55.629Z"
   },
   {
    "duration": 5,
    "start_time": "2024-05-06T14:02:00.421Z"
   },
   {
    "duration": 4,
    "start_time": "2024-05-06T14:03:10.826Z"
   },
   {
    "duration": 7,
    "start_time": "2024-05-06T14:03:14.894Z"
   },
   {
    "duration": 4,
    "start_time": "2024-05-06T14:03:32.907Z"
   },
   {
    "duration": 4,
    "start_time": "2024-05-06T14:03:58.599Z"
   },
   {
    "duration": 9,
    "start_time": "2024-05-06T14:18:09.760Z"
   },
   {
    "duration": 5,
    "start_time": "2024-05-06T14:18:33.811Z"
   },
   {
    "duration": 12,
    "start_time": "2024-05-06T14:18:36.559Z"
   },
   {
    "duration": 12,
    "start_time": "2024-05-06T14:18:58.223Z"
   },
   {
    "duration": 3,
    "start_time": "2024-05-06T14:19:19.655Z"
   },
   {
    "duration": 5,
    "start_time": "2024-05-06T14:19:29.346Z"
   },
   {
    "duration": 12,
    "start_time": "2024-05-06T14:19:31.024Z"
   },
   {
    "duration": 5,
    "start_time": "2024-05-06T14:19:41.633Z"
   },
   {
    "duration": 12,
    "start_time": "2024-05-06T14:19:43.397Z"
   },
   {
    "duration": 5,
    "start_time": "2024-05-06T14:20:09.151Z"
   },
   {
    "duration": 10,
    "start_time": "2024-05-06T14:20:11.356Z"
   },
   {
    "duration": 9,
    "start_time": "2024-05-06T14:22:33.365Z"
   },
   {
    "duration": 13,
    "start_time": "2024-05-06T14:25:48.463Z"
   },
   {
    "duration": 6,
    "start_time": "2024-05-06T14:28:43.626Z"
   },
   {
    "duration": 10,
    "start_time": "2024-05-06T14:28:48.376Z"
   },
   {
    "duration": 47,
    "start_time": "2024-05-06T18:58:05.274Z"
   },
   {
    "duration": 1391,
    "start_time": "2024-05-06T18:58:08.984Z"
   },
   {
    "duration": 359,
    "start_time": "2024-05-06T18:58:10.377Z"
   },
   {
    "duration": 176,
    "start_time": "2024-05-06T18:58:10.737Z"
   },
   {
    "duration": 51,
    "start_time": "2024-05-06T18:58:10.915Z"
   },
   {
    "duration": 15,
    "start_time": "2024-05-06T18:58:10.968Z"
   },
   {
    "duration": 100,
    "start_time": "2024-05-06T18:58:10.985Z"
   },
   {
    "duration": 201,
    "start_time": "2024-05-06T18:58:11.087Z"
   },
   {
    "duration": 101,
    "start_time": "2024-05-06T18:58:11.289Z"
   },
   {
    "duration": 5,
    "start_time": "2024-05-06T18:58:11.391Z"
   },
   {
    "duration": 16,
    "start_time": "2024-05-06T18:58:11.399Z"
   },
   {
    "duration": 5,
    "start_time": "2024-05-06T18:58:11.416Z"
   },
   {
    "duration": 69,
    "start_time": "2024-05-06T18:58:11.423Z"
   },
   {
    "duration": 147,
    "start_time": "2024-05-06T18:58:11.494Z"
   },
   {
    "duration": 316,
    "start_time": "2024-05-06T18:58:11.646Z"
   },
   {
    "duration": 7,
    "start_time": "2024-05-06T18:58:11.964Z"
   },
   {
    "duration": 27,
    "start_time": "2024-05-06T18:58:11.972Z"
   },
   {
    "duration": 180,
    "start_time": "2024-05-06T18:58:12.001Z"
   },
   {
    "duration": 7,
    "start_time": "2024-05-06T18:58:12.183Z"
   },
   {
    "duration": 47,
    "start_time": "2024-05-06T18:58:12.192Z"
   },
   {
    "duration": 78,
    "start_time": "2024-05-06T18:58:12.240Z"
   },
   {
    "duration": 154,
    "start_time": "2024-05-06T18:58:12.320Z"
   },
   {
    "duration": 108,
    "start_time": "2024-05-06T18:58:12.476Z"
   },
   {
    "duration": 4,
    "start_time": "2024-05-06T18:58:12.586Z"
   },
   {
    "duration": 109,
    "start_time": "2024-05-06T18:58:12.592Z"
   },
   {
    "duration": 83,
    "start_time": "2024-05-06T18:58:12.703Z"
   },
   {
    "duration": 75,
    "start_time": "2024-05-06T18:58:12.789Z"
   },
   {
    "duration": 52,
    "start_time": "2024-05-06T18:58:12.866Z"
   },
   {
    "duration": 127,
    "start_time": "2024-05-06T18:58:12.921Z"
   },
   {
    "duration": 9,
    "start_time": "2024-05-06T18:58:13.050Z"
   },
   {
    "duration": 16,
    "start_time": "2024-05-06T18:58:13.060Z"
   },
   {
    "duration": 12,
    "start_time": "2024-05-06T18:58:13.079Z"
   },
   {
    "duration": 15,
    "start_time": "2024-05-06T18:58:23.574Z"
   },
   {
    "duration": 9,
    "start_time": "2024-05-06T18:58:36.420Z"
   },
   {
    "duration": 9,
    "start_time": "2024-05-06T18:58:42.289Z"
   },
   {
    "duration": 15,
    "start_time": "2024-05-06T18:58:59.331Z"
   },
   {
    "duration": 14,
    "start_time": "2024-05-06T18:59:06.003Z"
   },
   {
    "duration": 10,
    "start_time": "2024-05-06T18:59:08.968Z"
   },
   {
    "duration": 5,
    "start_time": "2024-05-06T19:04:50.201Z"
   },
   {
    "duration": 13,
    "start_time": "2024-05-06T19:04:54.741Z"
   },
   {
    "duration": 15,
    "start_time": "2024-05-06T19:05:52.756Z"
   },
   {
    "duration": 3,
    "start_time": "2024-05-06T19:06:12.272Z"
   },
   {
    "duration": 219,
    "start_time": "2024-05-06T19:06:12.277Z"
   },
   {
    "duration": 154,
    "start_time": "2024-05-06T19:06:12.498Z"
   },
   {
    "duration": 35,
    "start_time": "2024-05-06T19:06:12.659Z"
   },
   {
    "duration": 10,
    "start_time": "2024-05-06T19:06:12.695Z"
   },
   {
    "duration": 93,
    "start_time": "2024-05-06T19:06:12.706Z"
   },
   {
    "duration": 210,
    "start_time": "2024-05-06T19:06:12.801Z"
   },
   {
    "duration": 105,
    "start_time": "2024-05-06T19:06:13.013Z"
   },
   {
    "duration": 4,
    "start_time": "2024-05-06T19:06:13.121Z"
   },
   {
    "duration": 25,
    "start_time": "2024-05-06T19:06:13.126Z"
   },
   {
    "duration": 6,
    "start_time": "2024-05-06T19:06:13.155Z"
   },
   {
    "duration": 40,
    "start_time": "2024-05-06T19:06:13.163Z"
   },
   {
    "duration": 135,
    "start_time": "2024-05-06T19:06:13.205Z"
   },
   {
    "duration": 309,
    "start_time": "2024-05-06T19:06:13.346Z"
   },
   {
    "duration": 8,
    "start_time": "2024-05-06T19:06:13.657Z"
   },
   {
    "duration": 23,
    "start_time": "2024-05-06T19:06:13.666Z"
   },
   {
    "duration": 189,
    "start_time": "2024-05-06T19:06:13.690Z"
   },
   {
    "duration": 6,
    "start_time": "2024-05-06T19:06:13.881Z"
   },
   {
    "duration": 33,
    "start_time": "2024-05-06T19:06:13.889Z"
   },
   {
    "duration": 99,
    "start_time": "2024-05-06T19:06:13.924Z"
   },
   {
    "duration": 143,
    "start_time": "2024-05-06T19:06:14.024Z"
   },
   {
    "duration": 188,
    "start_time": "2024-05-06T19:06:14.169Z"
   },
   {
    "duration": 5,
    "start_time": "2024-05-06T19:06:14.358Z"
   },
   {
    "duration": 49,
    "start_time": "2024-05-06T19:06:14.367Z"
   },
   {
    "duration": 63,
    "start_time": "2024-05-06T19:06:14.418Z"
   },
   {
    "duration": 65,
    "start_time": "2024-05-06T19:06:14.482Z"
   },
   {
    "duration": 52,
    "start_time": "2024-05-06T19:06:14.550Z"
   },
   {
    "duration": 127,
    "start_time": "2024-05-06T19:06:14.603Z"
   },
   {
    "duration": 5,
    "start_time": "2024-05-06T19:06:14.732Z"
   },
   {
    "duration": 18,
    "start_time": "2024-05-06T19:06:14.744Z"
   },
   {
    "duration": 19,
    "start_time": "2024-05-06T19:06:14.764Z"
   },
   {
    "duration": 9,
    "start_time": "2024-05-06T19:06:14.785Z"
   },
   {
    "duration": 27,
    "start_time": "2024-05-06T19:06:14.795Z"
   },
   {
    "duration": 10,
    "start_time": "2024-05-06T19:07:11.212Z"
   },
   {
    "duration": 3,
    "start_time": "2024-05-06T19:18:31.879Z"
   },
   {
    "duration": 254,
    "start_time": "2024-05-06T19:18:31.886Z"
   },
   {
    "duration": 133,
    "start_time": "2024-05-06T19:18:32.145Z"
   },
   {
    "duration": 32,
    "start_time": "2024-05-06T19:18:32.280Z"
   },
   {
    "duration": 32,
    "start_time": "2024-05-06T19:18:32.314Z"
   },
   {
    "duration": 65,
    "start_time": "2024-05-06T19:18:32.348Z"
   },
   {
    "duration": 177,
    "start_time": "2024-05-06T19:18:32.415Z"
   },
   {
    "duration": 106,
    "start_time": "2024-05-06T19:18:32.593Z"
   },
   {
    "duration": 3,
    "start_time": "2024-05-06T19:18:32.701Z"
   },
   {
    "duration": 6,
    "start_time": "2024-05-06T19:18:32.706Z"
   },
   {
    "duration": 3,
    "start_time": "2024-05-06T19:18:32.715Z"
   },
   {
    "duration": 52,
    "start_time": "2024-05-06T19:18:32.719Z"
   },
   {
    "duration": 137,
    "start_time": "2024-05-06T19:18:32.773Z"
   },
   {
    "duration": 277,
    "start_time": "2024-05-06T19:18:32.911Z"
   },
   {
    "duration": 6,
    "start_time": "2024-05-06T19:18:33.190Z"
   },
   {
    "duration": 24,
    "start_time": "2024-05-06T19:18:33.198Z"
   },
   {
    "duration": 164,
    "start_time": "2024-05-06T19:18:33.224Z"
   },
   {
    "duration": 6,
    "start_time": "2024-05-06T19:18:33.390Z"
   },
   {
    "duration": 36,
    "start_time": "2024-05-06T19:18:33.397Z"
   },
   {
    "duration": 74,
    "start_time": "2024-05-06T19:18:33.445Z"
   },
   {
    "duration": 131,
    "start_time": "2024-05-06T19:18:33.520Z"
   },
   {
    "duration": 100,
    "start_time": "2024-05-06T19:18:33.653Z"
   },
   {
    "duration": 4,
    "start_time": "2024-05-06T19:18:33.754Z"
   },
   {
    "duration": 47,
    "start_time": "2024-05-06T19:18:33.759Z"
   },
   {
    "duration": 54,
    "start_time": "2024-05-06T19:18:33.808Z"
   },
   {
    "duration": 52,
    "start_time": "2024-05-06T19:18:33.864Z"
   },
   {
    "duration": 70,
    "start_time": "2024-05-06T19:18:33.917Z"
   },
   {
    "duration": 138,
    "start_time": "2024-05-06T19:18:33.989Z"
   },
   {
    "duration": 7,
    "start_time": "2024-05-06T19:18:34.130Z"
   },
   {
    "duration": 12,
    "start_time": "2024-05-06T19:18:34.146Z"
   },
   {
    "duration": 11,
    "start_time": "2024-05-06T19:18:34.159Z"
   },
   {
    "duration": 10,
    "start_time": "2024-05-06T19:18:34.171Z"
   },
   {
    "duration": 9,
    "start_time": "2024-05-06T19:18:34.182Z"
   },
   {
    "duration": 16,
    "start_time": "2024-05-06T19:18:34.192Z"
   },
   {
    "duration": 9,
    "start_time": "2024-05-06T19:31:22.082Z"
   },
   {
    "duration": 9,
    "start_time": "2024-05-06T19:31:27.023Z"
   },
   {
    "duration": 8,
    "start_time": "2024-05-06T19:31:34.005Z"
   },
   {
    "duration": 11,
    "start_time": "2024-05-06T19:31:36.461Z"
   },
   {
    "duration": 10,
    "start_time": "2024-05-06T19:31:41.589Z"
   },
   {
    "duration": 11,
    "start_time": "2024-05-06T19:31:49.683Z"
   },
   {
    "duration": 21,
    "start_time": "2024-05-06T19:31:53.527Z"
   },
   {
    "duration": 11,
    "start_time": "2024-05-06T19:32:03.136Z"
   },
   {
    "duration": 1403,
    "start_time": "2024-05-07T08:38:11.468Z"
   },
   {
    "duration": 888,
    "start_time": "2024-05-07T08:38:12.874Z"
   },
   {
    "duration": 181,
    "start_time": "2024-05-07T08:38:13.764Z"
   },
   {
    "duration": 51,
    "start_time": "2024-05-07T08:38:13.947Z"
   },
   {
    "duration": 17,
    "start_time": "2024-05-07T08:38:14.000Z"
   },
   {
    "duration": 103,
    "start_time": "2024-05-07T08:38:14.019Z"
   },
   {
    "duration": 198,
    "start_time": "2024-05-07T08:38:14.124Z"
   },
   {
    "duration": 104,
    "start_time": "2024-05-07T08:38:14.324Z"
   },
   {
    "duration": 4,
    "start_time": "2024-05-07T08:38:14.429Z"
   },
   {
    "duration": 9,
    "start_time": "2024-05-07T08:38:14.435Z"
   },
   {
    "duration": 18,
    "start_time": "2024-05-07T08:38:14.445Z"
   },
   {
    "duration": 52,
    "start_time": "2024-05-07T08:38:14.465Z"
   },
   {
    "duration": 157,
    "start_time": "2024-05-07T08:38:14.519Z"
   },
   {
    "duration": 335,
    "start_time": "2024-05-07T08:38:14.678Z"
   },
   {
    "duration": 9,
    "start_time": "2024-05-07T08:38:15.015Z"
   },
   {
    "duration": 63,
    "start_time": "2024-05-07T08:38:15.026Z"
   },
   {
    "duration": 203,
    "start_time": "2024-05-07T08:38:15.092Z"
   },
   {
    "duration": 7,
    "start_time": "2024-05-07T08:38:15.297Z"
   },
   {
    "duration": 77,
    "start_time": "2024-05-07T08:38:15.305Z"
   },
   {
    "duration": 91,
    "start_time": "2024-05-07T08:38:15.383Z"
   },
   {
    "duration": 139,
    "start_time": "2024-05-07T08:38:15.476Z"
   },
   {
    "duration": 115,
    "start_time": "2024-05-07T08:38:15.617Z"
   },
   {
    "duration": 4,
    "start_time": "2024-05-07T08:38:15.733Z"
   },
   {
    "duration": 72,
    "start_time": "2024-05-07T08:38:15.738Z"
   },
   {
    "duration": 50,
    "start_time": "2024-05-07T08:38:15.812Z"
   },
   {
    "duration": 58,
    "start_time": "2024-05-07T08:38:15.874Z"
   },
   {
    "duration": 78,
    "start_time": "2024-05-07T08:38:15.934Z"
   },
   {
    "duration": 145,
    "start_time": "2024-05-07T08:38:16.016Z"
   },
   {
    "duration": 11,
    "start_time": "2024-05-07T08:38:16.163Z"
   },
   {
    "duration": 26,
    "start_time": "2024-05-07T08:38:16.176Z"
   },
   {
    "duration": 11,
    "start_time": "2024-05-07T08:38:16.205Z"
   },
   {
    "duration": 30,
    "start_time": "2024-05-07T08:38:16.218Z"
   },
   {
    "duration": 90,
    "start_time": "2024-05-07T08:38:16.250Z"
   },
   {
    "duration": 49,
    "start_time": "2024-05-07T08:38:16.342Z"
   },
   {
    "duration": 219,
    "start_time": "2024-05-07T09:03:13.571Z"
   },
   {
    "duration": 198,
    "start_time": "2024-05-07T09:03:31.025Z"
   },
   {
    "duration": 24,
    "start_time": "2024-05-07T11:29:29.533Z"
   },
   {
    "duration": 504,
    "start_time": "2024-05-07T11:29:29.559Z"
   },
   {
    "duration": 264,
    "start_time": "2024-05-07T11:29:30.066Z"
   },
   {
    "duration": 62,
    "start_time": "2024-05-07T11:29:30.332Z"
   },
   {
    "duration": 23,
    "start_time": "2024-05-07T11:29:30.396Z"
   },
   {
    "duration": 239,
    "start_time": "2024-05-07T11:29:30.421Z"
   },
   {
    "duration": 206,
    "start_time": "2024-05-07T11:29:30.661Z"
   },
   {
    "duration": 113,
    "start_time": "2024-05-07T11:29:30.869Z"
   },
   {
    "duration": 5,
    "start_time": "2024-05-07T11:29:30.985Z"
   },
   {
    "duration": 157,
    "start_time": "2024-05-07T11:29:30.992Z"
   },
   {
    "duration": 68,
    "start_time": "2024-05-07T11:29:31.151Z"
   },
   {
    "duration": 143,
    "start_time": "2024-05-07T11:29:31.221Z"
   },
   {
    "duration": 245,
    "start_time": "2024-05-07T11:29:31.366Z"
   },
   {
    "duration": 328,
    "start_time": "2024-05-07T11:29:31.614Z"
   },
   {
    "duration": 9,
    "start_time": "2024-05-07T11:29:31.944Z"
   },
   {
    "duration": 51,
    "start_time": "2024-05-07T11:29:31.955Z"
   },
   {
    "duration": 221,
    "start_time": "2024-05-07T11:29:32.007Z"
   },
   {
    "duration": 7,
    "start_time": "2024-05-07T11:29:32.229Z"
   },
   {
    "duration": 69,
    "start_time": "2024-05-07T11:29:32.238Z"
   },
   {
    "duration": 80,
    "start_time": "2024-05-07T11:29:32.308Z"
   },
   {
    "duration": 142,
    "start_time": "2024-05-07T11:29:32.390Z"
   },
   {
    "duration": 192,
    "start_time": "2024-05-07T11:29:32.533Z"
   },
   {
    "duration": 4,
    "start_time": "2024-05-07T11:29:32.727Z"
   },
   {
    "duration": 83,
    "start_time": "2024-05-07T11:29:32.732Z"
   },
   {
    "duration": 56,
    "start_time": "2024-05-07T11:29:32.817Z"
   },
   {
    "duration": 64,
    "start_time": "2024-05-07T11:29:32.875Z"
   },
   {
    "duration": 75,
    "start_time": "2024-05-07T11:29:32.942Z"
   },
   {
    "duration": 131,
    "start_time": "2024-05-07T11:29:33.019Z"
   },
   {
    "duration": 8,
    "start_time": "2024-05-07T11:29:33.152Z"
   },
   {
    "duration": 26,
    "start_time": "2024-05-07T11:29:33.177Z"
   },
   {
    "duration": 48,
    "start_time": "2024-05-07T11:29:33.205Z"
   },
   {
    "duration": 14,
    "start_time": "2024-05-07T11:29:33.255Z"
   },
   {
    "duration": 24,
    "start_time": "2024-05-07T11:29:33.271Z"
   },
   {
    "duration": 33,
    "start_time": "2024-05-07T11:29:33.297Z"
   },
   {
    "duration": 4,
    "start_time": "2024-05-07T11:40:42.538Z"
   },
   {
    "duration": 242,
    "start_time": "2024-05-07T11:40:42.547Z"
   },
   {
    "duration": 177,
    "start_time": "2024-05-07T11:40:42.791Z"
   },
   {
    "duration": 37,
    "start_time": "2024-05-07T11:40:42.973Z"
   },
   {
    "duration": 13,
    "start_time": "2024-05-07T11:40:43.012Z"
   },
   {
    "duration": 96,
    "start_time": "2024-05-07T11:40:43.026Z"
   },
   {
    "duration": 186,
    "start_time": "2024-05-07T11:40:43.123Z"
   },
   {
    "duration": 103,
    "start_time": "2024-05-07T11:40:43.311Z"
   },
   {
    "duration": 4,
    "start_time": "2024-05-07T11:40:43.416Z"
   },
   {
    "duration": 26,
    "start_time": "2024-05-07T11:40:43.422Z"
   },
   {
    "duration": 10,
    "start_time": "2024-05-07T11:40:43.452Z"
   },
   {
    "duration": 45,
    "start_time": "2024-05-07T11:40:43.463Z"
   },
   {
    "duration": 165,
    "start_time": "2024-05-07T11:40:43.509Z"
   },
   {
    "duration": 371,
    "start_time": "2024-05-07T11:40:43.676Z"
   },
   {
    "duration": 9,
    "start_time": "2024-05-07T11:40:44.050Z"
   },
   {
    "duration": 32,
    "start_time": "2024-05-07T11:40:44.075Z"
   },
   {
    "duration": 232,
    "start_time": "2024-05-07T11:40:44.109Z"
   },
   {
    "duration": 7,
    "start_time": "2024-05-07T11:40:44.343Z"
   },
   {
    "duration": 52,
    "start_time": "2024-05-07T11:40:44.352Z"
   },
   {
    "duration": 94,
    "start_time": "2024-05-07T11:40:44.406Z"
   },
   {
    "duration": 143,
    "start_time": "2024-05-07T11:40:44.502Z"
   },
   {
    "duration": 108,
    "start_time": "2024-05-07T11:40:44.646Z"
   },
   {
    "duration": 5,
    "start_time": "2024-05-07T11:40:44.755Z"
   },
   {
    "duration": 69,
    "start_time": "2024-05-07T11:40:44.773Z"
   },
   {
    "duration": 58,
    "start_time": "2024-05-07T11:40:44.844Z"
   },
   {
    "duration": 71,
    "start_time": "2024-05-07T11:40:44.903Z"
   },
   {
    "duration": 68,
    "start_time": "2024-05-07T11:40:44.976Z"
   },
   {
    "duration": 146,
    "start_time": "2024-05-07T11:40:45.045Z"
   },
   {
    "duration": 5,
    "start_time": "2024-05-07T11:40:45.196Z"
   },
   {
    "duration": 34,
    "start_time": "2024-05-07T11:40:45.204Z"
   },
   {
    "duration": 51,
    "start_time": "2024-05-07T11:40:45.242Z"
   },
   {
    "duration": 57,
    "start_time": "2024-05-07T11:40:45.295Z"
   },
   {
    "duration": 41,
    "start_time": "2024-05-07T11:40:45.353Z"
   },
   {
    "duration": 70,
    "start_time": "2024-05-07T11:40:45.396Z"
   },
   {
    "duration": 7,
    "start_time": "2024-05-07T11:41:30.007Z"
   },
   {
    "duration": 4,
    "start_time": "2024-05-07T11:41:34.271Z"
   },
   {
    "duration": 294,
    "start_time": "2024-05-07T11:41:34.280Z"
   },
   {
    "duration": 161,
    "start_time": "2024-05-07T11:41:34.576Z"
   },
   {
    "duration": 49,
    "start_time": "2024-05-07T11:41:34.738Z"
   },
   {
    "duration": 10,
    "start_time": "2024-05-07T11:41:34.789Z"
   },
   {
    "duration": 89,
    "start_time": "2024-05-07T11:41:34.801Z"
   },
   {
    "duration": 191,
    "start_time": "2024-05-07T11:41:34.892Z"
   },
   {
    "duration": 100,
    "start_time": "2024-05-07T11:41:35.085Z"
   },
   {
    "duration": 4,
    "start_time": "2024-05-07T11:41:35.186Z"
   },
   {
    "duration": 8,
    "start_time": "2024-05-07T11:41:35.192Z"
   },
   {
    "duration": 6,
    "start_time": "2024-05-07T11:41:35.202Z"
   },
   {
    "duration": 64,
    "start_time": "2024-05-07T11:41:35.210Z"
   },
   {
    "duration": 182,
    "start_time": "2024-05-07T11:41:35.275Z"
   },
   {
    "duration": 316,
    "start_time": "2024-05-07T11:41:35.459Z"
   },
   {
    "duration": 7,
    "start_time": "2024-05-07T11:41:35.777Z"
   },
   {
    "duration": 58,
    "start_time": "2024-05-07T11:41:35.786Z"
   },
   {
    "duration": 208,
    "start_time": "2024-05-07T11:41:35.846Z"
   },
   {
    "duration": 9,
    "start_time": "2024-05-07T11:41:36.056Z"
   },
   {
    "duration": 58,
    "start_time": "2024-05-07T11:41:36.074Z"
   },
   {
    "duration": 96,
    "start_time": "2024-05-07T11:41:36.134Z"
   },
   {
    "duration": 162,
    "start_time": "2024-05-07T11:41:36.232Z"
   },
   {
    "duration": 121,
    "start_time": "2024-05-07T11:41:36.397Z"
   },
   {
    "duration": 5,
    "start_time": "2024-05-07T11:41:36.520Z"
   },
   {
    "duration": 90,
    "start_time": "2024-05-07T11:41:36.527Z"
   },
   {
    "duration": 59,
    "start_time": "2024-05-07T11:41:36.619Z"
   },
   {
    "duration": 100,
    "start_time": "2024-05-07T11:41:36.681Z"
   },
   {
    "duration": 58,
    "start_time": "2024-05-07T11:41:36.783Z"
   },
   {
    "duration": 158,
    "start_time": "2024-05-07T11:41:36.843Z"
   },
   {
    "duration": 8,
    "start_time": "2024-05-07T11:41:37.006Z"
   },
   {
    "duration": 21,
    "start_time": "2024-05-07T11:41:37.016Z"
   },
   {
    "duration": 33,
    "start_time": "2024-05-07T11:41:37.039Z"
   },
   {
    "duration": 15,
    "start_time": "2024-05-07T11:41:37.076Z"
   },
   {
    "duration": 15,
    "start_time": "2024-05-07T11:41:37.094Z"
   },
   {
    "duration": 46,
    "start_time": "2024-05-07T11:41:37.112Z"
   },
   {
    "duration": 8,
    "start_time": "2024-05-07T11:41:56.750Z"
   },
   {
    "duration": 5,
    "start_time": "2024-05-07T11:42:01.795Z"
   },
   {
    "duration": 301,
    "start_time": "2024-05-07T11:42:01.803Z"
   },
   {
    "duration": 217,
    "start_time": "2024-05-07T11:42:02.108Z"
   },
   {
    "duration": 60,
    "start_time": "2024-05-07T11:42:02.327Z"
   },
   {
    "duration": 19,
    "start_time": "2024-05-07T11:42:02.390Z"
   },
   {
    "duration": 135,
    "start_time": "2024-05-07T11:42:02.410Z"
   },
   {
    "duration": 194,
    "start_time": "2024-05-07T11:42:02.548Z"
   },
   {
    "duration": 104,
    "start_time": "2024-05-07T11:42:02.744Z"
   },
   {
    "duration": 4,
    "start_time": "2024-05-07T11:42:02.849Z"
   },
   {
    "duration": 132,
    "start_time": "2024-05-07T11:42:02.855Z"
   },
   {
    "duration": 26,
    "start_time": "2024-05-07T11:42:02.991Z"
   },
   {
    "duration": 78,
    "start_time": "2024-05-07T11:42:03.019Z"
   },
   {
    "duration": 153,
    "start_time": "2024-05-07T11:42:03.099Z"
   },
   {
    "duration": 459,
    "start_time": "2024-05-07T11:42:03.254Z"
   },
   {
    "duration": 9,
    "start_time": "2024-05-07T11:42:03.715Z"
   },
   {
    "duration": 51,
    "start_time": "2024-05-07T11:42:03.726Z"
   },
   {
    "duration": 218,
    "start_time": "2024-05-07T11:42:03.779Z"
   },
   {
    "duration": 8,
    "start_time": "2024-05-07T11:42:03.999Z"
   },
   {
    "duration": 53,
    "start_time": "2024-05-07T11:42:04.009Z"
   },
   {
    "duration": 113,
    "start_time": "2024-05-07T11:42:04.065Z"
   },
   {
    "duration": 232,
    "start_time": "2024-05-07T11:42:04.180Z"
   },
   {
    "duration": 124,
    "start_time": "2024-05-07T11:42:04.414Z"
   },
   {
    "duration": 5,
    "start_time": "2024-05-07T11:42:04.540Z"
   },
   {
    "duration": 68,
    "start_time": "2024-05-07T11:42:04.547Z"
   },
   {
    "duration": 60,
    "start_time": "2024-05-07T11:42:04.616Z"
   },
   {
    "duration": 61,
    "start_time": "2024-05-07T11:42:04.678Z"
   },
   {
    "duration": 104,
    "start_time": "2024-05-07T11:42:04.741Z"
   },
   {
    "duration": 195,
    "start_time": "2024-05-07T11:42:04.847Z"
   },
   {
    "duration": 8,
    "start_time": "2024-05-07T11:42:05.047Z"
   },
   {
    "duration": 27,
    "start_time": "2024-05-07T11:42:05.057Z"
   },
   {
    "duration": 21,
    "start_time": "2024-05-07T11:42:05.086Z"
   },
   {
    "duration": 13,
    "start_time": "2024-05-07T11:42:05.109Z"
   },
   {
    "duration": 28,
    "start_time": "2024-05-07T11:42:05.124Z"
   },
   {
    "duration": 35,
    "start_time": "2024-05-07T11:42:05.154Z"
   },
   {
    "duration": 4,
    "start_time": "2024-05-07T11:42:34.013Z"
   },
   {
    "duration": 287,
    "start_time": "2024-05-07T11:42:34.019Z"
   },
   {
    "duration": 149,
    "start_time": "2024-05-07T11:42:34.308Z"
   },
   {
    "duration": 47,
    "start_time": "2024-05-07T11:42:34.459Z"
   },
   {
    "duration": 13,
    "start_time": "2024-05-07T11:42:34.509Z"
   },
   {
    "duration": 92,
    "start_time": "2024-05-07T11:42:34.523Z"
   },
   {
    "duration": 260,
    "start_time": "2024-05-07T11:42:34.617Z"
   },
   {
    "duration": 113,
    "start_time": "2024-05-07T11:42:34.878Z"
   },
   {
    "duration": 4,
    "start_time": "2024-05-07T11:42:34.993Z"
   },
   {
    "duration": 10,
    "start_time": "2024-05-07T11:42:34.999Z"
   },
   {
    "duration": 3,
    "start_time": "2024-05-07T11:42:35.013Z"
   },
   {
    "duration": 92,
    "start_time": "2024-05-07T11:42:35.018Z"
   },
   {
    "duration": 158,
    "start_time": "2024-05-07T11:42:35.112Z"
   },
   {
    "duration": 315,
    "start_time": "2024-05-07T11:42:35.273Z"
   },
   {
    "duration": 8,
    "start_time": "2024-05-07T11:42:35.589Z"
   },
   {
    "duration": 23,
    "start_time": "2024-05-07T11:42:35.598Z"
   },
   {
    "duration": 236,
    "start_time": "2024-05-07T11:42:35.623Z"
   },
   {
    "duration": 14,
    "start_time": "2024-05-07T11:42:35.861Z"
   },
   {
    "duration": 82,
    "start_time": "2024-05-07T11:42:35.877Z"
   },
   {
    "duration": 94,
    "start_time": "2024-05-07T11:42:35.961Z"
   },
   {
    "duration": 162,
    "start_time": "2024-05-07T11:42:36.057Z"
   },
   {
    "duration": 115,
    "start_time": "2024-05-07T11:42:36.221Z"
   },
   {
    "duration": 5,
    "start_time": "2024-05-07T11:42:36.339Z"
   },
   {
    "duration": 89,
    "start_time": "2024-05-07T11:42:36.346Z"
   },
   {
    "duration": 67,
    "start_time": "2024-05-07T11:42:36.437Z"
   },
   {
    "duration": 86,
    "start_time": "2024-05-07T11:42:36.506Z"
   },
   {
    "duration": 57,
    "start_time": "2024-05-07T11:42:36.594Z"
   },
   {
    "duration": 144,
    "start_time": "2024-05-07T11:42:36.654Z"
   },
   {
    "duration": 7,
    "start_time": "2024-05-07T11:42:36.801Z"
   },
   {
    "duration": 67,
    "start_time": "2024-05-07T11:42:36.810Z"
   },
   {
    "duration": 12,
    "start_time": "2024-05-07T11:42:36.878Z"
   },
   {
    "duration": 37,
    "start_time": "2024-05-07T11:42:36.892Z"
   },
   {
    "duration": 22,
    "start_time": "2024-05-07T11:42:36.931Z"
   },
   {
    "duration": 22,
    "start_time": "2024-05-07T11:42:36.955Z"
   },
   {
    "duration": 5,
    "start_time": "2024-05-07T11:42:59.044Z"
   },
   {
    "duration": 239,
    "start_time": "2024-05-07T11:42:59.051Z"
   },
   {
    "duration": 152,
    "start_time": "2024-05-07T11:42:59.292Z"
   },
   {
    "duration": 49,
    "start_time": "2024-05-07T11:42:59.446Z"
   },
   {
    "duration": 11,
    "start_time": "2024-05-07T11:42:59.498Z"
   },
   {
    "duration": 96,
    "start_time": "2024-05-07T11:42:59.510Z"
   },
   {
    "duration": 187,
    "start_time": "2024-05-07T11:42:59.607Z"
   },
   {
    "duration": 106,
    "start_time": "2024-05-07T11:42:59.796Z"
   },
   {
    "duration": 3,
    "start_time": "2024-05-07T11:42:59.904Z"
   },
   {
    "duration": 19,
    "start_time": "2024-05-07T11:42:59.909Z"
   },
   {
    "duration": 13,
    "start_time": "2024-05-07T11:42:59.930Z"
   },
   {
    "duration": 51,
    "start_time": "2024-05-07T11:42:59.945Z"
   },
   {
    "duration": 263,
    "start_time": "2024-05-07T11:42:59.998Z"
   },
   {
    "duration": 420,
    "start_time": "2024-05-07T11:43:00.264Z"
   },
   {
    "duration": 9,
    "start_time": "2024-05-07T11:43:00.687Z"
   },
   {
    "duration": 85,
    "start_time": "2024-05-07T11:43:00.698Z"
   },
   {
    "duration": 293,
    "start_time": "2024-05-07T11:43:00.786Z"
   },
   {
    "duration": 90,
    "start_time": "2024-05-07T11:43:01.081Z"
   },
   {
    "duration": 174,
    "start_time": "2024-05-07T11:43:01.172Z"
   },
   {
    "duration": 172,
    "start_time": "2024-05-07T11:43:01.348Z"
   },
   {
    "duration": 171,
    "start_time": "2024-05-07T11:43:01.522Z"
   },
   {
    "duration": 115,
    "start_time": "2024-05-07T11:43:01.695Z"
   },
   {
    "duration": 5,
    "start_time": "2024-05-07T11:43:01.811Z"
   },
   {
    "duration": 93,
    "start_time": "2024-05-07T11:43:01.819Z"
   },
   {
    "duration": 78,
    "start_time": "2024-05-07T11:43:01.914Z"
   },
   {
    "duration": 84,
    "start_time": "2024-05-07T11:43:01.994Z"
   },
   {
    "duration": 83,
    "start_time": "2024-05-07T11:43:02.080Z"
   },
   {
    "duration": 153,
    "start_time": "2024-05-07T11:43:02.174Z"
   },
   {
    "duration": 6,
    "start_time": "2024-05-07T11:43:02.328Z"
   },
   {
    "duration": 34,
    "start_time": "2024-05-07T11:43:02.335Z"
   },
   {
    "duration": 58,
    "start_time": "2024-05-07T11:43:02.371Z"
   },
   {
    "duration": 17,
    "start_time": "2024-05-07T11:43:02.431Z"
   },
   {
    "duration": 32,
    "start_time": "2024-05-07T11:43:02.449Z"
   },
   {
    "duration": 64,
    "start_time": "2024-05-07T11:43:02.483Z"
   },
   {
    "duration": 4,
    "start_time": "2024-05-07T11:43:54.840Z"
   },
   {
    "duration": 265,
    "start_time": "2024-05-07T11:43:54.846Z"
   },
   {
    "duration": 164,
    "start_time": "2024-05-07T11:43:55.113Z"
   },
   {
    "duration": 37,
    "start_time": "2024-05-07T11:43:55.280Z"
   },
   {
    "duration": 13,
    "start_time": "2024-05-07T11:43:55.319Z"
   },
   {
    "duration": 97,
    "start_time": "2024-05-07T11:43:55.333Z"
   },
   {
    "duration": 189,
    "start_time": "2024-05-07T11:43:55.432Z"
   },
   {
    "duration": 103,
    "start_time": "2024-05-07T11:43:55.622Z"
   },
   {
    "duration": 4,
    "start_time": "2024-05-07T11:43:55.727Z"
   },
   {
    "duration": 13,
    "start_time": "2024-05-07T11:43:55.733Z"
   },
   {
    "duration": 23,
    "start_time": "2024-05-07T11:43:55.747Z"
   },
   {
    "duration": 50,
    "start_time": "2024-05-07T11:43:55.771Z"
   },
   {
    "duration": 145,
    "start_time": "2024-05-07T11:43:55.823Z"
   },
   {
    "duration": 318,
    "start_time": "2024-05-07T11:43:55.972Z"
   },
   {
    "duration": 8,
    "start_time": "2024-05-07T11:43:56.291Z"
   },
   {
    "duration": 46,
    "start_time": "2024-05-07T11:43:56.300Z"
   },
   {
    "duration": 269,
    "start_time": "2024-05-07T11:43:56.348Z"
   },
   {
    "duration": 8,
    "start_time": "2024-05-07T11:43:56.619Z"
   },
   {
    "duration": 52,
    "start_time": "2024-05-07T11:43:56.629Z"
   },
   {
    "duration": 70,
    "start_time": "2024-05-07T11:43:56.683Z"
   },
   {
    "duration": 151,
    "start_time": "2024-05-07T11:43:56.754Z"
   },
   {
    "duration": 108,
    "start_time": "2024-05-07T11:43:56.907Z"
   },
   {
    "duration": 4,
    "start_time": "2024-05-07T11:43:57.017Z"
   },
   {
    "duration": 83,
    "start_time": "2024-05-07T11:43:57.026Z"
   },
   {
    "duration": 49,
    "start_time": "2024-05-07T11:43:57.111Z"
   },
   {
    "duration": 67,
    "start_time": "2024-05-07T11:43:57.162Z"
   },
   {
    "duration": 78,
    "start_time": "2024-05-07T11:43:57.230Z"
   },
   {
    "duration": 115,
    "start_time": "2024-05-07T11:43:57.310Z"
   },
   {
    "duration": 6,
    "start_time": "2024-05-07T11:43:57.427Z"
   },
   {
    "duration": 14,
    "start_time": "2024-05-07T11:43:57.434Z"
   },
   {
    "duration": 26,
    "start_time": "2024-05-07T11:43:57.450Z"
   },
   {
    "duration": 30,
    "start_time": "2024-05-07T11:43:57.478Z"
   },
   {
    "duration": 19,
    "start_time": "2024-05-07T11:43:57.510Z"
   },
   {
    "duration": 16,
    "start_time": "2024-05-07T11:43:57.530Z"
   },
   {
    "duration": 12,
    "start_time": "2024-05-07T11:45:52.835Z"
   },
   {
    "duration": 11,
    "start_time": "2024-05-07T11:46:45.498Z"
   },
   {
    "duration": 4,
    "start_time": "2024-05-07T12:00:54.000Z"
   },
   {
    "duration": 306,
    "start_time": "2024-05-07T12:00:54.005Z"
   },
   {
    "duration": 161,
    "start_time": "2024-05-07T12:00:54.313Z"
   },
   {
    "duration": 37,
    "start_time": "2024-05-07T12:00:54.476Z"
   },
   {
    "duration": 11,
    "start_time": "2024-05-07T12:00:54.515Z"
   },
   {
    "duration": 108,
    "start_time": "2024-05-07T12:00:54.527Z"
   },
   {
    "duration": 182,
    "start_time": "2024-05-07T12:00:54.637Z"
   },
   {
    "duration": 101,
    "start_time": "2024-05-07T12:00:54.820Z"
   },
   {
    "duration": 3,
    "start_time": "2024-05-07T12:00:54.923Z"
   },
   {
    "duration": 16,
    "start_time": "2024-05-07T12:00:54.928Z"
   },
   {
    "duration": 17,
    "start_time": "2024-05-07T12:00:54.945Z"
   },
   {
    "duration": 44,
    "start_time": "2024-05-07T12:00:54.973Z"
   },
   {
    "duration": 144,
    "start_time": "2024-05-07T12:00:55.021Z"
   },
   {
    "duration": 327,
    "start_time": "2024-05-07T12:00:55.172Z"
   },
   {
    "duration": 8,
    "start_time": "2024-05-07T12:00:55.501Z"
   },
   {
    "duration": 23,
    "start_time": "2024-05-07T12:00:55.511Z"
   },
   {
    "duration": 244,
    "start_time": "2024-05-07T12:00:55.536Z"
   },
   {
    "duration": 8,
    "start_time": "2024-05-07T12:00:55.781Z"
   },
   {
    "duration": 54,
    "start_time": "2024-05-07T12:00:55.791Z"
   },
   {
    "duration": 101,
    "start_time": "2024-05-07T12:00:55.847Z"
   },
   {
    "duration": 148,
    "start_time": "2024-05-07T12:00:55.950Z"
   },
   {
    "duration": 122,
    "start_time": "2024-05-07T12:00:56.100Z"
   },
   {
    "duration": 4,
    "start_time": "2024-05-07T12:00:56.224Z"
   },
   {
    "duration": 72,
    "start_time": "2024-05-07T12:00:56.230Z"
   },
   {
    "duration": 52,
    "start_time": "2024-05-07T12:00:56.303Z"
   },
   {
    "duration": 67,
    "start_time": "2024-05-07T12:00:56.356Z"
   },
   {
    "duration": 65,
    "start_time": "2024-05-07T12:00:56.424Z"
   },
   {
    "duration": 119,
    "start_time": "2024-05-07T12:00:56.491Z"
   },
   {
    "duration": 5,
    "start_time": "2024-05-07T12:00:56.612Z"
   },
   {
    "duration": 24,
    "start_time": "2024-05-07T12:00:56.619Z"
   },
   {
    "duration": 32,
    "start_time": "2024-05-07T12:00:56.645Z"
   },
   {
    "duration": 11,
    "start_time": "2024-05-07T12:00:56.678Z"
   },
   {
    "duration": 12,
    "start_time": "2024-05-07T12:00:56.691Z"
   },
   {
    "duration": 14,
    "start_time": "2024-05-07T12:00:56.705Z"
   },
   {
    "duration": 211,
    "start_time": "2024-05-07T13:16:01.485Z"
   },
   {
    "duration": 10,
    "start_time": "2024-05-07T13:16:08.008Z"
   },
   {
    "duration": 4,
    "start_time": "2024-05-07T13:39:43.949Z"
   },
   {
    "duration": 265,
    "start_time": "2024-05-07T13:39:43.955Z"
   },
   {
    "duration": 176,
    "start_time": "2024-05-07T13:39:44.222Z"
   },
   {
    "duration": 38,
    "start_time": "2024-05-07T13:39:44.399Z"
   },
   {
    "duration": 11,
    "start_time": "2024-05-07T13:39:44.439Z"
   },
   {
    "duration": 99,
    "start_time": "2024-05-07T13:39:44.452Z"
   },
   {
    "duration": 192,
    "start_time": "2024-05-07T13:39:44.553Z"
   },
   {
    "duration": 107,
    "start_time": "2024-05-07T13:39:44.747Z"
   },
   {
    "duration": 4,
    "start_time": "2024-05-07T13:39:44.856Z"
   },
   {
    "duration": 12,
    "start_time": "2024-05-07T13:39:44.872Z"
   },
   {
    "duration": 12,
    "start_time": "2024-05-07T13:39:44.887Z"
   },
   {
    "duration": 43,
    "start_time": "2024-05-07T13:39:44.901Z"
   },
   {
    "duration": 159,
    "start_time": "2024-05-07T13:39:44.947Z"
   },
   {
    "duration": 311,
    "start_time": "2024-05-07T13:39:45.107Z"
   },
   {
    "duration": 9,
    "start_time": "2024-05-07T13:39:45.420Z"
   },
   {
    "duration": 65,
    "start_time": "2024-05-07T13:39:45.431Z"
   },
   {
    "duration": 224,
    "start_time": "2024-05-07T13:39:45.498Z"
   },
   {
    "duration": 9,
    "start_time": "2024-05-07T13:39:45.725Z"
   },
   {
    "duration": 53,
    "start_time": "2024-05-07T13:39:45.735Z"
   },
   {
    "duration": 98,
    "start_time": "2024-05-07T13:39:45.789Z"
   },
   {
    "duration": 153,
    "start_time": "2024-05-07T13:39:45.889Z"
   },
   {
    "duration": 201,
    "start_time": "2024-05-07T13:39:46.044Z"
   },
   {
    "duration": 4,
    "start_time": "2024-05-07T13:39:46.247Z"
   },
   {
    "duration": 62,
    "start_time": "2024-05-07T13:39:46.253Z"
   },
   {
    "duration": 62,
    "start_time": "2024-05-07T13:39:46.317Z"
   },
   {
    "duration": 58,
    "start_time": "2024-05-07T13:39:46.381Z"
   },
   {
    "duration": 74,
    "start_time": "2024-05-07T13:39:46.441Z"
   },
   {
    "duration": 130,
    "start_time": "2024-05-07T13:39:46.517Z"
   },
   {
    "duration": 5,
    "start_time": "2024-05-07T13:39:46.650Z"
   },
   {
    "duration": 23,
    "start_time": "2024-05-07T13:39:46.657Z"
   },
   {
    "duration": 11,
    "start_time": "2024-05-07T13:39:46.681Z"
   },
   {
    "duration": 15,
    "start_time": "2024-05-07T13:39:46.693Z"
   },
   {
    "duration": 11,
    "start_time": "2024-05-07T13:39:46.710Z"
   },
   {
    "duration": 13,
    "start_time": "2024-05-07T13:39:46.722Z"
   },
   {
    "duration": 78,
    "start_time": "2024-05-07T14:32:36.173Z"
   },
   {
    "duration": 141,
    "start_time": "2024-05-07T14:32:41.574Z"
   },
   {
    "duration": 161,
    "start_time": "2024-05-07T14:32:54.085Z"
   },
   {
    "duration": 4,
    "start_time": "2024-05-07T14:33:29.107Z"
   },
   {
    "duration": 233,
    "start_time": "2024-05-07T14:33:29.114Z"
   },
   {
    "duration": 193,
    "start_time": "2024-05-07T14:33:29.349Z"
   },
   {
    "duration": 56,
    "start_time": "2024-05-07T14:33:29.545Z"
   },
   {
    "duration": 22,
    "start_time": "2024-05-07T14:33:29.602Z"
   },
   {
    "duration": 82,
    "start_time": "2024-05-07T14:33:29.625Z"
   },
   {
    "duration": 186,
    "start_time": "2024-05-07T14:33:29.709Z"
   },
   {
    "duration": 102,
    "start_time": "2024-05-07T14:33:29.897Z"
   },
   {
    "duration": 3,
    "start_time": "2024-05-07T14:33:30.001Z"
   },
   {
    "duration": 59,
    "start_time": "2024-05-07T14:33:30.006Z"
   },
   {
    "duration": 137,
    "start_time": "2024-05-07T14:33:30.067Z"
   },
   {
    "duration": 228,
    "start_time": "2024-05-07T14:33:30.206Z"
   },
   {
    "duration": 281,
    "start_time": "2024-05-07T14:33:30.436Z"
   },
   {
    "duration": 331,
    "start_time": "2024-05-07T14:33:30.719Z"
   },
   {
    "duration": 7,
    "start_time": "2024-05-07T14:33:31.052Z"
   },
   {
    "duration": 269,
    "start_time": "2024-05-07T14:33:31.061Z"
   },
   {
    "duration": 375,
    "start_time": "2024-05-07T14:33:31.332Z"
   },
   {
    "duration": 176,
    "start_time": "2024-05-07T14:33:31.709Z"
   },
   {
    "duration": 122,
    "start_time": "2024-05-07T14:33:31.887Z"
   },
   {
    "duration": 78,
    "start_time": "2024-05-07T14:33:32.011Z"
   },
   {
    "duration": 153,
    "start_time": "2024-05-07T14:33:32.091Z"
   },
   {
    "duration": 109,
    "start_time": "2024-05-07T14:33:32.246Z"
   },
   {
    "duration": 4,
    "start_time": "2024-05-07T14:33:32.357Z"
   },
   {
    "duration": 54,
    "start_time": "2024-05-07T14:33:32.376Z"
   },
   {
    "duration": 63,
    "start_time": "2024-05-07T14:33:32.432Z"
   },
   {
    "duration": 80,
    "start_time": "2024-05-07T14:33:32.497Z"
   },
   {
    "duration": 54,
    "start_time": "2024-05-07T14:33:32.579Z"
   },
   {
    "duration": 139,
    "start_time": "2024-05-07T14:33:32.634Z"
   },
   {
    "duration": 5,
    "start_time": "2024-05-07T14:33:32.775Z"
   },
   {
    "duration": 34,
    "start_time": "2024-05-07T14:33:32.782Z"
   },
   {
    "duration": 19,
    "start_time": "2024-05-07T14:33:32.818Z"
   },
   {
    "duration": 54,
    "start_time": "2024-05-07T14:33:32.839Z"
   },
   {
    "duration": 20,
    "start_time": "2024-05-07T14:33:32.896Z"
   },
   {
    "duration": 28,
    "start_time": "2024-05-07T14:33:32.918Z"
   },
   {
    "duration": 3,
    "start_time": "2024-05-07T14:36:07.618Z"
   },
   {
    "duration": 250,
    "start_time": "2024-05-07T14:36:07.623Z"
   },
   {
    "duration": 169,
    "start_time": "2024-05-07T14:36:07.875Z"
   },
   {
    "duration": 50,
    "start_time": "2024-05-07T14:36:08.046Z"
   },
   {
    "duration": 11,
    "start_time": "2024-05-07T14:36:08.099Z"
   },
   {
    "duration": 107,
    "start_time": "2024-05-07T14:36:08.111Z"
   },
   {
    "duration": 197,
    "start_time": "2024-05-07T14:36:08.219Z"
   },
   {
    "duration": 102,
    "start_time": "2024-05-07T14:36:08.417Z"
   },
   {
    "duration": 3,
    "start_time": "2024-05-07T14:36:08.521Z"
   },
   {
    "duration": 29,
    "start_time": "2024-05-07T14:36:08.526Z"
   },
   {
    "duration": 12,
    "start_time": "2024-05-07T14:36:08.558Z"
   },
   {
    "duration": 37,
    "start_time": "2024-05-07T14:36:08.572Z"
   },
   {
    "duration": 157,
    "start_time": "2024-05-07T14:36:08.611Z"
   },
   {
    "duration": 321,
    "start_time": "2024-05-07T14:36:08.770Z"
   },
   {
    "duration": 10,
    "start_time": "2024-05-07T14:36:09.093Z"
   },
   {
    "duration": 45,
    "start_time": "2024-05-07T14:36:09.105Z"
   },
   {
    "duration": 190,
    "start_time": "2024-05-07T14:36:09.153Z"
   },
   {
    "duration": 8,
    "start_time": "2024-05-07T14:36:09.345Z"
   },
   {
    "duration": 49,
    "start_time": "2024-05-07T14:36:09.354Z"
   },
   {
    "duration": 83,
    "start_time": "2024-05-07T14:36:09.404Z"
   },
   {
    "duration": 145,
    "start_time": "2024-05-07T14:36:09.489Z"
   },
   {
    "duration": 104,
    "start_time": "2024-05-07T14:36:09.636Z"
   },
   {
    "duration": 4,
    "start_time": "2024-05-07T14:36:09.742Z"
   },
   {
    "duration": 73,
    "start_time": "2024-05-07T14:36:09.747Z"
   },
   {
    "duration": 54,
    "start_time": "2024-05-07T14:36:09.822Z"
   },
   {
    "duration": 59,
    "start_time": "2024-05-07T14:36:09.878Z"
   },
   {
    "duration": 77,
    "start_time": "2024-05-07T14:36:09.938Z"
   },
   {
    "duration": 152,
    "start_time": "2024-05-07T14:36:10.017Z"
   },
   {
    "duration": 6,
    "start_time": "2024-05-07T14:36:10.175Z"
   },
   {
    "duration": 19,
    "start_time": "2024-05-07T14:36:10.183Z"
   },
   {
    "duration": 32,
    "start_time": "2024-05-07T14:36:10.204Z"
   },
   {
    "duration": 12,
    "start_time": "2024-05-07T14:36:10.241Z"
   },
   {
    "duration": 23,
    "start_time": "2024-05-07T14:36:10.255Z"
   },
   {
    "duration": 22,
    "start_time": "2024-05-07T14:36:10.280Z"
   },
   {
    "duration": 1362,
    "start_time": "2024-05-07T14:44:17.353Z"
   },
   {
    "duration": 3,
    "start_time": "2024-05-07T14:44:25.751Z"
   },
   {
    "duration": 254,
    "start_time": "2024-05-07T14:44:25.758Z"
   },
   {
    "duration": 259,
    "start_time": "2024-05-07T14:44:26.015Z"
   },
   {
    "duration": 37,
    "start_time": "2024-05-07T14:44:26.276Z"
   },
   {
    "duration": 13,
    "start_time": "2024-05-07T14:44:26.315Z"
   },
   {
    "duration": 101,
    "start_time": "2024-05-07T14:44:26.329Z"
   },
   {
    "duration": 197,
    "start_time": "2024-05-07T14:44:26.431Z"
   },
   {
    "duration": 101,
    "start_time": "2024-05-07T14:44:26.630Z"
   },
   {
    "duration": 3,
    "start_time": "2024-05-07T14:44:26.732Z"
   },
   {
    "duration": 12,
    "start_time": "2024-05-07T14:44:26.737Z"
   },
   {
    "duration": 21,
    "start_time": "2024-05-07T14:44:26.752Z"
   },
   {
    "duration": 50,
    "start_time": "2024-05-07T14:44:26.774Z"
   },
   {
    "duration": 151,
    "start_time": "2024-05-07T14:44:26.825Z"
   },
   {
    "duration": 340,
    "start_time": "2024-05-07T14:44:26.978Z"
   },
   {
    "duration": 8,
    "start_time": "2024-05-07T14:44:27.319Z"
   },
   {
    "duration": 28,
    "start_time": "2024-05-07T14:44:27.329Z"
   },
   {
    "duration": 219,
    "start_time": "2024-05-07T14:44:27.372Z"
   },
   {
    "duration": 7,
    "start_time": "2024-05-07T14:44:27.593Z"
   },
   {
    "duration": 36,
    "start_time": "2024-05-07T14:44:27.602Z"
   },
   {
    "duration": 92,
    "start_time": "2024-05-07T14:44:27.640Z"
   },
   {
    "duration": 141,
    "start_time": "2024-05-07T14:44:27.734Z"
   },
   {
    "duration": 1089,
    "start_time": "2024-05-07T14:44:27.877Z"
   },
   {
    "duration": 0,
    "start_time": "2024-05-07T14:44:28.969Z"
   },
   {
    "duration": 0,
    "start_time": "2024-05-07T14:44:28.969Z"
   },
   {
    "duration": 0,
    "start_time": "2024-05-07T14:44:28.970Z"
   },
   {
    "duration": 0,
    "start_time": "2024-05-07T14:44:28.972Z"
   },
   {
    "duration": 0,
    "start_time": "2024-05-07T14:44:28.973Z"
   },
   {
    "duration": 0,
    "start_time": "2024-05-07T14:44:28.974Z"
   },
   {
    "duration": 0,
    "start_time": "2024-05-07T14:44:28.975Z"
   },
   {
    "duration": 0,
    "start_time": "2024-05-07T14:44:28.976Z"
   },
   {
    "duration": 0,
    "start_time": "2024-05-07T14:44:28.977Z"
   },
   {
    "duration": 0,
    "start_time": "2024-05-07T14:44:28.978Z"
   },
   {
    "duration": 0,
    "start_time": "2024-05-07T14:44:28.979Z"
   },
   {
    "duration": 0,
    "start_time": "2024-05-07T14:44:28.980Z"
   },
   {
    "duration": 0,
    "start_time": "2024-05-07T14:44:28.982Z"
   },
   {
    "duration": 5,
    "start_time": "2024-05-07T14:44:58.374Z"
   },
   {
    "duration": 12,
    "start_time": "2024-05-07T14:45:03.527Z"
   },
   {
    "duration": 4,
    "start_time": "2024-05-07T14:45:18.880Z"
   },
   {
    "duration": 250,
    "start_time": "2024-05-07T14:45:18.886Z"
   },
   {
    "duration": 147,
    "start_time": "2024-05-07T14:45:19.138Z"
   },
   {
    "duration": 40,
    "start_time": "2024-05-07T14:45:19.287Z"
   },
   {
    "duration": 12,
    "start_time": "2024-05-07T14:45:19.330Z"
   },
   {
    "duration": 93,
    "start_time": "2024-05-07T14:45:19.343Z"
   },
   {
    "duration": 189,
    "start_time": "2024-05-07T14:45:19.437Z"
   },
   {
    "duration": 104,
    "start_time": "2024-05-07T14:45:19.628Z"
   },
   {
    "duration": 3,
    "start_time": "2024-05-07T14:45:19.734Z"
   },
   {
    "duration": 26,
    "start_time": "2024-05-07T14:45:19.739Z"
   },
   {
    "duration": 23,
    "start_time": "2024-05-07T14:45:19.767Z"
   },
   {
    "duration": 55,
    "start_time": "2024-05-07T14:45:19.792Z"
   },
   {
    "duration": 150,
    "start_time": "2024-05-07T14:45:19.849Z"
   },
   {
    "duration": 362,
    "start_time": "2024-05-07T14:45:20.001Z"
   },
   {
    "duration": 8,
    "start_time": "2024-05-07T14:45:20.373Z"
   },
   {
    "duration": 78,
    "start_time": "2024-05-07T14:45:20.382Z"
   },
   {
    "duration": 213,
    "start_time": "2024-05-07T14:45:20.462Z"
   },
   {
    "duration": 8,
    "start_time": "2024-05-07T14:45:20.676Z"
   },
   {
    "duration": 61,
    "start_time": "2024-05-07T14:45:20.685Z"
   },
   {
    "duration": 86,
    "start_time": "2024-05-07T14:45:20.748Z"
   },
   {
    "duration": 139,
    "start_time": "2024-05-07T14:45:20.836Z"
   },
   {
    "duration": 9,
    "start_time": "2024-05-07T14:45:25.648Z"
   },
   {
    "duration": 11,
    "start_time": "2024-05-07T14:46:01.995Z"
   },
   {
    "duration": 14,
    "start_time": "2024-05-07T14:46:14.073Z"
   },
   {
    "duration": 13,
    "start_time": "2024-05-07T14:46:19.392Z"
   },
   {
    "duration": 3,
    "start_time": "2024-05-07T14:46:33.848Z"
   },
   {
    "duration": 227,
    "start_time": "2024-05-07T14:46:33.857Z"
   },
   {
    "duration": 158,
    "start_time": "2024-05-07T14:46:34.086Z"
   },
   {
    "duration": 48,
    "start_time": "2024-05-07T14:46:34.245Z"
   },
   {
    "duration": 14,
    "start_time": "2024-05-07T14:46:34.295Z"
   },
   {
    "duration": 102,
    "start_time": "2024-05-07T14:46:34.312Z"
   },
   {
    "duration": 203,
    "start_time": "2024-05-07T14:46:34.416Z"
   },
   {
    "duration": 134,
    "start_time": "2024-05-07T14:46:34.620Z"
   },
   {
    "duration": 3,
    "start_time": "2024-05-07T14:46:34.756Z"
   },
   {
    "duration": 15,
    "start_time": "2024-05-07T14:46:34.773Z"
   },
   {
    "duration": 45,
    "start_time": "2024-05-07T14:46:34.789Z"
   },
   {
    "duration": 52,
    "start_time": "2024-05-07T14:46:34.835Z"
   },
   {
    "duration": 142,
    "start_time": "2024-05-07T14:46:34.889Z"
   },
   {
    "duration": 308,
    "start_time": "2024-05-07T14:46:35.033Z"
   },
   {
    "duration": 7,
    "start_time": "2024-05-07T14:46:35.343Z"
   },
   {
    "duration": 39,
    "start_time": "2024-05-07T14:46:35.352Z"
   },
   {
    "duration": 234,
    "start_time": "2024-05-07T14:46:35.393Z"
   },
   {
    "duration": 9,
    "start_time": "2024-05-07T14:46:35.629Z"
   },
   {
    "duration": 73,
    "start_time": "2024-05-07T14:46:35.640Z"
   },
   {
    "duration": 80,
    "start_time": "2024-05-07T14:46:35.715Z"
   },
   {
    "duration": 236,
    "start_time": "2024-05-07T14:46:35.797Z"
   },
   {
    "duration": 10,
    "start_time": "2024-05-07T14:46:36.658Z"
   },
   {
    "duration": 3,
    "start_time": "2024-05-07T14:47:04.117Z"
   },
   {
    "duration": 245,
    "start_time": "2024-05-07T14:47:04.122Z"
   },
   {
    "duration": 159,
    "start_time": "2024-05-07T14:47:04.368Z"
   },
   {
    "duration": 46,
    "start_time": "2024-05-07T14:47:04.529Z"
   },
   {
    "duration": 12,
    "start_time": "2024-05-07T14:47:04.577Z"
   },
   {
    "duration": 94,
    "start_time": "2024-05-07T14:47:04.590Z"
   },
   {
    "duration": 195,
    "start_time": "2024-05-07T14:47:04.686Z"
   },
   {
    "duration": 121,
    "start_time": "2024-05-07T14:47:04.882Z"
   },
   {
    "duration": 4,
    "start_time": "2024-05-07T14:47:05.007Z"
   },
   {
    "duration": 16,
    "start_time": "2024-05-07T14:47:05.013Z"
   },
   {
    "duration": 46,
    "start_time": "2024-05-07T14:47:05.031Z"
   },
   {
    "duration": 70,
    "start_time": "2024-05-07T14:47:05.079Z"
   },
   {
    "duration": 172,
    "start_time": "2024-05-07T14:47:05.151Z"
   },
   {
    "duration": 331,
    "start_time": "2024-05-07T14:47:05.325Z"
   },
   {
    "duration": 16,
    "start_time": "2024-05-07T14:47:05.657Z"
   },
   {
    "duration": 52,
    "start_time": "2024-05-07T14:47:05.675Z"
   },
   {
    "duration": 224,
    "start_time": "2024-05-07T14:47:05.729Z"
   },
   {
    "duration": 7,
    "start_time": "2024-05-07T14:47:05.955Z"
   },
   {
    "duration": 59,
    "start_time": "2024-05-07T14:47:05.964Z"
   },
   {
    "duration": 77,
    "start_time": "2024-05-07T14:47:06.024Z"
   },
   {
    "duration": 149,
    "start_time": "2024-05-07T14:47:06.102Z"
   },
   {
    "duration": 10,
    "start_time": "2024-05-07T14:47:06.613Z"
   },
   {
    "duration": 3,
    "start_time": "2024-05-07T14:47:14.413Z"
   },
   {
    "duration": 226,
    "start_time": "2024-05-07T14:47:14.419Z"
   },
   {
    "duration": 152,
    "start_time": "2024-05-07T14:47:14.647Z"
   },
   {
    "duration": 40,
    "start_time": "2024-05-07T14:47:14.800Z"
   },
   {
    "duration": 32,
    "start_time": "2024-05-07T14:47:14.842Z"
   },
   {
    "duration": 72,
    "start_time": "2024-05-07T14:47:14.876Z"
   },
   {
    "duration": 196,
    "start_time": "2024-05-07T14:47:14.950Z"
   },
   {
    "duration": 101,
    "start_time": "2024-05-07T14:47:15.148Z"
   },
   {
    "duration": 3,
    "start_time": "2024-05-07T14:47:15.251Z"
   },
   {
    "duration": 45,
    "start_time": "2024-05-07T14:47:15.255Z"
   },
   {
    "duration": 17,
    "start_time": "2024-05-07T14:47:15.302Z"
   },
   {
    "duration": 66,
    "start_time": "2024-05-07T14:47:15.321Z"
   },
   {
    "duration": 151,
    "start_time": "2024-05-07T14:47:15.389Z"
   },
   {
    "duration": 328,
    "start_time": "2024-05-07T14:47:15.542Z"
   },
   {
    "duration": 9,
    "start_time": "2024-05-07T14:47:15.874Z"
   },
   {
    "duration": 76,
    "start_time": "2024-05-07T14:47:15.885Z"
   },
   {
    "duration": 228,
    "start_time": "2024-05-07T14:47:15.963Z"
   },
   {
    "duration": 9,
    "start_time": "2024-05-07T14:47:16.193Z"
   },
   {
    "duration": 76,
    "start_time": "2024-05-07T14:47:16.204Z"
   },
   {
    "duration": 78,
    "start_time": "2024-05-07T14:47:16.283Z"
   },
   {
    "duration": 132,
    "start_time": "2024-05-07T14:47:16.363Z"
   },
   {
    "duration": 11,
    "start_time": "2024-05-07T14:47:16.499Z"
   },
   {
    "duration": 10,
    "start_time": "2024-05-07T14:47:53.684Z"
   },
   {
    "duration": 21,
    "start_time": "2024-05-07T14:48:01.346Z"
   },
   {
    "duration": 519,
    "start_time": "2024-05-07T14:49:31.707Z"
   },
   {
    "duration": 4,
    "start_time": "2024-05-07T14:49:47.735Z"
   },
   {
    "duration": 241,
    "start_time": "2024-05-07T14:49:47.742Z"
   },
   {
    "duration": 170,
    "start_time": "2024-05-07T14:49:47.985Z"
   },
   {
    "duration": 47,
    "start_time": "2024-05-07T14:49:48.157Z"
   },
   {
    "duration": 12,
    "start_time": "2024-05-07T14:49:48.207Z"
   },
   {
    "duration": 95,
    "start_time": "2024-05-07T14:49:48.220Z"
   },
   {
    "duration": 186,
    "start_time": "2024-05-07T14:49:48.317Z"
   },
   {
    "duration": 103,
    "start_time": "2024-05-07T14:49:48.505Z"
   },
   {
    "duration": 4,
    "start_time": "2024-05-07T14:49:48.610Z"
   },
   {
    "duration": 10,
    "start_time": "2024-05-07T14:49:48.616Z"
   },
   {
    "duration": 11,
    "start_time": "2024-05-07T14:49:48.629Z"
   },
   {
    "duration": 56,
    "start_time": "2024-05-07T14:49:48.642Z"
   },
   {
    "duration": 153,
    "start_time": "2024-05-07T14:49:48.700Z"
   },
   {
    "duration": 320,
    "start_time": "2024-05-07T14:49:48.855Z"
   },
   {
    "duration": 8,
    "start_time": "2024-05-07T14:49:49.176Z"
   },
   {
    "duration": 24,
    "start_time": "2024-05-07T14:49:49.185Z"
   },
   {
    "duration": 223,
    "start_time": "2024-05-07T14:49:49.211Z"
   },
   {
    "duration": 7,
    "start_time": "2024-05-07T14:49:49.436Z"
   },
   {
    "duration": 53,
    "start_time": "2024-05-07T14:49:49.445Z"
   },
   {
    "duration": 83,
    "start_time": "2024-05-07T14:49:49.500Z"
   },
   {
    "duration": 123,
    "start_time": "2024-05-07T14:49:49.585Z"
   },
   {
    "duration": 48,
    "start_time": "2024-05-07T14:49:49.709Z"
   },
   {
    "duration": 3,
    "start_time": "2024-05-07T14:50:13.128Z"
   },
   {
    "duration": 262,
    "start_time": "2024-05-07T14:50:13.138Z"
   },
   {
    "duration": 193,
    "start_time": "2024-05-07T14:50:13.403Z"
   },
   {
    "duration": 36,
    "start_time": "2024-05-07T14:50:13.598Z"
   },
   {
    "duration": 11,
    "start_time": "2024-05-07T14:50:13.636Z"
   },
   {
    "duration": 101,
    "start_time": "2024-05-07T14:50:13.649Z"
   },
   {
    "duration": 194,
    "start_time": "2024-05-07T14:50:13.752Z"
   },
   {
    "duration": 105,
    "start_time": "2024-05-07T14:50:13.948Z"
   },
   {
    "duration": 4,
    "start_time": "2024-05-07T14:50:14.055Z"
   },
   {
    "duration": 49,
    "start_time": "2024-05-07T14:50:14.061Z"
   },
   {
    "duration": 7,
    "start_time": "2024-05-07T14:50:14.113Z"
   },
   {
    "duration": 72,
    "start_time": "2024-05-07T14:50:14.123Z"
   },
   {
    "duration": 198,
    "start_time": "2024-05-07T14:50:14.197Z"
   },
   {
    "duration": 305,
    "start_time": "2024-05-07T14:50:14.397Z"
   },
   {
    "duration": 8,
    "start_time": "2024-05-07T14:50:14.707Z"
   },
   {
    "duration": 24,
    "start_time": "2024-05-07T14:50:14.718Z"
   },
   {
    "duration": 219,
    "start_time": "2024-05-07T14:50:14.744Z"
   },
   {
    "duration": 10,
    "start_time": "2024-05-07T14:50:14.964Z"
   },
   {
    "duration": 55,
    "start_time": "2024-05-07T14:50:14.976Z"
   },
   {
    "duration": 80,
    "start_time": "2024-05-07T14:50:15.033Z"
   },
   {
    "duration": 209,
    "start_time": "2024-05-07T14:50:15.115Z"
   },
   {
    "duration": 57,
    "start_time": "2024-05-07T14:50:15.325Z"
   },
   {
    "duration": 113,
    "start_time": "2024-05-07T14:50:15.383Z"
   },
   {
    "duration": 5,
    "start_time": "2024-05-07T14:50:15.498Z"
   },
   {
    "duration": 86,
    "start_time": "2024-05-07T14:50:15.505Z"
   },
   {
    "duration": 75,
    "start_time": "2024-05-07T14:50:15.594Z"
   },
   {
    "duration": 76,
    "start_time": "2024-05-07T14:50:15.672Z"
   },
   {
    "duration": 70,
    "start_time": "2024-05-07T14:50:15.750Z"
   },
   {
    "duration": 130,
    "start_time": "2024-05-07T14:50:15.822Z"
   },
   {
    "duration": 6,
    "start_time": "2024-05-07T14:50:15.954Z"
   },
   {
    "duration": 29,
    "start_time": "2024-05-07T14:50:15.962Z"
   },
   {
    "duration": 12,
    "start_time": "2024-05-07T14:50:15.993Z"
   },
   {
    "duration": 11,
    "start_time": "2024-05-07T14:50:16.006Z"
   },
   {
    "duration": 16,
    "start_time": "2024-05-07T14:50:16.019Z"
   },
   {
    "duration": 12,
    "start_time": "2024-05-07T14:50:16.037Z"
   },
   {
    "duration": 70,
    "start_time": "2024-05-07T14:50:58.695Z"
   },
   {
    "duration": 3,
    "start_time": "2024-05-07T14:51:03.824Z"
   },
   {
    "duration": 279,
    "start_time": "2024-05-07T14:51:03.829Z"
   },
   {
    "duration": 154,
    "start_time": "2024-05-07T14:51:04.110Z"
   },
   {
    "duration": 43,
    "start_time": "2024-05-07T14:51:04.266Z"
   },
   {
    "duration": 11,
    "start_time": "2024-05-07T14:51:04.311Z"
   },
   {
    "duration": 100,
    "start_time": "2024-05-07T14:51:04.323Z"
   },
   {
    "duration": 186,
    "start_time": "2024-05-07T14:51:04.424Z"
   },
   {
    "duration": 97,
    "start_time": "2024-05-07T14:51:04.611Z"
   },
   {
    "duration": 3,
    "start_time": "2024-05-07T14:51:04.710Z"
   },
   {
    "duration": 20,
    "start_time": "2024-05-07T14:51:04.715Z"
   },
   {
    "duration": 6,
    "start_time": "2024-05-07T14:51:04.738Z"
   },
   {
    "duration": 53,
    "start_time": "2024-05-07T14:51:04.745Z"
   },
   {
    "duration": 151,
    "start_time": "2024-05-07T14:51:04.800Z"
   },
   {
    "duration": 314,
    "start_time": "2024-05-07T14:51:04.952Z"
   },
   {
    "duration": 12,
    "start_time": "2024-05-07T14:51:05.267Z"
   },
   {
    "duration": 40,
    "start_time": "2024-05-07T14:51:05.281Z"
   },
   {
    "duration": 197,
    "start_time": "2024-05-07T14:51:05.323Z"
   },
   {
    "duration": 7,
    "start_time": "2024-05-07T14:51:05.523Z"
   },
   {
    "duration": 52,
    "start_time": "2024-05-07T14:51:05.532Z"
   },
   {
    "duration": 95,
    "start_time": "2024-05-07T14:51:05.586Z"
   },
   {
    "duration": 121,
    "start_time": "2024-05-07T14:51:05.682Z"
   },
   {
    "duration": 55,
    "start_time": "2024-05-07T14:51:05.805Z"
   },
   {
    "duration": 102,
    "start_time": "2024-05-07T14:51:05.874Z"
   },
   {
    "duration": 4,
    "start_time": "2024-05-07T14:51:05.977Z"
   },
   {
    "duration": 73,
    "start_time": "2024-05-07T14:51:05.983Z"
   },
   {
    "duration": 63,
    "start_time": "2024-05-07T14:51:06.058Z"
   },
   {
    "duration": 67,
    "start_time": "2024-05-07T14:51:06.122Z"
   },
   {
    "duration": 54,
    "start_time": "2024-05-07T14:51:06.190Z"
   },
   {
    "duration": 135,
    "start_time": "2024-05-07T14:51:06.247Z"
   },
   {
    "duration": 6,
    "start_time": "2024-05-07T14:51:06.383Z"
   },
   {
    "duration": 26,
    "start_time": "2024-05-07T14:51:06.391Z"
   },
   {
    "duration": 31,
    "start_time": "2024-05-07T14:51:06.419Z"
   },
   {
    "duration": 15,
    "start_time": "2024-05-07T14:51:06.451Z"
   },
   {
    "duration": 54,
    "start_time": "2024-05-07T14:51:06.468Z"
   },
   {
    "duration": 60,
    "start_time": "2024-05-07T14:51:06.524Z"
   },
   {
    "duration": 19,
    "start_time": "2024-05-07T14:52:44.443Z"
   },
   {
    "duration": 4,
    "start_time": "2024-05-07T14:52:48.204Z"
   },
   {
    "duration": 238,
    "start_time": "2024-05-07T14:52:48.210Z"
   },
   {
    "duration": 158,
    "start_time": "2024-05-07T14:52:48.450Z"
   },
   {
    "duration": 38,
    "start_time": "2024-05-07T14:52:48.610Z"
   },
   {
    "duration": 27,
    "start_time": "2024-05-07T14:52:48.650Z"
   },
   {
    "duration": 80,
    "start_time": "2024-05-07T14:52:48.678Z"
   },
   {
    "duration": 194,
    "start_time": "2024-05-07T14:52:48.773Z"
   },
   {
    "duration": 101,
    "start_time": "2024-05-07T14:52:48.973Z"
   },
   {
    "duration": 4,
    "start_time": "2024-05-07T14:52:49.075Z"
   },
   {
    "duration": 12,
    "start_time": "2024-05-07T14:52:49.081Z"
   },
   {
    "duration": 24,
    "start_time": "2024-05-07T14:52:49.096Z"
   },
   {
    "duration": 58,
    "start_time": "2024-05-07T14:52:49.122Z"
   },
   {
    "duration": 157,
    "start_time": "2024-05-07T14:52:49.183Z"
   },
   {
    "duration": 321,
    "start_time": "2024-05-07T14:52:49.343Z"
   },
   {
    "duration": 13,
    "start_time": "2024-05-07T14:52:49.666Z"
   },
   {
    "duration": 22,
    "start_time": "2024-05-07T14:52:49.681Z"
   },
   {
    "duration": 235,
    "start_time": "2024-05-07T14:52:49.705Z"
   },
   {
    "duration": 7,
    "start_time": "2024-05-07T14:52:49.942Z"
   },
   {
    "duration": 50,
    "start_time": "2024-05-07T14:52:49.951Z"
   },
   {
    "duration": 95,
    "start_time": "2024-05-07T14:52:50.002Z"
   },
   {
    "duration": 139,
    "start_time": "2024-05-07T14:52:50.099Z"
   },
   {
    "duration": 60,
    "start_time": "2024-05-07T14:52:50.240Z"
   },
   {
    "duration": 15,
    "start_time": "2024-05-07T14:52:50.302Z"
   },
   {
    "duration": 0,
    "start_time": "2024-05-07T14:52:50.319Z"
   },
   {
    "duration": 0,
    "start_time": "2024-05-07T14:52:50.321Z"
   },
   {
    "duration": 0,
    "start_time": "2024-05-07T14:52:50.323Z"
   },
   {
    "duration": 0,
    "start_time": "2024-05-07T14:52:50.324Z"
   },
   {
    "duration": 0,
    "start_time": "2024-05-07T14:52:50.326Z"
   },
   {
    "duration": 0,
    "start_time": "2024-05-07T14:52:50.327Z"
   },
   {
    "duration": 0,
    "start_time": "2024-05-07T14:52:50.329Z"
   },
   {
    "duration": 0,
    "start_time": "2024-05-07T14:52:50.330Z"
   },
   {
    "duration": 0,
    "start_time": "2024-05-07T14:52:50.332Z"
   },
   {
    "duration": 0,
    "start_time": "2024-05-07T14:52:50.333Z"
   },
   {
    "duration": 0,
    "start_time": "2024-05-07T14:52:50.335Z"
   },
   {
    "duration": 0,
    "start_time": "2024-05-07T14:52:50.336Z"
   },
   {
    "duration": 62,
    "start_time": "2024-05-07T14:53:21.136Z"
   },
   {
    "duration": 56,
    "start_time": "2024-05-07T14:53:36.749Z"
   },
   {
    "duration": 3,
    "start_time": "2024-05-07T14:54:51.365Z"
   },
   {
    "duration": 243,
    "start_time": "2024-05-07T14:54:51.370Z"
   },
   {
    "duration": 158,
    "start_time": "2024-05-07T14:54:51.615Z"
   },
   {
    "duration": 37,
    "start_time": "2024-05-07T14:54:51.775Z"
   },
   {
    "duration": 12,
    "start_time": "2024-05-07T14:54:51.814Z"
   },
   {
    "duration": 109,
    "start_time": "2024-05-07T14:54:51.828Z"
   },
   {
    "duration": 207,
    "start_time": "2024-05-07T14:54:51.939Z"
   },
   {
    "duration": 106,
    "start_time": "2024-05-07T14:54:52.148Z"
   },
   {
    "duration": 4,
    "start_time": "2024-05-07T14:54:52.255Z"
   },
   {
    "duration": 28,
    "start_time": "2024-05-07T14:54:52.273Z"
   },
   {
    "duration": 92,
    "start_time": "2024-05-07T14:54:52.303Z"
   },
   {
    "duration": 52,
    "start_time": "2024-05-07T14:54:52.397Z"
   },
   {
    "duration": 180,
    "start_time": "2024-05-07T14:54:52.451Z"
   },
   {
    "duration": 303,
    "start_time": "2024-05-07T14:54:52.634Z"
   },
   {
    "duration": 9,
    "start_time": "2024-05-07T14:54:52.938Z"
   },
   {
    "duration": 47,
    "start_time": "2024-05-07T14:54:52.949Z"
   },
   {
    "duration": 314,
    "start_time": "2024-05-07T14:54:52.998Z"
   },
   {
    "duration": 8,
    "start_time": "2024-05-07T14:54:53.314Z"
   },
   {
    "duration": 83,
    "start_time": "2024-05-07T14:54:53.324Z"
   },
   {
    "duration": 95,
    "start_time": "2024-05-07T14:54:53.409Z"
   },
   {
    "duration": 136,
    "start_time": "2024-05-07T14:54:53.507Z"
   },
   {
    "duration": 15,
    "start_time": "2024-05-07T14:54:55.055Z"
   },
   {
    "duration": 23,
    "start_time": "2024-05-07T14:57:19.224Z"
   },
   {
    "duration": 48,
    "start_time": "2024-05-07T14:57:40.656Z"
   },
   {
    "duration": 48,
    "start_time": "2024-05-07T14:58:26.620Z"
   },
   {
    "duration": 65,
    "start_time": "2024-05-07T14:58:46.974Z"
   },
   {
    "duration": 50,
    "start_time": "2024-05-07T14:59:02.909Z"
   },
   {
    "duration": 50,
    "start_time": "2024-05-07T14:59:09.384Z"
   },
   {
    "duration": 51,
    "start_time": "2024-05-07T15:00:08.248Z"
   },
   {
    "duration": 5,
    "start_time": "2024-05-07T15:00:53.219Z"
   },
   {
    "duration": 249,
    "start_time": "2024-05-07T15:00:53.226Z"
   },
   {
    "duration": 162,
    "start_time": "2024-05-07T15:00:53.477Z"
   },
   {
    "duration": 51,
    "start_time": "2024-05-07T15:00:53.641Z"
   },
   {
    "duration": 12,
    "start_time": "2024-05-07T15:00:53.694Z"
   },
   {
    "duration": 89,
    "start_time": "2024-05-07T15:00:53.708Z"
   },
   {
    "duration": 198,
    "start_time": "2024-05-07T15:00:53.798Z"
   },
   {
    "duration": 97,
    "start_time": "2024-05-07T15:00:53.998Z"
   },
   {
    "duration": 4,
    "start_time": "2024-05-07T15:00:54.097Z"
   },
   {
    "duration": 21,
    "start_time": "2024-05-07T15:00:54.103Z"
   },
   {
    "duration": 12,
    "start_time": "2024-05-07T15:00:54.126Z"
   },
   {
    "duration": 69,
    "start_time": "2024-05-07T15:00:54.140Z"
   },
   {
    "duration": 150,
    "start_time": "2024-05-07T15:00:54.211Z"
   },
   {
    "duration": 339,
    "start_time": "2024-05-07T15:00:54.363Z"
   },
   {
    "duration": 7,
    "start_time": "2024-05-07T15:00:54.704Z"
   },
   {
    "duration": 33,
    "start_time": "2024-05-07T15:00:54.713Z"
   },
   {
    "duration": 210,
    "start_time": "2024-05-07T15:00:54.747Z"
   },
   {
    "duration": 14,
    "start_time": "2024-05-07T15:00:54.959Z"
   },
   {
    "duration": 43,
    "start_time": "2024-05-07T15:00:54.975Z"
   },
   {
    "duration": 76,
    "start_time": "2024-05-07T15:00:55.020Z"
   },
   {
    "duration": 120,
    "start_time": "2024-05-07T15:00:55.097Z"
   },
   {
    "duration": 58,
    "start_time": "2024-05-07T15:00:55.219Z"
   },
   {
    "duration": 14,
    "start_time": "2024-05-07T15:00:55.279Z"
   },
   {
    "duration": 0,
    "start_time": "2024-05-07T15:00:55.295Z"
   },
   {
    "duration": 0,
    "start_time": "2024-05-07T15:00:55.296Z"
   },
   {
    "duration": 0,
    "start_time": "2024-05-07T15:00:55.298Z"
   },
   {
    "duration": 0,
    "start_time": "2024-05-07T15:00:55.299Z"
   },
   {
    "duration": 0,
    "start_time": "2024-05-07T15:00:55.301Z"
   },
   {
    "duration": 0,
    "start_time": "2024-05-07T15:00:55.302Z"
   },
   {
    "duration": 0,
    "start_time": "2024-05-07T15:00:55.303Z"
   },
   {
    "duration": 0,
    "start_time": "2024-05-07T15:00:55.304Z"
   },
   {
    "duration": 0,
    "start_time": "2024-05-07T15:00:55.305Z"
   },
   {
    "duration": 0,
    "start_time": "2024-05-07T15:00:55.307Z"
   },
   {
    "duration": 0,
    "start_time": "2024-05-07T15:00:55.308Z"
   },
   {
    "duration": 0,
    "start_time": "2024-05-07T15:00:55.308Z"
   },
   {
    "duration": 73,
    "start_time": "2024-05-07T15:03:28.895Z"
   },
   {
    "duration": 3,
    "start_time": "2024-05-07T15:03:32.238Z"
   },
   {
    "duration": 244,
    "start_time": "2024-05-07T15:03:32.243Z"
   },
   {
    "duration": 168,
    "start_time": "2024-05-07T15:03:32.489Z"
   },
   {
    "duration": 42,
    "start_time": "2024-05-07T15:03:32.658Z"
   },
   {
    "duration": 11,
    "start_time": "2024-05-07T15:03:32.703Z"
   },
   {
    "duration": 99,
    "start_time": "2024-05-07T15:03:32.716Z"
   },
   {
    "duration": 197,
    "start_time": "2024-05-07T15:03:32.817Z"
   },
   {
    "duration": 106,
    "start_time": "2024-05-07T15:03:33.016Z"
   },
   {
    "duration": 3,
    "start_time": "2024-05-07T15:03:33.124Z"
   },
   {
    "duration": 23,
    "start_time": "2024-05-07T15:03:33.129Z"
   },
   {
    "duration": 4,
    "start_time": "2024-05-07T15:03:33.156Z"
   },
   {
    "duration": 43,
    "start_time": "2024-05-07T15:03:33.162Z"
   },
   {
    "duration": 155,
    "start_time": "2024-05-07T15:03:33.207Z"
   },
   {
    "duration": 331,
    "start_time": "2024-05-07T15:03:33.363Z"
   },
   {
    "duration": 9,
    "start_time": "2024-05-07T15:03:33.695Z"
   },
   {
    "duration": 30,
    "start_time": "2024-05-07T15:03:33.706Z"
   },
   {
    "duration": 235,
    "start_time": "2024-05-07T15:03:33.738Z"
   },
   {
    "duration": 8,
    "start_time": "2024-05-07T15:03:33.974Z"
   },
   {
    "duration": 66,
    "start_time": "2024-05-07T15:03:33.983Z"
   },
   {
    "duration": 91,
    "start_time": "2024-05-07T15:03:34.051Z"
   },
   {
    "duration": 129,
    "start_time": "2024-05-07T15:03:34.144Z"
   },
   {
    "duration": 50,
    "start_time": "2024-05-07T15:03:34.275Z"
   },
   {
    "duration": 33,
    "start_time": "2024-05-07T15:03:34.327Z"
   },
   {
    "duration": 0,
    "start_time": "2024-05-07T15:03:34.362Z"
   },
   {
    "duration": 0,
    "start_time": "2024-05-07T15:03:34.372Z"
   },
   {
    "duration": 0,
    "start_time": "2024-05-07T15:03:34.374Z"
   },
   {
    "duration": 0,
    "start_time": "2024-05-07T15:03:34.375Z"
   },
   {
    "duration": 0,
    "start_time": "2024-05-07T15:03:34.376Z"
   },
   {
    "duration": 0,
    "start_time": "2024-05-07T15:03:34.377Z"
   },
   {
    "duration": 0,
    "start_time": "2024-05-07T15:03:34.378Z"
   },
   {
    "duration": 0,
    "start_time": "2024-05-07T15:03:34.380Z"
   },
   {
    "duration": 0,
    "start_time": "2024-05-07T15:03:34.381Z"
   },
   {
    "duration": 0,
    "start_time": "2024-05-07T15:03:34.382Z"
   },
   {
    "duration": 0,
    "start_time": "2024-05-07T15:03:34.383Z"
   },
   {
    "duration": 0,
    "start_time": "2024-05-07T15:03:34.384Z"
   },
   {
    "duration": 4,
    "start_time": "2024-05-07T15:09:06.646Z"
   },
   {
    "duration": 221,
    "start_time": "2024-05-07T15:09:06.652Z"
   },
   {
    "duration": 178,
    "start_time": "2024-05-07T15:09:06.875Z"
   },
   {
    "duration": 53,
    "start_time": "2024-05-07T15:09:07.055Z"
   },
   {
    "duration": 11,
    "start_time": "2024-05-07T15:09:07.110Z"
   },
   {
    "duration": 102,
    "start_time": "2024-05-07T15:09:07.123Z"
   },
   {
    "duration": 196,
    "start_time": "2024-05-07T15:09:07.227Z"
   },
   {
    "duration": 108,
    "start_time": "2024-05-07T15:09:07.425Z"
   },
   {
    "duration": 4,
    "start_time": "2024-05-07T15:09:07.535Z"
   },
   {
    "duration": 15,
    "start_time": "2024-05-07T15:09:07.541Z"
   },
   {
    "duration": 3,
    "start_time": "2024-05-07T15:09:07.559Z"
   },
   {
    "duration": 50,
    "start_time": "2024-05-07T15:09:07.572Z"
   },
   {
    "duration": 149,
    "start_time": "2024-05-07T15:09:07.624Z"
   },
   {
    "duration": 421,
    "start_time": "2024-05-07T15:09:07.775Z"
   },
   {
    "duration": 8,
    "start_time": "2024-05-07T15:09:08.197Z"
   },
   {
    "duration": 27,
    "start_time": "2024-05-07T15:09:08.206Z"
   },
   {
    "duration": 213,
    "start_time": "2024-05-07T15:09:08.235Z"
   },
   {
    "duration": 7,
    "start_time": "2024-05-07T15:09:08.450Z"
   },
   {
    "duration": 45,
    "start_time": "2024-05-07T15:09:08.459Z"
   },
   {
    "duration": 93,
    "start_time": "2024-05-07T15:09:08.506Z"
   },
   {
    "duration": 134,
    "start_time": "2024-05-07T15:09:08.601Z"
   },
   {
    "duration": 58,
    "start_time": "2024-05-07T15:09:08.737Z"
   },
   {
    "duration": 17,
    "start_time": "2024-05-07T15:09:08.796Z"
   },
   {
    "duration": 0,
    "start_time": "2024-05-07T15:09:08.815Z"
   },
   {
    "duration": 0,
    "start_time": "2024-05-07T15:09:08.817Z"
   },
   {
    "duration": 0,
    "start_time": "2024-05-07T15:09:08.818Z"
   },
   {
    "duration": 0,
    "start_time": "2024-05-07T15:09:08.820Z"
   },
   {
    "duration": 0,
    "start_time": "2024-05-07T15:09:08.821Z"
   },
   {
    "duration": 0,
    "start_time": "2024-05-07T15:09:08.823Z"
   },
   {
    "duration": 0,
    "start_time": "2024-05-07T15:09:08.825Z"
   },
   {
    "duration": 0,
    "start_time": "2024-05-07T15:09:08.826Z"
   },
   {
    "duration": 0,
    "start_time": "2024-05-07T15:09:08.828Z"
   },
   {
    "duration": 0,
    "start_time": "2024-05-07T15:09:08.830Z"
   },
   {
    "duration": 0,
    "start_time": "2024-05-07T15:09:08.831Z"
   },
   {
    "duration": 0,
    "start_time": "2024-05-07T15:09:08.833Z"
   },
   {
    "duration": 90,
    "start_time": "2024-05-07T15:09:49.905Z"
   },
   {
    "duration": 15,
    "start_time": "2024-05-07T15:10:08.800Z"
   },
   {
    "duration": 1264,
    "start_time": "2024-05-07T15:10:19.818Z"
   },
   {
    "duration": 3,
    "start_time": "2024-05-07T15:10:27.825Z"
   },
   {
    "duration": 232,
    "start_time": "2024-05-07T15:10:27.830Z"
   },
   {
    "duration": 160,
    "start_time": "2024-05-07T15:10:28.064Z"
   },
   {
    "duration": 51,
    "start_time": "2024-05-07T15:10:28.226Z"
   },
   {
    "duration": 11,
    "start_time": "2024-05-07T15:10:28.279Z"
   },
   {
    "duration": 89,
    "start_time": "2024-05-07T15:10:28.292Z"
   },
   {
    "duration": 192,
    "start_time": "2024-05-07T15:10:28.383Z"
   },
   {
    "duration": 104,
    "start_time": "2024-05-07T15:10:28.577Z"
   },
   {
    "duration": 4,
    "start_time": "2024-05-07T15:10:28.683Z"
   },
   {
    "duration": 24,
    "start_time": "2024-05-07T15:10:28.688Z"
   },
   {
    "duration": 46,
    "start_time": "2024-05-07T15:10:28.716Z"
   },
   {
    "duration": 72,
    "start_time": "2024-05-07T15:10:28.764Z"
   },
   {
    "duration": 170,
    "start_time": "2024-05-07T15:10:28.838Z"
   },
   {
    "duration": 328,
    "start_time": "2024-05-07T15:10:29.010Z"
   },
   {
    "duration": 7,
    "start_time": "2024-05-07T15:10:29.340Z"
   },
   {
    "duration": 34,
    "start_time": "2024-05-07T15:10:29.349Z"
   },
   {
    "duration": 199,
    "start_time": "2024-05-07T15:10:29.385Z"
   },
   {
    "duration": 8,
    "start_time": "2024-05-07T15:10:29.585Z"
   },
   {
    "duration": 40,
    "start_time": "2024-05-07T15:10:29.595Z"
   },
   {
    "duration": 88,
    "start_time": "2024-05-07T15:10:29.637Z"
   },
   {
    "duration": 131,
    "start_time": "2024-05-07T15:10:29.727Z"
   },
   {
    "duration": 57,
    "start_time": "2024-05-07T15:10:29.859Z"
   },
   {
    "duration": 1217,
    "start_time": "2024-05-07T15:10:32.334Z"
   },
   {
    "duration": 14,
    "start_time": "2024-05-07T15:10:58.330Z"
   },
   {
    "duration": 1146,
    "start_time": "2024-05-07T15:11:25.803Z"
   },
   {
    "duration": 4,
    "start_time": "2024-05-07T15:11:37.373Z"
   },
   {
    "duration": 4,
    "start_time": "2024-05-07T15:11:41.938Z"
   },
   {
    "duration": 250,
    "start_time": "2024-05-07T15:11:41.944Z"
   },
   {
    "duration": 200,
    "start_time": "2024-05-07T15:11:42.196Z"
   },
   {
    "duration": 36,
    "start_time": "2024-05-07T15:11:42.398Z"
   },
   {
    "duration": 11,
    "start_time": "2024-05-07T15:11:42.436Z"
   },
   {
    "duration": 103,
    "start_time": "2024-05-07T15:11:42.449Z"
   },
   {
    "duration": 201,
    "start_time": "2024-05-07T15:11:42.554Z"
   },
   {
    "duration": 102,
    "start_time": "2024-05-07T15:11:42.757Z"
   },
   {
    "duration": 4,
    "start_time": "2024-05-07T15:11:42.861Z"
   },
   {
    "duration": 20,
    "start_time": "2024-05-07T15:11:42.874Z"
   },
   {
    "duration": 17,
    "start_time": "2024-05-07T15:11:42.896Z"
   },
   {
    "duration": 68,
    "start_time": "2024-05-07T15:11:42.915Z"
   },
   {
    "duration": 151,
    "start_time": "2024-05-07T15:11:42.984Z"
   },
   {
    "duration": 323,
    "start_time": "2024-05-07T15:11:43.137Z"
   },
   {
    "duration": 18,
    "start_time": "2024-05-07T15:11:43.463Z"
   },
   {
    "duration": 39,
    "start_time": "2024-05-07T15:11:43.483Z"
   },
   {
    "duration": 208,
    "start_time": "2024-05-07T15:11:43.524Z"
   },
   {
    "duration": 9,
    "start_time": "2024-05-07T15:11:43.734Z"
   },
   {
    "duration": 48,
    "start_time": "2024-05-07T15:11:43.745Z"
   },
   {
    "duration": 85,
    "start_time": "2024-05-07T15:11:43.795Z"
   },
   {
    "duration": 147,
    "start_time": "2024-05-07T15:11:43.881Z"
   },
   {
    "duration": 56,
    "start_time": "2024-05-07T15:11:44.030Z"
   },
   {
    "duration": 15,
    "start_time": "2024-05-07T15:11:44.088Z"
   },
   {
    "duration": 10,
    "start_time": "2024-05-07T15:11:44.105Z"
   },
   {
    "duration": 69,
    "start_time": "2024-05-07T15:11:44.117Z"
   },
   {
    "duration": 50,
    "start_time": "2024-05-07T15:11:44.188Z"
   },
   {
    "duration": 76,
    "start_time": "2024-05-07T15:11:44.240Z"
   },
   {
    "duration": 68,
    "start_time": "2024-05-07T15:11:44.317Z"
   },
   {
    "duration": 121,
    "start_time": "2024-05-07T15:11:44.390Z"
   },
   {
    "duration": 5,
    "start_time": "2024-05-07T15:11:44.514Z"
   },
   {
    "duration": 28,
    "start_time": "2024-05-07T15:11:44.521Z"
   },
   {
    "duration": 29,
    "start_time": "2024-05-07T15:11:44.551Z"
   },
   {
    "duration": 16,
    "start_time": "2024-05-07T15:11:44.582Z"
   },
   {
    "duration": 12,
    "start_time": "2024-05-07T15:11:44.599Z"
   },
   {
    "duration": 17,
    "start_time": "2024-05-07T15:11:44.613Z"
   },
   {
    "duration": 5,
    "start_time": "2024-05-07T15:12:00.087Z"
   },
   {
    "duration": 284,
    "start_time": "2024-05-07T15:12:00.096Z"
   },
   {
    "duration": 157,
    "start_time": "2024-05-07T15:12:00.382Z"
   },
   {
    "duration": 46,
    "start_time": "2024-05-07T15:12:00.541Z"
   },
   {
    "duration": 122,
    "start_time": "2024-05-07T15:12:00.588Z"
   },
   {
    "duration": 175,
    "start_time": "2024-05-07T15:12:00.713Z"
   },
   {
    "duration": 187,
    "start_time": "2024-05-07T15:12:00.890Z"
   },
   {
    "duration": 120,
    "start_time": "2024-05-07T15:12:01.079Z"
   },
   {
    "duration": 4,
    "start_time": "2024-05-07T15:12:01.201Z"
   },
   {
    "duration": 136,
    "start_time": "2024-05-07T15:12:01.207Z"
   },
   {
    "duration": 295,
    "start_time": "2024-05-07T15:12:01.345Z"
   },
   {
    "duration": 104,
    "start_time": "2024-05-07T15:12:01.642Z"
   },
   {
    "duration": 176,
    "start_time": "2024-05-07T15:12:01.748Z"
   },
   {
    "duration": 432,
    "start_time": "2024-05-07T15:12:01.925Z"
   },
   {
    "duration": 17,
    "start_time": "2024-05-07T15:12:02.360Z"
   },
   {
    "duration": 26,
    "start_time": "2024-05-07T15:12:02.379Z"
   },
   {
    "duration": 216,
    "start_time": "2024-05-07T15:12:02.407Z"
   },
   {
    "duration": 8,
    "start_time": "2024-05-07T15:12:02.624Z"
   },
   {
    "duration": 77,
    "start_time": "2024-05-07T15:12:02.634Z"
   },
   {
    "duration": 81,
    "start_time": "2024-05-07T15:12:02.714Z"
   },
   {
    "duration": 137,
    "start_time": "2024-05-07T15:12:02.797Z"
   },
   {
    "duration": 64,
    "start_time": "2024-05-07T15:12:02.935Z"
   },
   {
    "duration": 15,
    "start_time": "2024-05-07T15:12:03.001Z"
   },
   {
    "duration": 20,
    "start_time": "2024-05-07T15:12:03.018Z"
   },
   {
    "duration": 61,
    "start_time": "2024-05-07T15:12:03.040Z"
   },
   {
    "duration": 50,
    "start_time": "2024-05-07T15:12:03.103Z"
   },
   {
    "duration": 72,
    "start_time": "2024-05-07T15:12:03.155Z"
   },
   {
    "duration": 73,
    "start_time": "2024-05-07T15:12:03.229Z"
   },
   {
    "duration": 118,
    "start_time": "2024-05-07T15:12:03.303Z"
   },
   {
    "duration": 7,
    "start_time": "2024-05-07T15:12:03.423Z"
   },
   {
    "duration": 36,
    "start_time": "2024-05-07T15:12:03.432Z"
   },
   {
    "duration": 15,
    "start_time": "2024-05-07T15:12:03.470Z"
   },
   {
    "duration": 14,
    "start_time": "2024-05-07T15:12:03.487Z"
   },
   {
    "duration": 17,
    "start_time": "2024-05-07T15:12:03.504Z"
   },
   {
    "duration": 32,
    "start_time": "2024-05-07T15:12:03.523Z"
   },
   {
    "duration": 1083,
    "start_time": "2024-05-07T15:35:08.289Z"
   },
   {
    "duration": 327,
    "start_time": "2024-05-07T15:35:09.374Z"
   },
   {
    "duration": 224,
    "start_time": "2024-05-07T15:35:09.702Z"
   },
   {
    "duration": 49,
    "start_time": "2024-05-07T15:35:09.928Z"
   },
   {
    "duration": 16,
    "start_time": "2024-05-07T15:35:09.979Z"
   },
   {
    "duration": 98,
    "start_time": "2024-05-07T15:35:09.996Z"
   },
   {
    "duration": 190,
    "start_time": "2024-05-07T15:35:10.096Z"
   },
   {
    "duration": 96,
    "start_time": "2024-05-07T15:35:10.287Z"
   },
   {
    "duration": 3,
    "start_time": "2024-05-07T15:35:10.385Z"
   },
   {
    "duration": 8,
    "start_time": "2024-05-07T15:35:10.390Z"
   },
   {
    "duration": 12,
    "start_time": "2024-05-07T15:35:10.399Z"
   },
   {
    "duration": 44,
    "start_time": "2024-05-07T15:35:10.412Z"
   },
   {
    "duration": 145,
    "start_time": "2024-05-07T15:35:10.458Z"
   },
   {
    "duration": 277,
    "start_time": "2024-05-07T15:35:10.605Z"
   },
   {
    "duration": 7,
    "start_time": "2024-05-07T15:35:10.884Z"
   },
   {
    "duration": 30,
    "start_time": "2024-05-07T15:35:10.892Z"
   },
   {
    "duration": 201,
    "start_time": "2024-05-07T15:35:10.924Z"
   },
   {
    "duration": 6,
    "start_time": "2024-05-07T15:35:11.127Z"
   },
   {
    "duration": 32,
    "start_time": "2024-05-07T15:35:11.145Z"
   },
   {
    "duration": 84,
    "start_time": "2024-05-07T15:35:11.178Z"
   },
   {
    "duration": 116,
    "start_time": "2024-05-07T15:35:11.263Z"
   },
   {
    "duration": 525,
    "start_time": "2024-05-07T15:35:11.380Z"
   },
   {
    "duration": 39,
    "start_time": "2024-05-07T15:35:11.906Z"
   },
   {
    "duration": 4,
    "start_time": "2024-05-07T15:35:11.946Z"
   },
   {
    "duration": 102,
    "start_time": "2024-05-07T15:35:11.952Z"
   },
   {
    "duration": 89,
    "start_time": "2024-05-07T15:35:12.056Z"
   },
   {
    "duration": 54,
    "start_time": "2024-05-07T15:35:12.147Z"
   },
   {
    "duration": 66,
    "start_time": "2024-05-07T15:35:12.204Z"
   },
   {
    "duration": 113,
    "start_time": "2024-05-07T15:35:12.271Z"
   },
   {
    "duration": 10,
    "start_time": "2024-05-07T15:35:12.386Z"
   },
   {
    "duration": 9,
    "start_time": "2024-05-07T15:35:12.398Z"
   },
   {
    "duration": 8,
    "start_time": "2024-05-07T15:35:12.409Z"
   },
   {
    "duration": 36,
    "start_time": "2024-05-07T15:35:12.419Z"
   },
   {
    "duration": 18,
    "start_time": "2024-05-07T15:35:12.457Z"
   },
   {
    "duration": 9,
    "start_time": "2024-05-07T15:35:12.477Z"
   },
   {
    "duration": 1146,
    "start_time": "2024-05-07T15:57:17.418Z"
   },
   {
    "duration": 195,
    "start_time": "2024-05-07T15:57:18.566Z"
   },
   {
    "duration": 152,
    "start_time": "2024-05-07T15:57:18.762Z"
   },
   {
    "duration": 45,
    "start_time": "2024-05-07T15:57:18.916Z"
   },
   {
    "duration": 14,
    "start_time": "2024-05-07T15:57:18.962Z"
   },
   {
    "duration": 78,
    "start_time": "2024-05-07T15:57:18.978Z"
   },
   {
    "duration": 176,
    "start_time": "2024-05-07T15:57:19.058Z"
   },
   {
    "duration": 88,
    "start_time": "2024-05-07T15:57:19.235Z"
   },
   {
    "duration": 4,
    "start_time": "2024-05-07T15:57:19.324Z"
   },
   {
    "duration": 33,
    "start_time": "2024-05-07T15:57:19.331Z"
   },
   {
    "duration": 29,
    "start_time": "2024-05-07T15:57:19.365Z"
   },
   {
    "duration": 61,
    "start_time": "2024-05-07T15:57:19.395Z"
   },
   {
    "duration": 138,
    "start_time": "2024-05-07T15:57:19.458Z"
   },
   {
    "duration": 271,
    "start_time": "2024-05-07T15:57:19.597Z"
   },
   {
    "duration": 7,
    "start_time": "2024-05-07T15:57:19.869Z"
   },
   {
    "duration": 26,
    "start_time": "2024-05-07T15:57:19.877Z"
   },
   {
    "duration": 180,
    "start_time": "2024-05-07T15:57:19.904Z"
   },
   {
    "duration": 6,
    "start_time": "2024-05-07T15:57:20.085Z"
   },
   {
    "duration": 38,
    "start_time": "2024-05-07T15:57:20.093Z"
   },
   {
    "duration": 81,
    "start_time": "2024-05-07T15:57:20.132Z"
   },
   {
    "duration": 113,
    "start_time": "2024-05-07T15:57:20.214Z"
   },
   {
    "duration": 511,
    "start_time": "2024-05-07T15:57:20.329Z"
   },
   {
    "duration": 12,
    "start_time": "2024-05-07T15:57:20.842Z"
   },
   {
    "duration": 14,
    "start_time": "2024-05-07T15:57:20.856Z"
   },
   {
    "duration": 110,
    "start_time": "2024-05-07T15:57:20.872Z"
   },
   {
    "duration": 42,
    "start_time": "2024-05-07T15:57:20.984Z"
   },
   {
    "duration": 73,
    "start_time": "2024-05-07T15:57:21.027Z"
   },
   {
    "duration": 60,
    "start_time": "2024-05-07T15:57:21.103Z"
   },
   {
    "duration": 110,
    "start_time": "2024-05-07T15:57:21.165Z"
   },
   {
    "duration": 5,
    "start_time": "2024-05-07T15:57:21.276Z"
   },
   {
    "duration": 41,
    "start_time": "2024-05-07T15:57:21.282Z"
   },
   {
    "duration": 27,
    "start_time": "2024-05-07T15:57:21.324Z"
   },
   {
    "duration": 38,
    "start_time": "2024-05-07T15:57:21.352Z"
   },
   {
    "duration": 21,
    "start_time": "2024-05-07T15:57:21.392Z"
   },
   {
    "duration": 48,
    "start_time": "2024-05-07T15:57:21.414Z"
   },
   {
    "duration": 1362,
    "start_time": "2024-05-08T09:03:52.696Z"
   },
   {
    "duration": 307,
    "start_time": "2024-05-08T09:03:54.060Z"
   },
   {
    "duration": 152,
    "start_time": "2024-05-08T09:03:54.368Z"
   },
   {
    "duration": 43,
    "start_time": "2024-05-08T09:03:54.522Z"
   },
   {
    "duration": 14,
    "start_time": "2024-05-08T09:03:54.566Z"
   },
   {
    "duration": 91,
    "start_time": "2024-05-08T09:03:54.582Z"
   },
   {
    "duration": 193,
    "start_time": "2024-05-08T09:03:54.675Z"
   },
   {
    "duration": 102,
    "start_time": "2024-05-08T09:03:54.869Z"
   },
   {
    "duration": 4,
    "start_time": "2024-05-08T09:03:54.973Z"
   },
   {
    "duration": 7,
    "start_time": "2024-05-08T09:03:54.980Z"
   },
   {
    "duration": 4,
    "start_time": "2024-05-08T09:03:54.988Z"
   },
   {
    "duration": 307,
    "start_time": "2024-05-08T09:03:54.993Z"
   },
   {
    "duration": 31,
    "start_time": "2024-05-08T09:03:55.302Z"
   },
   {
    "duration": 128,
    "start_time": "2024-05-08T09:03:55.335Z"
   },
   {
    "duration": 271,
    "start_time": "2024-05-08T09:03:55.464Z"
   },
   {
    "duration": 7,
    "start_time": "2024-05-08T09:03:55.736Z"
   },
   {
    "duration": 31,
    "start_time": "2024-05-08T09:03:55.755Z"
   },
   {
    "duration": 187,
    "start_time": "2024-05-08T09:03:55.788Z"
   },
   {
    "duration": 7,
    "start_time": "2024-05-08T09:03:55.977Z"
   },
   {
    "duration": 33,
    "start_time": "2024-05-08T09:03:55.986Z"
   },
   {
    "duration": 104,
    "start_time": "2024-05-08T09:03:56.022Z"
   },
   {
    "duration": 112,
    "start_time": "2024-05-08T09:03:56.128Z"
   },
   {
    "duration": 438,
    "start_time": "2024-05-08T09:03:56.242Z"
   },
   {
    "duration": 14,
    "start_time": "2024-05-08T09:03:56.682Z"
   },
   {
    "duration": 14,
    "start_time": "2024-05-08T09:03:56.697Z"
   },
   {
    "duration": 81,
    "start_time": "2024-05-08T09:03:56.713Z"
   },
   {
    "duration": 83,
    "start_time": "2024-05-08T09:03:56.796Z"
   },
   {
    "duration": 50,
    "start_time": "2024-05-08T09:03:56.882Z"
   },
   {
    "duration": 64,
    "start_time": "2024-05-08T09:03:56.934Z"
   },
   {
    "duration": 113,
    "start_time": "2024-05-08T09:03:56.999Z"
   },
   {
    "duration": 5,
    "start_time": "2024-05-08T09:03:57.113Z"
   },
   {
    "duration": 46,
    "start_time": "2024-05-08T09:03:57.119Z"
   },
   {
    "duration": 10,
    "start_time": "2024-05-08T09:03:57.167Z"
   },
   {
    "duration": 11,
    "start_time": "2024-05-08T09:03:57.178Z"
   },
   {
    "duration": 9,
    "start_time": "2024-05-08T09:03:57.191Z"
   },
   {
    "duration": 14,
    "start_time": "2024-05-08T09:03:57.202Z"
   },
   {
    "duration": 269,
    "start_time": "2024-05-08T09:05:12.359Z"
   },
   {
    "duration": 43,
    "start_time": "2024-05-08T09:06:54.500Z"
   },
   {
    "duration": 474,
    "start_time": "2024-05-08T09:07:01.936Z"
   },
   {
    "duration": 426,
    "start_time": "2024-05-08T09:07:09.489Z"
   },
   {
    "duration": 314,
    "start_time": "2024-05-08T09:07:36.432Z"
   },
   {
    "duration": 109,
    "start_time": "2024-05-08T09:41:49.663Z"
   },
   {
    "duration": 111,
    "start_time": "2024-05-08T09:44:18.365Z"
   },
   {
    "duration": 108,
    "start_time": "2024-05-08T09:44:59.564Z"
   },
   {
    "duration": 4,
    "start_time": "2024-05-08T09:45:23.530Z"
   },
   {
    "duration": 198,
    "start_time": "2024-05-08T09:45:23.539Z"
   },
   {
    "duration": 176,
    "start_time": "2024-05-08T09:45:23.739Z"
   },
   {
    "duration": 50,
    "start_time": "2024-05-08T09:45:23.917Z"
   },
   {
    "duration": 12,
    "start_time": "2024-05-08T09:45:23.969Z"
   },
   {
    "duration": 80,
    "start_time": "2024-05-08T09:45:23.983Z"
   },
   {
    "duration": 175,
    "start_time": "2024-05-08T09:45:24.065Z"
   },
   {
    "duration": 90,
    "start_time": "2024-05-08T09:45:24.241Z"
   },
   {
    "duration": 3,
    "start_time": "2024-05-08T09:45:24.333Z"
   },
   {
    "duration": 19,
    "start_time": "2024-05-08T09:45:24.337Z"
   },
   {
    "duration": 3,
    "start_time": "2024-05-08T09:45:24.359Z"
   },
   {
    "duration": 271,
    "start_time": "2024-05-08T09:45:24.363Z"
   },
   {
    "duration": 122,
    "start_time": "2024-05-08T09:45:24.635Z"
   },
   {
    "duration": 223,
    "start_time": "2024-05-08T09:45:24.759Z"
   },
   {
    "duration": 33,
    "start_time": "2024-05-08T09:45:24.983Z"
   },
   {
    "duration": 132,
    "start_time": "2024-05-08T09:45:25.018Z"
   },
   {
    "duration": 287,
    "start_time": "2024-05-08T09:45:25.151Z"
   },
   {
    "duration": 20,
    "start_time": "2024-05-08T09:45:25.439Z"
   },
   {
    "duration": 22,
    "start_time": "2024-05-08T09:45:25.461Z"
   },
   {
    "duration": 276,
    "start_time": "2024-05-08T09:45:25.484Z"
   },
   {
    "duration": 9,
    "start_time": "2024-05-08T09:45:25.761Z"
   },
   {
    "duration": 33,
    "start_time": "2024-05-08T09:45:25.771Z"
   },
   {
    "duration": 82,
    "start_time": "2024-05-08T09:45:25.806Z"
   },
   {
    "duration": 108,
    "start_time": "2024-05-08T09:45:25.889Z"
   },
   {
    "duration": 44,
    "start_time": "2024-05-08T09:45:25.998Z"
   },
   {
    "duration": 22,
    "start_time": "2024-05-08T09:45:26.043Z"
   },
   {
    "duration": 5,
    "start_time": "2024-05-08T09:45:26.066Z"
   },
   {
    "duration": 43,
    "start_time": "2024-05-08T09:45:26.072Z"
   },
   {
    "duration": 66,
    "start_time": "2024-05-08T09:45:26.118Z"
   },
   {
    "duration": 52,
    "start_time": "2024-05-08T09:45:26.185Z"
   },
   {
    "duration": 54,
    "start_time": "2024-05-08T09:45:26.238Z"
   },
   {
    "duration": 110,
    "start_time": "2024-05-08T09:45:26.294Z"
   },
   {
    "duration": 4,
    "start_time": "2024-05-08T09:45:26.406Z"
   },
   {
    "duration": 10,
    "start_time": "2024-05-08T09:45:26.412Z"
   },
   {
    "duration": 12,
    "start_time": "2024-05-08T09:45:26.424Z"
   },
   {
    "duration": 26,
    "start_time": "2024-05-08T09:45:26.437Z"
   },
   {
    "duration": 10,
    "start_time": "2024-05-08T09:45:26.464Z"
   },
   {
    "duration": 12,
    "start_time": "2024-05-08T09:45:26.475Z"
   },
   {
    "duration": 8,
    "start_time": "2024-05-08T09:46:46.043Z"
   },
   {
    "duration": 266,
    "start_time": "2024-05-08T09:49:14.818Z"
   },
   {
    "duration": 262,
    "start_time": "2024-05-08T09:49:24.947Z"
   },
   {
    "duration": 282,
    "start_time": "2024-05-08T09:50:07.205Z"
   },
   {
    "duration": 303,
    "start_time": "2024-05-08T09:50:12.815Z"
   },
   {
    "duration": 41,
    "start_time": "2024-05-08T09:51:05.384Z"
   },
   {
    "duration": 51,
    "start_time": "2024-05-08T09:51:32.058Z"
   },
   {
    "duration": 4,
    "start_time": "2024-05-08T09:54:40.689Z"
   },
   {
    "duration": 237,
    "start_time": "2024-05-08T09:54:40.698Z"
   },
   {
    "duration": 138,
    "start_time": "2024-05-08T09:54:40.937Z"
   },
   {
    "duration": 33,
    "start_time": "2024-05-08T09:54:41.077Z"
   },
   {
    "duration": 15,
    "start_time": "2024-05-08T09:54:41.112Z"
   },
   {
    "duration": 121,
    "start_time": "2024-05-08T09:54:41.129Z"
   },
   {
    "duration": 186,
    "start_time": "2024-05-08T09:54:41.252Z"
   },
   {
    "duration": 90,
    "start_time": "2024-05-08T09:54:41.440Z"
   },
   {
    "duration": 4,
    "start_time": "2024-05-08T09:54:41.531Z"
   },
   {
    "duration": 23,
    "start_time": "2024-05-08T09:54:41.536Z"
   },
   {
    "duration": 29,
    "start_time": "2024-05-08T09:54:41.561Z"
   },
   {
    "duration": 65,
    "start_time": "2024-05-08T09:54:41.591Z"
   },
   {
    "duration": 352,
    "start_time": "2024-05-08T09:56:32.854Z"
   },
   {
    "duration": 224,
    "start_time": "2024-05-08T09:57:06.441Z"
   },
   {
    "duration": 227,
    "start_time": "2024-05-08T09:58:57.347Z"
   },
   {
    "duration": 118,
    "start_time": "2024-05-08T10:10:38.203Z"
   },
   {
    "duration": 241,
    "start_time": "2024-05-08T10:12:16.441Z"
   },
   {
    "duration": 240,
    "start_time": "2024-05-08T10:13:21.205Z"
   },
   {
    "duration": 377,
    "start_time": "2024-05-08T10:13:53.523Z"
   },
   {
    "duration": 8,
    "start_time": "2024-05-08T10:16:44.643Z"
   },
   {
    "duration": 7,
    "start_time": "2024-05-08T10:16:55.175Z"
   },
   {
    "duration": 24,
    "start_time": "2024-05-08T10:17:25.421Z"
   },
   {
    "duration": 33,
    "start_time": "2024-05-08T10:17:34.598Z"
   },
   {
    "duration": 26,
    "start_time": "2024-05-08T10:17:44.693Z"
   },
   {
    "duration": 29,
    "start_time": "2024-05-08T10:17:47.883Z"
   },
   {
    "duration": 29,
    "start_time": "2024-05-08T10:17:51.384Z"
   },
   {
    "duration": 35,
    "start_time": "2024-05-08T10:18:00.669Z"
   },
   {
    "duration": 3,
    "start_time": "2024-05-08T10:18:08.488Z"
   },
   {
    "duration": 204,
    "start_time": "2024-05-08T10:18:08.493Z"
   },
   {
    "duration": 140,
    "start_time": "2024-05-08T10:18:08.699Z"
   },
   {
    "duration": 59,
    "start_time": "2024-05-08T10:18:08.840Z"
   },
   {
    "duration": 12,
    "start_time": "2024-05-08T10:18:08.901Z"
   },
   {
    "duration": 93,
    "start_time": "2024-05-08T10:18:08.914Z"
   },
   {
    "duration": 183,
    "start_time": "2024-05-08T10:18:09.009Z"
   },
   {
    "duration": 97,
    "start_time": "2024-05-08T10:18:09.194Z"
   },
   {
    "duration": 4,
    "start_time": "2024-05-08T10:18:09.292Z"
   },
   {
    "duration": 6,
    "start_time": "2024-05-08T10:18:09.298Z"
   },
   {
    "duration": 3,
    "start_time": "2024-05-08T10:18:09.306Z"
   },
   {
    "duration": 74,
    "start_time": "2024-05-08T10:18:09.310Z"
   },
   {
    "duration": 265,
    "start_time": "2024-05-08T10:18:09.387Z"
   },
   {
    "duration": 303,
    "start_time": "2024-05-08T10:18:09.656Z"
   },
   {
    "duration": 47,
    "start_time": "2024-05-08T10:18:09.961Z"
   },
   {
    "duration": 137,
    "start_time": "2024-05-08T10:18:10.010Z"
   },
   {
    "duration": 279,
    "start_time": "2024-05-08T10:18:10.148Z"
   },
   {
    "duration": 7,
    "start_time": "2024-05-08T10:18:10.429Z"
   },
   {
    "duration": 27,
    "start_time": "2024-05-08T10:18:11.870Z"
   },
   {
    "duration": 28,
    "start_time": "2024-05-08T10:18:23.210Z"
   },
   {
    "duration": 26,
    "start_time": "2024-05-08T10:18:27.349Z"
   },
   {
    "duration": 28,
    "start_time": "2024-05-08T10:18:30.150Z"
   },
   {
    "duration": 3,
    "start_time": "2024-05-08T10:18:47.020Z"
   },
   {
    "duration": 224,
    "start_time": "2024-05-08T10:18:47.039Z"
   },
   {
    "duration": 165,
    "start_time": "2024-05-08T10:18:47.266Z"
   },
   {
    "duration": 45,
    "start_time": "2024-05-08T10:18:47.432Z"
   },
   {
    "duration": 10,
    "start_time": "2024-05-08T10:18:47.479Z"
   },
   {
    "duration": 84,
    "start_time": "2024-05-08T10:18:47.491Z"
   },
   {
    "duration": 194,
    "start_time": "2024-05-08T10:18:47.578Z"
   },
   {
    "duration": 117,
    "start_time": "2024-05-08T10:18:47.775Z"
   },
   {
    "duration": 4,
    "start_time": "2024-05-08T10:18:47.895Z"
   },
   {
    "duration": 13,
    "start_time": "2024-05-08T10:18:47.900Z"
   },
   {
    "duration": 4,
    "start_time": "2024-05-08T10:18:47.915Z"
   },
   {
    "duration": 88,
    "start_time": "2024-05-08T10:18:47.921Z"
   },
   {
    "duration": 258,
    "start_time": "2024-05-08T10:18:48.010Z"
   },
   {
    "duration": 260,
    "start_time": "2024-05-08T10:18:48.269Z"
   },
   {
    "duration": 39,
    "start_time": "2024-05-08T10:18:48.533Z"
   },
   {
    "duration": 257,
    "start_time": "2024-05-08T10:18:48.574Z"
   },
   {
    "duration": 283,
    "start_time": "2024-05-08T10:18:48.833Z"
   },
   {
    "duration": 8,
    "start_time": "2024-05-08T10:18:49.117Z"
   },
   {
    "duration": 24,
    "start_time": "2024-05-08T10:18:57.873Z"
   },
   {
    "duration": 45,
    "start_time": "2024-05-08T10:20:43.663Z"
   },
   {
    "duration": 3,
    "start_time": "2024-05-08T10:27:58.707Z"
   },
   {
    "duration": 202,
    "start_time": "2024-05-08T10:27:58.713Z"
   },
   {
    "duration": 143,
    "start_time": "2024-05-08T10:27:58.917Z"
   },
   {
    "duration": 35,
    "start_time": "2024-05-08T10:27:59.061Z"
   },
   {
    "duration": 10,
    "start_time": "2024-05-08T10:27:59.098Z"
   },
   {
    "duration": 88,
    "start_time": "2024-05-08T10:27:59.109Z"
   },
   {
    "duration": 179,
    "start_time": "2024-05-08T10:27:59.199Z"
   },
   {
    "duration": 94,
    "start_time": "2024-05-08T10:27:59.380Z"
   },
   {
    "duration": 4,
    "start_time": "2024-05-08T10:27:59.475Z"
   },
   {
    "duration": 9,
    "start_time": "2024-05-08T10:27:59.480Z"
   },
   {
    "duration": 6,
    "start_time": "2024-05-08T10:27:59.491Z"
   },
   {
    "duration": 74,
    "start_time": "2024-05-08T10:27:59.498Z"
   },
   {
    "duration": 261,
    "start_time": "2024-05-08T10:27:59.574Z"
   },
   {
    "duration": 253,
    "start_time": "2024-05-08T10:27:59.837Z"
   },
   {
    "duration": 35,
    "start_time": "2024-05-08T10:28:00.092Z"
   },
   {
    "duration": 137,
    "start_time": "2024-05-08T10:28:00.129Z"
   },
   {
    "duration": 273,
    "start_time": "2024-05-08T10:28:00.267Z"
   },
   {
    "duration": 15,
    "start_time": "2024-05-08T10:28:00.542Z"
   },
   {
    "duration": 43,
    "start_time": "2024-05-08T10:28:00.558Z"
   },
   {
    "duration": 184,
    "start_time": "2024-05-08T10:28:00.603Z"
   },
   {
    "duration": 7,
    "start_time": "2024-05-08T10:28:00.788Z"
   },
   {
    "duration": 58,
    "start_time": "2024-05-08T10:28:00.796Z"
   },
   {
    "duration": 71,
    "start_time": "2024-05-08T10:28:06.319Z"
   },
   {
    "duration": 110,
    "start_time": "2024-05-08T10:28:10.906Z"
   },
   {
    "duration": 757,
    "start_time": "2024-05-08T10:28:15.244Z"
   },
   {
    "duration": 46,
    "start_time": "2024-05-08T10:28:31.489Z"
   },
   {
    "duration": 11,
    "start_time": "2024-05-08T10:30:39.557Z"
   },
   {
    "duration": 7,
    "start_time": "2024-05-08T10:30:52.935Z"
   },
   {
    "duration": 5,
    "start_time": "2024-05-08T10:31:31.644Z"
   },
   {
    "duration": 8,
    "start_time": "2024-05-08T10:31:41.624Z"
   },
   {
    "duration": 6,
    "start_time": "2024-05-08T10:32:35.092Z"
   },
   {
    "duration": 6,
    "start_time": "2024-05-08T10:32:40.975Z"
   },
   {
    "duration": 10,
    "start_time": "2024-05-08T10:42:58.963Z"
   },
   {
    "duration": 52,
    "start_time": "2024-05-08T10:49:09.481Z"
   },
   {
    "duration": 38,
    "start_time": "2024-05-08T11:10:09.153Z"
   },
   {
    "duration": 118,
    "start_time": "2024-05-08T11:12:10.124Z"
   },
   {
    "duration": 115,
    "start_time": "2024-05-08T11:12:48.772Z"
   },
   {
    "duration": 128,
    "start_time": "2024-05-08T11:13:22.651Z"
   },
   {
    "duration": 121,
    "start_time": "2024-05-08T11:13:37.975Z"
   },
   {
    "duration": 124,
    "start_time": "2024-05-08T11:13:55.560Z"
   },
   {
    "duration": 126,
    "start_time": "2024-05-08T11:14:34.557Z"
   },
   {
    "duration": 126,
    "start_time": "2024-05-08T11:15:12.235Z"
   },
   {
    "duration": 4,
    "start_time": "2024-05-08T11:16:07.766Z"
   },
   {
    "duration": 223,
    "start_time": "2024-05-08T11:16:07.773Z"
   },
   {
    "duration": 137,
    "start_time": "2024-05-08T11:16:07.998Z"
   },
   {
    "duration": 43,
    "start_time": "2024-05-08T11:16:08.136Z"
   },
   {
    "duration": 10,
    "start_time": "2024-05-08T11:16:08.180Z"
   },
   {
    "duration": 101,
    "start_time": "2024-05-08T11:16:08.191Z"
   },
   {
    "duration": 165,
    "start_time": "2024-05-08T11:16:08.294Z"
   },
   {
    "duration": 96,
    "start_time": "2024-05-08T11:16:08.461Z"
   },
   {
    "duration": 3,
    "start_time": "2024-05-08T11:16:08.559Z"
   },
   {
    "duration": 23,
    "start_time": "2024-05-08T11:16:08.563Z"
   },
   {
    "duration": 19,
    "start_time": "2024-05-08T11:16:08.588Z"
   },
   {
    "duration": 59,
    "start_time": "2024-05-08T11:16:08.609Z"
   },
   {
    "duration": 374,
    "start_time": "2024-05-08T11:16:08.670Z"
   },
   {
    "duration": 244,
    "start_time": "2024-05-08T11:16:09.046Z"
   },
   {
    "duration": 126,
    "start_time": "2024-05-08T11:16:09.291Z"
   },
   {
    "duration": 44,
    "start_time": "2024-05-08T11:16:09.418Z"
   },
   {
    "duration": 123,
    "start_time": "2024-05-08T11:16:09.464Z"
   },
   {
    "duration": 294,
    "start_time": "2024-05-08T11:16:09.589Z"
   },
   {
    "duration": 8,
    "start_time": "2024-05-08T11:16:09.884Z"
   },
   {
    "duration": 38,
    "start_time": "2024-05-08T11:16:09.893Z"
   },
   {
    "duration": 194,
    "start_time": "2024-05-08T11:16:09.933Z"
   },
   {
    "duration": 7,
    "start_time": "2024-05-08T11:16:10.129Z"
   },
   {
    "duration": 44,
    "start_time": "2024-05-08T11:16:10.138Z"
   },
   {
    "duration": 66,
    "start_time": "2024-05-08T11:16:10.184Z"
   },
   {
    "duration": 135,
    "start_time": "2024-05-08T11:16:10.257Z"
   },
   {
    "duration": 47,
    "start_time": "2024-05-08T11:16:10.393Z"
   },
   {
    "duration": 24,
    "start_time": "2024-05-08T11:16:10.441Z"
   },
   {
    "duration": 41,
    "start_time": "2024-05-08T11:16:10.467Z"
   },
   {
    "duration": 70,
    "start_time": "2024-05-08T11:16:10.511Z"
   },
   {
    "duration": 48,
    "start_time": "2024-05-08T11:16:10.583Z"
   },
   {
    "duration": 67,
    "start_time": "2024-05-08T11:16:10.633Z"
   },
   {
    "duration": 61,
    "start_time": "2024-05-08T11:16:10.702Z"
   },
   {
    "duration": 113,
    "start_time": "2024-05-08T11:16:10.765Z"
   },
   {
    "duration": 119,
    "start_time": "2024-05-08T11:16:10.880Z"
   },
   {
    "duration": 5,
    "start_time": "2024-05-08T11:16:11.001Z"
   },
   {
    "duration": 820,
    "start_time": "2024-05-08T11:16:11.007Z"
   },
   {
    "duration": 0,
    "start_time": "2024-05-08T11:16:11.829Z"
   },
   {
    "duration": 0,
    "start_time": "2024-05-08T11:16:11.830Z"
   },
   {
    "duration": 0,
    "start_time": "2024-05-08T11:16:11.832Z"
   },
   {
    "duration": 1,
    "start_time": "2024-05-08T11:16:11.833Z"
   },
   {
    "duration": 123,
    "start_time": "2024-05-08T11:17:03.795Z"
   },
   {
    "duration": 120,
    "start_time": "2024-05-08T11:17:06.298Z"
   },
   {
    "duration": 5,
    "start_time": "2024-05-08T11:17:12.094Z"
   },
   {
    "duration": 11,
    "start_time": "2024-05-08T11:17:15.389Z"
   },
   {
    "duration": 4,
    "start_time": "2024-05-08T11:42:57.648Z"
   },
   {
    "duration": 216,
    "start_time": "2024-05-08T11:42:57.655Z"
   },
   {
    "duration": 136,
    "start_time": "2024-05-08T11:42:57.872Z"
   },
   {
    "duration": 49,
    "start_time": "2024-05-08T11:42:58.010Z"
   },
   {
    "duration": 14,
    "start_time": "2024-05-08T11:42:58.061Z"
   },
   {
    "duration": 82,
    "start_time": "2024-05-08T11:42:58.077Z"
   },
   {
    "duration": 198,
    "start_time": "2024-05-08T11:42:58.161Z"
   },
   {
    "duration": 84,
    "start_time": "2024-05-08T11:42:58.361Z"
   },
   {
    "duration": 11,
    "start_time": "2024-05-08T11:42:58.446Z"
   },
   {
    "duration": 42,
    "start_time": "2024-05-08T11:42:58.458Z"
   },
   {
    "duration": 12,
    "start_time": "2024-05-08T11:42:58.503Z"
   },
   {
    "duration": 84,
    "start_time": "2024-05-08T11:42:58.516Z"
   },
   {
    "duration": 236,
    "start_time": "2024-05-08T11:42:58.601Z"
   },
   {
    "duration": 342,
    "start_time": "2024-05-08T11:42:58.838Z"
   },
   {
    "duration": 116,
    "start_time": "2024-05-08T11:42:59.181Z"
   },
   {
    "duration": 30,
    "start_time": "2024-05-08T11:42:59.299Z"
   },
   {
    "duration": 141,
    "start_time": "2024-05-08T11:42:59.330Z"
   },
   {
    "duration": 266,
    "start_time": "2024-05-08T11:42:59.472Z"
   },
   {
    "duration": 18,
    "start_time": "2024-05-08T11:42:59.739Z"
   },
   {
    "duration": 27,
    "start_time": "2024-05-08T11:42:59.759Z"
   },
   {
    "duration": 170,
    "start_time": "2024-05-08T11:42:59.788Z"
   },
   {
    "duration": 6,
    "start_time": "2024-05-08T11:42:59.959Z"
   },
   {
    "duration": 90,
    "start_time": "2024-05-08T11:42:59.967Z"
   },
   {
    "duration": 113,
    "start_time": "2024-05-08T11:43:00.058Z"
   },
   {
    "duration": 117,
    "start_time": "2024-05-08T11:43:00.172Z"
   },
   {
    "duration": 43,
    "start_time": "2024-05-08T11:43:00.290Z"
   },
   {
    "duration": 27,
    "start_time": "2024-05-08T11:43:00.335Z"
   },
   {
    "duration": 46,
    "start_time": "2024-05-08T11:43:00.363Z"
   },
   {
    "duration": 121,
    "start_time": "2024-05-08T11:43:00.412Z"
   },
   {
    "duration": 45,
    "start_time": "2024-05-08T11:43:00.535Z"
   },
   {
    "duration": 53,
    "start_time": "2024-05-08T11:43:00.581Z"
   },
   {
    "duration": 57,
    "start_time": "2024-05-08T11:43:00.636Z"
   },
   {
    "duration": 115,
    "start_time": "2024-05-08T11:43:00.694Z"
   },
   {
    "duration": 123,
    "start_time": "2024-05-08T11:43:00.811Z"
   },
   {
    "duration": 7,
    "start_time": "2024-05-08T11:43:00.936Z"
   },
   {
    "duration": 58,
    "start_time": "2024-05-08T11:43:00.955Z"
   },
   {
    "duration": 40,
    "start_time": "2024-05-08T11:43:01.015Z"
   },
   {
    "duration": 102,
    "start_time": "2024-05-08T11:43:01.057Z"
   },
   {
    "duration": 60,
    "start_time": "2024-05-08T11:43:01.160Z"
   },
   {
    "duration": 59,
    "start_time": "2024-05-08T11:43:01.221Z"
   },
   {
    "duration": 1246,
    "start_time": "2024-05-09T04:19:19.659Z"
   },
   {
    "duration": 874,
    "start_time": "2024-05-09T04:19:20.907Z"
   },
   {
    "duration": 170,
    "start_time": "2024-05-09T04:19:21.782Z"
   },
   {
    "duration": 42,
    "start_time": "2024-05-09T04:19:21.954Z"
   },
   {
    "duration": 14,
    "start_time": "2024-05-09T04:19:21.998Z"
   },
   {
    "duration": 86,
    "start_time": "2024-05-09T04:19:22.014Z"
   },
   {
    "duration": 181,
    "start_time": "2024-05-09T04:19:22.101Z"
   },
   {
    "duration": 90,
    "start_time": "2024-05-09T04:19:22.283Z"
   },
   {
    "duration": 3,
    "start_time": "2024-05-09T04:19:22.374Z"
   },
   {
    "duration": 11,
    "start_time": "2024-05-09T04:19:22.380Z"
   },
   {
    "duration": 5,
    "start_time": "2024-05-09T04:19:22.392Z"
   },
   {
    "duration": 82,
    "start_time": "2024-05-09T04:19:22.398Z"
   },
   {
    "duration": 275,
    "start_time": "2024-05-09T04:19:22.482Z"
   },
   {
    "duration": 249,
    "start_time": "2024-05-09T04:19:22.759Z"
   },
   {
    "duration": 126,
    "start_time": "2024-05-09T04:19:23.009Z"
   },
   {
    "duration": 41,
    "start_time": "2024-05-09T04:19:23.136Z"
   },
   {
    "duration": 118,
    "start_time": "2024-05-09T04:19:23.179Z"
   },
   {
    "duration": 282,
    "start_time": "2024-05-09T04:19:23.298Z"
   },
   {
    "duration": 9,
    "start_time": "2024-05-09T04:19:23.582Z"
   },
   {
    "duration": 36,
    "start_time": "2024-05-09T04:19:23.593Z"
   },
   {
    "duration": 202,
    "start_time": "2024-05-09T04:19:23.631Z"
   },
   {
    "duration": 8,
    "start_time": "2024-05-09T04:19:23.835Z"
   },
   {
    "duration": 43,
    "start_time": "2024-05-09T04:19:23.845Z"
   },
   {
    "duration": 81,
    "start_time": "2024-05-09T04:19:23.890Z"
   },
   {
    "duration": 200,
    "start_time": "2024-05-09T04:19:23.972Z"
   },
   {
    "duration": 441,
    "start_time": "2024-05-09T04:19:24.173Z"
   },
   {
    "duration": 10,
    "start_time": "2024-05-09T04:19:24.616Z"
   },
   {
    "duration": 41,
    "start_time": "2024-05-09T04:19:24.629Z"
   },
   {
    "duration": 113,
    "start_time": "2024-05-09T04:19:24.672Z"
   },
   {
    "duration": 53,
    "start_time": "2024-05-09T04:19:24.796Z"
   },
   {
    "duration": 70,
    "start_time": "2024-05-09T04:19:24.851Z"
   },
   {
    "duration": 71,
    "start_time": "2024-05-09T04:19:24.923Z"
   },
   {
    "duration": 121,
    "start_time": "2024-05-09T04:19:24.996Z"
   },
   {
    "duration": 133,
    "start_time": "2024-05-09T04:19:25.119Z"
   },
   {
    "duration": 5,
    "start_time": "2024-05-09T04:19:25.254Z"
   },
   {
    "duration": 44,
    "start_time": "2024-05-09T04:19:25.260Z"
   },
   {
    "duration": 23,
    "start_time": "2024-05-09T04:19:25.305Z"
   },
   {
    "duration": 15,
    "start_time": "2024-05-09T04:19:25.329Z"
   },
   {
    "duration": 14,
    "start_time": "2024-05-09T04:19:25.346Z"
   },
   {
    "duration": 10,
    "start_time": "2024-05-09T04:19:25.362Z"
   }
  ],
  "kernelspec": {
   "display_name": "Python 3 (ipykernel)",
   "language": "python",
   "name": "python3"
  },
  "language_info": {
   "codemirror_mode": {
    "name": "ipython",
    "version": 3
   },
   "file_extension": ".py",
   "mimetype": "text/x-python",
   "name": "python",
   "nbconvert_exporter": "python",
   "pygments_lexer": "ipython3",
   "version": "3.11.7"
  },
  "toc": {
   "base_numbering": 1,
   "nav_menu": {},
   "number_sections": true,
   "sideBar": true,
   "skip_h1_title": true,
   "title_cell": "Table of Contents",
   "title_sidebar": "Contents",
   "toc_cell": false,
   "toc_position": {},
   "toc_section_display": true,
   "toc_window_display": false
  }
 },
 "nbformat": 4,
 "nbformat_minor": 4
}
