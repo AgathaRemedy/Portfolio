{
 "cells": [
  {
   "cell_type": "markdown",
   "id": "d61a91ad",
   "metadata": {},
   "source": [
    "# Статистический анализ данных сервиса аренды самокатов GoFast"
   ]
  },
  {
   "cell_type": "markdown",
   "id": "c6942fcd",
   "metadata": {},
   "source": [
    "<h2>Содержание</h2>\n",
    "\n",
    "<ul>\n",
    "    <li><a href=\"#step_1\">Введение</a></li>\n",
    "    <li><a href=\"#step_2\">Изучение общей информации о данных</a></li>\n",
    "    <li><a href=\"#step_3\">Предобработка данных</a>\n",
    "    <ul>\n",
    "        <li><a href=\"#step_3_1\">Приведение столбца <code>date</code> к типу даты pandas</a></li>\n",
    "        <li><a href=\"#step_3_2\">Cоздание нового столбца с номером месяца на основе столбца <code>date</code></a></li>\n",
    "        <li><a href=\"#step_3_3\">Проверка и обработка пропущенных значений и дубликатов в датафреймах</a></li>\n",
    "        <li><a href=\"#step_3_4\">Вывод</a></li>\n",
    "        </ul></li>\n",
    "    <li><a href=\"#step_4\"> Описание и визуализация информации о пользователях и поездках:</a>\n",
    "    <ul>\n",
    "        <li><a href=\"#step_4_1\">Частота встречаемости городов</a></li>\n",
    "        <li><a href=\"#step_4_2\">Cоотношение пользователей с подпиской и без подписки</a></li>\n",
    "        <li><a href=\"#step_4_3\">Возраст пользователей</a></li>\n",
    "        <li><a href=\"#step_4_4\">Расстояние, которое пользователь преодолел за одну поездку</a></li>\n",
    "        <li><a href=\"#step_4_5\">Продолжительность поездок</a></li>\n",
    "    </ul></li>\n",
    "    <li><a href=\"#step_5\">Объединение данных</a>\n",
    "    <ul>\n",
    "        <li><a href=\"#step_5_1\">Объединение данных о пользователях, поездках и подписках в один датафрейм.</a></li>\n",
    "        <li><a href=\"#step_5_2\">Создание датафреймов на основе объединённого</a>: \n",
    "            <ul>\n",
    "                <li><a href=\"#step_5_2_1\">c данными о пользователях без подписки</a></li>\n",
    "                <li><a href=\"#step_5_2_2\">с данными о пользователях с подпиской</a></li></ul></li>\n",
    "        <li><a href=\"#step_5_3\">Визуализация информации о расстоянии и времени поездок для пользователей обеих категорий</a></li>\n",
    "        <li><a href=\"#step_5_4\">Выводы</a></li>\n",
    "    </ul></li>\n",
    "    <li><a href=\"#step_6\">Подсчёт выручки</a></li>\n",
    "    <li><a href=\"#step_7\">Проверка гипотез</a></li>\n",
    "    <li><a href=\"#step_8\">Распределения</a></li>\n",
    "    <li><a href=\"#step_9\">Выводы</a></li>\n",
    "</ul>"
   ]
  },
  {
   "cell_type": "markdown",
   "id": "64bb257b",
   "metadata": {},
   "source": [
    "<a id='step_1'></a>\n",
    "\n",
    "## Введение"
   ]
  },
  {
   "cell_type": "markdown",
   "id": "c6be600f",
   "metadata": {},
   "source": [
    "**Краткое описание проекта**: В нашем распоряжении данные сервиса аренды самокатов GoFast, которые содержат информацию о некоторых пользователях из нескольких городов, а также данные о поездках этих пользователей. Требуется проверить некоторые гипотезы, которые помогут бизнесу вырасти. \n",
    "<p>Чтобы совершать поездки по городу, пользователи сервиса GoFast пользуются мобильным приложением. Сервисом можно пользоваться:</p>\n",
    "<ul>\n",
    "    <li>без подписки<ul>\n",
    "        <li>абонентская плата отсутствует;</li>\n",
    "        <li>стоимость одной минуты поездки — 8 &#8381;;</li>\n",
    "        <li>стоимость старта (начала поездки) — 50 &#8381;;</li></ul></li>\n",
    "    <li>с подпиской Ultra<ul>\n",
    "        <li>абонентская плата — 199 &#8381;/мес;</li>\n",
    "        <li>стоимость одной минуты поездки — 6 &#8381;;</li>\n",
    "        <li>стоимость старта — бесплатно.</li></ul></li></ul>"
   ]
  },
  {
   "cell_type": "markdown",
   "id": "47be1ba0",
   "metadata": {},
   "source": [
    "**Цель проекта**: Проверить следующие гипотезы:  \n",
    "1. Тратят ли пользователи с подпиской больше времени на поездки?\n",
    "2. Расстояние одной поездки в 3130 метров — оптимальное с точки зрения износа самоката. Можно ли сказать, что расстояние, которое проезжают пользователи с подпиской за одну поездку не превышает 3130 метров? \n",
    "3. Будет ли помесячная выручка от пользователей с подпиской по месяцам выше, чем выручка от пользователей без подписки?\n",
    "\n",
    "Техническая команда сервиса обновила сервера, с которыми взаимодействует мобильное приложение. Они хотят убедиться, что благодаря этому количество обращений в техподдержку значительно снизилось. Некоторый файл содержит для каждого пользователя данные о количестве обращений до обновления серверов и после обновления. **Какой тест понадобился бы для проверки этой гипотезы?**\n",
    "\n",
    "&star; **Доп. задание №1**: Отделу маркетинга GoFast поставили задачу: нужно провести акцию с раздачей промокодов на один бесплатный месяц подписки, в рамках которой как минимум 100 существующих клиентов должны продлить эту подписку. То есть по завершении периода действия подписки пользователь может либо отказаться от неё, либо продлить, совершив соответствующий платёж.   \n",
    "Эта акция уже проводилась ранее и по итогу выяснилось, что после бесплатного пробного периода подписку продлевают 10 % пользователей. Выясните, какое минимальное количество промокодов нужно разослать, чтобы вероятность не выполнить план была примерно 5 %. Подберите параметры распределения, описывающего эту ситуацию, постройте график распределения и сформулируйте ответ на вопрос о количестве промокодов.\n",
    "\n",
    "&star; **Доп. задание №2**: Отдел маркетинга рассылает клиентам push-уведомления в мобильном приложении. Клиенты могут открыть его или не открывать. Известно, что уведомления открывают около 40 % получивших их клиентов. Отдел планирует разослать 11 млн уведомлений. С помощью аппроксимации постройте примерный график распределения и оцените вероятность того, что уведомление откроют не более 399,5 тыс. пользователей."
   ]
  },
  {
   "cell_type": "markdown",
   "id": "c42cbe00",
   "metadata": {},
   "source": [
    "<a id='step_2'></a>\n",
    "## Изучение общей информации о данных"
   ]
  },
  {
   "cell_type": "markdown",
   "id": "22f7adf2",
   "metadata": {},
   "source": [
    "Импортируем все библиотеки, необходимые для исследования."
   ]
  },
  {
   "cell_type": "code",
   "execution_count": 1,
   "id": "72576667",
   "metadata": {},
   "outputs": [],
   "source": [
    "import pandas as pd\n",
    "import matplotlib.pyplot as plt \n",
    "import numpy as np\n",
    "import scipy.stats as st\n",
    "from math import factorial, sqrt\n",
    "from scipy.stats import binom, norm"
   ]
  },
  {
   "cell_type": "markdown",
   "id": "ec430f33",
   "metadata": {},
   "source": [
    "Считываем .CSV-файлы в датафреймы: \n",
    "<ul>\n",
    "    <li>users_go.csv &#8594; <code>users_go</code></li>\n",
    "    <li>rides_go.csv &#8594; <code>rides_go</code></li>\n",
    "    <li>subscriptions_go.csv &#8594; <code>subscriptions_go</code></li>\n",
    "</ul>    "
   ]
  },
  {
   "cell_type": "markdown",
   "id": "89e1df15",
   "metadata": {},
   "source": [
    "### `users_go`"
   ]
  },
  {
   "cell_type": "code",
   "execution_count": 2,
   "id": "eff9f206",
   "metadata": {},
   "outputs": [
    {
     "name": "stdout",
     "output_type": "stream",
     "text": [
      "<class 'pandas.core.frame.DataFrame'>\n",
      "RangeIndex: 1565 entries, 0 to 1564\n",
      "Data columns (total 5 columns):\n",
      " #   Column             Non-Null Count  Dtype \n",
      "---  ------             --------------  ----- \n",
      " 0   user_id            1565 non-null   int64 \n",
      " 1   name               1565 non-null   object\n",
      " 2   age                1565 non-null   int64 \n",
      " 3   city               1565 non-null   object\n",
      " 4   subscription_type  1565 non-null   object\n",
      "dtypes: int64(2), object(3)\n",
      "memory usage: 61.3+ KB\n"
     ]
    },
    {
     "data": {
      "text/html": [
       "<div>\n",
       "<style scoped>\n",
       "    .dataframe tbody tr th:only-of-type {\n",
       "        vertical-align: middle;\n",
       "    }\n",
       "\n",
       "    .dataframe tbody tr th {\n",
       "        vertical-align: top;\n",
       "    }\n",
       "\n",
       "    .dataframe thead th {\n",
       "        text-align: right;\n",
       "    }\n",
       "</style>\n",
       "<table border=\"1\" class=\"dataframe\">\n",
       "  <thead>\n",
       "    <tr style=\"text-align: right;\">\n",
       "      <th></th>\n",
       "      <th>user_id</th>\n",
       "      <th>name</th>\n",
       "      <th>age</th>\n",
       "      <th>city</th>\n",
       "      <th>subscription_type</th>\n",
       "    </tr>\n",
       "  </thead>\n",
       "  <tbody>\n",
       "    <tr>\n",
       "      <th>0</th>\n",
       "      <td>1</td>\n",
       "      <td>Кира</td>\n",
       "      <td>22</td>\n",
       "      <td>Тюмень</td>\n",
       "      <td>ultra</td>\n",
       "    </tr>\n",
       "    <tr>\n",
       "      <th>1</th>\n",
       "      <td>2</td>\n",
       "      <td>Станислав</td>\n",
       "      <td>31</td>\n",
       "      <td>Омск</td>\n",
       "      <td>ultra</td>\n",
       "    </tr>\n",
       "    <tr>\n",
       "      <th>2</th>\n",
       "      <td>3</td>\n",
       "      <td>Алексей</td>\n",
       "      <td>20</td>\n",
       "      <td>Москва</td>\n",
       "      <td>ultra</td>\n",
       "    </tr>\n",
       "    <tr>\n",
       "      <th>3</th>\n",
       "      <td>4</td>\n",
       "      <td>Константин</td>\n",
       "      <td>26</td>\n",
       "      <td>Ростов-на-Дону</td>\n",
       "      <td>ultra</td>\n",
       "    </tr>\n",
       "    <tr>\n",
       "      <th>4</th>\n",
       "      <td>5</td>\n",
       "      <td>Адель</td>\n",
       "      <td>28</td>\n",
       "      <td>Омск</td>\n",
       "      <td>ultra</td>\n",
       "    </tr>\n",
       "  </tbody>\n",
       "</table>\n",
       "</div>"
      ],
      "text/plain": [
       "   user_id        name  age            city subscription_type\n",
       "0        1        Кира   22          Тюмень             ultra\n",
       "1        2   Станислав   31            Омск             ultra\n",
       "2        3     Алексей   20          Москва             ultra\n",
       "3        4  Константин   26  Ростов-на-Дону             ultra\n",
       "4        5       Адель   28            Омск             ultra"
      ]
     },
     "execution_count": 2,
     "metadata": {},
     "output_type": "execute_result"
    }
   ],
   "source": [
    "try:\n",
    "    users_go = pd.read_csv('/datasets/users_go.csv')\n",
    "except:\n",
    "    users_go = pd.read_csv('https://datasets/users_go.csv')\n",
    "users_go.info()\n",
    "users_go.head()"
   ]
  },
  {
   "cell_type": "markdown",
   "id": "75818d05",
   "metadata": {},
   "source": [
    "В датафрейме `users_go` содержится 1565 строк с информацией об идентификаторе, имени, возрасте, городе, а также типе подписки пользователя. Типы данных столбцов корректны (`object` для имени, города и типа подписки, `int64` для идентификатора и возраста пользователя). В ответе метода `info()` не указано, что в датафрейме содержатся пропущенные значения, однако нельзя исключать наличие &laquo;значений-заглушек&raquo;. Рассмотрим их подробнее на этапе предобработки данных."
   ]
  },
  {
   "cell_type": "markdown",
   "id": "773e7d3d",
   "metadata": {},
   "source": [
    "### `rides_go`"
   ]
  },
  {
   "cell_type": "code",
   "execution_count": 3,
   "id": "ff73f11e",
   "metadata": {},
   "outputs": [
    {
     "name": "stdout",
     "output_type": "stream",
     "text": [
      "<class 'pandas.core.frame.DataFrame'>\n",
      "RangeIndex: 18068 entries, 0 to 18067\n",
      "Data columns (total 4 columns):\n",
      " #   Column    Non-Null Count  Dtype         \n",
      "---  ------    --------------  -----         \n",
      " 0   user_id   18068 non-null  int64         \n",
      " 1   distance  18068 non-null  float64       \n",
      " 2   duration  18068 non-null  float64       \n",
      " 3   date      18068 non-null  datetime64[ns]\n",
      "dtypes: datetime64[ns](1), float64(2), int64(1)\n",
      "memory usage: 564.8 KB\n"
     ]
    },
    {
     "data": {
      "text/html": [
       "<div>\n",
       "<style scoped>\n",
       "    .dataframe tbody tr th:only-of-type {\n",
       "        vertical-align: middle;\n",
       "    }\n",
       "\n",
       "    .dataframe tbody tr th {\n",
       "        vertical-align: top;\n",
       "    }\n",
       "\n",
       "    .dataframe thead th {\n",
       "        text-align: right;\n",
       "    }\n",
       "</style>\n",
       "<table border=\"1\" class=\"dataframe\">\n",
       "  <thead>\n",
       "    <tr style=\"text-align: right;\">\n",
       "      <th></th>\n",
       "      <th>user_id</th>\n",
       "      <th>distance</th>\n",
       "      <th>duration</th>\n",
       "      <th>date</th>\n",
       "    </tr>\n",
       "  </thead>\n",
       "  <tbody>\n",
       "    <tr>\n",
       "      <th>0</th>\n",
       "      <td>1</td>\n",
       "      <td>4409.919140</td>\n",
       "      <td>25.599769</td>\n",
       "      <td>2021-01-01</td>\n",
       "    </tr>\n",
       "    <tr>\n",
       "      <th>1</th>\n",
       "      <td>1</td>\n",
       "      <td>2617.592153</td>\n",
       "      <td>15.816871</td>\n",
       "      <td>2021-01-18</td>\n",
       "    </tr>\n",
       "    <tr>\n",
       "      <th>2</th>\n",
       "      <td>1</td>\n",
       "      <td>754.159807</td>\n",
       "      <td>6.232113</td>\n",
       "      <td>2021-04-20</td>\n",
       "    </tr>\n",
       "    <tr>\n",
       "      <th>3</th>\n",
       "      <td>1</td>\n",
       "      <td>2694.783254</td>\n",
       "      <td>18.511000</td>\n",
       "      <td>2021-08-11</td>\n",
       "    </tr>\n",
       "    <tr>\n",
       "      <th>4</th>\n",
       "      <td>1</td>\n",
       "      <td>4028.687306</td>\n",
       "      <td>26.265803</td>\n",
       "      <td>2021-08-28</td>\n",
       "    </tr>\n",
       "  </tbody>\n",
       "</table>\n",
       "</div>"
      ],
      "text/plain": [
       "   user_id     distance   duration       date\n",
       "0        1  4409.919140  25.599769 2021-01-01\n",
       "1        1  2617.592153  15.816871 2021-01-18\n",
       "2        1   754.159807   6.232113 2021-04-20\n",
       "3        1  2694.783254  18.511000 2021-08-11\n",
       "4        1  4028.687306  26.265803 2021-08-28"
      ]
     },
     "execution_count": 3,
     "metadata": {},
     "output_type": "execute_result"
    }
   ],
   "source": [
    "try:\n",
    "    rides_go = pd.read_csv('/datasets/rides_go.csv', parse_dates=['date'])\n",
    "except:\n",
    "    rides_go = pd.read_csv('https://datasets/rides_go.csv', parse_dates=['date'])\n",
    "rides_go.info()\n",
    "rides_go.head()"
   ]
  },
  {
   "cell_type": "markdown",
   "id": "1e12fc06",
   "metadata": {},
   "source": [
    "В датафрейме `rides_go` содержится 18 068 строк. Типы данных столбцов корректны для столбцов `user_id`, `distance` и `duration `, тип данных `date` нужно скорретировать `object` -> `date64`. В ответе метода `info()` не указано, что в датафрейме содержатся пропущенные значения, однако нельзя исключать наличие &laquo;значений-заглушек&raquo;. Рассмотрим их подробнее на этапе предобработки данных."
   ]
  },
  {
   "cell_type": "markdown",
   "id": "4326734e",
   "metadata": {},
   "source": [
    "### `subscriptions_go`"
   ]
  },
  {
   "cell_type": "code",
   "execution_count": 4,
   "id": "8eeb707c",
   "metadata": {},
   "outputs": [
    {
     "name": "stdout",
     "output_type": "stream",
     "text": [
      "<class 'pandas.core.frame.DataFrame'>\n",
      "RangeIndex: 2 entries, 0 to 1\n",
      "Data columns (total 4 columns):\n",
      " #   Column             Non-Null Count  Dtype \n",
      "---  ------             --------------  ----- \n",
      " 0   subscription_type  2 non-null      object\n",
      " 1   minute_price       2 non-null      int64 \n",
      " 2   start_ride_price   2 non-null      int64 \n",
      " 3   subscription_fee   2 non-null      int64 \n",
      "dtypes: int64(3), object(1)\n",
      "memory usage: 196.0+ bytes\n"
     ]
    },
    {
     "data": {
      "text/html": [
       "<div>\n",
       "<style scoped>\n",
       "    .dataframe tbody tr th:only-of-type {\n",
       "        vertical-align: middle;\n",
       "    }\n",
       "\n",
       "    .dataframe tbody tr th {\n",
       "        vertical-align: top;\n",
       "    }\n",
       "\n",
       "    .dataframe thead th {\n",
       "        text-align: right;\n",
       "    }\n",
       "</style>\n",
       "<table border=\"1\" class=\"dataframe\">\n",
       "  <thead>\n",
       "    <tr style=\"text-align: right;\">\n",
       "      <th></th>\n",
       "      <th>subscription_type</th>\n",
       "      <th>minute_price</th>\n",
       "      <th>start_ride_price</th>\n",
       "      <th>subscription_fee</th>\n",
       "    </tr>\n",
       "  </thead>\n",
       "  <tbody>\n",
       "    <tr>\n",
       "      <th>0</th>\n",
       "      <td>free</td>\n",
       "      <td>8</td>\n",
       "      <td>50</td>\n",
       "      <td>0</td>\n",
       "    </tr>\n",
       "    <tr>\n",
       "      <th>1</th>\n",
       "      <td>ultra</td>\n",
       "      <td>6</td>\n",
       "      <td>0</td>\n",
       "      <td>199</td>\n",
       "    </tr>\n",
       "  </tbody>\n",
       "</table>\n",
       "</div>"
      ],
      "text/plain": [
       "  subscription_type  minute_price  start_ride_price  subscription_fee\n",
       "0              free             8                50                 0\n",
       "1             ultra             6                 0               199"
      ]
     },
     "execution_count": 4,
     "metadata": {},
     "output_type": "execute_result"
    }
   ],
   "source": [
    "try:\n",
    "    subscriptions_go = pd.read_csv('/datasets/subscriptions_go.csv')\n",
    "except:\n",
    "    subscriptions_go = pd.read_csv('https://datasets/subscriptions_go.csv')\n",
    "subscriptions_go.info()\n",
    "subscriptions_go.head()"
   ]
  },
  {
   "cell_type": "markdown",
   "id": "6dfb551d",
   "metadata": {},
   "source": [
    "В датафрейме `subscriptions_go` содержатся 2 строки. Типы данных корректны для всех столбцов (`object` для типа подписки и `int64` для стоимости одной минуты поездки по данной подписке, стоимости начала поездки, стоимости ежемесячного платежа). Пропущенных значений нет, датафрейм соответствует условиям подписки."
   ]
  },
  {
   "cell_type": "markdown",
   "id": "e95ebca7",
   "metadata": {},
   "source": [
    "<a id='step_3'></a>\n",
    "## Предобработка данных"
   ]
  },
  {
   "cell_type": "markdown",
   "id": "d7936813",
   "metadata": {},
   "source": [
    "<a id='step_3_2'></a>\n",
    "### Создание нового столбца с номером месяца на основе столбца `date`"
   ]
  },
  {
   "cell_type": "markdown",
   "id": "c3e3a26a",
   "metadata": {},
   "source": [
    "Прежде, чем создавать новый столбец, проверим, сколько лет охватывают предоставленные данные."
   ]
  },
  {
   "cell_type": "code",
   "execution_count": 5,
   "id": "d2e0dc13",
   "metadata": {},
   "outputs": [
    {
     "data": {
      "text/plain": [
       "Index([2021], dtype='int32', name='date')"
      ]
     },
     "execution_count": 5,
     "metadata": {},
     "output_type": "execute_result"
    }
   ],
   "source": [
    "pd.DatetimeIndex(rides_go['date']).year.unique()"
   ]
  },
  {
   "cell_type": "markdown",
   "id": "067d3aa0",
   "metadata": {},
   "source": [
    "В датафрейме пристутствуют только данные за 2021 год. Так как нет опасности объединения даннных за разные годы, можем добавить столбец, который будет содержать только номер месяца (тип `int64`)."
   ]
  },
  {
   "cell_type": "code",
   "execution_count": 6,
   "id": "70cf3cf2",
   "metadata": {},
   "outputs": [
    {
     "data": {
      "text/html": [
       "<div>\n",
       "<style scoped>\n",
       "    .dataframe tbody tr th:only-of-type {\n",
       "        vertical-align: middle;\n",
       "    }\n",
       "\n",
       "    .dataframe tbody tr th {\n",
       "        vertical-align: top;\n",
       "    }\n",
       "\n",
       "    .dataframe thead th {\n",
       "        text-align: right;\n",
       "    }\n",
       "</style>\n",
       "<table border=\"1\" class=\"dataframe\">\n",
       "  <thead>\n",
       "    <tr style=\"text-align: right;\">\n",
       "      <th></th>\n",
       "      <th>user_id</th>\n",
       "      <th>distance</th>\n",
       "      <th>duration</th>\n",
       "      <th>date</th>\n",
       "      <th>date_month</th>\n",
       "    </tr>\n",
       "  </thead>\n",
       "  <tbody>\n",
       "    <tr>\n",
       "      <th>0</th>\n",
       "      <td>1</td>\n",
       "      <td>4409.919140</td>\n",
       "      <td>25.599769</td>\n",
       "      <td>2021-01-01</td>\n",
       "      <td>1</td>\n",
       "    </tr>\n",
       "    <tr>\n",
       "      <th>1</th>\n",
       "      <td>1</td>\n",
       "      <td>2617.592153</td>\n",
       "      <td>15.816871</td>\n",
       "      <td>2021-01-18</td>\n",
       "      <td>1</td>\n",
       "    </tr>\n",
       "    <tr>\n",
       "      <th>2</th>\n",
       "      <td>1</td>\n",
       "      <td>754.159807</td>\n",
       "      <td>6.232113</td>\n",
       "      <td>2021-04-20</td>\n",
       "      <td>4</td>\n",
       "    </tr>\n",
       "    <tr>\n",
       "      <th>3</th>\n",
       "      <td>1</td>\n",
       "      <td>2694.783254</td>\n",
       "      <td>18.511000</td>\n",
       "      <td>2021-08-11</td>\n",
       "      <td>8</td>\n",
       "    </tr>\n",
       "    <tr>\n",
       "      <th>4</th>\n",
       "      <td>1</td>\n",
       "      <td>4028.687306</td>\n",
       "      <td>26.265803</td>\n",
       "      <td>2021-08-28</td>\n",
       "      <td>8</td>\n",
       "    </tr>\n",
       "  </tbody>\n",
       "</table>\n",
       "</div>"
      ],
      "text/plain": [
       "   user_id     distance   duration       date  date_month\n",
       "0        1  4409.919140  25.599769 2021-01-01           1\n",
       "1        1  2617.592153  15.816871 2021-01-18           1\n",
       "2        1   754.159807   6.232113 2021-04-20           4\n",
       "3        1  2694.783254  18.511000 2021-08-11           8\n",
       "4        1  4028.687306  26.265803 2021-08-28           8"
      ]
     },
     "execution_count": 6,
     "metadata": {},
     "output_type": "execute_result"
    }
   ],
   "source": [
    "rides_go['date_month'] = pd.DatetimeIndex(rides_go['date']).month\n",
    "rides_go.head()"
   ]
  },
  {
   "cell_type": "markdown",
   "id": "225e6b9b",
   "metadata": {},
   "source": [
    "Новый столбец с номером месяца добавлен успешно."
   ]
  },
  {
   "cell_type": "markdown",
   "id": "ccd2b3d8",
   "metadata": {},
   "source": [
    "<a id='step_3_3'></a>\n",
    "### Проверка наличия пропущенных значений и дубликатов в датафреймах. "
   ]
  },
  {
   "cell_type": "markdown",
   "id": "932e4618",
   "metadata": {},
   "source": [
    "Исследуем каждый датафрейм на наличие явных/неявных дубликатов, а также на наличие пропущенных значений. "
   ]
  },
  {
   "cell_type": "markdown",
   "id": "fcafccb3",
   "metadata": {},
   "source": [
    "#### `users_go`"
   ]
  },
  {
   "cell_type": "markdown",
   "id": "c0bf82e3",
   "metadata": {},
   "source": [
    "Проверим, сколько явных дубликатов содержит датафрейм `user_go`:"
   ]
  },
  {
   "cell_type": "code",
   "execution_count": 7,
   "id": "9a8f332c",
   "metadata": {},
   "outputs": [
    {
     "name": "stdout",
     "output_type": "stream",
     "text": [
      "Количество явных дубликатов: 31\n"
     ]
    }
   ],
   "source": [
    "print(\"Количество явных дубликатов:\", users_go.duplicated().sum())"
   ]
  },
  {
   "cell_type": "markdown",
   "id": "e6b76deb",
   "metadata": {},
   "source": [
    "Удалим строки-дубликаты, за исключением первого вхождения."
   ]
  },
  {
   "cell_type": "code",
   "execution_count": 8,
   "id": "19a08b72",
   "metadata": {},
   "outputs": [
    {
     "name": "stdout",
     "output_type": "stream",
     "text": [
      "Количество явных дубликатов: 0\n"
     ]
    }
   ],
   "source": [
    "users_go = users_go.drop_duplicates(keep='first')\n",
    "print(\"Количество явных дубликатов:\", users_go.duplicated().sum())"
   ]
  },
  {
   "cell_type": "code",
   "execution_count": 9,
   "id": "c961ff0e",
   "metadata": {},
   "outputs": [
    {
     "name": "stdout",
     "output_type": "stream",
     "text": [
      "<class 'pandas.core.frame.DataFrame'>\n",
      "Index: 1534 entries, 0 to 1533\n",
      "Data columns (total 5 columns):\n",
      " #   Column             Non-Null Count  Dtype \n",
      "---  ------             --------------  ----- \n",
      " 0   user_id            1534 non-null   int64 \n",
      " 1   name               1534 non-null   object\n",
      " 2   age                1534 non-null   int64 \n",
      " 3   city               1534 non-null   object\n",
      " 4   subscription_type  1534 non-null   object\n",
      "dtypes: int64(2), object(3)\n",
      "memory usage: 71.9+ KB\n",
      "Минимальное значение user_id: 1\n",
      "Максимальное значение user_id: 1534\n"
     ]
    }
   ],
   "source": [
    "users_go.info()\n",
    "print(\"Минимальное значение user_id:\", users_go['user_id'].min())\n",
    "print(\"Максимальное значение user_id:\", users_go['user_id'].max())"
   ]
  },
  {
   "cell_type": "markdown",
   "id": "7bf2d130",
   "metadata": {},
   "source": [
    "После удаления дубликатов в столбце осталось 1534 строки. Минимальный идентификатор пользователя &mdash; 1, а максимальный &mdash; 1534. Из этого можем сделать вывод, что в дата-фрейме находится информация об 1534 уникальных пользователях.  \n",
    "\n",
    "Проверим другие столбцы на наличие &laquo;значений-заглушек&raquo; и неявных дубликатов:"
   ]
  },
  {
   "cell_type": "code",
   "execution_count": 10,
   "id": "65c8f578",
   "metadata": {},
   "outputs": [
    {
     "data": {
      "text/plain": [
       "array(['Агата', 'Аделина', 'Адель', 'Айдар', 'Александр', 'Александра',\n",
       "       'Алексей', 'Алина', 'Алиса', 'Алия', 'Алла', 'Альберт', 'Альбина',\n",
       "       'Алёна', 'Амалия', 'Амина', 'Амир', 'Анастасия', 'Анатолий',\n",
       "       'Ангелина', 'Андрей', 'Анжелика', 'Анна', 'Антон', 'Антонина',\n",
       "       'Ариана', 'Арина', 'Арсен', 'Арсений', 'Артемий', 'Артур', 'Артём',\n",
       "       'Богдан', 'Борис', 'Вадим', 'Валентина', 'Валерий', 'Валерия',\n",
       "       'Варвара', 'Василий', 'Василина', 'Василиса', 'Вера', 'Вероника',\n",
       "       'Виктор', 'Виктория', 'Виолетта', 'Виталий', 'Виталина', 'Влад',\n",
       "       'Влада', 'Владимир', 'Владислав', 'Владислава', 'Всеволод',\n",
       "       'Вячеслав', 'Галина', 'Георгий', 'Герман', 'Глеб', 'Гордей',\n",
       "       'Григорий', 'Давид', 'Дамир', 'Даниил', 'Данил', 'Данила',\n",
       "       'Даниэль', 'Дарина', 'Дарья', 'Демид', 'Денис', 'Диана', 'Дмитрий',\n",
       "       'Ева', 'Евгений', 'Евгения', 'Егор', 'Екатерина', 'Елена',\n",
       "       'Елизавета', 'Елисей', 'Есения', 'Жанна', 'Зарина', 'Захар',\n",
       "       'Злата', 'Иван', 'Игнат', 'Игорь', 'Ильдар', 'Илья', 'Инна',\n",
       "       'Ирина', 'Камилла', 'Карина', 'Каролина', 'Кира', 'Кирилл',\n",
       "       'Константин', 'Кристина', 'Ксения', 'Лариса', 'Лев', 'Леонид',\n",
       "       'Лиана', 'Лидия', 'Лилия', 'Любовь', 'Людмила', 'Мадина', 'Майя',\n",
       "       'Макар', 'Максим', 'Марат', 'Маргарита', 'Марина', 'Мария', 'Марк',\n",
       "       'Марсель', 'Матвей', 'Мелания', 'Милана', 'Милена', 'Мирон',\n",
       "       'Мирослав', 'Мирослава', 'Михаил', 'Назар', 'Наталия', 'Наталья',\n",
       "       'Наташа', 'Нелли', 'Ника', 'Никита', 'Николай', 'Нина', 'Одиссей',\n",
       "       'Оксана', 'Олег', 'Олеся', 'Ольга', 'Павел', 'Петр', 'Платон',\n",
       "       'Полина', 'Радмир', 'Рамиль', 'Регина', 'Роберт', 'Родион',\n",
       "       'Роман', 'Ростислав', 'Руслан', 'Рустам', 'Савелий', 'Самир',\n",
       "       'Самира', 'Светлана', 'Святогор', 'Святослав', 'Семен', 'Сергей',\n",
       "       'Снежана', 'София', 'Софья', 'Станислав', 'Степан', 'Стефания',\n",
       "       'Таисия', 'Тамара', 'Тамерлан', 'Татьяна', 'Тимофей', 'Тимур',\n",
       "       'Тихон', 'Ульяна', 'Федор', 'Эвелина', 'Эдуард', 'Элина',\n",
       "       'Эльвира', 'Эльмира', 'Эмилия', 'Эмиль', 'Юлиана', 'Юлия', 'Юрий',\n",
       "       'Ян', 'Яна', 'Яромир', 'Ярослав', 'Ярослава', 'Ясмина'],\n",
       "      dtype=object)"
      ]
     },
     "execution_count": 10,
     "metadata": {},
     "output_type": "execute_result"
    }
   ],
   "source": [
    "users_go['name'].sort_values().unique()"
   ]
  },
  {
   "cell_type": "markdown",
   "id": "53143a7c",
   "metadata": {},
   "source": [
    "Столбец `name` в полном порядке. Не было обнаружено никаких странных наборов символов вместо имени пользователя."
   ]
  },
  {
   "cell_type": "code",
   "execution_count": 11,
   "id": "4b16308a",
   "metadata": {},
   "outputs": [
    {
     "data": {
      "text/plain": [
       "array([12, 13, 14, 15, 16, 17, 18, 19, 20, 21, 22, 23, 24, 25, 26, 27, 28,\n",
       "       29, 30, 31, 32, 33, 34, 35, 36, 37, 38, 39, 43])"
      ]
     },
     "execution_count": 11,
     "metadata": {},
     "output_type": "execute_result"
    }
   ],
   "source": [
    "users_go['age'].sort_values().unique()"
   ]
  },
  {
   "cell_type": "markdown",
   "id": "a7e509ad",
   "metadata": {},
   "source": [
    "Минимальный возраст пользователя сервиса в пердоставленной выборке &mdash; 12 лет, а максимальный &mdash; 43 года. Аномальных значений (отрицательных, неправдоподобно малых или больших) не обнаружено.\n",
    "\n",
    "*В данный момент в правовых документах различных сервисов аренды электросамокатов указано, что договор об аренде может заключить только лицо, достигнувшее возраста совершеннолетия. Не уверенна, можно ли брать в работу эти данные, на всякий случай обращаю на них внимание.*"
   ]
  },
  {
   "cell_type": "code",
   "execution_count": 12,
   "id": "0dec71cf",
   "metadata": {},
   "outputs": [
    {
     "data": {
      "text/html": [
       "<div>\n",
       "<style scoped>\n",
       "    .dataframe tbody tr th:only-of-type {\n",
       "        vertical-align: middle;\n",
       "    }\n",
       "\n",
       "    .dataframe tbody tr th {\n",
       "        vertical-align: top;\n",
       "    }\n",
       "\n",
       "    .dataframe thead th {\n",
       "        text-align: right;\n",
       "    }\n",
       "</style>\n",
       "<table border=\"1\" class=\"dataframe\">\n",
       "  <thead>\n",
       "    <tr style=\"text-align: right;\">\n",
       "      <th></th>\n",
       "      <th>user_id</th>\n",
       "      <th>name</th>\n",
       "      <th>age</th>\n",
       "      <th>city</th>\n",
       "      <th>subscription_type</th>\n",
       "    </tr>\n",
       "  </thead>\n",
       "  <tbody>\n",
       "    <tr>\n",
       "      <th>20</th>\n",
       "      <td>21</td>\n",
       "      <td>Святогор</td>\n",
       "      <td>14</td>\n",
       "      <td>Ростов-на-Дону</td>\n",
       "      <td>ultra</td>\n",
       "    </tr>\n",
       "    <tr>\n",
       "      <th>33</th>\n",
       "      <td>34</td>\n",
       "      <td>Федор</td>\n",
       "      <td>17</td>\n",
       "      <td>Краснодар</td>\n",
       "      <td>ultra</td>\n",
       "    </tr>\n",
       "    <tr>\n",
       "      <th>34</th>\n",
       "      <td>35</td>\n",
       "      <td>Руслан</td>\n",
       "      <td>12</td>\n",
       "      <td>Пятигорск</td>\n",
       "      <td>ultra</td>\n",
       "    </tr>\n",
       "    <tr>\n",
       "      <th>48</th>\n",
       "      <td>49</td>\n",
       "      <td>Одиссей</td>\n",
       "      <td>17</td>\n",
       "      <td>Ростов-на-Дону</td>\n",
       "      <td>ultra</td>\n",
       "    </tr>\n",
       "    <tr>\n",
       "      <th>66</th>\n",
       "      <td>67</td>\n",
       "      <td>Анастасия</td>\n",
       "      <td>12</td>\n",
       "      <td>Ростов-на-Дону</td>\n",
       "      <td>ultra</td>\n",
       "    </tr>\n",
       "    <tr>\n",
       "      <th>...</th>\n",
       "      <td>...</td>\n",
       "      <td>...</td>\n",
       "      <td>...</td>\n",
       "      <td>...</td>\n",
       "      <td>...</td>\n",
       "    </tr>\n",
       "    <tr>\n",
       "      <th>1474</th>\n",
       "      <td>1475</td>\n",
       "      <td>Артём</td>\n",
       "      <td>17</td>\n",
       "      <td>Тюмень</td>\n",
       "      <td>free</td>\n",
       "    </tr>\n",
       "    <tr>\n",
       "      <th>1475</th>\n",
       "      <td>1476</td>\n",
       "      <td>Стефания</td>\n",
       "      <td>13</td>\n",
       "      <td>Москва</td>\n",
       "      <td>free</td>\n",
       "    </tr>\n",
       "    <tr>\n",
       "      <th>1476</th>\n",
       "      <td>1477</td>\n",
       "      <td>Ян</td>\n",
       "      <td>17</td>\n",
       "      <td>Сочи</td>\n",
       "      <td>free</td>\n",
       "    </tr>\n",
       "    <tr>\n",
       "      <th>1487</th>\n",
       "      <td>1488</td>\n",
       "      <td>Рамиль</td>\n",
       "      <td>15</td>\n",
       "      <td>Екатеринбург</td>\n",
       "      <td>free</td>\n",
       "    </tr>\n",
       "    <tr>\n",
       "      <th>1515</th>\n",
       "      <td>1516</td>\n",
       "      <td>Давид</td>\n",
       "      <td>16</td>\n",
       "      <td>Краснодар</td>\n",
       "      <td>free</td>\n",
       "    </tr>\n",
       "  </tbody>\n",
       "</table>\n",
       "<p>79 rows × 5 columns</p>\n",
       "</div>"
      ],
      "text/plain": [
       "      user_id       name  age            city subscription_type\n",
       "20         21   Святогор   14  Ростов-на-Дону             ultra\n",
       "33         34      Федор   17       Краснодар             ultra\n",
       "34         35     Руслан   12       Пятигорск             ultra\n",
       "48         49    Одиссей   17  Ростов-на-Дону             ultra\n",
       "66         67  Анастасия   12  Ростов-на-Дону             ultra\n",
       "...       ...        ...  ...             ...               ...\n",
       "1474     1475      Артём   17          Тюмень              free\n",
       "1475     1476   Стефания   13          Москва              free\n",
       "1476     1477         Ян   17            Сочи              free\n",
       "1487     1488     Рамиль   15    Екатеринбург              free\n",
       "1515     1516      Давид   16       Краснодар              free\n",
       "\n",
       "[79 rows x 5 columns]"
      ]
     },
     "execution_count": 12,
     "metadata": {},
     "output_type": "execute_result"
    }
   ],
   "source": [
    "users_go.query('age < 18')"
   ]
  },
  {
   "cell_type": "code",
   "execution_count": 13,
   "id": "7094e8d4",
   "metadata": {},
   "outputs": [
    {
     "data": {
      "text/plain": [
       "array(['Екатеринбург', 'Краснодар', 'Москва', 'Омск', 'Пятигорск',\n",
       "       'Ростов-на-Дону', 'Сочи', 'Тюмень'], dtype=object)"
      ]
     },
     "execution_count": 13,
     "metadata": {},
     "output_type": "execute_result"
    }
   ],
   "source": [
    "users_go['city'].sort_values().unique()"
   ]
  },
  {
   "cell_type": "markdown",
   "id": "e4186cca",
   "metadata": {},
   "source": [
    "В датафрейме содержится информация о пользователях из 8 городов: Екатеринбург, Краснодар, Москва, Омск, Пятигорск, Ростов-на-Дону, Сочи и Тюмень. **Неявных дубликатов среди названий городов не выявлено**."
   ]
  },
  {
   "cell_type": "code",
   "execution_count": 14,
   "id": "f6cb626b",
   "metadata": {},
   "outputs": [
    {
     "data": {
      "text/plain": [
       "array(['free', 'ultra'], dtype=object)"
      ]
     },
     "execution_count": 14,
     "metadata": {},
     "output_type": "execute_result"
    }
   ],
   "source": [
    "users_go['subscription_type'].sort_values().unique()"
   ]
  },
  {
   "cell_type": "markdown",
   "id": "88feaf39",
   "metadata": {},
   "source": [
    "Столбец `subscription_type` содержит всего два вида знаечний: `free`, `ultra`. Ошибки нет, эти значения &mdash; названия подписок."
   ]
  },
  {
   "cell_type": "markdown",
   "id": "59460479",
   "metadata": {},
   "source": [
    "#### `rides_go`"
   ]
  },
  {
   "cell_type": "code",
   "execution_count": 15,
   "id": "3923ab97",
   "metadata": {},
   "outputs": [
    {
     "name": "stdout",
     "output_type": "stream",
     "text": [
      "Количество явных дубликатов: 0\n"
     ]
    }
   ],
   "source": [
    "print(\"Количество явных дубликатов:\", rides_go.duplicated().sum())"
   ]
  },
  {
   "cell_type": "markdown",
   "id": "a9b25776",
   "metadata": {},
   "source": [
    "В датафрейме отстуствуют явные дубликаты."
   ]
  },
  {
   "cell_type": "code",
   "execution_count": 16,
   "id": "6ddcabe1",
   "metadata": {},
   "outputs": [
    {
     "name": "stdout",
     "output_type": "stream",
     "text": [
      "Количество уникальных значений: 1534\n",
      "Минимальное значение user_id: 1\n",
      "Максимальное значение user_id: 1534\n"
     ]
    }
   ],
   "source": [
    "print(\"Количество уникальных значений:\", len(rides_go['user_id'].unique()))\n",
    "print(\"Минимальное значение user_id:\", rides_go['user_id'].min())\n",
    "print(\"Максимальное значение user_id:\", rides_go['user_id'].max())"
   ]
  },
  {
   "cell_type": "markdown",
   "id": "e10fc078",
   "metadata": {},
   "source": [
    "В столбце `user_id` содержится идентификатор пользователя, совершившего поездку. Минимальное значение идентификатора &mdash; 1, а максимальное &mdash; 1534, всего 1534 уникальных целочисленных значений. Значения в столбце не должны быть уникальными, так как пользователь может совершить несколько поездок."
   ]
  },
  {
   "cell_type": "code",
   "execution_count": 17,
   "id": "375d62db",
   "metadata": {},
   "outputs": [
    {
     "name": "stdout",
     "output_type": "stream",
     "text": [
      "Минимальное значение distance: 0.855682925681208\n",
      "Максимальное значение distance: 7211.007744598519\n"
     ]
    }
   ],
   "source": [
    "print(\"Минимальное значение distance:\", rides_go['distance'].min())\n",
    "print(\"Максимальное значение distance:\", rides_go['distance'].max())"
   ]
  },
  {
   "cell_type": "markdown",
   "id": "aebe7eb3",
   "metadata": {},
   "source": [
    "Минимальное расстояние, которое пользователь проехал в текущей сессии &mdash; 85 cм (возможно, столкнулся с какой-то проблемой  с самокатом на моменте начала аренды и завершил сессию). Самая длинная поездка &mdash; 7211 м. Никаких значений-заглушек для пропущенных значений не обнаружено."
   ]
  },
  {
   "cell_type": "code",
   "execution_count": 18,
   "id": "a012df61",
   "metadata": {},
   "outputs": [
    {
     "name": "stdout",
     "output_type": "stream",
     "text": [
      "Минимальное значение duration: 0.5\n",
      "Максимальное значение duration: 40.82396261922424\n"
     ]
    },
    {
     "data": {
      "text/plain": [
       "duration\n",
       "0.500000     95\n",
       "25.599769     1\n",
       "30.932438     1\n",
       "12.061496     1\n",
       "15.615504     1\n",
       "             ..\n",
       "19.867203     1\n",
       "23.133186     1\n",
       "26.146245     1\n",
       "25.645333     1\n",
       "15.893917     1\n",
       "Name: count, Length: 17974, dtype: int64"
      ]
     },
     "execution_count": 18,
     "metadata": {},
     "output_type": "execute_result"
    }
   ],
   "source": [
    "print(\"Минимальное значение duration:\", rides_go['duration'].min())\n",
    "print(\"Максимальное значение duration:\", rides_go['duration'].max())\n",
    "rides_go['duration'].value_counts()"
   ]
  },
  {
   "cell_type": "markdown",
   "id": "6634d957",
   "metadata": {},
   "source": [
    "Обнаружено 95 строк с сессиями длиной в 30 секунд. "
   ]
  },
  {
   "cell_type": "code",
   "execution_count": 19,
   "id": "bb2254b6",
   "metadata": {},
   "outputs": [
    {
     "data": {
      "text/html": [
       "<div>\n",
       "<style scoped>\n",
       "    .dataframe tbody tr th:only-of-type {\n",
       "        vertical-align: middle;\n",
       "    }\n",
       "\n",
       "    .dataframe tbody tr th {\n",
       "        vertical-align: top;\n",
       "    }\n",
       "\n",
       "    .dataframe thead th {\n",
       "        text-align: right;\n",
       "    }\n",
       "</style>\n",
       "<table border=\"1\" class=\"dataframe\">\n",
       "  <thead>\n",
       "    <tr style=\"text-align: right;\">\n",
       "      <th></th>\n",
       "      <th>user_id</th>\n",
       "      <th>distance</th>\n",
       "      <th>duration</th>\n",
       "      <th>date</th>\n",
       "      <th>date_month</th>\n",
       "    </tr>\n",
       "  </thead>\n",
       "  <tbody>\n",
       "    <tr>\n",
       "      <th>6531</th>\n",
       "      <td>701</td>\n",
       "      <td>4196.445201</td>\n",
       "      <td>0.5</td>\n",
       "      <td>2021-08-31</td>\n",
       "      <td>8</td>\n",
       "    </tr>\n",
       "    <tr>\n",
       "      <th>6570</th>\n",
       "      <td>704</td>\n",
       "      <td>4830.824371</td>\n",
       "      <td>0.5</td>\n",
       "      <td>2021-10-14</td>\n",
       "      <td>10</td>\n",
       "    </tr>\n",
       "    <tr>\n",
       "      <th>6680</th>\n",
       "      <td>712</td>\n",
       "      <td>4684.004397</td>\n",
       "      <td>0.5</td>\n",
       "      <td>2021-03-04</td>\n",
       "      <td>3</td>\n",
       "    </tr>\n",
       "    <tr>\n",
       "      <th>6695</th>\n",
       "      <td>713</td>\n",
       "      <td>5215.642710</td>\n",
       "      <td>0.5</td>\n",
       "      <td>2021-02-25</td>\n",
       "      <td>2</td>\n",
       "    </tr>\n",
       "    <tr>\n",
       "      <th>6768</th>\n",
       "      <td>718</td>\n",
       "      <td>5197.436649</td>\n",
       "      <td>0.5</td>\n",
       "      <td>2021-02-11</td>\n",
       "      <td>2</td>\n",
       "    </tr>\n",
       "    <tr>\n",
       "      <th>...</th>\n",
       "      <td>...</td>\n",
       "      <td>...</td>\n",
       "      <td>...</td>\n",
       "      <td>...</td>\n",
       "      <td>...</td>\n",
       "    </tr>\n",
       "    <tr>\n",
       "      <th>17004</th>\n",
       "      <td>1460</td>\n",
       "      <td>5531.335845</td>\n",
       "      <td>0.5</td>\n",
       "      <td>2021-01-19</td>\n",
       "      <td>1</td>\n",
       "    </tr>\n",
       "    <tr>\n",
       "      <th>17242</th>\n",
       "      <td>1477</td>\n",
       "      <td>6724.932981</td>\n",
       "      <td>0.5</td>\n",
       "      <td>2021-01-12</td>\n",
       "      <td>1</td>\n",
       "    </tr>\n",
       "    <tr>\n",
       "      <th>17314</th>\n",
       "      <td>1483</td>\n",
       "      <td>4445.481070</td>\n",
       "      <td>0.5</td>\n",
       "      <td>2021-03-06</td>\n",
       "      <td>3</td>\n",
       "    </tr>\n",
       "    <tr>\n",
       "      <th>17505</th>\n",
       "      <td>1496</td>\n",
       "      <td>5722.551787</td>\n",
       "      <td>0.5</td>\n",
       "      <td>2021-02-14</td>\n",
       "      <td>2</td>\n",
       "    </tr>\n",
       "    <tr>\n",
       "      <th>17909</th>\n",
       "      <td>1524</td>\n",
       "      <td>4103.998874</td>\n",
       "      <td>0.5</td>\n",
       "      <td>2021-06-18</td>\n",
       "      <td>6</td>\n",
       "    </tr>\n",
       "  </tbody>\n",
       "</table>\n",
       "<p>95 rows × 5 columns</p>\n",
       "</div>"
      ],
      "text/plain": [
       "       user_id     distance  duration       date  date_month\n",
       "6531       701  4196.445201       0.5 2021-08-31           8\n",
       "6570       704  4830.824371       0.5 2021-10-14          10\n",
       "6680       712  4684.004397       0.5 2021-03-04           3\n",
       "6695       713  5215.642710       0.5 2021-02-25           2\n",
       "6768       718  5197.436649       0.5 2021-02-11           2\n",
       "...        ...          ...       ...        ...         ...\n",
       "17004     1460  5531.335845       0.5 2021-01-19           1\n",
       "17242     1477  6724.932981       0.5 2021-01-12           1\n",
       "17314     1483  4445.481070       0.5 2021-03-06           3\n",
       "17505     1496  5722.551787       0.5 2021-02-14           2\n",
       "17909     1524  4103.998874       0.5 2021-06-18           6\n",
       "\n",
       "[95 rows x 5 columns]"
      ]
     },
     "execution_count": 19,
     "metadata": {},
     "output_type": "execute_result"
    }
   ],
   "source": [
    "rides_go.query('duration==0.5')"
   ]
  },
  {
   "cell_type": "markdown",
   "id": "4e146d99",
   "metadata": {},
   "source": [
    "Выше представлены некоторые записи сверхкоротких поездок: пользователи проезжали по нескольку километров, что за такое короткое время невозможно. Никаких общих значений в других столбцах не выявлено."
   ]
  },
  {
   "cell_type": "code",
   "execution_count": 20,
   "id": "22fd35de",
   "metadata": {},
   "outputs": [
    {
     "name": "stdout",
     "output_type": "stream",
     "text": [
      "Минимальное значение date: 2021-01-01 00:00:00\n",
      "Максимальное значение date: 2021-12-30 00:00:00\n"
     ]
    }
   ],
   "source": [
    "print(\"Минимальное значение date:\", rides_go['date'].min())\n",
    "print(\"Максимальное значение date:\", rides_go['date'].max())"
   ]
  },
  {
   "cell_type": "markdown",
   "id": "88447aa5",
   "metadata": {},
   "source": [
    "<a id='step_3_4'></a>\n",
    "### Вывод"
   ]
  },
  {
   "cell_type": "markdown",
   "id": "d14dd48f",
   "metadata": {},
   "source": [
    "В датафрейме `users_go` были обнаружены явные дубликаты. Эти строки были удалены из датафрейма, за исключением первого вхождения. Всего в выборке находится информация о 1534 пользователях. Минимальный возраст пользователя сервиса в пердоставленной выборке &mdash; 12 лет, а максимальный &mdash; 43 года. В выборке представлены данные о пользователях из 8 городов: Екатеринбург, Краснодар, Москва, Омск, Пятигорск, Ростов-на-Дону, Сочи и Тюмень."
   ]
  },
  {
   "cell_type": "markdown",
   "id": "212593c7",
   "metadata": {},
   "source": [
    "<a id='step_4'></a>\n",
    "## Исследовательский анализ данных"
   ]
  },
  {
   "cell_type": "markdown",
   "id": "e6aa03b9",
   "metadata": {},
   "source": [
    "<a id='step_4_1'></a>\n",
    "### Частота встречаемости городов"
   ]
  },
  {
   "cell_type": "markdown",
   "id": "8bf9dc19",
   "metadata": {},
   "source": [
    "С помощью сводной таблицы подсчитаем количество пользователей в каждом городе, и на её основе построим столбчатую диаграмму:"
   ]
  },
  {
   "cell_type": "code",
   "execution_count": 21,
   "id": "eb04521e",
   "metadata": {},
   "outputs": [
    {
     "data": {
      "text/html": [
       "<div>\n",
       "<style scoped>\n",
       "    .dataframe tbody tr th:only-of-type {\n",
       "        vertical-align: middle;\n",
       "    }\n",
       "\n",
       "    .dataframe tbody tr th {\n",
       "        vertical-align: top;\n",
       "    }\n",
       "\n",
       "    .dataframe thead th {\n",
       "        text-align: right;\n",
       "    }\n",
       "</style>\n",
       "<table border=\"1\" class=\"dataframe\">\n",
       "  <thead>\n",
       "    <tr style=\"text-align: right;\">\n",
       "      <th></th>\n",
       "      <th>count</th>\n",
       "    </tr>\n",
       "    <tr>\n",
       "      <th>city</th>\n",
       "      <th></th>\n",
       "    </tr>\n",
       "  </thead>\n",
       "  <tbody>\n",
       "    <tr>\n",
       "      <th>Пятигорск</th>\n",
       "      <td>219</td>\n",
       "    </tr>\n",
       "    <tr>\n",
       "      <th>Екатеринбург</th>\n",
       "      <td>204</td>\n",
       "    </tr>\n",
       "    <tr>\n",
       "      <th>Ростов-на-Дону</th>\n",
       "      <td>198</td>\n",
       "    </tr>\n",
       "    <tr>\n",
       "      <th>Краснодар</th>\n",
       "      <td>193</td>\n",
       "    </tr>\n",
       "    <tr>\n",
       "      <th>Сочи</th>\n",
       "      <td>189</td>\n",
       "    </tr>\n",
       "    <tr>\n",
       "      <th>Омск</th>\n",
       "      <td>183</td>\n",
       "    </tr>\n",
       "    <tr>\n",
       "      <th>Тюмень</th>\n",
       "      <td>180</td>\n",
       "    </tr>\n",
       "    <tr>\n",
       "      <th>Москва</th>\n",
       "      <td>168</td>\n",
       "    </tr>\n",
       "  </tbody>\n",
       "</table>\n",
       "</div>"
      ],
      "text/plain": [
       "                count\n",
       "city                 \n",
       "Пятигорск         219\n",
       "Екатеринбург      204\n",
       "Ростов-на-Дону    198\n",
       "Краснодар         193\n",
       "Сочи              189\n",
       "Омск              183\n",
       "Тюмень            180\n",
       "Москва            168"
      ]
     },
     "execution_count": 21,
     "metadata": {},
     "output_type": "execute_result"
    },
    {
     "data": {
      "image/png": "[encoded data removed]",
      "text/plain": [
       "<Figure size 640x480 with 1 Axes>"
      ]
     },
     "metadata": {},
     "output_type": "display_data"
    }
   ],
   "source": [
    "user_city = users_go.pivot_table(index='city', values='user_id', aggfunc='count')\n",
    "user_city.columns = ['count']\n",
    "user_city = user_city.sort_values(by='count', ascending=False)\n",
    "\n",
    "user_city.plot(y = 'count', kind='bar')\n",
    "plt.ylabel(\"Количество пользователей\")\n",
    "plt.xlabel(\"Город\");\n",
    "plt.title(\"Частота встречаемости городов\");\n",
    "\n",
    "user_city"
   ]
  },
  {
   "cell_type": "markdown",
   "id": "0d90a783",
   "metadata": {},
   "source": [
    "**Больше всего** пользователей находится **в городе Пятигорске**. **Наименьшее количество пользователей** из выборки находится **в Москве**. По тому, как представлено распределение пользователей по городам, можно сделать вывод, что для исследования предоставлена **достаточно гармоничная выборка**."
   ]
  },
  {
   "cell_type": "markdown",
   "id": "c41ce0b0",
   "metadata": {},
   "source": [
    "<a id='step_4_2'></a>\n",
    "### Cоотношение пользователей с подпиской и без подписки"
   ]
  },
  {
   "cell_type": "markdown",
   "id": "f933198e",
   "metadata": {},
   "source": [
    "По аналогии с п. 5.1 подсчитаем количество пользователей с подпиской и без подписки. "
   ]
  },
  {
   "cell_type": "code",
   "execution_count": 22,
   "id": "b6e7a8c5",
   "metadata": {},
   "outputs": [
    {
     "data": {
      "image/png": "[encoded data removed]",
      "text/plain": [
       "<Figure size 700x700 with 1 Axes>"
      ]
     },
     "metadata": {},
     "output_type": "display_data"
    }
   ],
   "source": [
    "user_subscription_type = users_go.pivot_table(index='subscription_type', values='user_id', aggfunc=['count'])\n",
    "user_subscription_type.columns = ['count']\n",
    "#user_subscription_type['share'] = round((user_subscription_type['count']/len(users_go['subscription_type']))*100,1)\n",
    "\n",
    "user_subscription_type.plot(y = 'count', kind='pie', autopct='%1.1f%%', figsize=(7,7), labels=None, ylabel=\"\")\n",
    "plt.title(\"Распределение пользователей по типу подписки\");"
   ]
  },
  {
   "cell_type": "markdown",
   "id": "9cb98765",
   "metadata": {},
   "source": [
    "Доля пользователей с подпиской \"**free**\" составляет **54,4%** от выборки. Соответственно, подписчиков \"**ultra**\" &mdash; **45,6**%."
   ]
  },
  {
   "cell_type": "markdown",
   "id": "5f35cccb",
   "metadata": {},
   "source": [
    "<a id='step_4_3'></a>\n",
    "### Возраст пользователей"
   ]
  },
  {
   "cell_type": "markdown",
   "id": "82f0e413",
   "metadata": {},
   "source": [
    "Определим основные описательные характеристики выборки и построим гистограмму."
   ]
  },
  {
   "cell_type": "code",
   "execution_count": 23,
   "id": "2b216893",
   "metadata": {},
   "outputs": [
    {
     "data": {
      "text/plain": [
       "count    1534.000000\n",
       "mean       24.903520\n",
       "std         4.572367\n",
       "min        12.000000\n",
       "25%        22.000000\n",
       "50%        25.000000\n",
       "75%        28.000000\n",
       "max        43.000000\n",
       "Name: age, dtype: float64"
      ]
     },
     "execution_count": 23,
     "metadata": {},
     "output_type": "execute_result"
    }
   ],
   "source": [
    "users_go['age'].describe()"
   ]
  },
  {
   "cell_type": "code",
   "execution_count": 24,
   "id": "55dd7fee",
   "metadata": {},
   "outputs": [
    {
     "data": {
      "image/png": "[encoded data removed]",
      "text/plain": [
       "<Figure size 700x700 with 1 Axes>"
      ]
     },
     "metadata": {},
     "output_type": "display_data"
    }
   ],
   "source": [
    "users_go['age'].plot(y = 'age', kind = 'hist', bins = 35, grid=True, figsize=(7,7), range=(10,45))\n",
    "plt.xlabel(\"Возраст пользователя, лет\")\n",
    "plt.ylabel(\"Количество пользователей\");\n",
    "plt.title(\"Распределение пользователей по возрасту\");"
   ]
  },
  {
   "cell_type": "markdown",
   "id": "68a86eca",
   "metadata": {},
   "source": [
    "1. Гистограмма соответствует нормальному распределению данных. \n",
    "2. Самому юному пользователю сервиса &mdash; 12 лет. \n",
    "3. Наибольшее количество пользователей &mdash; молодые люди 25 лет. \n",
    "4. Самому старшему пользователю &mdash; 43 года."
   ]
  },
  {
   "cell_type": "markdown",
   "id": "6882f7d2",
   "metadata": {},
   "source": [
    "<a id='step_4_4'></a>\n",
    "### Расстояние, которое пользователь преодолел за одну поездку"
   ]
  },
  {
   "cell_type": "code",
   "execution_count": 25,
   "id": "1c1f16e0",
   "metadata": {},
   "outputs": [
    {
     "data": {
      "text/plain": [
       "count    18068.000000\n",
       "mean      3070.659976\n",
       "std       1116.831209\n",
       "min          0.855683\n",
       "25%       2543.226360\n",
       "50%       3133.609994\n",
       "75%       3776.222735\n",
       "max       7211.007745\n",
       "Name: distance, dtype: float64"
      ]
     },
     "execution_count": 25,
     "metadata": {},
     "output_type": "execute_result"
    }
   ],
   "source": [
    "rides_go['distance'].describe()"
   ]
  },
  {
   "cell_type": "code",
   "execution_count": 26,
   "id": "e25125d8",
   "metadata": {},
   "outputs": [
    {
     "data": {
      "image/png": "[encoded data removed]",
      "text/plain": [
       "<Figure size 700x700 with 1 Axes>"
      ]
     },
     "metadata": {},
     "output_type": "display_data"
    }
   ],
   "source": [
    "rides_go.plot(y = 'distance', kind = 'hist', bins = 100, grid=True, figsize = (7,7), range = (0,7100))\n",
    "plt.xlabel(\"Расстояние, м\")\n",
    "plt.ylabel(\"Количество поездок\");\n",
    "plt.title(\"Дальность поездки (в рамках одной сессии)\");"
   ]
  },
  {
   "cell_type": "markdown",
   "id": "3e54d57a",
   "metadata": {},
   "source": [
    "1. На гистограмме можно легко заметить две вершины, график соответствует **бимодальному распределению**. \n",
    "2. Можно разделить поездки на **две группы**: на короткие (от 0 до 1500 м) и длинные дистанции (от 1500 до 7000 м). \n",
    "3. Короткие поездки чаще всего совершались на дистанцию ~800 м, а длинные &mdash; ~3100 м.  "
   ]
  },
  {
   "cell_type": "markdown",
   "id": "0bcb49c2",
   "metadata": {},
   "source": [
    "<a id='step_4_5'></a>\n",
    "### Продолжительность поездок"
   ]
  },
  {
   "cell_type": "code",
   "execution_count": 27,
   "id": "b699f7e8",
   "metadata": {},
   "outputs": [
    {
     "data": {
      "text/plain": [
       "count    18068.000000\n",
       "mean        17.805011\n",
       "std          6.091051\n",
       "min          0.500000\n",
       "25%         13.597563\n",
       "50%         17.678395\n",
       "75%         21.724800\n",
       "max         40.823963\n",
       "Name: duration, dtype: float64"
      ]
     },
     "execution_count": 27,
     "metadata": {},
     "output_type": "execute_result"
    }
   ],
   "source": [
    "rides_go['duration'].describe()"
   ]
  },
  {
   "cell_type": "code",
   "execution_count": 28,
   "id": "c2d4a950",
   "metadata": {},
   "outputs": [
    {
     "data": {
      "image/png": "[encoded data removed]",
      "text/plain": [
       "<Figure size 700x700 with 1 Axes>"
      ]
     },
     "metadata": {},
     "output_type": "display_data"
    }
   ],
   "source": [
    "rides_go['duration'].describe()\n",
    "\n",
    "rides_go.plot(y = 'duration', kind = 'hist', bins = 30, grid=True, figsize = (7,7), range = (0,41))\n",
    "plt.xlabel(\"Продолжительность, мин\")\n",
    "plt.ylabel(\"Количество поездок\");\n",
    "plt.title(\"Продолжительность поездки (в рамках одной сессии)\");"
   ]
  },
  {
   "cell_type": "markdown",
   "id": "7e12a373",
   "metadata": {},
   "source": [
    "1. Гистограмма сооответствует нормальному распределению. \n",
    "2. Самая короткая поездка длилась 2 минуты\n",
    "3. Самая длинная поездка заняла 40,8 минут.\n",
    "4. Чаще всего поездка занимала ~18 минут. "
   ]
  },
  {
   "cell_type": "markdown",
   "id": "4ef51331",
   "metadata": {},
   "source": [
    "<a id='step_5'></a>\n",
    "## Объединение данных"
   ]
  },
  {
   "cell_type": "markdown",
   "id": "67cdb1b5",
   "metadata": {},
   "source": [
    "<a id='step_5_1'></a>\n",
    "### Объединение данных о пользователях, поездках и подписках в один датафрейм"
   ]
  },
  {
   "cell_type": "code",
   "execution_count": 29,
   "id": "6bf288b5",
   "metadata": {},
   "outputs": [
    {
     "name": "stdout",
     "output_type": "stream",
     "text": [
      "Количество строк в объединенной таблице: 18068\n",
      "Количество cтолбцов в объединенной таблице: 9\n"
     ]
    },
    {
     "data": {
      "text/html": [
       "<div>\n",
       "<style scoped>\n",
       "    .dataframe tbody tr th:only-of-type {\n",
       "        vertical-align: middle;\n",
       "    }\n",
       "\n",
       "    .dataframe tbody tr th {\n",
       "        vertical-align: top;\n",
       "    }\n",
       "\n",
       "    .dataframe thead th {\n",
       "        text-align: right;\n",
       "    }\n",
       "</style>\n",
       "<table border=\"1\" class=\"dataframe\">\n",
       "  <thead>\n",
       "    <tr style=\"text-align: right;\">\n",
       "      <th></th>\n",
       "      <th>user_id</th>\n",
       "      <th>distance</th>\n",
       "      <th>duration</th>\n",
       "      <th>date</th>\n",
       "      <th>date_month</th>\n",
       "      <th>name</th>\n",
       "      <th>age</th>\n",
       "      <th>city</th>\n",
       "      <th>subscription_type</th>\n",
       "    </tr>\n",
       "  </thead>\n",
       "  <tbody>\n",
       "    <tr>\n",
       "      <th>0</th>\n",
       "      <td>1</td>\n",
       "      <td>4409.919140</td>\n",
       "      <td>25.599769</td>\n",
       "      <td>2021-01-01</td>\n",
       "      <td>1</td>\n",
       "      <td>Кира</td>\n",
       "      <td>22</td>\n",
       "      <td>Тюмень</td>\n",
       "      <td>ultra</td>\n",
       "    </tr>\n",
       "    <tr>\n",
       "      <th>1</th>\n",
       "      <td>1</td>\n",
       "      <td>2617.592153</td>\n",
       "      <td>15.816871</td>\n",
       "      <td>2021-01-18</td>\n",
       "      <td>1</td>\n",
       "      <td>Кира</td>\n",
       "      <td>22</td>\n",
       "      <td>Тюмень</td>\n",
       "      <td>ultra</td>\n",
       "    </tr>\n",
       "    <tr>\n",
       "      <th>2</th>\n",
       "      <td>1</td>\n",
       "      <td>754.159807</td>\n",
       "      <td>6.232113</td>\n",
       "      <td>2021-04-20</td>\n",
       "      <td>4</td>\n",
       "      <td>Кира</td>\n",
       "      <td>22</td>\n",
       "      <td>Тюмень</td>\n",
       "      <td>ultra</td>\n",
       "    </tr>\n",
       "    <tr>\n",
       "      <th>3</th>\n",
       "      <td>1</td>\n",
       "      <td>2694.783254</td>\n",
       "      <td>18.511000</td>\n",
       "      <td>2021-08-11</td>\n",
       "      <td>8</td>\n",
       "      <td>Кира</td>\n",
       "      <td>22</td>\n",
       "      <td>Тюмень</td>\n",
       "      <td>ultra</td>\n",
       "    </tr>\n",
       "    <tr>\n",
       "      <th>4</th>\n",
       "      <td>1</td>\n",
       "      <td>4028.687306</td>\n",
       "      <td>26.265803</td>\n",
       "      <td>2021-08-28</td>\n",
       "      <td>8</td>\n",
       "      <td>Кира</td>\n",
       "      <td>22</td>\n",
       "      <td>Тюмень</td>\n",
       "      <td>ultra</td>\n",
       "    </tr>\n",
       "  </tbody>\n",
       "</table>\n",
       "</div>"
      ],
      "text/plain": [
       "   user_id     distance   duration       date  date_month  name  age    city  \\\n",
       "0        1  4409.919140  25.599769 2021-01-01           1  Кира   22  Тюмень   \n",
       "1        1  2617.592153  15.816871 2021-01-18           1  Кира   22  Тюмень   \n",
       "2        1   754.159807   6.232113 2021-04-20           4  Кира   22  Тюмень   \n",
       "3        1  2694.783254  18.511000 2021-08-11           8  Кира   22  Тюмень   \n",
       "4        1  4028.687306  26.265803 2021-08-28           8  Кира   22  Тюмень   \n",
       "\n",
       "  subscription_type  \n",
       "0             ultra  \n",
       "1             ultra  \n",
       "2             ultra  \n",
       "3             ultra  \n",
       "4             ultra  "
      ]
     },
     "execution_count": 29,
     "metadata": {},
     "output_type": "execute_result"
    }
   ],
   "source": [
    "#объединеним rides_go с users_go по столбцу user_id и запишем в переменную data\n",
    "data = rides_go.merge(users_go, on='user_id')\n",
    "\n",
    "print(\"Количество строк в объединенной таблице:\",data.shape[0])\n",
    "print(\"Количество cтолбцов в объединенной таблице:\",data.shape[1])\n",
    "data.head()"
   ]
  },
  {
   "cell_type": "code",
   "execution_count": 30,
   "id": "a952a134",
   "metadata": {},
   "outputs": [
    {
     "name": "stdout",
     "output_type": "stream",
     "text": [
      "Количество строк в объединенной таблице: 18068\n",
      "Количество cтолбцов в объединенной таблице: 12\n"
     ]
    },
    {
     "data": {
      "text/html": [
       "<div>\n",
       "<style scoped>\n",
       "    .dataframe tbody tr th:only-of-type {\n",
       "        vertical-align: middle;\n",
       "    }\n",
       "\n",
       "    .dataframe tbody tr th {\n",
       "        vertical-align: top;\n",
       "    }\n",
       "\n",
       "    .dataframe thead th {\n",
       "        text-align: right;\n",
       "    }\n",
       "</style>\n",
       "<table border=\"1\" class=\"dataframe\">\n",
       "  <thead>\n",
       "    <tr style=\"text-align: right;\">\n",
       "      <th></th>\n",
       "      <th>user_id</th>\n",
       "      <th>distance</th>\n",
       "      <th>duration</th>\n",
       "      <th>date</th>\n",
       "      <th>date_month</th>\n",
       "      <th>name</th>\n",
       "      <th>age</th>\n",
       "      <th>city</th>\n",
       "      <th>subscription_type</th>\n",
       "      <th>minute_price</th>\n",
       "      <th>start_ride_price</th>\n",
       "      <th>subscription_fee</th>\n",
       "    </tr>\n",
       "  </thead>\n",
       "  <tbody>\n",
       "    <tr>\n",
       "      <th>0</th>\n",
       "      <td>1</td>\n",
       "      <td>4409.919140</td>\n",
       "      <td>25.599769</td>\n",
       "      <td>2021-01-01</td>\n",
       "      <td>1</td>\n",
       "      <td>Кира</td>\n",
       "      <td>22</td>\n",
       "      <td>Тюмень</td>\n",
       "      <td>ultra</td>\n",
       "      <td>6</td>\n",
       "      <td>0</td>\n",
       "      <td>199</td>\n",
       "    </tr>\n",
       "    <tr>\n",
       "      <th>1</th>\n",
       "      <td>1</td>\n",
       "      <td>2617.592153</td>\n",
       "      <td>15.816871</td>\n",
       "      <td>2021-01-18</td>\n",
       "      <td>1</td>\n",
       "      <td>Кира</td>\n",
       "      <td>22</td>\n",
       "      <td>Тюмень</td>\n",
       "      <td>ultra</td>\n",
       "      <td>6</td>\n",
       "      <td>0</td>\n",
       "      <td>199</td>\n",
       "    </tr>\n",
       "    <tr>\n",
       "      <th>2</th>\n",
       "      <td>1</td>\n",
       "      <td>754.159807</td>\n",
       "      <td>6.232113</td>\n",
       "      <td>2021-04-20</td>\n",
       "      <td>4</td>\n",
       "      <td>Кира</td>\n",
       "      <td>22</td>\n",
       "      <td>Тюмень</td>\n",
       "      <td>ultra</td>\n",
       "      <td>6</td>\n",
       "      <td>0</td>\n",
       "      <td>199</td>\n",
       "    </tr>\n",
       "    <tr>\n",
       "      <th>3</th>\n",
       "      <td>1</td>\n",
       "      <td>2694.783254</td>\n",
       "      <td>18.511000</td>\n",
       "      <td>2021-08-11</td>\n",
       "      <td>8</td>\n",
       "      <td>Кира</td>\n",
       "      <td>22</td>\n",
       "      <td>Тюмень</td>\n",
       "      <td>ultra</td>\n",
       "      <td>6</td>\n",
       "      <td>0</td>\n",
       "      <td>199</td>\n",
       "    </tr>\n",
       "    <tr>\n",
       "      <th>4</th>\n",
       "      <td>1</td>\n",
       "      <td>4028.687306</td>\n",
       "      <td>26.265803</td>\n",
       "      <td>2021-08-28</td>\n",
       "      <td>8</td>\n",
       "      <td>Кира</td>\n",
       "      <td>22</td>\n",
       "      <td>Тюмень</td>\n",
       "      <td>ultra</td>\n",
       "      <td>6</td>\n",
       "      <td>0</td>\n",
       "      <td>199</td>\n",
       "    </tr>\n",
       "  </tbody>\n",
       "</table>\n",
       "</div>"
      ],
      "text/plain": [
       "   user_id     distance   duration       date  date_month  name  age    city  \\\n",
       "0        1  4409.919140  25.599769 2021-01-01           1  Кира   22  Тюмень   \n",
       "1        1  2617.592153  15.816871 2021-01-18           1  Кира   22  Тюмень   \n",
       "2        1   754.159807   6.232113 2021-04-20           4  Кира   22  Тюмень   \n",
       "3        1  2694.783254  18.511000 2021-08-11           8  Кира   22  Тюмень   \n",
       "4        1  4028.687306  26.265803 2021-08-28           8  Кира   22  Тюмень   \n",
       "\n",
       "  subscription_type  minute_price  start_ride_price  subscription_fee  \n",
       "0             ultra             6                 0               199  \n",
       "1             ultra             6                 0               199  \n",
       "2             ultra             6                 0               199  \n",
       "3             ultra             6                 0               199  \n",
       "4             ultra             6                 0               199  "
      ]
     },
     "execution_count": 30,
     "metadata": {},
     "output_type": "execute_result"
    }
   ],
   "source": [
    "#объединение data с subscriptions_go по столбцу subscription_type\n",
    "data = data.merge(subscriptions_go, on='subscription_type')\n",
    "\n",
    "print(\"Количество строк в объединенной таблице:\",data.shape[0])\n",
    "print(\"Количество cтолбцов в объединенной таблице:\",data.shape[1])\n",
    "data.head()"
   ]
  },
  {
   "cell_type": "code",
   "execution_count": 31,
   "id": "6361bedf",
   "metadata": {},
   "outputs": [],
   "source": [
    "#округлим значения в столбце duration (продолжительность поездок) в большую сторону\n",
    "data['duration'] = np.ceil(data['duration'])"
   ]
  },
  {
   "cell_type": "markdown",
   "id": "adf6bdf7",
   "metadata": {},
   "source": [
    "<a id='step_5_2'></a>\n",
    "### Создание датафреймов на основе объединённого: "
   ]
  },
  {
   "cell_type": "markdown",
   "id": "8cf4d91d",
   "metadata": {},
   "source": [
    "<a id='step_5_2_1'></a>\n",
    "#### c данными о пользователях без подписки:"
   ]
  },
  {
   "cell_type": "code",
   "execution_count": 32,
   "id": "f2ceb5bd",
   "metadata": {},
   "outputs": [
    {
     "name": "stdout",
     "output_type": "stream",
     "text": [
      "Количество строк в таблице c данными о пользователях без подписки: 11568\n",
      "Количество строк в таблице c данными о пользователях без подписки 12\n"
     ]
    },
    {
     "data": {
      "text/html": [
       "<div>\n",
       "<style scoped>\n",
       "    .dataframe tbody tr th:only-of-type {\n",
       "        vertical-align: middle;\n",
       "    }\n",
       "\n",
       "    .dataframe tbody tr th {\n",
       "        vertical-align: top;\n",
       "    }\n",
       "\n",
       "    .dataframe thead th {\n",
       "        text-align: right;\n",
       "    }\n",
       "</style>\n",
       "<table border=\"1\" class=\"dataframe\">\n",
       "  <thead>\n",
       "    <tr style=\"text-align: right;\">\n",
       "      <th></th>\n",
       "      <th>user_id</th>\n",
       "      <th>distance</th>\n",
       "      <th>duration</th>\n",
       "      <th>date</th>\n",
       "      <th>date_month</th>\n",
       "      <th>name</th>\n",
       "      <th>age</th>\n",
       "      <th>city</th>\n",
       "      <th>subscription_type</th>\n",
       "      <th>minute_price</th>\n",
       "      <th>start_ride_price</th>\n",
       "      <th>subscription_fee</th>\n",
       "    </tr>\n",
       "  </thead>\n",
       "  <tbody>\n",
       "    <tr>\n",
       "      <th>6500</th>\n",
       "      <td>700</td>\n",
       "      <td>2515.690719</td>\n",
       "      <td>15.0</td>\n",
       "      <td>2021-01-02</td>\n",
       "      <td>1</td>\n",
       "      <td>Айдар</td>\n",
       "      <td>22</td>\n",
       "      <td>Омск</td>\n",
       "      <td>free</td>\n",
       "      <td>8</td>\n",
       "      <td>50</td>\n",
       "      <td>0</td>\n",
       "    </tr>\n",
       "    <tr>\n",
       "      <th>6501</th>\n",
       "      <td>700</td>\n",
       "      <td>846.932642</td>\n",
       "      <td>17.0</td>\n",
       "      <td>2021-02-01</td>\n",
       "      <td>2</td>\n",
       "      <td>Айдар</td>\n",
       "      <td>22</td>\n",
       "      <td>Омск</td>\n",
       "      <td>free</td>\n",
       "      <td>8</td>\n",
       "      <td>50</td>\n",
       "      <td>0</td>\n",
       "    </tr>\n",
       "    <tr>\n",
       "      <th>6502</th>\n",
       "      <td>700</td>\n",
       "      <td>4004.434142</td>\n",
       "      <td>21.0</td>\n",
       "      <td>2021-02-04</td>\n",
       "      <td>2</td>\n",
       "      <td>Айдар</td>\n",
       "      <td>22</td>\n",
       "      <td>Омск</td>\n",
       "      <td>free</td>\n",
       "      <td>8</td>\n",
       "      <td>50</td>\n",
       "      <td>0</td>\n",
       "    </tr>\n",
       "    <tr>\n",
       "      <th>6503</th>\n",
       "      <td>700</td>\n",
       "      <td>1205.911290</td>\n",
       "      <td>10.0</td>\n",
       "      <td>2021-02-10</td>\n",
       "      <td>2</td>\n",
       "      <td>Айдар</td>\n",
       "      <td>22</td>\n",
       "      <td>Омск</td>\n",
       "      <td>free</td>\n",
       "      <td>8</td>\n",
       "      <td>50</td>\n",
       "      <td>0</td>\n",
       "    </tr>\n",
       "    <tr>\n",
       "      <th>6504</th>\n",
       "      <td>700</td>\n",
       "      <td>3047.379435</td>\n",
       "      <td>18.0</td>\n",
       "      <td>2021-02-14</td>\n",
       "      <td>2</td>\n",
       "      <td>Айдар</td>\n",
       "      <td>22</td>\n",
       "      <td>Омск</td>\n",
       "      <td>free</td>\n",
       "      <td>8</td>\n",
       "      <td>50</td>\n",
       "      <td>0</td>\n",
       "    </tr>\n",
       "  </tbody>\n",
       "</table>\n",
       "</div>"
      ],
      "text/plain": [
       "      user_id     distance  duration       date  date_month   name  age  city  \\\n",
       "6500      700  2515.690719      15.0 2021-01-02           1  Айдар   22  Омск   \n",
       "6501      700   846.932642      17.0 2021-02-01           2  Айдар   22  Омск   \n",
       "6502      700  4004.434142      21.0 2021-02-04           2  Айдар   22  Омск   \n",
       "6503      700  1205.911290      10.0 2021-02-10           2  Айдар   22  Омск   \n",
       "6504      700  3047.379435      18.0 2021-02-14           2  Айдар   22  Омск   \n",
       "\n",
       "     subscription_type  minute_price  start_ride_price  subscription_fee  \n",
       "6500              free             8                50                 0  \n",
       "6501              free             8                50                 0  \n",
       "6502              free             8                50                 0  \n",
       "6503              free             8                50                 0  \n",
       "6504              free             8                50                 0  "
      ]
     },
     "execution_count": 32,
     "metadata": {},
     "output_type": "execute_result"
    }
   ],
   "source": [
    "data_free = data.query('subscription_type==\"free\"')\n",
    "\n",
    "print(\"Количество строк в таблице c данными о пользователях без подписки:\", data_free.shape[0])\n",
    "print(\"Количество строк в таблице c данными о пользователях без подписки\", data_free.shape[1])\n",
    "data_free.head()"
   ]
  },
  {
   "cell_type": "markdown",
   "id": "172965d7",
   "metadata": {},
   "source": [
    "<a id='step_5_2_2'></a>\n",
    "#### с данными о пользователях с подпиской:"
   ]
  },
  {
   "cell_type": "code",
   "execution_count": 33,
   "id": "fe4751d3",
   "metadata": {},
   "outputs": [
    {
     "name": "stdout",
     "output_type": "stream",
     "text": [
      "Количество строк в таблице c данными о пользователях с подпиской: 6500\n",
      "Количество строк в таблице c данными о пользователях с подпиской: 12\n"
     ]
    },
    {
     "data": {
      "text/html": [
       "<div>\n",
       "<style scoped>\n",
       "    .dataframe tbody tr th:only-of-type {\n",
       "        vertical-align: middle;\n",
       "    }\n",
       "\n",
       "    .dataframe tbody tr th {\n",
       "        vertical-align: top;\n",
       "    }\n",
       "\n",
       "    .dataframe thead th {\n",
       "        text-align: right;\n",
       "    }\n",
       "</style>\n",
       "<table border=\"1\" class=\"dataframe\">\n",
       "  <thead>\n",
       "    <tr style=\"text-align: right;\">\n",
       "      <th></th>\n",
       "      <th>user_id</th>\n",
       "      <th>distance</th>\n",
       "      <th>duration</th>\n",
       "      <th>date</th>\n",
       "      <th>date_month</th>\n",
       "      <th>name</th>\n",
       "      <th>age</th>\n",
       "      <th>city</th>\n",
       "      <th>subscription_type</th>\n",
       "      <th>minute_price</th>\n",
       "      <th>start_ride_price</th>\n",
       "      <th>subscription_fee</th>\n",
       "    </tr>\n",
       "  </thead>\n",
       "  <tbody>\n",
       "    <tr>\n",
       "      <th>0</th>\n",
       "      <td>1</td>\n",
       "      <td>4409.919140</td>\n",
       "      <td>26.0</td>\n",
       "      <td>2021-01-01</td>\n",
       "      <td>1</td>\n",
       "      <td>Кира</td>\n",
       "      <td>22</td>\n",
       "      <td>Тюмень</td>\n",
       "      <td>ultra</td>\n",
       "      <td>6</td>\n",
       "      <td>0</td>\n",
       "      <td>199</td>\n",
       "    </tr>\n",
       "    <tr>\n",
       "      <th>1</th>\n",
       "      <td>1</td>\n",
       "      <td>2617.592153</td>\n",
       "      <td>16.0</td>\n",
       "      <td>2021-01-18</td>\n",
       "      <td>1</td>\n",
       "      <td>Кира</td>\n",
       "      <td>22</td>\n",
       "      <td>Тюмень</td>\n",
       "      <td>ultra</td>\n",
       "      <td>6</td>\n",
       "      <td>0</td>\n",
       "      <td>199</td>\n",
       "    </tr>\n",
       "    <tr>\n",
       "      <th>2</th>\n",
       "      <td>1</td>\n",
       "      <td>754.159807</td>\n",
       "      <td>7.0</td>\n",
       "      <td>2021-04-20</td>\n",
       "      <td>4</td>\n",
       "      <td>Кира</td>\n",
       "      <td>22</td>\n",
       "      <td>Тюмень</td>\n",
       "      <td>ultra</td>\n",
       "      <td>6</td>\n",
       "      <td>0</td>\n",
       "      <td>199</td>\n",
       "    </tr>\n",
       "    <tr>\n",
       "      <th>3</th>\n",
       "      <td>1</td>\n",
       "      <td>2694.783254</td>\n",
       "      <td>19.0</td>\n",
       "      <td>2021-08-11</td>\n",
       "      <td>8</td>\n",
       "      <td>Кира</td>\n",
       "      <td>22</td>\n",
       "      <td>Тюмень</td>\n",
       "      <td>ultra</td>\n",
       "      <td>6</td>\n",
       "      <td>0</td>\n",
       "      <td>199</td>\n",
       "    </tr>\n",
       "    <tr>\n",
       "      <th>4</th>\n",
       "      <td>1</td>\n",
       "      <td>4028.687306</td>\n",
       "      <td>27.0</td>\n",
       "      <td>2021-08-28</td>\n",
       "      <td>8</td>\n",
       "      <td>Кира</td>\n",
       "      <td>22</td>\n",
       "      <td>Тюмень</td>\n",
       "      <td>ultra</td>\n",
       "      <td>6</td>\n",
       "      <td>0</td>\n",
       "      <td>199</td>\n",
       "    </tr>\n",
       "  </tbody>\n",
       "</table>\n",
       "</div>"
      ],
      "text/plain": [
       "   user_id     distance  duration       date  date_month  name  age    city  \\\n",
       "0        1  4409.919140      26.0 2021-01-01           1  Кира   22  Тюмень   \n",
       "1        1  2617.592153      16.0 2021-01-18           1  Кира   22  Тюмень   \n",
       "2        1   754.159807       7.0 2021-04-20           4  Кира   22  Тюмень   \n",
       "3        1  2694.783254      19.0 2021-08-11           8  Кира   22  Тюмень   \n",
       "4        1  4028.687306      27.0 2021-08-28           8  Кира   22  Тюмень   \n",
       "\n",
       "  subscription_type  minute_price  start_ride_price  subscription_fee  \n",
       "0             ultra             6                 0               199  \n",
       "1             ultra             6                 0               199  \n",
       "2             ultra             6                 0               199  \n",
       "3             ultra             6                 0               199  \n",
       "4             ultra             6                 0               199  "
      ]
     },
     "execution_count": 33,
     "metadata": {},
     "output_type": "execute_result"
    }
   ],
   "source": [
    "data_ultra = data.query('subscription_type==\"ultra\"')\n",
    "\n",
    "print(\"Количество строк в таблице c данными о пользователях с подпиской:\", data_ultra.shape[0])\n",
    "print(\"Количество строк в таблице c данными о пользователях с подпиской:\", data_ultra.shape[1])\n",
    "data_ultra.head()"
   ]
  },
  {
   "cell_type": "markdown",
   "id": "3521c95c",
   "metadata": {},
   "source": [
    "<a id='step_5_3'></a>\n",
    "### Визуализирование информации о расстоянии и времени поездок"
   ]
  },
  {
   "cell_type": "markdown",
   "id": "f01e07c1",
   "metadata": {},
   "source": [
    "Построим графики распределений чтобы визуализировать информацию. Для удобного сравнения наложим их друг на друга: синий цветом показаны пользователи без подписки, персиковым &mdash; пользователи с подпиской."
   ]
  },
  {
   "cell_type": "markdown",
   "id": "954e1fe1",
   "metadata": {},
   "source": [
    "Расстояние поездки:"
   ]
  },
  {
   "cell_type": "code",
   "execution_count": 34,
   "id": "78d7733d",
   "metadata": {},
   "outputs": [
    {
     "data": {
      "image/png": "[encoded data removed]",
      "text/plain": [
       "<Figure size 700x700 with 1 Axes>"
      ]
     },
     "metadata": {},
     "output_type": "display_data"
    }
   ],
   "source": [
    "fig, ax = plt.subplots(1, 1)\n",
    "\n",
    "ax.hist(data_free['distance'], bins=80, alpha=0.9, label='free')\n",
    "ax.hist(data_ultra['distance'], bins=80, alpha=0.5, label='ultra')\n",
    "\n",
    "plt.legend(['free', 'ultra'])\n",
    "plt.xlabel(\"Расстояние, м\")\n",
    "plt.ylabel(\"Количество пользователей\");\n",
    "plt.title(\"Дальность поездки (в рамках одной сессии)\");\n",
    "plt.gcf().set_size_inches(7, 7)\n",
    "plt.grid()\n",
    "plt.show()"
   ]
  },
  {
   "cell_type": "code",
   "execution_count": 35,
   "id": "fe88dbe9",
   "metadata": {},
   "outputs": [
    {
     "data": {
      "image/png": "[encoded data removed]",
      "text/plain": [
       "<Figure size 700x700 with 1 Axes>"
      ]
     },
     "metadata": {},
     "output_type": "display_data"
    }
   ],
   "source": [
    "fig, ax = plt.subplots(1, 1)\n",
    "\n",
    "ax.hist(data_free['duration'], bins=40, alpha=0.9, label='free')\n",
    "ax.hist(data_ultra['duration'], bins=40, alpha=0.5, label='ultra')\n",
    "\n",
    "plt.legend(['free', 'ultra'])\n",
    "plt.xlabel(\"Продолжительность, мин\")\n",
    "plt.ylabel(\"Количество пользователей\");\n",
    "plt.title(\"Продолжительность поездки (в рамках одной сессии)\");\n",
    "plt.gcf().set_size_inches(7, 7)\n",
    "plt.grid()\n",
    "plt.show()"
   ]
  },
  {
   "cell_type": "markdown",
   "id": "d017ad2a",
   "metadata": {},
   "source": [
    "<a id='step_5_4'></a>\n",
    "### Выводы\n",
    "\n",
    "1. Количество поездок, совершенных пользователями без подписки превышает количество поездок, совершенных пользователями с подпиской (на&nbsp;43%), не смотря на то, что пользователей без подписки представлено в выборке лишь на 8,8% больше.\n",
    "2. Пользователи с подпиской реже совершают короткие поездки. Это различие можно объяснить следующим образом: пользователь без подписки может совершить короткую поездку, чтобы протестировать сервис и решить, нужна ли ему подписка (ведь подписка выгодна, если пользоваться сервисом часто). \n",
    "3. По разному разделены короткие и длинные поездки: для пользователя без подписки короткой можно назвать поездку от 0 до 1500 м, а для пользователя с подпиской &mdash; от 0 до 2000 м. \n",
    "4. Гораздо более широкий купол у длинных поездок пользователей без подписки. Скорее всего, пользователь офрмляет подписку, чтобы совершать частые поездки из \"точки А\" в \"точку B\" (например, от станции метро до работы). Пользователи без подписки чаще совершают поездки на разные расстояния (например, в качестве прогулки).\n",
    "5. Несмотря на близость времени средней поезки для обоих групп (для пользователей без подписки &mdash; 17 мин, для пользователей с подпиской &mdash; 19 мин), можно заметить, что купол распределения продолжительности поездки шире для пользователей без подписки. По аналогии с пунктом 3 вывода можно заключить, что пользователи без подписки совершают поездки разной длительности, в отличие от пользователей с подпиской."
   ]
  },
  {
   "cell_type": "markdown",
   "id": "402d620f",
   "metadata": {},
   "source": [
    "<a id='step_6'></a>\n",
    "## Подсчёт выручки"
   ]
  },
  {
   "cell_type": "markdown",
   "id": "0f65c6bc",
   "metadata": {},
   "source": [
    "Создадим датафрейм `data_profit` с агрегированными данными о поездках на основе датафрейма `data` с объединёнными данными из шага 4: найдём суммарное расстояние, количество поездок и суммарное время для каждого пользователя за каждый месяц."
   ]
  },
  {
   "cell_type": "code",
   "execution_count": 36,
   "id": "53049e0a",
   "metadata": {},
   "outputs": [
    {
     "data": {
      "text/html": [
       "<div>\n",
       "<style scoped>\n",
       "    .dataframe tbody tr th:only-of-type {\n",
       "        vertical-align: middle;\n",
       "    }\n",
       "\n",
       "    .dataframe tbody tr th {\n",
       "        vertical-align: top;\n",
       "    }\n",
       "\n",
       "    .dataframe thead th {\n",
       "        text-align: right;\n",
       "    }\n",
       "</style>\n",
       "<table border=\"1\" class=\"dataframe\">\n",
       "  <thead>\n",
       "    <tr style=\"text-align: right;\">\n",
       "      <th></th>\n",
       "      <th></th>\n",
       "      <th>total_distance</th>\n",
       "      <th>number_of_trips</th>\n",
       "      <th>total_duration</th>\n",
       "      <th>subscription_type</th>\n",
       "    </tr>\n",
       "    <tr>\n",
       "      <th>user_id</th>\n",
       "      <th>date_month</th>\n",
       "      <th></th>\n",
       "      <th></th>\n",
       "      <th></th>\n",
       "      <th></th>\n",
       "    </tr>\n",
       "  </thead>\n",
       "  <tbody>\n",
       "    <tr>\n",
       "      <th rowspan=\"6\" valign=\"top\">1</th>\n",
       "      <th>1</th>\n",
       "      <td>7027.511294</td>\n",
       "      <td>2</td>\n",
       "      <td>42.0</td>\n",
       "      <td>ultra</td>\n",
       "    </tr>\n",
       "    <tr>\n",
       "      <th>4</th>\n",
       "      <td>754.159807</td>\n",
       "      <td>1</td>\n",
       "      <td>7.0</td>\n",
       "      <td>ultra</td>\n",
       "    </tr>\n",
       "    <tr>\n",
       "      <th>8</th>\n",
       "      <td>6723.470560</td>\n",
       "      <td>2</td>\n",
       "      <td>46.0</td>\n",
       "      <td>ultra</td>\n",
       "    </tr>\n",
       "    <tr>\n",
       "      <th>10</th>\n",
       "      <td>5809.911100</td>\n",
       "      <td>2</td>\n",
       "      <td>32.0</td>\n",
       "      <td>ultra</td>\n",
       "    </tr>\n",
       "    <tr>\n",
       "      <th>11</th>\n",
       "      <td>7003.499363</td>\n",
       "      <td>3</td>\n",
       "      <td>56.0</td>\n",
       "      <td>ultra</td>\n",
       "    </tr>\n",
       "    <tr>\n",
       "      <th>12</th>\n",
       "      <td>6751.629942</td>\n",
       "      <td>2</td>\n",
       "      <td>28.0</td>\n",
       "      <td>ultra</td>\n",
       "    </tr>\n",
       "    <tr>\n",
       "      <th rowspan=\"7\" valign=\"top\">2</th>\n",
       "      <th>3</th>\n",
       "      <td>10187.723006</td>\n",
       "      <td>3</td>\n",
       "      <td>63.0</td>\n",
       "      <td>ultra</td>\n",
       "    </tr>\n",
       "    <tr>\n",
       "      <th>4</th>\n",
       "      <td>6164.381824</td>\n",
       "      <td>2</td>\n",
       "      <td>40.0</td>\n",
       "      <td>ultra</td>\n",
       "    </tr>\n",
       "    <tr>\n",
       "      <th>6</th>\n",
       "      <td>3255.338202</td>\n",
       "      <td>1</td>\n",
       "      <td>14.0</td>\n",
       "      <td>ultra</td>\n",
       "    </tr>\n",
       "    <tr>\n",
       "      <th>7</th>\n",
       "      <td>6780.722964</td>\n",
       "      <td>2</td>\n",
       "      <td>48.0</td>\n",
       "      <td>ultra</td>\n",
       "    </tr>\n",
       "    <tr>\n",
       "      <th>8</th>\n",
       "      <td>923.007439</td>\n",
       "      <td>1</td>\n",
       "      <td>7.0</td>\n",
       "      <td>ultra</td>\n",
       "    </tr>\n",
       "    <tr>\n",
       "      <th>10</th>\n",
       "      <td>2824.636598</td>\n",
       "      <td>1</td>\n",
       "      <td>19.0</td>\n",
       "      <td>ultra</td>\n",
       "    </tr>\n",
       "    <tr>\n",
       "      <th>12</th>\n",
       "      <td>3828.248580</td>\n",
       "      <td>1</td>\n",
       "      <td>12.0</td>\n",
       "      <td>ultra</td>\n",
       "    </tr>\n",
       "    <tr>\n",
       "      <th rowspan=\"7\" valign=\"top\">3</th>\n",
       "      <th>1</th>\n",
       "      <td>3061.777147</td>\n",
       "      <td>1</td>\n",
       "      <td>13.0</td>\n",
       "      <td>ultra</td>\n",
       "    </tr>\n",
       "    <tr>\n",
       "      <th>2</th>\n",
       "      <td>5421.152016</td>\n",
       "      <td>2</td>\n",
       "      <td>39.0</td>\n",
       "      <td>ultra</td>\n",
       "    </tr>\n",
       "    <tr>\n",
       "      <th>4</th>\n",
       "      <td>2956.651632</td>\n",
       "      <td>1</td>\n",
       "      <td>21.0</td>\n",
       "      <td>ultra</td>\n",
       "    </tr>\n",
       "    <tr>\n",
       "      <th>5</th>\n",
       "      <td>9064.026918</td>\n",
       "      <td>3</td>\n",
       "      <td>63.0</td>\n",
       "      <td>ultra</td>\n",
       "    </tr>\n",
       "    <tr>\n",
       "      <th>7</th>\n",
       "      <td>10919.595403</td>\n",
       "      <td>3</td>\n",
       "      <td>67.0</td>\n",
       "      <td>ultra</td>\n",
       "    </tr>\n",
       "    <tr>\n",
       "      <th>9</th>\n",
       "      <td>2891.012822</td>\n",
       "      <td>1</td>\n",
       "      <td>23.0</td>\n",
       "      <td>ultra</td>\n",
       "    </tr>\n",
       "    <tr>\n",
       "      <th>12</th>\n",
       "      <td>2593.381928</td>\n",
       "      <td>1</td>\n",
       "      <td>13.0</td>\n",
       "      <td>ultra</td>\n",
       "    </tr>\n",
       "  </tbody>\n",
       "</table>\n",
       "</div>"
      ],
      "text/plain": [
       "                    total_distance  number_of_trips  total_duration  \\\n",
       "user_id date_month                                                    \n",
       "1       1              7027.511294                2            42.0   \n",
       "        4               754.159807                1             7.0   \n",
       "        8              6723.470560                2            46.0   \n",
       "        10             5809.911100                2            32.0   \n",
       "        11             7003.499363                3            56.0   \n",
       "        12             6751.629942                2            28.0   \n",
       "2       3             10187.723006                3            63.0   \n",
       "        4              6164.381824                2            40.0   \n",
       "        6              3255.338202                1            14.0   \n",
       "        7              6780.722964                2            48.0   \n",
       "        8               923.007439                1             7.0   \n",
       "        10             2824.636598                1            19.0   \n",
       "        12             3828.248580                1            12.0   \n",
       "3       1              3061.777147                1            13.0   \n",
       "        2              5421.152016                2            39.0   \n",
       "        4              2956.651632                1            21.0   \n",
       "        5              9064.026918                3            63.0   \n",
       "        7             10919.595403                3            67.0   \n",
       "        9              2891.012822                1            23.0   \n",
       "        12             2593.381928                1            13.0   \n",
       "\n",
       "                   subscription_type  \n",
       "user_id date_month                    \n",
       "1       1                      ultra  \n",
       "        4                      ultra  \n",
       "        8                      ultra  \n",
       "        10                     ultra  \n",
       "        11                     ultra  \n",
       "        12                     ultra  \n",
       "2       3                      ultra  \n",
       "        4                      ultra  \n",
       "        6                      ultra  \n",
       "        7                      ultra  \n",
       "        8                      ultra  \n",
       "        10                     ultra  \n",
       "        12                     ultra  \n",
       "3       1                      ultra  \n",
       "        2                      ultra  \n",
       "        4                      ultra  \n",
       "        5                      ultra  \n",
       "        7                      ultra  \n",
       "        9                      ultra  \n",
       "        12                     ultra  "
      ]
     },
     "execution_count": 36,
     "metadata": {},
     "output_type": "execute_result"
    }
   ],
   "source": [
    "#сгруппируем данные по id и номеру месяца, подсчитаем для каждой группы суммарное расстояние, количство поездок и суммарное время\n",
    "data_profit = data.groupby(['user_id', 'date_month']).agg({'distance':['sum', 'count'],'duration':['sum'], 'subscription_type':['max']})\n",
    "\n",
    "data_profit.columns = ['total_distance', 'number_of_trips', 'total_duration', 'subscription_type']\n",
    "data_profit.head(20)\n"
   ]
  },
  {
   "cell_type": "markdown",
   "id": "75b34dae",
   "metadata": {},
   "source": [
    "Добавим в `data_profit` столбец с помесячной выручкой, которую принёс каждый пользователь. Помесячная выручка считается по формуле: (стоимость старта поездки &times;  количество поездок) + стоимость одной минуты поездки &times; общая продолжительность всех поездок в минутах) + стоимость подписки."
   ]
  },
  {
   "cell_type": "code",
   "execution_count": 37,
   "id": "69891060",
   "metadata": {},
   "outputs": [],
   "source": [
    "profits = []\n",
    "for i in users_go['user_id']:\n",
    "    for j in (data_profit.loc[i]).index.get_level_values(0):\n",
    "        profit = 0\n",
    "        subtype = data_profit.loc[i].loc[j]['subscription_type']\n",
    "        profit = subscriptions_go.query('subscription_type==@subtype')['start_ride_price'].item() * data_profit.loc[i].loc[j]['number_of_trips'].item() + \\\n",
    "                 subscriptions_go.query('subscription_type==@subtype')['minute_price'].item() * data_profit.loc[i].loc[j]['total_duration'].item() + \\\n",
    "                 subscriptions_go.query('subscription_type==@subtype')['subscription_fee'].item()\n",
    "        profits.append(profit)\n",
    "data_profit['profits'] = profits        "
   ]
  },
  {
   "cell_type": "code",
   "execution_count": 38,
   "id": "b2fed6ad",
   "metadata": {},
   "outputs": [
    {
     "data": {
      "text/html": [
       "<div>\n",
       "<style scoped>\n",
       "    .dataframe tbody tr th:only-of-type {\n",
       "        vertical-align: middle;\n",
       "    }\n",
       "\n",
       "    .dataframe tbody tr th {\n",
       "        vertical-align: top;\n",
       "    }\n",
       "\n",
       "    .dataframe thead th {\n",
       "        text-align: right;\n",
       "    }\n",
       "</style>\n",
       "<table border=\"1\" class=\"dataframe\">\n",
       "  <thead>\n",
       "    <tr style=\"text-align: right;\">\n",
       "      <th></th>\n",
       "      <th></th>\n",
       "      <th>total_distance</th>\n",
       "      <th>number_of_trips</th>\n",
       "      <th>total_duration</th>\n",
       "      <th>subscription_type</th>\n",
       "      <th>profits</th>\n",
       "    </tr>\n",
       "    <tr>\n",
       "      <th>user_id</th>\n",
       "      <th>date_month</th>\n",
       "      <th></th>\n",
       "      <th></th>\n",
       "      <th></th>\n",
       "      <th></th>\n",
       "      <th></th>\n",
       "    </tr>\n",
       "  </thead>\n",
       "  <tbody>\n",
       "    <tr>\n",
       "      <th rowspan=\"6\" valign=\"top\">1</th>\n",
       "      <th>1</th>\n",
       "      <td>7027.511294</td>\n",
       "      <td>2</td>\n",
       "      <td>42.0</td>\n",
       "      <td>ultra</td>\n",
       "      <td>451.0</td>\n",
       "    </tr>\n",
       "    <tr>\n",
       "      <th>4</th>\n",
       "      <td>754.159807</td>\n",
       "      <td>1</td>\n",
       "      <td>7.0</td>\n",
       "      <td>ultra</td>\n",
       "      <td>241.0</td>\n",
       "    </tr>\n",
       "    <tr>\n",
       "      <th>8</th>\n",
       "      <td>6723.470560</td>\n",
       "      <td>2</td>\n",
       "      <td>46.0</td>\n",
       "      <td>ultra</td>\n",
       "      <td>475.0</td>\n",
       "    </tr>\n",
       "    <tr>\n",
       "      <th>10</th>\n",
       "      <td>5809.911100</td>\n",
       "      <td>2</td>\n",
       "      <td>32.0</td>\n",
       "      <td>ultra</td>\n",
       "      <td>391.0</td>\n",
       "    </tr>\n",
       "    <tr>\n",
       "      <th>11</th>\n",
       "      <td>7003.499363</td>\n",
       "      <td>3</td>\n",
       "      <td>56.0</td>\n",
       "      <td>ultra</td>\n",
       "      <td>535.0</td>\n",
       "    </tr>\n",
       "    <tr>\n",
       "      <th>12</th>\n",
       "      <td>6751.629942</td>\n",
       "      <td>2</td>\n",
       "      <td>28.0</td>\n",
       "      <td>ultra</td>\n",
       "      <td>367.0</td>\n",
       "    </tr>\n",
       "    <tr>\n",
       "      <th rowspan=\"7\" valign=\"top\">2</th>\n",
       "      <th>3</th>\n",
       "      <td>10187.723006</td>\n",
       "      <td>3</td>\n",
       "      <td>63.0</td>\n",
       "      <td>ultra</td>\n",
       "      <td>577.0</td>\n",
       "    </tr>\n",
       "    <tr>\n",
       "      <th>4</th>\n",
       "      <td>6164.381824</td>\n",
       "      <td>2</td>\n",
       "      <td>40.0</td>\n",
       "      <td>ultra</td>\n",
       "      <td>439.0</td>\n",
       "    </tr>\n",
       "    <tr>\n",
       "      <th>6</th>\n",
       "      <td>3255.338202</td>\n",
       "      <td>1</td>\n",
       "      <td>14.0</td>\n",
       "      <td>ultra</td>\n",
       "      <td>283.0</td>\n",
       "    </tr>\n",
       "    <tr>\n",
       "      <th>7</th>\n",
       "      <td>6780.722964</td>\n",
       "      <td>2</td>\n",
       "      <td>48.0</td>\n",
       "      <td>ultra</td>\n",
       "      <td>487.0</td>\n",
       "    </tr>\n",
       "    <tr>\n",
       "      <th>8</th>\n",
       "      <td>923.007439</td>\n",
       "      <td>1</td>\n",
       "      <td>7.0</td>\n",
       "      <td>ultra</td>\n",
       "      <td>241.0</td>\n",
       "    </tr>\n",
       "    <tr>\n",
       "      <th>10</th>\n",
       "      <td>2824.636598</td>\n",
       "      <td>1</td>\n",
       "      <td>19.0</td>\n",
       "      <td>ultra</td>\n",
       "      <td>313.0</td>\n",
       "    </tr>\n",
       "    <tr>\n",
       "      <th>12</th>\n",
       "      <td>3828.248580</td>\n",
       "      <td>1</td>\n",
       "      <td>12.0</td>\n",
       "      <td>ultra</td>\n",
       "      <td>271.0</td>\n",
       "    </tr>\n",
       "    <tr>\n",
       "      <th rowspan=\"7\" valign=\"top\">3</th>\n",
       "      <th>1</th>\n",
       "      <td>3061.777147</td>\n",
       "      <td>1</td>\n",
       "      <td>13.0</td>\n",
       "      <td>ultra</td>\n",
       "      <td>277.0</td>\n",
       "    </tr>\n",
       "    <tr>\n",
       "      <th>2</th>\n",
       "      <td>5421.152016</td>\n",
       "      <td>2</td>\n",
       "      <td>39.0</td>\n",
       "      <td>ultra</td>\n",
       "      <td>433.0</td>\n",
       "    </tr>\n",
       "    <tr>\n",
       "      <th>4</th>\n",
       "      <td>2956.651632</td>\n",
       "      <td>1</td>\n",
       "      <td>21.0</td>\n",
       "      <td>ultra</td>\n",
       "      <td>325.0</td>\n",
       "    </tr>\n",
       "    <tr>\n",
       "      <th>5</th>\n",
       "      <td>9064.026918</td>\n",
       "      <td>3</td>\n",
       "      <td>63.0</td>\n",
       "      <td>ultra</td>\n",
       "      <td>577.0</td>\n",
       "    </tr>\n",
       "    <tr>\n",
       "      <th>7</th>\n",
       "      <td>10919.595403</td>\n",
       "      <td>3</td>\n",
       "      <td>67.0</td>\n",
       "      <td>ultra</td>\n",
       "      <td>601.0</td>\n",
       "    </tr>\n",
       "    <tr>\n",
       "      <th>9</th>\n",
       "      <td>2891.012822</td>\n",
       "      <td>1</td>\n",
       "      <td>23.0</td>\n",
       "      <td>ultra</td>\n",
       "      <td>337.0</td>\n",
       "    </tr>\n",
       "    <tr>\n",
       "      <th>12</th>\n",
       "      <td>2593.381928</td>\n",
       "      <td>1</td>\n",
       "      <td>13.0</td>\n",
       "      <td>ultra</td>\n",
       "      <td>277.0</td>\n",
       "    </tr>\n",
       "  </tbody>\n",
       "</table>\n",
       "</div>"
      ],
      "text/plain": [
       "                    total_distance  number_of_trips  total_duration  \\\n",
       "user_id date_month                                                    \n",
       "1       1              7027.511294                2            42.0   \n",
       "        4               754.159807                1             7.0   \n",
       "        8              6723.470560                2            46.0   \n",
       "        10             5809.911100                2            32.0   \n",
       "        11             7003.499363                3            56.0   \n",
       "        12             6751.629942                2            28.0   \n",
       "2       3             10187.723006                3            63.0   \n",
       "        4              6164.381824                2            40.0   \n",
       "        6              3255.338202                1            14.0   \n",
       "        7              6780.722964                2            48.0   \n",
       "        8               923.007439                1             7.0   \n",
       "        10             2824.636598                1            19.0   \n",
       "        12             3828.248580                1            12.0   \n",
       "3       1              3061.777147                1            13.0   \n",
       "        2              5421.152016                2            39.0   \n",
       "        4              2956.651632                1            21.0   \n",
       "        5              9064.026918                3            63.0   \n",
       "        7             10919.595403                3            67.0   \n",
       "        9              2891.012822                1            23.0   \n",
       "        12             2593.381928                1            13.0   \n",
       "\n",
       "                   subscription_type  profits  \n",
       "user_id date_month                             \n",
       "1       1                      ultra    451.0  \n",
       "        4                      ultra    241.0  \n",
       "        8                      ultra    475.0  \n",
       "        10                     ultra    391.0  \n",
       "        11                     ultra    535.0  \n",
       "        12                     ultra    367.0  \n",
       "2       3                      ultra    577.0  \n",
       "        4                      ultra    439.0  \n",
       "        6                      ultra    283.0  \n",
       "        7                      ultra    487.0  \n",
       "        8                      ultra    241.0  \n",
       "        10                     ultra    313.0  \n",
       "        12                     ultra    271.0  \n",
       "3       1                      ultra    277.0  \n",
       "        2                      ultra    433.0  \n",
       "        4                      ultra    325.0  \n",
       "        5                      ultra    577.0  \n",
       "        7                      ultra    601.0  \n",
       "        9                      ultra    337.0  \n",
       "        12                     ultra    277.0  "
      ]
     },
     "execution_count": 38,
     "metadata": {},
     "output_type": "execute_result"
    }
   ],
   "source": [
    "data_profit.head(20)"
   ]
  },
  {
   "cell_type": "markdown",
   "id": "41545ac0",
   "metadata": {},
   "source": [
    "<a id='step_7'></a>\n",
    "## Проверка гипотез"
   ]
  },
  {
   "cell_type": "markdown",
   "id": "0c2f31f2",
   "metadata": {},
   "source": [
    "Далее, для проверки гипотез, будем пользоваться t-тестами Стьюдента. В рамках каждого пункта будет формулироваться нулевая гипотеза и альтернативная гипотеза. По результатам теста примем решение: можно ли отвергнуть нулевую гипотезу или нет."
   ]
  },
  {
   "cell_type": "markdown",
   "id": "8a93281d",
   "metadata": {},
   "source": [
    "### Тратят ли пользователи с подпиской больше времени на поездки? "
   ]
  },
  {
   "cell_type": "markdown",
   "id": "8466dfec",
   "metadata": {},
   "source": [
    "Проверка нулевой гипотезы (в данном случае односторонней) о том, что две независимые выборки имеют одинаковые средние (ожидаемые) значения."
   ]
  },
  {
   "cell_type": "markdown",
   "id": "c9c52a2b",
   "metadata": {},
   "source": [
    "**Нулевая гипотеза**: средняя продолжительность поездки для двух групп пользователей равны.\n",
    "\n",
    "**Альтернативная гипотеза**: среднее значение продолжительности поездки для пользователей с подпиской больше, чем средняя продолжительность поездки пользователей без подписки."
   ]
  },
  {
   "cell_type": "code",
   "execution_count": 39,
   "id": "526f1e7d",
   "metadata": {},
   "outputs": [
    {
     "name": "stdout",
     "output_type": "stream",
     "text": [
      "p-value: 2.4959453720736625e-34\n",
      "Отвергаем нулевую гипотезу\n"
     ]
    }
   ],
   "source": [
    "alpha = 0.05\n",
    "\n",
    "results = st.ttest_ind(data_ultra['duration'], data_free['duration'], alternative='greater')\n",
    "\n",
    "print(f'p-value: {results.pvalue}')\n",
    "\n",
    "# проверяем p-value\n",
    "if results.pvalue < alpha:\n",
    "    print('Отвергаем нулевую гипотезу')\n",
    "else:\n",
    "    print('Нет оснований отвергнуть нулевую гипотезу')"
   ]
  },
  {
   "cell_type": "markdown",
   "id": "dfdd11fd",
   "metadata": {},
   "source": [
    "Полученное значение p-value меньше заданного уровня значимости, поэтому можно отвергнуть нулевую гипотезу. **Есть основания говорить, что пользователи с подпиской тратят больше времени на поездки**."
   ]
  },
  {
   "cell_type": "markdown",
   "id": "3372424c",
   "metadata": {},
   "source": [
    "### Расстояние одной поездки в 3130 метров — оптимальное с точки зрения износа самоката. Можно ли сказать, что расстояние, которое проезжают пользователи с подпиской за одну поездку, не превышает 3130 метров? "
   ]
  },
  {
   "cell_type": "markdown",
   "id": "3c1ae9f9",
   "metadata": {},
   "source": [
    "Проверка нулевой гипотезы (также односторонней) о том, что ожидаемое значение (среднее значение) выборки независимых наблюдений равно заданному среднему значению генеральной совокупности."
   ]
  },
  {
   "cell_type": "markdown",
   "id": "275dbf15",
   "metadata": {},
   "source": [
    "**Нулевая гипотеза**: средняя дальность поездки для пользователей с подпиской равна 3130 метрам.\n",
    "\n",
    "**Альтернативная гипотеза**: средняя дальность поездки для пользователей с подпиской **больше** 3130 метров."
   ]
  },
  {
   "cell_type": "code",
   "execution_count": 40,
   "id": "cc6067c6",
   "metadata": {},
   "outputs": [
    {
     "name": "stdout",
     "output_type": "stream",
     "text": [
      "p-значение: 0.9195368847849785\n",
      "Не отвергаем нулевую гипотезу\n"
     ]
    }
   ],
   "source": [
    "avg_distance_value = 3130\n",
    "\n",
    "alpha = 0.05\n",
    "\n",
    "results = st.ttest_1samp(data_ultra['distance'], avg_distance_value, alternative='greater')\n",
    "\n",
    "print('p-значение:', results.pvalue)\n",
    "\n",
    "if (results.pvalue < alpha):\n",
    "    print('Отвергаем нулевую гипотезу')\n",
    "else:\n",
    "    print('Не отвергаем нулевую гипотезу') "
   ]
  },
  {
   "cell_type": "markdown",
   "id": "c1af1a2f",
   "metadata": {},
   "source": [
    "Полученное значение p-value больше заданного уровня значимости, поэтому отвергнуть нулевую гипотезу мы не можем. **Есть основания полагать, что расстояние, которое проезжают пользователи с подпиской за одну поездку, не превышает 3130 метров**."
   ]
  },
  {
   "cell_type": "markdown",
   "id": "a22e76b8",
   "metadata": {},
   "source": [
    "### Будет ли помесячная выручка от пользователей с подпиской по месяцам выше, чем выручка от пользователей без подписки?"
   ]
  },
  {
   "cell_type": "markdown",
   "id": "871086df",
   "metadata": {},
   "source": [
    "Проверка нулевой гипотезы (в данном случае односторонней) о том, что две независимые выборки имеют одинаковые средние (ожидаемые) значения."
   ]
  },
  {
   "cell_type": "markdown",
   "id": "3029f845",
   "metadata": {},
   "source": [
    "**Нулевая гипотеза**: средняя помесяная выручка для двух групп пользователей будет равной.\n",
    "\n",
    "**Альтернативная гипотеза**: средняя помесячная выручка от пользователей с подпиской больше, чем cредняя помесячная выручка от пользователей без подписки."
   ]
  },
  {
   "cell_type": "code",
   "execution_count": 41,
   "id": "860cdb54",
   "metadata": {},
   "outputs": [
    {
     "name": "stdout",
     "output_type": "stream",
     "text": [
      "p-value: 1.8850394384715216e-31\n",
      "Отвергаем нулевую гипотезу\n"
     ]
    }
   ],
   "source": [
    "data_profit_free = data_profit.query('subscription_type == \"free\"')\n",
    "data_profit_ultra = data_profit.query('subscription_type == \"ultra\"')\n",
    "\n",
    "alpha = 0.05\n",
    "\n",
    "results = st.ttest_ind(data_profit_ultra['profits'], data_profit_free['profits'], alternative='greater')\n",
    "\n",
    "print(f'p-value: {results.pvalue}')\n",
    "\n",
    "# проверяем p-value\n",
    "if results.pvalue < alpha:\n",
    "    print('Отвергаем нулевую гипотезу')\n",
    "else:\n",
    "    print('Нет оснований отвергнуть нулевую гипотезу')"
   ]
  },
  {
   "cell_type": "markdown",
   "id": "b13e60ee",
   "metadata": {},
   "source": [
    "Полученное значение p-value меньше заданного уровня значимости, поэтому можно отвергнуть нулевую гипотезу. **Есть основания говорить, что средняя помесячная выручка от пользователей с подпиской больше, чем cредняя помесячная выручка от пользователей без подписки.**."
   ]
  },
  {
   "cell_type": "markdown",
   "id": "6755ac6d",
   "metadata": {},
   "source": [
    "### Техническая команда сервиса обновила сервера, с которыми взаимодействует мобильное приложение. Они хотят убедиться, что благодаря этому количество обращений в техподдержку значительно снизилось. Некоторый файл содержит для каждого пользователя данные о количестве обращений до обновления серверов и после обновления. Какой тест понадобился бы для проверки этой гипотезы?"
   ]
  },
  {
   "cell_type": "markdown",
   "id": "5dcfaadf",
   "metadata": {},
   "source": [
    "**Для проверки этой гипотезы понадобится t-тест Стьюдента для двух парных выборок.**\n",
    "\n",
    "Гипотезы будут сформулированы следующим образом:  \n",
    "\n",
    "**Нулевая гипотеза**: &mu;<sub>1</sub> = &mu;<sub>2</sub>\n",
    "\n",
    "**Альтернативня гипотеза**: &mu;<sub>2</sub> &#8800; &mu;<sub>2</sub>\n",
    "\n",
    "где &mu;<sub>1</sub> &mdash; среднее число обращений в техподдержку до обновления, &mu;<sub>2</sub> &mdash; среднее число обращений в техподдержку после обновления.\n",
    "\n",
    "<code>results = st.ttest_rel(before, after)</code>, где <code>before</code> &mdash; выборка с данными о количестве обращений до обновления, а <code>after</code> &mdash; с данными о количестве обращений после обновления."
   ]
  },
  {
   "cell_type": "markdown",
   "id": "61213c5e",
   "metadata": {},
   "source": [
    "<a id='step_8'></a>\n",
    "##  Распределения"
   ]
  },
  {
   "cell_type": "markdown",
   "id": "88ff6737",
   "metadata": {},
   "source": [
    "1. Отделу маркетинга GoFast поставили задачу: нужно провести акцию с раздачей промокодов на один бесплатный месяц подписки, в рамках которой как минимум 100 существующих клиентов должны продлить эту подписку. То есть по завершении периода действия подписки пользователь может либо отказаться от неё, либо продлить, совершив соответствующий платёж. \n",
    "\n",
    "    Эта акция уже проводилась ранее и по итогу выяснилось, что после бесплатного пробного периода подписку продлевают 10% пользователей. Выяснить, какое минимальное количество промокодов нужно разослать, чтобы вероятность не выполнить план была примерно 5%. Подберите параметры распределения, описывающего эту ситуацию, постройте график распределения и сформулируйте ответ на вопрос о количестве промокодов."
   ]
  },
  {
   "cell_type": "markdown",
   "id": "bc6e1269",
   "metadata": {},
   "source": [
    "Пользователь может воспользоваться или не воспользоваться промокодом (2 исхода) с заданной вероятностью. Акцию можно описать с помощью биномиального распределения, где вероятность успеха $p$ = 0.1. Промокодом должны воспользоваться как минимум 100 существующих клиентов. "
   ]
  },
  {
   "cell_type": "code",
   "execution_count": 42,
   "id": "d5385bc1",
   "metadata": {},
   "outputs": [
    {
     "name": "stdout",
     "output_type": "stream",
     "text": [
      "Вероятность провала акции: 0.04954795210203069\n"
     ]
    },
    {
     "data": {
      "image/png": "[encoded data removed]",
      "text/plain": [
       "<Figure size 640x480 with 1 Axes>"
      ]
     },
     "metadata": {},
     "output_type": "display_data"
    }
   ],
   "source": [
    "#задаём параметры биноминального распределения\n",
    "n = 1172 #общее кол-во промокодов (найдено эмпирическим путём)\n",
    "p = 0.1 #вероятность применения промокода\n",
    "\n",
    "result = binom.cdf(100, n, p) # расчёт вероятности неудачи (активируют менее 100 промокодов)\n",
    "print(\"Вероятность провала акции:\", result)\n",
    "\n",
    "x = list(range(1, 200))\n",
    "plt.plot(x, binom.pmf(x, n, p), 'o');\n",
    "plt.xlabel(\"Количество промокодов\")\n",
    "plt.ylabel(\"Вероятность применения\");\n",
    "plt.title(\"Вероятности биномиального распределения\");"
   ]
  },
  {
   "cell_type": "markdown",
   "id": "9ffe3569",
   "metadata": {},
   "source": [
    "Для того, чтобы вероятность провала акции не превышала 5%, необходимо разослать **не менее 1172 промокодов**."
   ]
  },
  {
   "cell_type": "markdown",
   "id": "4857c9ea",
   "metadata": {},
   "source": [
    "2. Отдел маркетинга рассылает клиентам push-уведомления в мобильном приложении. Клиенты могут открыть это уведомление или не открывать. Известно, что уведомления открывают около 40 % получивших их клиентов. Отдел планирует разослать 1 млн уведомлений. С помощью аппроксимации постройте примерный график распределения и оцените вероятность того, что уведомление откроют не более 399,5 тыс. пользователей."
   ]
  },
  {
   "cell_type": "markdown",
   "id": "a5171bfe",
   "metadata": {},
   "source": [
    "Пользователь может открыть или не открыть уведомление (2 исхода) с заданной вероятностью. Эта ситуация может быть описана с помощью биномиального распределения, где вероятность успеха $p$ = 0.4. Так как количество отвправленных уведомлений ($n$) велико, проксимируем биномльное распределение нормальным:"
   ]
  },
  {
   "cell_type": "code",
   "execution_count": 43,
   "id": "cd52978d",
   "metadata": {},
   "outputs": [
    {
     "name": "stdout",
     "output_type": "stream",
     "text": [
      "Вероятность того, что уведомление откроют не более 399,5 тыс. пользователей: 0.15371708296369768\n"
     ]
    }
   ],
   "source": [
    "#задаём параметры биномильного распределения\n",
    "n = 1000000 #общее кол-во push-уведомлений\n",
    "p = 0.4 #вероятность открытия уведомления\n",
    "\n",
    "#подсчёт параметров для нормального распределения\n",
    "mu = n * p\n",
    "sigma = sqrt(n * p * (1 - p))\n",
    "\n",
    "#задаём нормальное распределение\n",
    "distr = st.norm(mu, sigma) \n",
    "\n",
    "result = distr.cdf(399500) # подсчёт вероятности\n",
    "print(\"Вероятность того, что уведомление откроют не более 399,5 тыс. пользователей:\",result)"
   ]
  },
  {
   "cell_type": "code",
   "execution_count": 45,
   "id": "052ad1e6",
   "metadata": {},
   "outputs": [
    {
     "data": {
      "image/png": "[encoded data removed]",
      "text/plain": [
       "<Figure size 640x480 with 1 Axes>"
      ]
     },
     "metadata": {},
     "output_type": "display_data"
    }
   ],
   "source": [
    "def linspace(start, stop, num):\n",
    "    step = (stop - start) / (num - 1)\n",
    "    result = []\n",
    "    for i in range(num):\n",
    "        result.append(start + step * i)\n",
    "    return result\n",
    "\n",
    "x = linspace(395000, 405000, 100)\n",
    "plt.plot(x, norm.pdf(x, mu, sigma), 'r-', lw=3, alpha=0.3)\n",
    "plt.xlabel(\"Количество уведомлений\")\n",
    "plt.ylabel(\"Вероятность открытия\")\n",
    "plt.title(\"Вероятности нормального распределения\");"
   ]
  },
  {
   "cell_type": "markdown",
   "id": "c673bb23",
   "metadata": {},
   "source": [
    "По результатам оценки вероятность того, что уведомление откроют не более 399,5 тыс. пользователей **равна 15,4%**."
   ]
  },
  {
   "cell_type": "markdown",
   "id": "021e6969",
   "metadata": {},
   "source": [
    "<a id='step_9'></a>\n",
    "## Вывод"
   ]
  },
  {
   "cell_type": "markdown",
   "id": "e2e56b8b",
   "metadata": {},
   "source": [
    "1. Тратят ли пользователи с подпиской больше времени на поездки?  \n",
    "\n",
    "    **Да**, есть основания говорить, что пользователи с подпиской тратят больше времени на поездки.  \n",
    "  \n",
    "                                                                           \n",
    "2. Можно ли сказать, что расстояние, которое проезжают пользователи с подпиской за одну поездку, не превышает 3130 метров?    \n",
    "  \n",
    "    **Да**, есть основания полагать, что расстояние, которое проезжают пользователи с подпиской за одну поездку, не превышает 3130 метров.  \n",
    "      \n",
    "    \n",
    "3. Будет ли помесячная выручка от пользователей с подпиской по месяцам выше, чем выручка от пользователей без подписки?  \n",
    "  \n",
    "    **Да**, есть основания говорить, что средняя помесячная выручка от пользователей с подпиской больше, чем cредняя помесяная выручка от пользователей без подписки. \n",
    "      \n",
    "    \n",
    "4. Техническая команда сервиса обновила сервера, с которыми взаимодействует мобильное приложение. Они хотят убедиться, что благодаря этому количество обращений в техподдержку значительно снизилось. Некоторый файл содержит для каждого пользователя данные о количестве обращений до обновления и после него. Какой тест понадобился бы для проверки этой гипотезы?  \n",
    "\n",
    "    Для проверки этой гипотезы понадобится **t-тест Стьюдента для двух парных (зависимых) выборок**.  \n",
    "      \n",
    "    \n",
    "5.  Отделу маркетинга GoFast поставили задачу: нужно провести акцию с раздачей промокодов на один бесплатный месяц подписки, в рамках которой как минимум 100 существующих клиентов должны продлить эту подписку. То есть по завершении периода действия подписки пользователь может либо отказаться от неё, либо продлить, совершив соответствующий платёж.    \n",
    "    Эта акция уже проводилась ранее и по итогу выяснилось, что после бесплатного пробного периода подписку продлевают 10% пользователей. Выяснить, какое минимальное количество промокодов нужно разослать, чтобы вероятность не выполнить план была примерно 5%. \n",
    "      \n",
    "    Для того, чтобы вероятность провала акции не превышала 5% необходимо разослать **не менее 1172 промокодов**.  \n",
    "      \n",
    "\n",
    "6. Отдел маркетинга рассылает клиентам push-уведомления в мобильном приложении. Клиенты могут открыть эти уведомления или не открывать. Известно, что уведомления открывают около 40% получивших их клиентов. Отдел планирует разослать 1 млн уведомлений. С помощью аппроксимации постройте примерный график распределения и оцените вероятность того, что уведомление откроют не более 399,5 тыс. пользователей.  \n",
    "\n",
    "    По результатам оценки вероятность того, что что уведомление откроют не более 399,5 тыс. пользователей равна **15%**."
   ]
  }
 ],
 "metadata": {
  "ExecuteTimeLog": [
   {
    "duration": 390,
    "start_time": "2024-02-01T20:41:21.280Z"
   },
   {
    "duration": 135,
    "start_time": "2024-02-01T20:41:34.424Z"
   },
   {
    "duration": 36,
    "start_time": "2024-02-01T20:41:45.712Z"
   },
   {
    "duration": 53,
    "start_time": "2024-02-01T20:43:11.946Z"
   },
   {
    "duration": 87,
    "start_time": "2024-02-01T20:43:46.064Z"
   },
   {
    "duration": 73,
    "start_time": "2024-02-01T20:44:50.181Z"
   },
   {
    "duration": 83,
    "start_time": "2024-02-04T11:25:03.742Z"
   },
   {
    "duration": 381,
    "start_time": "2024-02-04T11:25:07.501Z"
   },
   {
    "duration": 690,
    "start_time": "2024-02-04T12:10:12.438Z"
   },
   {
    "duration": 41,
    "start_time": "2024-02-04T12:12:14.203Z"
   },
   {
    "duration": 89,
    "start_time": "2024-02-04T12:12:17.431Z"
   },
   {
    "duration": 70,
    "start_time": "2024-02-04T12:12:24.317Z"
   },
   {
    "duration": 11,
    "start_time": "2024-02-04T12:41:41.309Z"
   },
   {
    "duration": 6,
    "start_time": "2024-02-04T12:42:01.742Z"
   },
   {
    "duration": 11,
    "start_time": "2024-02-04T12:42:29.624Z"
   },
   {
    "duration": 10,
    "start_time": "2024-02-04T13:32:18.605Z"
   },
   {
    "duration": 8,
    "start_time": "2024-02-04T13:35:53.716Z"
   },
   {
    "duration": 18,
    "start_time": "2024-02-04T13:36:04.092Z"
   },
   {
    "duration": 1263,
    "start_time": "2024-02-04T13:38:18.770Z"
   },
   {
    "duration": 1225,
    "start_time": "2024-02-04T13:38:38.132Z"
   },
   {
    "duration": 1125,
    "start_time": "2024-02-04T13:38:41.057Z"
   },
   {
    "duration": 7,
    "start_time": "2024-02-04T13:38:49.593Z"
   },
   {
    "duration": 6,
    "start_time": "2024-02-04T13:42:08.433Z"
   },
   {
    "duration": 5,
    "start_time": "2024-02-04T13:44:14.009Z"
   },
   {
    "duration": 5,
    "start_time": "2024-02-04T13:44:58.375Z"
   },
   {
    "duration": 13,
    "start_time": "2024-02-04T13:45:08.327Z"
   },
   {
    "duration": 9,
    "start_time": "2024-02-04T13:48:31.514Z"
   },
   {
    "duration": 5,
    "start_time": "2024-02-04T13:48:42.792Z"
   },
   {
    "duration": 145,
    "start_time": "2024-02-04T13:49:00.348Z"
   },
   {
    "duration": 199,
    "start_time": "2024-02-04T13:49:11.544Z"
   },
   {
    "duration": 230,
    "start_time": "2024-02-04T13:49:22.529Z"
   },
   {
    "duration": 346,
    "start_time": "2024-02-04T13:50:27.973Z"
   },
   {
    "duration": 290,
    "start_time": "2024-02-04T13:50:33.364Z"
   },
   {
    "duration": 337,
    "start_time": "2024-02-04T14:01:04.100Z"
   },
   {
    "duration": 319,
    "start_time": "2024-02-04T14:01:19.870Z"
   },
   {
    "duration": 188,
    "start_time": "2024-02-04T14:01:38.576Z"
   },
   {
    "duration": 1885,
    "start_time": "2024-02-04T14:01:42.464Z"
   },
   {
    "duration": 416,
    "start_time": "2024-02-04T14:01:59.776Z"
   },
   {
    "duration": 5,
    "start_time": "2024-02-04T14:03:22.974Z"
   },
   {
    "duration": 6,
    "start_time": "2024-02-04T14:04:08.327Z"
   },
   {
    "duration": 14,
    "start_time": "2024-02-04T14:05:18.722Z"
   },
   {
    "duration": 5,
    "start_time": "2024-02-04T14:05:27.863Z"
   },
   {
    "duration": 7,
    "start_time": "2024-02-04T14:05:34.705Z"
   },
   {
    "duration": 8,
    "start_time": "2024-02-04T14:07:33.529Z"
   },
   {
    "duration": 272,
    "start_time": "2024-02-04T14:07:39.275Z"
   },
   {
    "duration": 7,
    "start_time": "2024-02-04T14:08:19.800Z"
   },
   {
    "duration": 8,
    "start_time": "2024-02-04T14:08:32.972Z"
   },
   {
    "duration": 9,
    "start_time": "2024-02-04T14:08:38.885Z"
   },
   {
    "duration": 7,
    "start_time": "2024-02-04T14:08:50.741Z"
   },
   {
    "duration": 8,
    "start_time": "2024-02-04T14:09:47.439Z"
   },
   {
    "duration": 9,
    "start_time": "2024-02-04T14:09:52.179Z"
   },
   {
    "duration": 5,
    "start_time": "2024-02-04T14:10:27.623Z"
   },
   {
    "duration": 8,
    "start_time": "2024-02-04T14:10:43.070Z"
   },
   {
    "duration": 6,
    "start_time": "2024-02-04T14:11:10.951Z"
   },
   {
    "duration": 4,
    "start_time": "2024-02-04T14:11:36.006Z"
   },
   {
    "duration": 5,
    "start_time": "2024-02-04T14:12:11.160Z"
   },
   {
    "duration": 6,
    "start_time": "2024-02-04T14:12:28.032Z"
   },
   {
    "duration": 9,
    "start_time": "2024-02-04T14:12:54.192Z"
   },
   {
    "duration": 11,
    "start_time": "2024-02-04T14:13:51.023Z"
   },
   {
    "duration": 10,
    "start_time": "2024-02-04T14:16:09.366Z"
   },
   {
    "duration": 5,
    "start_time": "2024-02-04T14:17:06.704Z"
   },
   {
    "duration": 5,
    "start_time": "2024-02-04T14:19:41.405Z"
   },
   {
    "duration": 13,
    "start_time": "2024-02-04T14:26:42.195Z"
   },
   {
    "duration": 14,
    "start_time": "2024-02-04T14:27:41.156Z"
   },
   {
    "duration": 6,
    "start_time": "2024-02-04T14:28:50.654Z"
   },
   {
    "duration": 5,
    "start_time": "2024-02-04T14:30:29.760Z"
   },
   {
    "duration": 82,
    "start_time": "2024-02-04T14:31:25.372Z"
   },
   {
    "duration": 8,
    "start_time": "2024-02-04T14:32:20.587Z"
   },
   {
    "duration": 9,
    "start_time": "2024-02-04T14:54:23.404Z"
   },
   {
    "duration": 5,
    "start_time": "2024-02-04T14:54:27.962Z"
   },
   {
    "duration": 4,
    "start_time": "2024-02-04T14:54:56.525Z"
   },
   {
    "duration": 4,
    "start_time": "2024-02-04T14:54:59.311Z"
   },
   {
    "duration": 4,
    "start_time": "2024-02-04T14:55:04.439Z"
   },
   {
    "duration": 5,
    "start_time": "2024-02-04T14:57:08.671Z"
   },
   {
    "duration": 7,
    "start_time": "2024-02-04T14:57:13.919Z"
   },
   {
    "duration": 10,
    "start_time": "2024-02-04T14:57:37.849Z"
   },
   {
    "duration": 4,
    "start_time": "2024-02-04T14:57:49.880Z"
   },
   {
    "duration": 6,
    "start_time": "2024-02-04T14:59:38.315Z"
   },
   {
    "duration": 7,
    "start_time": "2024-02-04T14:59:42.305Z"
   },
   {
    "duration": 4,
    "start_time": "2024-02-04T14:59:48.465Z"
   },
   {
    "duration": 65,
    "start_time": "2024-02-04T15:01:20.276Z"
   },
   {
    "duration": 3,
    "start_time": "2024-02-04T15:01:26.011Z"
   },
   {
    "duration": 7,
    "start_time": "2024-02-04T15:02:10.551Z"
   },
   {
    "duration": 9,
    "start_time": "2024-02-04T15:08:21.772Z"
   },
   {
    "duration": 6,
    "start_time": "2024-02-04T15:08:40.237Z"
   },
   {
    "duration": 6,
    "start_time": "2024-02-04T15:13:48.886Z"
   },
   {
    "duration": 4,
    "start_time": "2024-02-04T15:16:05.464Z"
   },
   {
    "duration": 63,
    "start_time": "2024-02-04T15:16:39.453Z"
   },
   {
    "duration": 32,
    "start_time": "2024-02-04T15:16:45.406Z"
   },
   {
    "duration": 12,
    "start_time": "2024-02-04T15:16:56.833Z"
   },
   {
    "duration": 11,
    "start_time": "2024-02-04T15:17:14.226Z"
   },
   {
    "duration": 12,
    "start_time": "2024-02-04T15:17:17.814Z"
   },
   {
    "duration": 11,
    "start_time": "2024-02-04T15:18:27.487Z"
   },
   {
    "duration": 10,
    "start_time": "2024-02-04T15:20:41.040Z"
   },
   {
    "duration": 7,
    "start_time": "2024-02-04T15:22:15.873Z"
   },
   {
    "duration": 8,
    "start_time": "2024-02-04T15:22:20.493Z"
   },
   {
    "duration": 16,
    "start_time": "2024-02-04T15:22:26.193Z"
   },
   {
    "duration": 4,
    "start_time": "2024-02-04T15:24:52.053Z"
   },
   {
    "duration": 6,
    "start_time": "2024-02-04T15:25:50.205Z"
   },
   {
    "duration": 5,
    "start_time": "2024-02-04T15:26:22.473Z"
   },
   {
    "duration": 5,
    "start_time": "2024-02-04T15:26:33.692Z"
   },
   {
    "duration": 5,
    "start_time": "2024-02-04T15:27:03.402Z"
   },
   {
    "duration": 142,
    "start_time": "2024-02-04T15:32:45.834Z"
   },
   {
    "duration": 3,
    "start_time": "2024-02-04T15:33:19.239Z"
   },
   {
    "duration": 153,
    "start_time": "2024-02-04T15:33:24.252Z"
   },
   {
    "duration": 161,
    "start_time": "2024-02-04T15:34:09.608Z"
   },
   {
    "duration": 169,
    "start_time": "2024-02-04T15:34:23.663Z"
   },
   {
    "duration": 142,
    "start_time": "2024-02-04T15:37:55.297Z"
   },
   {
    "duration": 122,
    "start_time": "2024-02-04T15:38:00.631Z"
   },
   {
    "duration": 159,
    "start_time": "2024-02-04T15:39:49.740Z"
   },
   {
    "duration": 146,
    "start_time": "2024-02-04T15:59:40.885Z"
   },
   {
    "duration": 134,
    "start_time": "2024-02-04T16:00:02.508Z"
   },
   {
    "duration": 1397,
    "start_time": "2024-02-04T16:00:41.446Z"
   },
   {
    "duration": 135,
    "start_time": "2024-02-04T16:00:45.287Z"
   },
   {
    "duration": 7,
    "start_time": "2024-02-04T16:01:15.183Z"
   },
   {
    "duration": 10,
    "start_time": "2024-02-04T16:01:22.681Z"
   },
   {
    "duration": 9,
    "start_time": "2024-02-04T16:01:35.438Z"
   },
   {
    "duration": 11,
    "start_time": "2024-02-04T16:02:58.445Z"
   },
   {
    "duration": 6,
    "start_time": "2024-02-04T16:03:13.567Z"
   },
   {
    "duration": 5,
    "start_time": "2024-02-04T16:03:18.066Z"
   },
   {
    "duration": 5,
    "start_time": "2024-02-04T16:03:21.677Z"
   },
   {
    "duration": 10,
    "start_time": "2024-02-04T16:03:25.608Z"
   },
   {
    "duration": 268,
    "start_time": "2024-02-04T16:05:35.128Z"
   },
   {
    "duration": 75,
    "start_time": "2024-02-04T16:06:25.173Z"
   },
   {
    "duration": 122,
    "start_time": "2024-02-04T16:06:30.712Z"
   },
   {
    "duration": 141,
    "start_time": "2024-02-04T16:06:35.965Z"
   },
   {
    "duration": 123,
    "start_time": "2024-02-04T16:07:16.656Z"
   },
   {
    "duration": 13,
    "start_time": "2024-02-04T16:11:37.987Z"
   },
   {
    "duration": 13,
    "start_time": "2024-02-04T16:11:50.147Z"
   },
   {
    "duration": 137,
    "start_time": "2024-02-04T16:11:56.319Z"
   },
   {
    "duration": 236,
    "start_time": "2024-02-04T16:12:10.038Z"
   },
   {
    "duration": 234,
    "start_time": "2024-02-04T16:12:17.288Z"
   },
   {
    "duration": 10,
    "start_time": "2024-02-04T16:12:45.690Z"
   },
   {
    "duration": 245,
    "start_time": "2024-02-04T16:12:56.446Z"
   },
   {
    "duration": 13,
    "start_time": "2024-02-04T16:13:45.042Z"
   },
   {
    "duration": 188,
    "start_time": "2024-02-04T16:14:17.979Z"
   },
   {
    "duration": 180,
    "start_time": "2024-02-04T16:14:38.773Z"
   },
   {
    "duration": 166,
    "start_time": "2024-02-04T16:14:53.228Z"
   },
   {
    "duration": 7,
    "start_time": "2024-02-04T16:15:15.407Z"
   },
   {
    "duration": 151,
    "start_time": "2024-02-04T16:18:36.420Z"
   },
   {
    "duration": 160,
    "start_time": "2024-02-04T16:18:46.873Z"
   },
   {
    "duration": 168,
    "start_time": "2024-02-04T16:18:53.328Z"
   },
   {
    "duration": 8,
    "start_time": "2024-02-04T16:23:44.466Z"
   },
   {
    "duration": 433,
    "start_time": "2024-02-04T16:23:54.508Z"
   },
   {
    "duration": 260,
    "start_time": "2024-02-04T16:24:15.070Z"
   },
   {
    "duration": 199,
    "start_time": "2024-02-04T16:25:25.843Z"
   },
   {
    "duration": 141,
    "start_time": "2024-02-04T16:25:29.505Z"
   },
   {
    "duration": 269,
    "start_time": "2024-02-04T16:25:32.668Z"
   },
   {
    "duration": 119,
    "start_time": "2024-02-04T16:29:58.004Z"
   },
   {
    "duration": 9,
    "start_time": "2024-02-04T16:32:53.798Z"
   },
   {
    "duration": 182,
    "start_time": "2024-02-04T16:33:30.625Z"
   },
   {
    "duration": 11,
    "start_time": "2024-02-04T16:36:38.942Z"
   },
   {
    "duration": 15,
    "start_time": "2024-02-04T16:36:45.240Z"
   },
   {
    "duration": 22,
    "start_time": "2024-02-04T16:37:59.477Z"
   },
   {
    "duration": 18,
    "start_time": "2024-02-04T16:39:23.325Z"
   },
   {
    "duration": 7,
    "start_time": "2024-02-04T16:39:40.341Z"
   },
   {
    "duration": 14,
    "start_time": "2024-02-04T16:39:49.002Z"
   },
   {
    "duration": 263,
    "start_time": "2024-02-04T16:40:55.683Z"
   },
   {
    "duration": 522,
    "start_time": "2024-02-04T16:41:19.555Z"
   },
   {
    "duration": 706,
    "start_time": "2024-02-04T16:41:40.980Z"
   },
   {
    "duration": 10,
    "start_time": "2024-02-04T16:47:44.041Z"
   },
   {
    "duration": 3,
    "start_time": "2024-02-04T16:48:19.440Z"
   },
   {
    "duration": 4,
    "start_time": "2024-02-04T16:48:43.211Z"
   },
   {
    "duration": 10,
    "start_time": "2024-02-04T16:50:17.503Z"
   },
   {
    "duration": 12,
    "start_time": "2024-02-04T16:50:37.724Z"
   },
   {
    "duration": 20,
    "start_time": "2024-02-04T16:56:11.259Z"
   },
   {
    "duration": 23,
    "start_time": "2024-02-04T16:56:18.143Z"
   },
   {
    "duration": 18,
    "start_time": "2024-02-04T16:56:43.052Z"
   },
   {
    "duration": 20,
    "start_time": "2024-02-04T16:57:37.191Z"
   },
   {
    "duration": 12,
    "start_time": "2024-02-04T17:01:13.808Z"
   },
   {
    "duration": 20,
    "start_time": "2024-02-04T17:01:22.690Z"
   },
   {
    "duration": 8,
    "start_time": "2024-02-04T17:14:28.864Z"
   },
   {
    "duration": 1186,
    "start_time": "2024-02-04T17:14:36.632Z"
   },
   {
    "duration": 19,
    "start_time": "2024-02-04T17:15:03.920Z"
   },
   {
    "duration": 4,
    "start_time": "2024-02-04T17:17:14.499Z"
   },
   {
    "duration": 4,
    "start_time": "2024-02-04T17:17:23.483Z"
   },
   {
    "duration": 10,
    "start_time": "2024-02-04T17:19:02.247Z"
   },
   {
    "duration": 5,
    "start_time": "2024-02-04T17:19:10.802Z"
   },
   {
    "duration": 11,
    "start_time": "2024-02-04T17:19:30.282Z"
   },
   {
    "duration": 1155,
    "start_time": "2024-02-04T17:21:34.141Z"
   },
   {
    "duration": 1149,
    "start_time": "2024-02-04T17:26:59.523Z"
   },
   {
    "duration": 7,
    "start_time": "2024-02-04T17:27:07.206Z"
   },
   {
    "duration": 1619,
    "start_time": "2024-02-04T17:27:42.929Z"
   },
   {
    "duration": 1161,
    "start_time": "2024-02-04T17:27:48.293Z"
   },
   {
    "duration": 1223,
    "start_time": "2024-02-04T17:27:55.523Z"
   },
   {
    "duration": 1085,
    "start_time": "2024-02-04T17:28:03.660Z"
   },
   {
    "duration": 9,
    "start_time": "2024-02-04T17:28:08.316Z"
   },
   {
    "duration": 17,
    "start_time": "2024-02-04T17:32:37.595Z"
   },
   {
    "duration": 18,
    "start_time": "2024-02-04T17:32:46.032Z"
   },
   {
    "duration": 17,
    "start_time": "2024-02-04T17:32:58.166Z"
   },
   {
    "duration": 20,
    "start_time": "2024-02-04T17:33:09.078Z"
   },
   {
    "duration": 27,
    "start_time": "2024-02-04T17:33:24.011Z"
   },
   {
    "duration": 791,
    "start_time": "2024-02-04T17:39:28.169Z"
   },
   {
    "duration": 791,
    "start_time": "2024-02-04T17:40:03.858Z"
   },
   {
    "duration": 11,
    "start_time": "2024-02-04T17:40:32.700Z"
   },
   {
    "duration": 1261,
    "start_time": "2024-02-04T17:41:23.884Z"
   },
   {
    "duration": 5,
    "start_time": "2024-02-04T17:41:40.552Z"
   },
   {
    "duration": 2,
    "start_time": "2024-02-04T17:43:46.184Z"
   },
   {
    "duration": 25,
    "start_time": "2024-02-04T17:44:52.766Z"
   },
   {
    "duration": 17,
    "start_time": "2024-02-04T17:45:01.024Z"
   },
   {
    "duration": 14,
    "start_time": "2024-02-04T17:45:03.683Z"
   },
   {
    "duration": 524,
    "start_time": "2024-02-04T17:45:05.738Z"
   },
   {
    "duration": 525,
    "start_time": "2024-02-04T17:45:22.647Z"
   },
   {
    "duration": 757,
    "start_time": "2024-02-04T17:45:26.141Z"
   },
   {
    "duration": 8,
    "start_time": "2024-02-04T17:48:35.894Z"
   },
   {
    "duration": 15,
    "start_time": "2024-02-04T17:48:38.933Z"
   },
   {
    "duration": 1221,
    "start_time": "2024-02-04T17:55:49.622Z"
   },
   {
    "duration": 7,
    "start_time": "2024-02-04T18:04:30.169Z"
   },
   {
    "duration": 7,
    "start_time": "2024-02-04T18:04:37.958Z"
   },
   {
    "duration": 100,
    "start_time": "2024-02-04T18:04:55.247Z"
   },
   {
    "duration": 7,
    "start_time": "2024-02-04T18:05:07.994Z"
   },
   {
    "duration": 75,
    "start_time": "2024-02-04T18:06:03.165Z"
   },
   {
    "duration": 65,
    "start_time": "2024-02-04T18:06:22.647Z"
   },
   {
    "duration": 276,
    "start_time": "2024-02-04T18:06:39.000Z"
   },
   {
    "duration": 55,
    "start_time": "2024-02-04T18:06:59.817Z"
   },
   {
    "duration": 2348,
    "start_time": "2024-02-04T18:07:53.348Z"
   },
   {
    "duration": 1467,
    "start_time": "2024-02-04T18:08:20.298Z"
   },
   {
    "duration": 15,
    "start_time": "2024-02-04T18:08:46.629Z"
   },
   {
    "duration": 15,
    "start_time": "2024-02-04T18:09:00.420Z"
   },
   {
    "duration": 15,
    "start_time": "2024-02-04T18:09:09.952Z"
   },
   {
    "duration": 15,
    "start_time": "2024-02-04T18:09:28.673Z"
   },
   {
    "duration": 14,
    "start_time": "2024-02-04T18:09:42.842Z"
   },
   {
    "duration": 1354,
    "start_time": "2024-02-04T18:10:41.948Z"
   },
   {
    "duration": 1190,
    "start_time": "2024-02-04T18:10:52.509Z"
   },
   {
    "duration": 1192,
    "start_time": "2024-02-04T18:11:07.414Z"
   },
   {
    "duration": 6,
    "start_time": "2024-02-04T18:11:33.357Z"
   },
   {
    "duration": 1533,
    "start_time": "2024-02-04T18:12:15.750Z"
   },
   {
    "duration": 5,
    "start_time": "2024-02-04T18:12:25.195Z"
   },
   {
    "duration": 6,
    "start_time": "2024-02-04T18:17:36.807Z"
   },
   {
    "duration": 6,
    "start_time": "2024-02-04T18:35:13.657Z"
   },
   {
    "duration": 6,
    "start_time": "2024-02-04T18:35:22.111Z"
   },
   {
    "duration": 4,
    "start_time": "2024-02-04T18:35:53.757Z"
   },
   {
    "duration": 3,
    "start_time": "2024-02-04T18:36:01.384Z"
   },
   {
    "duration": 1203,
    "start_time": "2024-02-04T18:36:09.656Z"
   },
   {
    "duration": 1215,
    "start_time": "2024-02-04T18:36:14.813Z"
   },
   {
    "duration": 1137,
    "start_time": "2024-02-04T18:36:30.859Z"
   },
   {
    "duration": 1066,
    "start_time": "2024-02-04T18:36:37.700Z"
   },
   {
    "duration": 1225,
    "start_time": "2024-02-04T18:36:58.333Z"
   },
   {
    "duration": 5,
    "start_time": "2024-02-04T18:37:10.137Z"
   },
   {
    "duration": 5,
    "start_time": "2024-02-04T18:38:30.064Z"
   },
   {
    "duration": 1073,
    "start_time": "2024-02-04T18:43:10.374Z"
   },
   {
    "duration": 1151,
    "start_time": "2024-02-04T18:43:40.162Z"
   },
   {
    "duration": 18,
    "start_time": "2024-02-04T18:44:23.072Z"
   },
   {
    "duration": 75,
    "start_time": "2024-02-04T18:44:49.227Z"
   },
   {
    "duration": 13,
    "start_time": "2024-02-04T18:44:55.896Z"
   },
   {
    "duration": 14,
    "start_time": "2024-02-04T18:45:07.760Z"
   },
   {
    "duration": 13,
    "start_time": "2024-02-04T18:45:54.179Z"
   },
   {
    "duration": 11,
    "start_time": "2024-02-04T18:46:06.484Z"
   },
   {
    "duration": 7,
    "start_time": "2024-02-04T18:47:34.810Z"
   },
   {
    "duration": 23,
    "start_time": "2024-02-04T18:47:49.955Z"
   },
   {
    "duration": 9,
    "start_time": "2024-02-04T18:48:09.871Z"
   },
   {
    "duration": 8,
    "start_time": "2024-02-04T18:50:36.497Z"
   },
   {
    "duration": 6,
    "start_time": "2024-02-04T18:50:44.346Z"
   },
   {
    "duration": 100,
    "start_time": "2024-02-04T18:56:34.098Z"
   },
   {
    "duration": 64018,
    "start_time": "2024-02-04T18:57:19.619Z"
   },
   {
    "duration": 64625,
    "start_time": "2024-02-04T18:58:43.742Z"
   },
   {
    "duration": 13,
    "start_time": "2024-02-04T19:00:29.677Z"
   },
   {
    "duration": 12,
    "start_time": "2024-02-04T19:00:59.030Z"
   },
   {
    "duration": 12,
    "start_time": "2024-02-04T19:01:13.056Z"
   },
   {
    "duration": 24,
    "start_time": "2024-02-04T19:01:19.828Z"
   },
   {
    "duration": 16,
    "start_time": "2024-02-04T19:02:59.293Z"
   },
   {
    "duration": 11,
    "start_time": "2024-02-04T19:03:06.461Z"
   },
   {
    "duration": 15,
    "start_time": "2024-02-04T19:03:19.276Z"
   },
   {
    "duration": 61184,
    "start_time": "2024-02-04T19:03:33.648Z"
   },
   {
    "duration": 11,
    "start_time": "2024-02-04T19:04:40.244Z"
   },
   {
    "duration": 60478,
    "start_time": "2024-02-04T19:04:47.651Z"
   },
   {
    "duration": 11,
    "start_time": "2024-02-04T19:06:08.063Z"
   },
   {
    "duration": 12,
    "start_time": "2024-02-04T19:06:15.659Z"
   },
   {
    "duration": 11,
    "start_time": "2024-02-04T19:07:11.181Z"
   },
   {
    "duration": 60595,
    "start_time": "2024-02-04T19:07:13.284Z"
   },
   {
    "duration": 349,
    "start_time": "2024-02-04T19:08:40.796Z"
   },
   {
    "duration": 75,
    "start_time": "2024-02-04T19:09:10.648Z"
   },
   {
    "duration": 92,
    "start_time": "2024-02-04T19:09:14.689Z"
   },
   {
    "duration": 3,
    "start_time": "2024-02-04T19:10:08.838Z"
   },
   {
    "duration": 43,
    "start_time": "2024-02-04T19:10:08.843Z"
   },
   {
    "duration": 46,
    "start_time": "2024-02-04T19:10:08.888Z"
   },
   {
    "duration": 29,
    "start_time": "2024-02-04T19:10:08.936Z"
   },
   {
    "duration": 17,
    "start_time": "2024-02-04T19:10:08.967Z"
   },
   {
    "duration": 6,
    "start_time": "2024-02-04T19:10:08.985Z"
   },
   {
    "duration": 12,
    "start_time": "2024-02-04T19:10:08.992Z"
   },
   {
    "duration": 5,
    "start_time": "2024-02-04T19:10:09.023Z"
   },
   {
    "duration": 21,
    "start_time": "2024-02-04T19:10:09.029Z"
   },
   {
    "duration": 10,
    "start_time": "2024-02-04T19:10:09.051Z"
   },
   {
    "duration": 5,
    "start_time": "2024-02-04T19:10:09.105Z"
   },
   {
    "duration": 4,
    "start_time": "2024-02-04T19:10:09.112Z"
   },
   {
    "duration": 12,
    "start_time": "2024-02-04T19:10:09.117Z"
   },
   {
    "duration": 4,
    "start_time": "2024-02-04T19:10:09.131Z"
   },
   {
    "duration": 4,
    "start_time": "2024-02-04T19:10:09.136Z"
   },
   {
    "duration": 10,
    "start_time": "2024-02-04T19:10:09.142Z"
   },
   {
    "duration": 13,
    "start_time": "2024-02-04T19:10:09.153Z"
   },
   {
    "duration": 7,
    "start_time": "2024-02-04T19:10:09.167Z"
   },
   {
    "duration": 8,
    "start_time": "2024-02-04T19:10:09.176Z"
   },
   {
    "duration": 16,
    "start_time": "2024-02-04T19:10:09.214Z"
   },
   {
    "duration": 6,
    "start_time": "2024-02-04T19:10:09.232Z"
   },
   {
    "duration": 5,
    "start_time": "2024-02-04T19:10:09.239Z"
   },
   {
    "duration": 168,
    "start_time": "2024-02-04T19:10:09.246Z"
   },
   {
    "duration": 158,
    "start_time": "2024-02-04T19:10:09.417Z"
   },
   {
    "duration": 7,
    "start_time": "2024-02-04T19:10:09.577Z"
   },
   {
    "duration": 182,
    "start_time": "2024-02-04T19:10:09.586Z"
   },
   {
    "duration": 9,
    "start_time": "2024-02-04T19:10:09.769Z"
   },
   {
    "duration": 279,
    "start_time": "2024-02-04T19:10:09.779Z"
   },
   {
    "duration": 124,
    "start_time": "2024-02-04T19:10:10.060Z"
   },
   {
    "duration": 193,
    "start_time": "2024-02-04T19:10:10.186Z"
   },
   {
    "duration": 24,
    "start_time": "2024-02-04T19:10:10.381Z"
   },
   {
    "duration": 15,
    "start_time": "2024-02-04T19:10:10.408Z"
   },
   {
    "duration": 19,
    "start_time": "2024-02-04T19:10:10.424Z"
   },
   {
    "duration": 548,
    "start_time": "2024-02-04T19:10:10.444Z"
   },
   {
    "duration": 503,
    "start_time": "2024-02-04T19:10:10.994Z"
   },
   {
    "duration": 779,
    "start_time": "2024-02-04T19:10:11.498Z"
   },
   {
    "duration": 11,
    "start_time": "2024-02-04T19:10:12.278Z"
   },
   {
    "duration": 13,
    "start_time": "2024-02-04T19:10:12.291Z"
   },
   {
    "duration": 64703,
    "start_time": "2024-02-04T19:13:24.523Z"
   },
   {
    "duration": 12,
    "start_time": "2024-02-04T19:14:56.898Z"
   },
   {
    "duration": 5,
    "start_time": "2024-02-04T19:16:23.316Z"
   },
   {
    "duration": 65495,
    "start_time": "2024-02-04T19:16:35.934Z"
   },
   {
    "duration": 71,
    "start_time": "2024-02-04T19:18:11.139Z"
   },
   {
    "duration": 15,
    "start_time": "2024-02-04T19:18:24.275Z"
   },
   {
    "duration": 16,
    "start_time": "2024-02-04T19:18:50.247Z"
   },
   {
    "duration": 12,
    "start_time": "2024-02-04T19:19:44.801Z"
   },
   {
    "duration": 26,
    "start_time": "2024-02-04T19:19:51.029Z"
   },
   {
    "duration": 14,
    "start_time": "2024-02-04T19:20:13.903Z"
   },
   {
    "duration": 14,
    "start_time": "2024-02-04T19:20:26.882Z"
   },
   {
    "duration": 14,
    "start_time": "2024-02-04T19:20:42.313Z"
   },
   {
    "duration": 14,
    "start_time": "2024-02-04T19:20:46.182Z"
   },
   {
    "duration": 13,
    "start_time": "2024-02-04T19:20:55.004Z"
   },
   {
    "duration": 13,
    "start_time": "2024-02-04T19:21:12.375Z"
   },
   {
    "duration": 17,
    "start_time": "2024-02-04T19:21:17.470Z"
   },
   {
    "duration": 1775,
    "start_time": "2024-02-04T19:21:31.823Z"
   },
   {
    "duration": 15,
    "start_time": "2024-02-04T19:21:56.707Z"
   },
   {
    "duration": 14,
    "start_time": "2024-02-04T19:22:02.461Z"
   },
   {
    "duration": 13,
    "start_time": "2024-02-04T19:22:10.374Z"
   },
   {
    "duration": 27356,
    "start_time": "2024-02-04T19:22:24.915Z"
   },
   {
    "duration": 1141,
    "start_time": "2024-02-04T19:23:32.871Z"
   },
   {
    "duration": 1143,
    "start_time": "2024-02-04T19:23:54.534Z"
   },
   {
    "duration": 13,
    "start_time": "2024-02-04T19:24:15.962Z"
   },
   {
    "duration": 14,
    "start_time": "2024-02-04T19:24:27.018Z"
   },
   {
    "duration": 27897,
    "start_time": "2024-02-04T19:24:34.702Z"
   },
   {
    "duration": 12,
    "start_time": "2024-02-04T19:25:11.047Z"
   },
   {
    "duration": 11,
    "start_time": "2024-02-04T19:25:52.153Z"
   },
   {
    "duration": 23,
    "start_time": "2024-02-04T19:25:59.872Z"
   },
   {
    "duration": 13,
    "start_time": "2024-02-04T19:26:33.395Z"
   },
   {
    "duration": 11,
    "start_time": "2024-02-04T19:26:37.543Z"
   },
   {
    "duration": 25417,
    "start_time": "2024-02-04T19:27:41.247Z"
   },
   {
    "duration": 60986,
    "start_time": "2024-02-04T19:35:01.406Z"
   },
   {
    "duration": 347,
    "start_time": "2024-02-04T19:36:10.821Z"
   },
   {
    "duration": 5,
    "start_time": "2024-02-04T19:36:56.378Z"
   },
   {
    "duration": 9,
    "start_time": "2024-02-04T19:37:46.876Z"
   },
   {
    "duration": 7,
    "start_time": "2024-02-04T19:38:01.397Z"
   },
   {
    "duration": 14,
    "start_time": "2024-02-04T19:39:18.448Z"
   },
   {
    "duration": 15,
    "start_time": "2024-02-04T19:42:41.825Z"
   },
   {
    "duration": 8,
    "start_time": "2024-02-04T19:43:00.776Z"
   },
   {
    "duration": 4,
    "start_time": "2024-02-04T19:43:22.707Z"
   },
   {
    "duration": 53275,
    "start_time": "2024-02-04T19:44:01.156Z"
   },
   {
    "duration": 5,
    "start_time": "2024-02-04T19:45:17.491Z"
   },
   {
    "duration": 11,
    "start_time": "2024-02-04T19:45:22.538Z"
   },
   {
    "duration": 5,
    "start_time": "2024-02-04T19:45:39.660Z"
   },
   {
    "duration": 20,
    "start_time": "2024-02-04T19:45:43.980Z"
   },
   {
    "duration": 2,
    "start_time": "2024-02-04T19:46:47.046Z"
   },
   {
    "duration": 41,
    "start_time": "2024-02-04T19:46:47.050Z"
   },
   {
    "duration": 38,
    "start_time": "2024-02-04T19:46:47.092Z"
   },
   {
    "duration": 25,
    "start_time": "2024-02-04T19:46:47.132Z"
   },
   {
    "duration": 15,
    "start_time": "2024-02-04T19:46:47.159Z"
   },
   {
    "duration": 6,
    "start_time": "2024-02-04T19:46:47.175Z"
   },
   {
    "duration": 13,
    "start_time": "2024-02-04T19:46:47.183Z"
   },
   {
    "duration": 5,
    "start_time": "2024-02-04T19:46:47.198Z"
   },
   {
    "duration": 7,
    "start_time": "2024-02-04T19:46:47.206Z"
   },
   {
    "duration": 51,
    "start_time": "2024-02-04T19:46:47.214Z"
   },
   {
    "duration": 8,
    "start_time": "2024-02-04T19:46:47.267Z"
   },
   {
    "duration": 11,
    "start_time": "2024-02-04T19:46:47.277Z"
   },
   {
    "duration": 16,
    "start_time": "2024-02-04T19:46:47.290Z"
   },
   {
    "duration": 6,
    "start_time": "2024-02-04T19:46:47.308Z"
   },
   {
    "duration": 5,
    "start_time": "2024-02-04T19:46:47.315Z"
   },
   {
    "duration": 43,
    "start_time": "2024-02-04T19:46:47.322Z"
   },
   {
    "duration": 5,
    "start_time": "2024-02-04T19:46:47.367Z"
   },
   {
    "duration": 12,
    "start_time": "2024-02-04T19:46:47.373Z"
   },
   {
    "duration": 9,
    "start_time": "2024-02-04T19:46:47.387Z"
   },
   {
    "duration": 16,
    "start_time": "2024-02-04T19:46:47.398Z"
   },
   {
    "duration": 6,
    "start_time": "2024-02-04T19:46:47.415Z"
   },
   {
    "duration": 44,
    "start_time": "2024-02-04T19:46:47.422Z"
   },
   {
    "duration": 170,
    "start_time": "2024-02-04T19:46:47.467Z"
   },
   {
    "duration": 175,
    "start_time": "2024-02-04T19:46:47.640Z"
   },
   {
    "duration": 8,
    "start_time": "2024-02-04T19:46:47.816Z"
   },
   {
    "duration": 214,
    "start_time": "2024-02-04T19:46:47.825Z"
   },
   {
    "duration": 10,
    "start_time": "2024-02-04T19:46:48.041Z"
   },
   {
    "duration": 320,
    "start_time": "2024-02-04T19:46:48.053Z"
   },
   {
    "duration": 127,
    "start_time": "2024-02-04T19:46:48.374Z"
   },
   {
    "duration": 209,
    "start_time": "2024-02-04T19:46:48.503Z"
   },
   {
    "duration": 23,
    "start_time": "2024-02-04T19:46:48.714Z"
   },
   {
    "duration": 29,
    "start_time": "2024-02-04T19:46:48.738Z"
   },
   {
    "duration": 14,
    "start_time": "2024-02-04T19:46:48.768Z"
   },
   {
    "duration": 591,
    "start_time": "2024-02-04T19:46:48.783Z"
   },
   {
    "duration": 546,
    "start_time": "2024-02-04T19:46:49.376Z"
   },
   {
    "duration": 780,
    "start_time": "2024-02-04T19:46:49.923Z"
   },
   {
    "duration": 12,
    "start_time": "2024-02-04T19:46:50.704Z"
   },
   {
    "duration": 4,
    "start_time": "2024-02-04T19:46:50.718Z"
   },
   {
    "duration": 53515,
    "start_time": "2024-02-04T19:46:50.724Z"
   },
   {
    "duration": 17,
    "start_time": "2024-02-04T19:47:44.240Z"
   },
   {
    "duration": 2,
    "start_time": "2024-02-04T19:48:30.508Z"
   },
   {
    "duration": 59,
    "start_time": "2024-02-04T19:48:30.512Z"
   },
   {
    "duration": 38,
    "start_time": "2024-02-04T19:48:30.573Z"
   },
   {
    "duration": 25,
    "start_time": "2024-02-04T19:48:30.612Z"
   },
   {
    "duration": 13,
    "start_time": "2024-02-04T19:48:30.641Z"
   },
   {
    "duration": 18,
    "start_time": "2024-02-04T19:48:30.656Z"
   },
   {
    "duration": 49,
    "start_time": "2024-02-04T19:48:30.675Z"
   },
   {
    "duration": 22,
    "start_time": "2024-02-04T19:48:30.726Z"
   },
   {
    "duration": 38,
    "start_time": "2024-02-04T19:48:30.749Z"
   },
   {
    "duration": 58,
    "start_time": "2024-02-04T19:48:30.788Z"
   },
   {
    "duration": 40,
    "start_time": "2024-02-04T19:48:30.848Z"
   },
   {
    "duration": 43,
    "start_time": "2024-02-04T19:48:30.890Z"
   },
   {
    "duration": 40,
    "start_time": "2024-02-04T19:48:30.935Z"
   },
   {
    "duration": 33,
    "start_time": "2024-02-04T19:48:30.977Z"
   },
   {
    "duration": 41,
    "start_time": "2024-02-04T19:48:31.011Z"
   },
   {
    "duration": 35,
    "start_time": "2024-02-04T19:48:31.054Z"
   },
   {
    "duration": 37,
    "start_time": "2024-02-04T19:48:31.091Z"
   },
   {
    "duration": 37,
    "start_time": "2024-02-04T19:48:31.130Z"
   },
   {
    "duration": 33,
    "start_time": "2024-02-04T19:48:31.169Z"
   },
   {
    "duration": 44,
    "start_time": "2024-02-04T19:48:31.204Z"
   },
   {
    "duration": 11,
    "start_time": "2024-02-04T19:48:31.249Z"
   },
   {
    "duration": 15,
    "start_time": "2024-02-04T19:48:31.261Z"
   },
   {
    "duration": 152,
    "start_time": "2024-02-04T19:48:31.277Z"
   },
   {
    "duration": 135,
    "start_time": "2024-02-04T19:48:31.431Z"
   },
   {
    "duration": 7,
    "start_time": "2024-02-04T19:48:31.567Z"
   },
   {
    "duration": 560,
    "start_time": "2024-02-04T19:48:31.575Z"
   },
   {
    "duration": 8,
    "start_time": "2024-02-04T19:48:32.137Z"
   },
   {
    "duration": 298,
    "start_time": "2024-02-04T19:48:32.146Z"
   },
   {
    "duration": 129,
    "start_time": "2024-02-04T19:48:32.447Z"
   },
   {
    "duration": 179,
    "start_time": "2024-02-04T19:48:32.577Z"
   },
   {
    "duration": 21,
    "start_time": "2024-02-04T19:48:32.764Z"
   },
   {
    "duration": 14,
    "start_time": "2024-02-04T19:48:32.787Z"
   },
   {
    "duration": 13,
    "start_time": "2024-02-04T19:48:32.802Z"
   },
   {
    "duration": 543,
    "start_time": "2024-02-04T19:48:32.816Z"
   },
   {
    "duration": 533,
    "start_time": "2024-02-04T19:48:33.360Z"
   },
   {
    "duration": 771,
    "start_time": "2024-02-04T19:48:33.894Z"
   },
   {
    "duration": 11,
    "start_time": "2024-02-04T19:48:34.667Z"
   },
   {
    "duration": 94,
    "start_time": "2024-02-04T19:49:24.159Z"
   },
   {
    "duration": 63873,
    "start_time": "2024-02-04T19:49:49.664Z"
   },
   {
    "duration": 15,
    "start_time": "2024-02-04T19:51:01.099Z"
   },
   {
    "duration": 15,
    "start_time": "2024-02-04T19:51:07.546Z"
   },
   {
    "duration": 2,
    "start_time": "2024-02-04T19:51:32.496Z"
   },
   {
    "duration": 38,
    "start_time": "2024-02-04T19:51:32.503Z"
   },
   {
    "duration": 37,
    "start_time": "2024-02-04T19:51:32.542Z"
   },
   {
    "duration": 25,
    "start_time": "2024-02-04T19:51:32.580Z"
   },
   {
    "duration": 14,
    "start_time": "2024-02-04T19:51:32.606Z"
   },
   {
    "duration": 6,
    "start_time": "2024-02-04T19:51:32.621Z"
   },
   {
    "duration": 16,
    "start_time": "2024-02-04T19:51:32.628Z"
   },
   {
    "duration": 20,
    "start_time": "2024-02-04T19:51:32.645Z"
   },
   {
    "duration": 8,
    "start_time": "2024-02-04T19:51:32.666Z"
   },
   {
    "duration": 11,
    "start_time": "2024-02-04T19:51:32.675Z"
   },
   {
    "duration": 5,
    "start_time": "2024-02-04T19:51:32.688Z"
   },
   {
    "duration": 4,
    "start_time": "2024-02-04T19:51:32.695Z"
   },
   {
    "duration": 13,
    "start_time": "2024-02-04T19:51:32.700Z"
   },
   {
    "duration": 5,
    "start_time": "2024-02-04T19:51:32.714Z"
   },
   {
    "duration": 47,
    "start_time": "2024-02-04T19:51:32.721Z"
   },
   {
    "duration": 6,
    "start_time": "2024-02-04T19:51:32.770Z"
   },
   {
    "duration": 4,
    "start_time": "2024-02-04T19:51:32.778Z"
   },
   {
    "duration": 12,
    "start_time": "2024-02-04T19:51:32.783Z"
   },
   {
    "duration": 8,
    "start_time": "2024-02-04T19:51:32.796Z"
   },
   {
    "duration": 13,
    "start_time": "2024-02-04T19:51:32.805Z"
   },
   {
    "duration": 5,
    "start_time": "2024-02-04T19:51:32.820Z"
   },
   {
    "duration": 41,
    "start_time": "2024-02-04T19:51:32.826Z"
   },
   {
    "duration": 159,
    "start_time": "2024-02-04T19:51:32.869Z"
   },
   {
    "duration": 141,
    "start_time": "2024-02-04T19:51:33.029Z"
   },
   {
    "duration": 8,
    "start_time": "2024-02-04T19:51:33.173Z"
   },
   {
    "duration": 197,
    "start_time": "2024-02-04T19:51:33.182Z"
   },
   {
    "duration": 8,
    "start_time": "2024-02-04T19:51:33.380Z"
   },
   {
    "duration": 305,
    "start_time": "2024-02-04T19:51:33.389Z"
   },
   {
    "duration": 127,
    "start_time": "2024-02-04T19:51:33.696Z"
   },
   {
    "duration": 189,
    "start_time": "2024-02-04T19:51:33.824Z"
   },
   {
    "duration": 23,
    "start_time": "2024-02-04T19:51:34.014Z"
   },
   {
    "duration": 30,
    "start_time": "2024-02-04T19:51:34.038Z"
   },
   {
    "duration": 14,
    "start_time": "2024-02-04T19:51:34.069Z"
   },
   {
    "duration": 522,
    "start_time": "2024-02-04T19:51:34.084Z"
   },
   {
    "duration": 522,
    "start_time": "2024-02-04T19:51:34.607Z"
   },
   {
    "duration": 773,
    "start_time": "2024-02-04T19:51:35.130Z"
   },
   {
    "duration": 10,
    "start_time": "2024-02-04T19:51:35.905Z"
   },
   {
    "duration": 58877,
    "start_time": "2024-02-04T19:51:35.916Z"
   },
   {
    "duration": 14,
    "start_time": "2024-02-04T19:52:34.794Z"
   },
   {
    "duration": 3,
    "start_time": "2024-02-04T19:53:51.175Z"
   },
   {
    "duration": 40,
    "start_time": "2024-02-04T19:53:51.182Z"
   },
   {
    "duration": 39,
    "start_time": "2024-02-04T19:53:51.225Z"
   },
   {
    "duration": 24,
    "start_time": "2024-02-04T19:53:51.265Z"
   },
   {
    "duration": 13,
    "start_time": "2024-02-04T19:53:51.290Z"
   },
   {
    "duration": 5,
    "start_time": "2024-02-04T19:53:51.305Z"
   },
   {
    "duration": 10,
    "start_time": "2024-02-04T19:53:51.311Z"
   },
   {
    "duration": 5,
    "start_time": "2024-02-04T19:53:51.322Z"
   },
   {
    "duration": 7,
    "start_time": "2024-02-04T19:53:51.328Z"
   },
   {
    "duration": 36,
    "start_time": "2024-02-04T19:53:51.336Z"
   },
   {
    "duration": 9,
    "start_time": "2024-02-04T19:53:51.374Z"
   },
   {
    "duration": 4,
    "start_time": "2024-02-04T19:53:51.385Z"
   },
   {
    "duration": 13,
    "start_time": "2024-02-04T19:53:51.391Z"
   },
   {
    "duration": 8,
    "start_time": "2024-02-04T19:53:51.405Z"
   },
   {
    "duration": 5,
    "start_time": "2024-02-04T19:53:51.416Z"
   },
   {
    "duration": 10,
    "start_time": "2024-02-04T19:53:51.422Z"
   },
   {
    "duration": 34,
    "start_time": "2024-02-04T19:53:51.433Z"
   },
   {
    "duration": 9,
    "start_time": "2024-02-04T19:53:51.468Z"
   },
   {
    "duration": 8,
    "start_time": "2024-02-04T19:53:51.479Z"
   },
   {
    "duration": 14,
    "start_time": "2024-02-04T19:53:51.488Z"
   },
   {
    "duration": 5,
    "start_time": "2024-02-04T19:53:51.504Z"
   },
   {
    "duration": 4,
    "start_time": "2024-02-04T19:53:51.511Z"
   },
   {
    "duration": 204,
    "start_time": "2024-02-04T19:53:51.516Z"
   },
   {
    "duration": 137,
    "start_time": "2024-02-04T19:53:51.721Z"
   },
   {
    "duration": 7,
    "start_time": "2024-02-04T19:53:51.864Z"
   },
   {
    "duration": 178,
    "start_time": "2024-02-04T19:53:51.872Z"
   },
   {
    "duration": 14,
    "start_time": "2024-02-04T19:53:52.051Z"
   },
   {
    "duration": 294,
    "start_time": "2024-02-04T19:53:52.067Z"
   },
   {
    "duration": 133,
    "start_time": "2024-02-04T19:53:52.364Z"
   },
   {
    "duration": 191,
    "start_time": "2024-02-04T19:53:52.498Z"
   },
   {
    "duration": 24,
    "start_time": "2024-02-04T19:53:52.691Z"
   },
   {
    "duration": 15,
    "start_time": "2024-02-04T19:53:52.716Z"
   },
   {
    "duration": 32,
    "start_time": "2024-02-04T19:53:52.733Z"
   },
   {
    "duration": 549,
    "start_time": "2024-02-04T19:53:52.767Z"
   },
   {
    "duration": 541,
    "start_time": "2024-02-04T19:53:53.317Z"
   },
   {
    "duration": 732,
    "start_time": "2024-02-04T19:53:53.859Z"
   },
   {
    "duration": 10,
    "start_time": "2024-02-04T19:53:54.592Z"
   },
   {
    "duration": 55132,
    "start_time": "2024-02-04T19:53:54.603Z"
   },
   {
    "duration": 4,
    "start_time": "2024-02-04T19:54:49.737Z"
   },
   {
    "duration": 14,
    "start_time": "2024-02-04T19:55:04.927Z"
   },
   {
    "duration": 3,
    "start_time": "2024-02-04T19:57:29.513Z"
   },
   {
    "duration": 59,
    "start_time": "2024-02-04T19:57:29.528Z"
   },
   {
    "duration": 38,
    "start_time": "2024-02-04T19:57:29.589Z"
   },
   {
    "duration": 25,
    "start_time": "2024-02-04T19:57:29.629Z"
   },
   {
    "duration": 12,
    "start_time": "2024-02-04T19:57:29.665Z"
   },
   {
    "duration": 5,
    "start_time": "2024-02-04T19:57:29.679Z"
   },
   {
    "duration": 9,
    "start_time": "2024-02-04T19:57:29.686Z"
   },
   {
    "duration": 5,
    "start_time": "2024-02-04T19:57:29.697Z"
   },
   {
    "duration": 16,
    "start_time": "2024-02-04T19:57:29.704Z"
   },
   {
    "duration": 48,
    "start_time": "2024-02-04T19:57:29.721Z"
   },
   {
    "duration": 10,
    "start_time": "2024-02-04T19:57:29.770Z"
   },
   {
    "duration": 9,
    "start_time": "2024-02-04T19:57:29.781Z"
   },
   {
    "duration": 14,
    "start_time": "2024-02-04T19:57:29.791Z"
   },
   {
    "duration": 9,
    "start_time": "2024-02-04T19:57:29.806Z"
   },
   {
    "duration": 5,
    "start_time": "2024-02-04T19:57:29.817Z"
   },
   {
    "duration": 44,
    "start_time": "2024-02-04T19:57:29.824Z"
   },
   {
    "duration": 6,
    "start_time": "2024-02-04T19:57:29.870Z"
   },
   {
    "duration": 8,
    "start_time": "2024-02-04T19:57:29.877Z"
   },
   {
    "duration": 9,
    "start_time": "2024-02-04T19:57:29.887Z"
   },
   {
    "duration": 14,
    "start_time": "2024-02-04T19:57:29.897Z"
   },
   {
    "duration": 5,
    "start_time": "2024-02-04T19:57:29.912Z"
   },
   {
    "duration": 5,
    "start_time": "2024-02-04T19:57:29.964Z"
   },
   {
    "duration": 170,
    "start_time": "2024-02-04T19:57:29.971Z"
   },
   {
    "duration": 144,
    "start_time": "2024-02-04T19:57:30.143Z"
   },
   {
    "duration": 7,
    "start_time": "2024-02-04T19:57:30.289Z"
   },
   {
    "duration": 208,
    "start_time": "2024-02-04T19:57:30.297Z"
   },
   {
    "duration": 9,
    "start_time": "2024-02-04T19:57:30.506Z"
   },
   {
    "duration": 346,
    "start_time": "2024-02-04T19:57:30.517Z"
   },
   {
    "duration": 133,
    "start_time": "2024-02-04T19:57:30.865Z"
   },
   {
    "duration": 193,
    "start_time": "2024-02-04T19:57:31.000Z"
   },
   {
    "duration": 24,
    "start_time": "2024-02-04T19:57:31.194Z"
   },
   {
    "duration": 16,
    "start_time": "2024-02-04T19:57:31.219Z"
   },
   {
    "duration": 40,
    "start_time": "2024-02-04T19:57:31.237Z"
   },
   {
    "duration": 544,
    "start_time": "2024-02-04T19:57:31.278Z"
   },
   {
    "duration": 546,
    "start_time": "2024-02-04T19:57:31.823Z"
   },
   {
    "duration": 756,
    "start_time": "2024-02-04T19:57:32.371Z"
   },
   {
    "duration": 12,
    "start_time": "2024-02-04T19:57:33.129Z"
   },
   {
    "duration": 56341,
    "start_time": "2024-02-04T19:57:33.143Z"
   },
   {
    "duration": 14,
    "start_time": "2024-02-04T19:58:29.485Z"
   },
   {
    "duration": 41,
    "start_time": "2024-02-05T16:29:10.748Z"
   },
   {
    "duration": 778,
    "start_time": "2024-02-05T16:29:14.478Z"
   },
   {
    "duration": 89,
    "start_time": "2024-02-05T16:29:15.257Z"
   },
   {
    "duration": 73,
    "start_time": "2024-02-05T16:29:15.347Z"
   },
   {
    "duration": 60,
    "start_time": "2024-02-05T16:29:15.422Z"
   },
   {
    "duration": 12,
    "start_time": "2024-02-05T16:29:15.484Z"
   },
   {
    "duration": 6,
    "start_time": "2024-02-05T16:29:15.497Z"
   },
   {
    "duration": 10,
    "start_time": "2024-02-05T16:29:15.505Z"
   },
   {
    "duration": 6,
    "start_time": "2024-02-05T16:29:15.516Z"
   },
   {
    "duration": 13,
    "start_time": "2024-02-05T16:29:15.523Z"
   },
   {
    "duration": 8,
    "start_time": "2024-02-05T16:29:15.538Z"
   },
   {
    "duration": 5,
    "start_time": "2024-02-05T16:29:15.547Z"
   },
   {
    "duration": 4,
    "start_time": "2024-02-05T16:29:15.553Z"
   },
   {
    "duration": 16,
    "start_time": "2024-02-05T16:29:15.558Z"
   },
   {
    "duration": 28,
    "start_time": "2024-02-05T16:29:15.576Z"
   },
   {
    "duration": 4,
    "start_time": "2024-02-05T16:29:15.605Z"
   },
   {
    "duration": 6,
    "start_time": "2024-02-05T16:29:15.610Z"
   },
   {
    "duration": 4,
    "start_time": "2024-02-05T16:29:15.617Z"
   },
   {
    "duration": 6,
    "start_time": "2024-02-05T16:29:15.623Z"
   },
   {
    "duration": 7,
    "start_time": "2024-02-05T16:29:15.630Z"
   },
   {
    "duration": 11,
    "start_time": "2024-02-05T16:29:15.638Z"
   },
   {
    "duration": 4,
    "start_time": "2024-02-05T16:29:15.651Z"
   },
   {
    "duration": 47,
    "start_time": "2024-02-05T16:29:15.656Z"
   },
   {
    "duration": 151,
    "start_time": "2024-02-05T16:29:15.705Z"
   },
   {
    "duration": 119,
    "start_time": "2024-02-05T16:29:15.858Z"
   },
   {
    "duration": 6,
    "start_time": "2024-02-05T16:29:15.979Z"
   },
   {
    "duration": 154,
    "start_time": "2024-02-05T16:29:15.992Z"
   },
   {
    "duration": 8,
    "start_time": "2024-02-05T16:29:16.147Z"
   },
   {
    "duration": 276,
    "start_time": "2024-02-05T16:29:16.156Z"
   },
   {
    "duration": 157,
    "start_time": "2024-02-05T16:29:20.111Z"
   },
   {
    "duration": 7,
    "start_time": "2024-02-05T16:32:59.534Z"
   },
   {
    "duration": 216,
    "start_time": "2024-02-05T16:34:11.414Z"
   },
   {
    "duration": 238,
    "start_time": "2024-02-05T16:34:18.864Z"
   },
   {
    "duration": 226,
    "start_time": "2024-02-05T16:34:43.499Z"
   },
   {
    "duration": 20,
    "start_time": "2024-02-05T16:47:13.382Z"
   },
   {
    "duration": 32,
    "start_time": "2024-02-05T17:19:35.768Z"
   },
   {
    "duration": 2,
    "start_time": "2024-02-05T17:19:41.618Z"
   },
   {
    "duration": 38,
    "start_time": "2024-02-05T17:19:41.623Z"
   },
   {
    "duration": 33,
    "start_time": "2024-02-05T17:19:41.663Z"
   },
   {
    "duration": 23,
    "start_time": "2024-02-05T17:19:41.697Z"
   },
   {
    "duration": 12,
    "start_time": "2024-02-05T17:19:41.721Z"
   },
   {
    "duration": 5,
    "start_time": "2024-02-05T17:19:41.735Z"
   },
   {
    "duration": 9,
    "start_time": "2024-02-05T17:19:41.742Z"
   },
   {
    "duration": 6,
    "start_time": "2024-02-05T17:19:41.752Z"
   },
   {
    "duration": 7,
    "start_time": "2024-02-05T17:19:41.760Z"
   },
   {
    "duration": 35,
    "start_time": "2024-02-05T17:19:41.769Z"
   },
   {
    "duration": 10,
    "start_time": "2024-02-05T17:19:41.805Z"
   },
   {
    "duration": 8,
    "start_time": "2024-02-05T17:19:41.816Z"
   },
   {
    "duration": 12,
    "start_time": "2024-02-05T17:19:41.826Z"
   },
   {
    "duration": 4,
    "start_time": "2024-02-05T17:19:41.840Z"
   },
   {
    "duration": 5,
    "start_time": "2024-02-05T17:19:41.846Z"
   },
   {
    "duration": 6,
    "start_time": "2024-02-05T17:19:41.852Z"
   },
   {
    "duration": 10,
    "start_time": "2024-02-05T17:19:41.859Z"
   },
   {
    "duration": 7,
    "start_time": "2024-02-05T17:19:41.870Z"
   },
   {
    "duration": 28,
    "start_time": "2024-02-05T17:19:41.879Z"
   },
   {
    "duration": 12,
    "start_time": "2024-02-05T17:19:41.908Z"
   },
   {
    "duration": 4,
    "start_time": "2024-02-05T17:19:41.921Z"
   },
   {
    "duration": 5,
    "start_time": "2024-02-05T17:19:41.926Z"
   },
   {
    "duration": 151,
    "start_time": "2024-02-05T17:19:41.932Z"
   },
   {
    "duration": 125,
    "start_time": "2024-02-05T17:19:42.084Z"
   },
   {
    "duration": 7,
    "start_time": "2024-02-05T17:19:42.210Z"
   },
   {
    "duration": 154,
    "start_time": "2024-02-05T17:19:42.218Z"
   },
   {
    "duration": 8,
    "start_time": "2024-02-05T17:19:42.373Z"
   },
   {
    "duration": 293,
    "start_time": "2024-02-05T17:19:42.382Z"
   },
   {
    "duration": 7,
    "start_time": "2024-02-05T17:19:42.676Z"
   },
   {
    "duration": 161,
    "start_time": "2024-02-05T17:19:42.684Z"
   },
   {
    "duration": 20,
    "start_time": "2024-02-05T17:19:42.846Z"
   },
   {
    "duration": 13,
    "start_time": "2024-02-05T17:19:42.867Z"
   },
   {
    "duration": 26,
    "start_time": "2024-02-05T17:19:42.881Z"
   },
   {
    "duration": 472,
    "start_time": "2024-02-05T17:19:44.568Z"
   },
   {
    "duration": 461,
    "start_time": "2024-02-05T17:20:22.241Z"
   },
   {
    "duration": 502,
    "start_time": "2024-02-05T17:21:08.097Z"
   },
   {
    "duration": 428,
    "start_time": "2024-02-05T17:21:47.618Z"
   },
   {
    "duration": 468,
    "start_time": "2024-02-05T17:21:58.613Z"
   },
   {
    "duration": 495,
    "start_time": "2024-02-05T17:22:10.663Z"
   },
   {
    "duration": 401,
    "start_time": "2024-02-05T17:22:31.587Z"
   },
   {
    "duration": 393,
    "start_time": "2024-02-05T17:22:37.746Z"
   },
   {
    "duration": 780,
    "start_time": "2024-02-05T17:22:45.908Z"
   },
   {
    "duration": 395,
    "start_time": "2024-02-05T17:22:50.882Z"
   },
   {
    "duration": 471,
    "start_time": "2024-02-05T17:23:04.616Z"
   },
   {
    "duration": 381,
    "start_time": "2024-02-05T17:23:14.638Z"
   },
   {
    "duration": 394,
    "start_time": "2024-02-05T17:23:32.853Z"
   },
   {
    "duration": 394,
    "start_time": "2024-02-05T18:02:17.998Z"
   },
   {
    "duration": 437,
    "start_time": "2024-02-05T18:12:26.723Z"
   },
   {
    "duration": 395,
    "start_time": "2024-02-05T18:12:34.839Z"
   },
   {
    "duration": 380,
    "start_time": "2024-02-05T18:37:36.624Z"
   },
   {
    "duration": 415,
    "start_time": "2024-02-05T18:38:12.534Z"
   },
   {
    "duration": 472,
    "start_time": "2024-02-05T18:38:17.085Z"
   },
   {
    "duration": 384,
    "start_time": "2024-02-05T18:38:21.853Z"
   },
   {
    "duration": 394,
    "start_time": "2024-02-05T18:38:25.393Z"
   },
   {
    "duration": 357,
    "start_time": "2024-02-05T18:38:44.412Z"
   },
   {
    "duration": 429,
    "start_time": "2024-02-05T18:38:57.716Z"
   },
   {
    "duration": 380,
    "start_time": "2024-02-05T18:39:04.312Z"
   },
   {
    "duration": 361,
    "start_time": "2024-02-05T18:39:10.797Z"
   },
   {
    "duration": 471,
    "start_time": "2024-02-05T18:42:21.138Z"
   },
   {
    "duration": 367,
    "start_time": "2024-02-05T19:08:57.688Z"
   },
   {
    "duration": 4,
    "start_time": "2024-02-05T19:10:05.062Z"
   },
   {
    "duration": 4,
    "start_time": "2024-02-05T19:12:06.100Z"
   },
   {
    "duration": 4,
    "start_time": "2024-02-05T19:12:11.118Z"
   },
   {
    "duration": 4,
    "start_time": "2024-02-05T19:29:14.759Z"
   },
   {
    "duration": 1351,
    "start_time": "2024-02-05T19:32:44.551Z"
   },
   {
    "duration": 4,
    "start_time": "2024-02-05T19:32:53.613Z"
   },
   {
    "duration": 7,
    "start_time": "2024-02-05T20:05:40.419Z"
   },
   {
    "duration": 3,
    "start_time": "2024-02-05T20:05:54.717Z"
   },
   {
    "duration": 44,
    "start_time": "2024-02-05T20:05:54.727Z"
   },
   {
    "duration": 47,
    "start_time": "2024-02-05T20:05:54.773Z"
   },
   {
    "duration": 27,
    "start_time": "2024-02-05T20:05:54.822Z"
   },
   {
    "duration": 18,
    "start_time": "2024-02-05T20:05:54.850Z"
   },
   {
    "duration": 4,
    "start_time": "2024-02-05T20:05:54.870Z"
   },
   {
    "duration": 31,
    "start_time": "2024-02-05T20:05:54.875Z"
   },
   {
    "duration": 4,
    "start_time": "2024-02-05T20:05:54.907Z"
   },
   {
    "duration": 15,
    "start_time": "2024-02-05T20:05:54.913Z"
   },
   {
    "duration": 12,
    "start_time": "2024-02-05T20:05:54.929Z"
   },
   {
    "duration": 8,
    "start_time": "2024-02-05T20:05:54.943Z"
   },
   {
    "duration": 7,
    "start_time": "2024-02-05T20:05:54.953Z"
   },
   {
    "duration": 11,
    "start_time": "2024-02-05T20:05:54.962Z"
   },
   {
    "duration": 31,
    "start_time": "2024-02-05T20:05:54.974Z"
   },
   {
    "duration": 5,
    "start_time": "2024-02-05T20:05:55.007Z"
   },
   {
    "duration": 11,
    "start_time": "2024-02-05T20:05:55.013Z"
   },
   {
    "duration": 4,
    "start_time": "2024-02-05T20:05:55.025Z"
   },
   {
    "duration": 9,
    "start_time": "2024-02-05T20:05:55.031Z"
   },
   {
    "duration": 7,
    "start_time": "2024-02-05T20:05:55.041Z"
   },
   {
    "duration": 54,
    "start_time": "2024-02-05T20:05:55.049Z"
   },
   {
    "duration": 5,
    "start_time": "2024-02-05T20:05:55.104Z"
   },
   {
    "duration": 19,
    "start_time": "2024-02-05T20:05:55.111Z"
   },
   {
    "duration": 168,
    "start_time": "2024-02-05T20:05:55.131Z"
   },
   {
    "duration": 127,
    "start_time": "2024-02-05T20:05:55.300Z"
   },
   {
    "duration": 7,
    "start_time": "2024-02-05T20:05:55.428Z"
   },
   {
    "duration": 155,
    "start_time": "2024-02-05T20:05:55.436Z"
   },
   {
    "duration": 10,
    "start_time": "2024-02-05T20:05:55.592Z"
   },
   {
    "duration": 238,
    "start_time": "2024-02-05T20:05:55.603Z"
   },
   {
    "duration": 7,
    "start_time": "2024-02-05T20:05:55.842Z"
   },
   {
    "duration": 248,
    "start_time": "2024-02-05T20:05:55.850Z"
   },
   {
    "duration": 28,
    "start_time": "2024-02-05T20:05:56.101Z"
   },
   {
    "duration": 13,
    "start_time": "2024-02-05T20:05:56.131Z"
   },
   {
    "duration": 12,
    "start_time": "2024-02-05T20:05:56.146Z"
   },
   {
    "duration": 403,
    "start_time": "2024-02-05T20:05:56.159Z"
   },
   {
    "duration": 376,
    "start_time": "2024-02-05T20:05:56.563Z"
   },
   {
    "duration": 736,
    "start_time": "2024-02-05T20:05:56.940Z"
   },
   {
    "duration": 44570,
    "start_time": "2024-02-05T20:05:57.677Z"
   },
   {
    "duration": 13,
    "start_time": "2024-02-05T20:06:42.249Z"
   },
   {
    "duration": 5,
    "start_time": "2024-02-05T20:06:42.263Z"
   },
   {
    "duration": 3,
    "start_time": "2024-02-05T20:06:42.272Z"
   },
   {
    "duration": 42,
    "start_time": "2024-02-05T20:06:42.277Z"
   },
   {
    "duration": 1315,
    "start_time": "2024-02-05T20:07:14.706Z"
   },
   {
    "duration": 12,
    "start_time": "2024-02-05T20:07:54.809Z"
   },
   {
    "duration": 8,
    "start_time": "2024-02-05T20:33:36.646Z"
   },
   {
    "duration": 11,
    "start_time": "2024-02-05T20:34:38.005Z"
   },
   {
    "duration": 3,
    "start_time": "2024-02-05T20:34:45.200Z"
   },
   {
    "duration": 1183,
    "start_time": "2024-02-05T20:34:49.840Z"
   },
   {
    "duration": 275,
    "start_time": "2024-02-05T20:35:03.656Z"
   },
   {
    "duration": 20,
    "start_time": "2024-02-05T20:39:49.198Z"
   },
   {
    "duration": 23,
    "start_time": "2024-02-05T20:41:00.412Z"
   },
   {
    "duration": 3,
    "start_time": "2024-02-05T20:59:20.841Z"
   },
   {
    "duration": 47,
    "start_time": "2024-02-05T20:59:20.846Z"
   },
   {
    "duration": 35,
    "start_time": "2024-02-05T20:59:20.894Z"
   },
   {
    "duration": 22,
    "start_time": "2024-02-05T20:59:20.930Z"
   },
   {
    "duration": 10,
    "start_time": "2024-02-05T20:59:20.954Z"
   },
   {
    "duration": 4,
    "start_time": "2024-02-05T20:59:20.965Z"
   },
   {
    "duration": 9,
    "start_time": "2024-02-05T20:59:20.970Z"
   },
   {
    "duration": 23,
    "start_time": "2024-02-05T20:59:20.981Z"
   },
   {
    "duration": 9,
    "start_time": "2024-02-05T20:59:21.006Z"
   },
   {
    "duration": 9,
    "start_time": "2024-02-05T20:59:21.017Z"
   },
   {
    "duration": 12,
    "start_time": "2024-02-05T20:59:21.028Z"
   },
   {
    "duration": 5,
    "start_time": "2024-02-05T20:59:21.041Z"
   },
   {
    "duration": 12,
    "start_time": "2024-02-05T20:59:21.047Z"
   },
   {
    "duration": 5,
    "start_time": "2024-02-05T20:59:21.060Z"
   },
   {
    "duration": 35,
    "start_time": "2024-02-05T20:59:21.067Z"
   },
   {
    "duration": 6,
    "start_time": "2024-02-05T20:59:21.104Z"
   },
   {
    "duration": 11,
    "start_time": "2024-02-05T20:59:21.112Z"
   },
   {
    "duration": 12,
    "start_time": "2024-02-05T20:59:21.125Z"
   },
   {
    "duration": 7,
    "start_time": "2024-02-05T20:59:21.138Z"
   },
   {
    "duration": 17,
    "start_time": "2024-02-05T20:59:21.146Z"
   },
   {
    "duration": 7,
    "start_time": "2024-02-05T20:59:21.164Z"
   },
   {
    "duration": 31,
    "start_time": "2024-02-05T20:59:21.172Z"
   },
   {
    "duration": 140,
    "start_time": "2024-02-05T20:59:21.205Z"
   },
   {
    "duration": 119,
    "start_time": "2024-02-05T20:59:21.347Z"
   },
   {
    "duration": 6,
    "start_time": "2024-02-05T20:59:21.469Z"
   },
   {
    "duration": 150,
    "start_time": "2024-02-05T20:59:21.477Z"
   },
   {
    "duration": 7,
    "start_time": "2024-02-05T20:59:21.628Z"
   },
   {
    "duration": 232,
    "start_time": "2024-02-05T20:59:21.635Z"
   },
   {
    "duration": 7,
    "start_time": "2024-02-05T20:59:21.868Z"
   },
   {
    "duration": 195,
    "start_time": "2024-02-05T20:59:21.876Z"
   },
   {
    "duration": 20,
    "start_time": "2024-02-05T20:59:22.072Z"
   },
   {
    "duration": 19,
    "start_time": "2024-02-05T20:59:22.094Z"
   },
   {
    "duration": 11,
    "start_time": "2024-02-05T20:59:22.114Z"
   },
   {
    "duration": 397,
    "start_time": "2024-02-05T20:59:22.127Z"
   },
   {
    "duration": 370,
    "start_time": "2024-02-05T20:59:22.525Z"
   },
   {
    "duration": 746,
    "start_time": "2024-02-05T20:59:22.896Z"
   },
   {
    "duration": 45860,
    "start_time": "2024-02-05T20:59:23.643Z"
   },
   {
    "duration": 10,
    "start_time": "2024-02-05T21:00:09.504Z"
   },
   {
    "duration": 4,
    "start_time": "2024-02-05T21:00:09.516Z"
   },
   {
    "duration": 4,
    "start_time": "2024-02-05T21:00:09.521Z"
   },
   {
    "duration": 9,
    "start_time": "2024-02-05T21:00:09.526Z"
   },
   {
    "duration": 1261,
    "start_time": "2024-02-06T16:11:19.006Z"
   },
   {
    "duration": 110,
    "start_time": "2024-02-06T16:11:20.269Z"
   },
   {
    "duration": 163,
    "start_time": "2024-02-06T16:11:20.380Z"
   },
   {
    "duration": 64,
    "start_time": "2024-02-06T16:11:20.545Z"
   },
   {
    "duration": 13,
    "start_time": "2024-02-06T16:11:20.610Z"
   },
   {
    "duration": 19,
    "start_time": "2024-02-06T16:11:20.624Z"
   },
   {
    "duration": 11,
    "start_time": "2024-02-06T16:11:20.645Z"
   },
   {
    "duration": 4,
    "start_time": "2024-02-06T16:11:20.658Z"
   },
   {
    "duration": 6,
    "start_time": "2024-02-06T16:11:20.664Z"
   },
   {
    "duration": 26,
    "start_time": "2024-02-06T16:11:20.673Z"
   },
   {
    "duration": 13,
    "start_time": "2024-02-06T16:11:20.700Z"
   },
   {
    "duration": 10,
    "start_time": "2024-02-06T16:11:20.714Z"
   },
   {
    "duration": 20,
    "start_time": "2024-02-06T16:11:20.726Z"
   },
   {
    "duration": 5,
    "start_time": "2024-02-06T16:11:20.747Z"
   },
   {
    "duration": 16,
    "start_time": "2024-02-06T16:11:20.754Z"
   },
   {
    "duration": 9,
    "start_time": "2024-02-06T16:11:20.771Z"
   },
   {
    "duration": 13,
    "start_time": "2024-02-06T16:11:20.782Z"
   },
   {
    "duration": 8,
    "start_time": "2024-02-06T16:11:20.796Z"
   },
   {
    "duration": 7,
    "start_time": "2024-02-06T16:11:20.805Z"
   },
   {
    "duration": 22,
    "start_time": "2024-02-06T16:11:20.814Z"
   },
   {
    "duration": 5,
    "start_time": "2024-02-06T16:11:20.838Z"
   },
   {
    "duration": 5,
    "start_time": "2024-02-06T16:11:20.844Z"
   },
   {
    "duration": 201,
    "start_time": "2024-02-06T16:11:20.850Z"
   },
   {
    "duration": 152,
    "start_time": "2024-02-06T16:11:21.053Z"
   },
   {
    "duration": 8,
    "start_time": "2024-02-06T16:11:21.207Z"
   },
   {
    "duration": 191,
    "start_time": "2024-02-06T16:11:21.216Z"
   },
   {
    "duration": 9,
    "start_time": "2024-02-06T16:11:21.409Z"
   },
   {
    "duration": 328,
    "start_time": "2024-02-06T16:11:21.421Z"
   },
   {
    "duration": 8,
    "start_time": "2024-02-06T16:11:21.750Z"
   },
   {
    "duration": 201,
    "start_time": "2024-02-06T16:11:21.759Z"
   },
   {
    "duration": 24,
    "start_time": "2024-02-06T16:11:21.961Z"
   },
   {
    "duration": 21,
    "start_time": "2024-02-06T16:11:21.986Z"
   },
   {
    "duration": 15,
    "start_time": "2024-02-06T16:11:22.009Z"
   },
   {
    "duration": 502,
    "start_time": "2024-02-06T16:11:22.026Z"
   },
   {
    "duration": 547,
    "start_time": "2024-02-06T16:11:22.529Z"
   },
   {
    "duration": 800,
    "start_time": "2024-02-06T16:11:23.078Z"
   },
   {
    "duration": 52660,
    "start_time": "2024-02-06T16:11:23.879Z"
   },
   {
    "duration": 13,
    "start_time": "2024-02-06T16:12:16.541Z"
   },
   {
    "duration": 6,
    "start_time": "2024-02-06T16:12:16.555Z"
   },
   {
    "duration": 17,
    "start_time": "2024-02-06T16:12:16.563Z"
   },
   {
    "duration": 23,
    "start_time": "2024-02-06T16:12:16.581Z"
   },
   {
    "duration": 5,
    "start_time": "2024-02-06T16:26:57.195Z"
   },
   {
    "duration": 157,
    "start_time": "2024-02-06T16:40:40.806Z"
   },
   {
    "duration": 204,
    "start_time": "2024-02-06T17:13:08.112Z"
   },
   {
    "duration": 197,
    "start_time": "2024-02-06T17:13:16.374Z"
   },
   {
    "duration": 223,
    "start_time": "2024-02-06T17:13:21.603Z"
   },
   {
    "duration": 394,
    "start_time": "2024-02-06T17:13:59.339Z"
   },
   {
    "duration": 185,
    "start_time": "2024-02-06T17:14:55.209Z"
   },
   {
    "duration": 141,
    "start_time": "2024-02-06T17:15:40.772Z"
   },
   {
    "duration": 3,
    "start_time": "2024-02-06T17:16:05.896Z"
   },
   {
    "duration": 68,
    "start_time": "2024-02-06T17:16:05.901Z"
   },
   {
    "duration": 55,
    "start_time": "2024-02-06T17:16:05.970Z"
   },
   {
    "duration": 36,
    "start_time": "2024-02-06T17:16:06.026Z"
   },
   {
    "duration": 17,
    "start_time": "2024-02-06T17:16:06.064Z"
   },
   {
    "duration": 5,
    "start_time": "2024-02-06T17:16:06.082Z"
   },
   {
    "duration": 19,
    "start_time": "2024-02-06T17:16:06.089Z"
   },
   {
    "duration": 25,
    "start_time": "2024-02-06T17:16:06.109Z"
   },
   {
    "duration": 25,
    "start_time": "2024-02-06T17:16:06.135Z"
   },
   {
    "duration": 29,
    "start_time": "2024-02-06T17:16:06.162Z"
   },
   {
    "duration": 9,
    "start_time": "2024-02-06T17:16:06.194Z"
   },
   {
    "duration": 24,
    "start_time": "2024-02-06T17:16:06.205Z"
   },
   {
    "duration": 23,
    "start_time": "2024-02-06T17:16:06.231Z"
   },
   {
    "duration": 6,
    "start_time": "2024-02-06T17:16:06.256Z"
   },
   {
    "duration": 5,
    "start_time": "2024-02-06T17:16:06.263Z"
   },
   {
    "duration": 11,
    "start_time": "2024-02-06T17:16:06.270Z"
   },
   {
    "duration": 4,
    "start_time": "2024-02-06T17:16:06.282Z"
   },
   {
    "duration": 8,
    "start_time": "2024-02-06T17:16:06.287Z"
   },
   {
    "duration": 12,
    "start_time": "2024-02-06T17:16:06.297Z"
   },
   {
    "duration": 31,
    "start_time": "2024-02-06T17:16:06.310Z"
   },
   {
    "duration": 5,
    "start_time": "2024-02-06T17:16:06.342Z"
   },
   {
    "duration": 8,
    "start_time": "2024-02-06T17:16:06.348Z"
   },
   {
    "duration": 181,
    "start_time": "2024-02-06T17:16:06.358Z"
   },
   {
    "duration": 160,
    "start_time": "2024-02-06T17:16:06.541Z"
   },
   {
    "duration": 7,
    "start_time": "2024-02-06T17:16:06.703Z"
   },
   {
    "duration": 194,
    "start_time": "2024-02-06T17:16:06.711Z"
   },
   {
    "duration": 8,
    "start_time": "2024-02-06T17:16:06.907Z"
   },
   {
    "duration": 308,
    "start_time": "2024-02-06T17:16:06.916Z"
   },
   {
    "duration": 8,
    "start_time": "2024-02-06T17:16:07.227Z"
   },
   {
    "duration": 218,
    "start_time": "2024-02-06T17:16:07.237Z"
   },
   {
    "duration": 24,
    "start_time": "2024-02-06T17:16:07.456Z"
   },
   {
    "duration": 18,
    "start_time": "2024-02-06T17:16:07.494Z"
   },
   {
    "duration": 26,
    "start_time": "2024-02-06T17:16:07.514Z"
   },
   {
    "duration": 566,
    "start_time": "2024-02-06T17:16:07.542Z"
   },
   {
    "duration": 459,
    "start_time": "2024-02-06T17:16:08.110Z"
   },
   {
    "duration": 811,
    "start_time": "2024-02-06T17:16:08.571Z"
   },
   {
    "duration": 51335,
    "start_time": "2024-02-06T17:16:09.384Z"
   },
   {
    "duration": 13,
    "start_time": "2024-02-06T17:17:00.721Z"
   },
   {
    "duration": 34,
    "start_time": "2024-02-06T17:17:00.735Z"
   },
   {
    "duration": 35,
    "start_time": "2024-02-06T17:17:00.771Z"
   },
   {
    "duration": 38,
    "start_time": "2024-02-06T17:17:00.807Z"
   },
   {
    "duration": 2,
    "start_time": "2024-02-06T17:45:55.208Z"
   },
   {
    "duration": 93,
    "start_time": "2024-02-06T17:46:33.367Z"
   },
   {
    "duration": 5,
    "start_time": "2024-02-06T17:46:47.410Z"
   },
   {
    "duration": 7,
    "start_time": "2024-02-06T17:47:03.736Z"
   },
   {
    "duration": 5,
    "start_time": "2024-02-06T17:47:10.626Z"
   },
   {
    "duration": 5,
    "start_time": "2024-02-06T17:47:13.542Z"
   },
   {
    "duration": 5,
    "start_time": "2024-02-06T17:47:16.656Z"
   },
   {
    "duration": 4,
    "start_time": "2024-02-06T17:47:20.109Z"
   },
   {
    "duration": 6,
    "start_time": "2024-02-06T17:47:23.360Z"
   },
   {
    "duration": 5,
    "start_time": "2024-02-06T17:47:40.560Z"
   },
   {
    "duration": 6,
    "start_time": "2024-02-06T17:47:44.678Z"
   },
   {
    "duration": 6,
    "start_time": "2024-02-06T17:47:47.501Z"
   },
   {
    "duration": 6,
    "start_time": "2024-02-06T17:55:41.077Z"
   },
   {
    "duration": 7,
    "start_time": "2024-02-06T17:57:20.403Z"
   },
   {
    "duration": 5,
    "start_time": "2024-02-06T17:57:34.633Z"
   },
   {
    "duration": 5,
    "start_time": "2024-02-06T17:57:48.345Z"
   },
   {
    "duration": 3,
    "start_time": "2024-02-06T17:58:28.269Z"
   },
   {
    "duration": 6,
    "start_time": "2024-02-06T17:58:39.385Z"
   },
   {
    "duration": 5,
    "start_time": "2024-02-06T18:00:12.357Z"
   },
   {
    "duration": 6,
    "start_time": "2024-02-06T18:01:28.453Z"
   },
   {
    "duration": 5,
    "start_time": "2024-02-06T18:01:36.049Z"
   },
   {
    "duration": 5,
    "start_time": "2024-02-06T18:02:04.773Z"
   },
   {
    "duration": 11,
    "start_time": "2024-02-06T18:03:43.089Z"
   },
   {
    "duration": 12,
    "start_time": "2024-02-06T18:04:02.355Z"
   },
   {
    "duration": 43,
    "start_time": "2024-02-06T18:04:13.082Z"
   },
   {
    "duration": 13,
    "start_time": "2024-02-06T18:04:43.603Z"
   },
   {
    "duration": 2019,
    "start_time": "2024-02-06T18:05:16.207Z"
   },
   {
    "duration": 213,
    "start_time": "2024-02-06T18:05:58.539Z"
   },
   {
    "duration": 19,
    "start_time": "2024-02-06T18:08:39.541Z"
   },
   {
    "duration": 7,
    "start_time": "2024-02-06T18:09:35.058Z"
   },
   {
    "duration": 141,
    "start_time": "2024-02-06T18:10:12.180Z"
   },
   {
    "duration": 151,
    "start_time": "2024-02-06T18:10:44.298Z"
   },
   {
    "duration": 141,
    "start_time": "2024-02-06T18:10:49.709Z"
   },
   {
    "duration": 150,
    "start_time": "2024-02-06T18:11:28.983Z"
   },
   {
    "duration": 143,
    "start_time": "2024-02-06T18:11:41.822Z"
   },
   {
    "duration": 129,
    "start_time": "2024-02-06T18:12:57.958Z"
   },
   {
    "duration": 144,
    "start_time": "2024-02-06T18:13:37.886Z"
   },
   {
    "duration": 141,
    "start_time": "2024-02-06T18:14:02.922Z"
   },
   {
    "duration": 139,
    "start_time": "2024-02-06T18:16:17.912Z"
   },
   {
    "duration": 163,
    "start_time": "2024-02-06T18:16:33.655Z"
   },
   {
    "duration": 170,
    "start_time": "2024-02-06T18:16:39.964Z"
   },
   {
    "duration": 308,
    "start_time": "2024-02-06T18:16:42.967Z"
   },
   {
    "duration": 147,
    "start_time": "2024-02-06T18:17:10.124Z"
   },
   {
    "duration": 149,
    "start_time": "2024-02-06T18:17:14.030Z"
   },
   {
    "duration": 161,
    "start_time": "2024-02-06T18:18:56.068Z"
   },
   {
    "duration": 12,
    "start_time": "2024-02-06T18:22:35.939Z"
   },
   {
    "duration": 181,
    "start_time": "2024-02-06T18:23:05.073Z"
   },
   {
    "duration": 168,
    "start_time": "2024-02-06T18:23:27.997Z"
   },
   {
    "duration": 158,
    "start_time": "2024-02-06T18:23:33.815Z"
   },
   {
    "duration": 12,
    "start_time": "2024-02-06T18:26:26.169Z"
   },
   {
    "duration": 246,
    "start_time": "2024-02-06T18:26:39.725Z"
   },
   {
    "duration": 14,
    "start_time": "2024-02-06T18:28:48.474Z"
   },
   {
    "duration": 159,
    "start_time": "2024-02-06T18:29:49.999Z"
   },
   {
    "duration": 173,
    "start_time": "2024-02-06T18:30:07.506Z"
   },
   {
    "duration": 164,
    "start_time": "2024-02-06T18:30:11.480Z"
   },
   {
    "duration": 164,
    "start_time": "2024-02-06T18:30:15.663Z"
   },
   {
    "duration": 207,
    "start_time": "2024-02-06T18:30:18.972Z"
   },
   {
    "duration": 5,
    "start_time": "2024-02-06T19:22:31.278Z"
   },
   {
    "duration": 5,
    "start_time": "2024-02-06T19:22:38.069Z"
   },
   {
    "duration": 4,
    "start_time": "2024-02-06T19:24:26.935Z"
   },
   {
    "duration": 5,
    "start_time": "2024-02-06T19:26:27.805Z"
   },
   {
    "duration": 14,
    "start_time": "2024-02-06T19:26:39.991Z"
   },
   {
    "duration": 11,
    "start_time": "2024-02-06T19:27:15.046Z"
   },
   {
    "duration": 5,
    "start_time": "2024-02-06T19:27:18.563Z"
   },
   {
    "duration": 5,
    "start_time": "2024-02-06T19:27:32.479Z"
   },
   {
    "duration": 5,
    "start_time": "2024-02-06T19:27:58.006Z"
   },
   {
    "duration": 4,
    "start_time": "2024-02-06T19:28:03.638Z"
   },
   {
    "duration": 9,
    "start_time": "2024-02-06T19:28:33.324Z"
   },
   {
    "duration": 5,
    "start_time": "2024-02-06T19:28:37.728Z"
   },
   {
    "duration": 5,
    "start_time": "2024-02-06T19:28:43.138Z"
   },
   {
    "duration": 5,
    "start_time": "2024-02-06T19:29:35.707Z"
   },
   {
    "duration": 5,
    "start_time": "2024-02-06T19:38:23.726Z"
   },
   {
    "duration": 13,
    "start_time": "2024-02-06T19:49:47.637Z"
   },
   {
    "duration": 10,
    "start_time": "2024-02-06T19:50:27.186Z"
   },
   {
    "duration": 3,
    "start_time": "2024-02-06T19:50:59.269Z"
   },
   {
    "duration": 113,
    "start_time": "2024-02-06T19:51:06.552Z"
   },
   {
    "duration": 112,
    "start_time": "2024-02-06T19:51:36.834Z"
   },
   {
    "duration": 132,
    "start_time": "2024-02-06T19:51:58.084Z"
   },
   {
    "duration": 114,
    "start_time": "2024-02-06T19:52:03.604Z"
   },
   {
    "duration": 120,
    "start_time": "2024-02-06T19:52:13.590Z"
   },
   {
    "duration": 122,
    "start_time": "2024-02-06T19:52:41.678Z"
   },
   {
    "duration": 140,
    "start_time": "2024-02-06T19:52:53.715Z"
   },
   {
    "duration": 120,
    "start_time": "2024-02-06T19:53:04.332Z"
   },
   {
    "duration": 134,
    "start_time": "2024-02-06T19:53:28.533Z"
   },
   {
    "duration": 152,
    "start_time": "2024-02-06T19:53:38.919Z"
   },
   {
    "duration": 131,
    "start_time": "2024-02-06T19:53:43.107Z"
   },
   {
    "duration": 315,
    "start_time": "2024-02-06T19:53:48.325Z"
   },
   {
    "duration": 142,
    "start_time": "2024-02-06T19:53:58.538Z"
   },
   {
    "duration": 125,
    "start_time": "2024-02-06T19:54:04.247Z"
   },
   {
    "duration": 139,
    "start_time": "2024-02-06T19:54:37.180Z"
   },
   {
    "duration": 118,
    "start_time": "2024-02-06T19:54:49.335Z"
   },
   {
    "duration": 6,
    "start_time": "2024-02-06T19:55:12.647Z"
   },
   {
    "duration": 124,
    "start_time": "2024-02-06T19:55:30.163Z"
   },
   {
    "duration": 112,
    "start_time": "2024-02-06T19:55:46.105Z"
   },
   {
    "duration": 130,
    "start_time": "2024-02-06T19:56:45.314Z"
   },
   {
    "duration": 139,
    "start_time": "2024-02-06T19:57:09.843Z"
   },
   {
    "duration": 2,
    "start_time": "2024-02-06T20:26:41.519Z"
   },
   {
    "duration": 38,
    "start_time": "2024-02-06T20:26:42.516Z"
   },
   {
    "duration": 51,
    "start_time": "2024-02-06T20:26:44.496Z"
   },
   {
    "duration": 51,
    "start_time": "2024-02-06T20:26:45.671Z"
   },
   {
    "duration": 13,
    "start_time": "2024-02-06T20:26:47.106Z"
   },
   {
    "duration": 6,
    "start_time": "2024-02-06T20:26:48.313Z"
   },
   {
    "duration": 10,
    "start_time": "2024-02-06T20:26:48.723Z"
   },
   {
    "duration": 4,
    "start_time": "2024-02-06T20:26:50.032Z"
   },
   {
    "duration": 7,
    "start_time": "2024-02-06T20:26:50.422Z"
   },
   {
    "duration": 11,
    "start_time": "2024-02-06T20:26:50.611Z"
   },
   {
    "duration": 6,
    "start_time": "2024-02-06T20:26:50.959Z"
   },
   {
    "duration": 5,
    "start_time": "2024-02-06T20:26:51.469Z"
   },
   {
    "duration": 13,
    "start_time": "2024-02-06T20:26:51.919Z"
   },
   {
    "duration": 5,
    "start_time": "2024-02-06T20:26:52.162Z"
   },
   {
    "duration": 7,
    "start_time": "2024-02-06T20:26:52.606Z"
   },
   {
    "duration": 7,
    "start_time": "2024-02-06T20:26:53.242Z"
   },
   {
    "duration": 5,
    "start_time": "2024-02-06T20:26:53.651Z"
   },
   {
    "duration": 11,
    "start_time": "2024-02-06T20:26:54.094Z"
   },
   {
    "duration": 8,
    "start_time": "2024-02-06T20:26:54.564Z"
   },
   {
    "duration": 17,
    "start_time": "2024-02-06T20:26:55.008Z"
   },
   {
    "duration": 5,
    "start_time": "2024-02-06T20:26:55.509Z"
   },
   {
    "duration": 4,
    "start_time": "2024-02-06T20:26:56.022Z"
   },
   {
    "duration": 165,
    "start_time": "2024-02-06T20:26:59.979Z"
   },
   {
    "duration": 139,
    "start_time": "2024-02-06T20:27:05.211Z"
   },
   {
    "duration": 8,
    "start_time": "2024-02-06T20:27:12.612Z"
   },
   {
    "duration": 212,
    "start_time": "2024-02-06T20:27:13.193Z"
   },
   {
    "duration": 8,
    "start_time": "2024-02-06T20:27:15.307Z"
   },
   {
    "duration": 305,
    "start_time": "2024-02-06T20:27:15.758Z"
   },
   {
    "duration": 15,
    "start_time": "2024-02-06T20:27:17.093Z"
   },
   {
    "duration": 212,
    "start_time": "2024-02-06T20:27:17.600Z"
   },
   {
    "duration": 22,
    "start_time": "2024-02-06T20:27:20.765Z"
   },
   {
    "duration": 22,
    "start_time": "2024-02-06T20:27:22.889Z"
   },
   {
    "duration": 14,
    "start_time": "2024-02-06T20:27:23.432Z"
   },
   {
    "duration": 494,
    "start_time": "2024-02-06T20:27:24.315Z"
   },
   {
    "duration": 653,
    "start_time": "2024-02-06T20:27:24.933Z"
   },
   {
    "duration": 143,
    "start_time": "2024-02-06T20:35:05.831Z"
   },
   {
    "duration": 3,
    "start_time": "2024-02-06T20:43:31.602Z"
   },
   {
    "duration": 55,
    "start_time": "2024-02-06T20:43:31.615Z"
   },
   {
    "duration": 39,
    "start_time": "2024-02-06T20:43:31.671Z"
   },
   {
    "duration": 24,
    "start_time": "2024-02-06T20:43:31.711Z"
   },
   {
    "duration": 33,
    "start_time": "2024-02-06T20:43:31.736Z"
   },
   {
    "duration": 36,
    "start_time": "2024-02-06T20:43:31.770Z"
   },
   {
    "duration": 42,
    "start_time": "2024-02-06T20:43:31.808Z"
   },
   {
    "duration": 28,
    "start_time": "2024-02-06T20:43:31.852Z"
   },
   {
    "duration": 34,
    "start_time": "2024-02-06T20:43:31.882Z"
   },
   {
    "duration": 31,
    "start_time": "2024-02-06T20:43:31.917Z"
   },
   {
    "duration": 25,
    "start_time": "2024-02-06T20:43:31.950Z"
   },
   {
    "duration": 23,
    "start_time": "2024-02-06T20:43:31.976Z"
   },
   {
    "duration": 17,
    "start_time": "2024-02-06T20:43:32.000Z"
   },
   {
    "duration": 21,
    "start_time": "2024-02-06T20:43:32.019Z"
   },
   {
    "duration": 18,
    "start_time": "2024-02-06T20:43:32.042Z"
   },
   {
    "duration": 24,
    "start_time": "2024-02-06T20:43:32.061Z"
   },
   {
    "duration": 15,
    "start_time": "2024-02-06T20:43:32.086Z"
   },
   {
    "duration": 25,
    "start_time": "2024-02-06T20:43:32.103Z"
   },
   {
    "duration": 40,
    "start_time": "2024-02-06T20:43:32.130Z"
   },
   {
    "duration": 45,
    "start_time": "2024-02-06T20:43:32.171Z"
   },
   {
    "duration": 14,
    "start_time": "2024-02-06T20:43:32.218Z"
   },
   {
    "duration": 29,
    "start_time": "2024-02-06T20:43:32.233Z"
   },
   {
    "duration": 192,
    "start_time": "2024-02-06T20:43:32.264Z"
   },
   {
    "duration": 130,
    "start_time": "2024-02-06T20:43:32.457Z"
   },
   {
    "duration": 7,
    "start_time": "2024-02-06T20:43:32.593Z"
   },
   {
    "duration": 204,
    "start_time": "2024-02-06T20:43:32.601Z"
   },
   {
    "duration": 8,
    "start_time": "2024-02-06T20:43:32.806Z"
   },
   {
    "duration": 290,
    "start_time": "2024-02-06T20:43:32.816Z"
   },
   {
    "duration": 8,
    "start_time": "2024-02-06T20:43:33.109Z"
   },
   {
    "duration": 198,
    "start_time": "2024-02-06T20:43:33.119Z"
   },
   {
    "duration": 22,
    "start_time": "2024-02-06T20:43:33.319Z"
   },
   {
    "duration": 16,
    "start_time": "2024-02-06T20:43:33.342Z"
   },
   {
    "duration": 19,
    "start_time": "2024-02-06T20:43:33.359Z"
   },
   {
    "duration": 474,
    "start_time": "2024-02-06T20:43:33.379Z"
   },
   {
    "duration": 623,
    "start_time": "2024-02-06T20:43:33.854Z"
   },
   {
    "duration": 816,
    "start_time": "2024-02-06T20:43:34.479Z"
   },
   {
    "duration": 52294,
    "start_time": "2024-02-06T20:43:35.296Z"
   },
   {
    "duration": 12,
    "start_time": "2024-02-06T20:44:27.592Z"
   },
   {
    "duration": 14,
    "start_time": "2024-02-06T20:44:27.605Z"
   },
   {
    "duration": 4,
    "start_time": "2024-02-06T20:44:27.620Z"
   },
   {
    "duration": 9,
    "start_time": "2024-02-06T20:44:27.626Z"
   },
   {
    "duration": 158,
    "start_time": "2024-02-06T20:44:27.637Z"
   },
   {
    "duration": 5,
    "start_time": "2024-02-06T20:44:27.797Z"
   },
   {
    "duration": 155,
    "start_time": "2024-02-06T20:44:27.803Z"
   },
   {
    "duration": 1209,
    "start_time": "2024-02-06T21:02:05.037Z"
   },
   {
    "duration": 107,
    "start_time": "2024-02-06T21:02:06.248Z"
   },
   {
    "duration": 156,
    "start_time": "2024-02-06T21:02:06.357Z"
   },
   {
    "duration": 66,
    "start_time": "2024-02-06T21:02:06.515Z"
   },
   {
    "duration": 17,
    "start_time": "2024-02-06T21:02:06.582Z"
   },
   {
    "duration": 9,
    "start_time": "2024-02-06T21:02:06.600Z"
   },
   {
    "duration": 19,
    "start_time": "2024-02-06T21:02:06.610Z"
   },
   {
    "duration": 5,
    "start_time": "2024-02-06T21:02:06.630Z"
   },
   {
    "duration": 6,
    "start_time": "2024-02-06T21:02:06.636Z"
   },
   {
    "duration": 9,
    "start_time": "2024-02-06T21:02:06.645Z"
   },
   {
    "duration": 14,
    "start_time": "2024-02-06T21:02:06.655Z"
   },
   {
    "duration": 7,
    "start_time": "2024-02-06T21:02:06.670Z"
   },
   {
    "duration": 25,
    "start_time": "2024-02-06T21:02:06.678Z"
   },
   {
    "duration": 4,
    "start_time": "2024-02-06T21:02:06.705Z"
   },
   {
    "duration": 11,
    "start_time": "2024-02-06T21:02:06.710Z"
   },
   {
    "duration": 16,
    "start_time": "2024-02-06T21:02:06.723Z"
   },
   {
    "duration": 4,
    "start_time": "2024-02-06T21:02:06.740Z"
   },
   {
    "duration": 3,
    "start_time": "2024-02-06T21:02:06.746Z"
   },
   {
    "duration": 17,
    "start_time": "2024-02-06T21:02:06.750Z"
   },
   {
    "duration": 30,
    "start_time": "2024-02-06T21:02:06.768Z"
   },
   {
    "duration": 7,
    "start_time": "2024-02-06T21:02:06.799Z"
   },
   {
    "duration": 10,
    "start_time": "2024-02-06T21:02:06.807Z"
   },
   {
    "duration": 199,
    "start_time": "2024-02-06T21:02:06.818Z"
   },
   {
    "duration": 167,
    "start_time": "2024-02-06T21:02:07.019Z"
   },
   {
    "duration": 12,
    "start_time": "2024-02-06T21:02:07.187Z"
   },
   {
    "duration": 192,
    "start_time": "2024-02-06T21:02:07.201Z"
   },
   {
    "duration": 8,
    "start_time": "2024-02-06T21:02:07.395Z"
   },
   {
    "duration": 317,
    "start_time": "2024-02-06T21:02:07.407Z"
   },
   {
    "duration": 8,
    "start_time": "2024-02-06T21:02:07.726Z"
   },
   {
    "duration": 208,
    "start_time": "2024-02-06T21:02:07.735Z"
   },
   {
    "duration": 24,
    "start_time": "2024-02-06T21:02:07.944Z"
   },
   {
    "duration": 32,
    "start_time": "2024-02-06T21:02:07.969Z"
   },
   {
    "duration": 14,
    "start_time": "2024-02-06T21:02:08.002Z"
   },
   {
    "duration": 477,
    "start_time": "2024-02-06T21:02:08.017Z"
   },
   {
    "duration": 530,
    "start_time": "2024-02-06T21:02:08.495Z"
   },
   {
    "duration": 757,
    "start_time": "2024-02-06T21:02:09.027Z"
   },
   {
    "duration": 50580,
    "start_time": "2024-02-06T21:02:09.786Z"
   },
   {
    "duration": 12,
    "start_time": "2024-02-06T21:03:00.368Z"
   },
   {
    "duration": 66,
    "start_time": "2024-02-06T21:03:00.381Z"
   },
   {
    "duration": 91,
    "start_time": "2024-02-06T21:03:00.449Z"
   },
   {
    "duration": 74,
    "start_time": "2024-02-06T21:03:00.542Z"
   },
   {
    "duration": 144,
    "start_time": "2024-02-06T21:03:00.618Z"
   },
   {
    "duration": 6,
    "start_time": "2024-02-06T21:03:00.763Z"
   },
   {
    "duration": 162,
    "start_time": "2024-02-06T21:03:00.771Z"
   },
   {
    "duration": 1358,
    "start_time": "2024-02-07T07:04:52.703Z"
   },
   {
    "duration": 94,
    "start_time": "2024-02-07T07:04:54.064Z"
   },
   {
    "duration": 84,
    "start_time": "2024-02-07T07:04:54.160Z"
   },
   {
    "duration": 64,
    "start_time": "2024-02-07T07:04:54.245Z"
   },
   {
    "duration": 15,
    "start_time": "2024-02-07T07:04:54.312Z"
   },
   {
    "duration": 9,
    "start_time": "2024-02-07T07:04:54.328Z"
   },
   {
    "duration": 24,
    "start_time": "2024-02-07T07:04:54.339Z"
   },
   {
    "duration": 6,
    "start_time": "2024-02-07T07:04:54.365Z"
   },
   {
    "duration": 10,
    "start_time": "2024-02-07T07:04:54.373Z"
   },
   {
    "duration": 30,
    "start_time": "2024-02-07T07:04:54.385Z"
   },
   {
    "duration": 49,
    "start_time": "2024-02-07T07:04:54.417Z"
   },
   {
    "duration": 8,
    "start_time": "2024-02-07T07:04:54.469Z"
   },
   {
    "duration": 25,
    "start_time": "2024-02-07T07:04:54.479Z"
   },
   {
    "duration": 25,
    "start_time": "2024-02-07T07:04:54.508Z"
   },
   {
    "duration": 23,
    "start_time": "2024-02-07T07:04:54.535Z"
   },
   {
    "duration": 28,
    "start_time": "2024-02-07T07:04:54.560Z"
   },
   {
    "duration": 26,
    "start_time": "2024-02-07T07:04:54.590Z"
   },
   {
    "duration": 16,
    "start_time": "2024-02-07T07:04:54.618Z"
   },
   {
    "duration": 23,
    "start_time": "2024-02-07T07:04:54.635Z"
   },
   {
    "duration": 34,
    "start_time": "2024-02-07T07:04:54.659Z"
   },
   {
    "duration": 24,
    "start_time": "2024-02-07T07:04:54.695Z"
   },
   {
    "duration": 30,
    "start_time": "2024-02-07T07:04:54.721Z"
   },
   {
    "duration": 205,
    "start_time": "2024-02-07T07:04:54.753Z"
   },
   {
    "duration": 170,
    "start_time": "2024-02-07T07:04:54.960Z"
   },
   {
    "duration": 8,
    "start_time": "2024-02-07T07:04:55.133Z"
   },
   {
    "duration": 362,
    "start_time": "2024-02-07T07:04:55.142Z"
   },
   {
    "duration": 9,
    "start_time": "2024-02-07T07:04:55.505Z"
   },
   {
    "duration": 630,
    "start_time": "2024-02-07T07:04:55.559Z"
   },
   {
    "duration": 71,
    "start_time": "2024-02-07T07:04:56.191Z"
   },
   {
    "duration": 319,
    "start_time": "2024-02-07T07:04:56.264Z"
   },
   {
    "duration": 26,
    "start_time": "2024-02-07T07:04:56.585Z"
   },
   {
    "duration": 59,
    "start_time": "2024-02-07T07:04:56.613Z"
   },
   {
    "duration": 16,
    "start_time": "2024-02-07T07:04:56.674Z"
   },
   {
    "duration": 1269,
    "start_time": "2024-02-07T07:04:56.692Z"
   },
   {
    "duration": 1224,
    "start_time": "2024-02-07T07:04:57.963Z"
   },
   {
    "duration": 1901,
    "start_time": "2024-02-07T07:04:59.188Z"
   },
   {
    "duration": 74771,
    "start_time": "2024-02-07T07:05:01.091Z"
   },
   {
    "duration": 14,
    "start_time": "2024-02-07T07:06:15.864Z"
   },
   {
    "duration": 18,
    "start_time": "2024-02-07T07:06:15.879Z"
   },
   {
    "duration": 30,
    "start_time": "2024-02-07T07:06:15.898Z"
   },
   {
    "duration": 33,
    "start_time": "2024-02-07T07:06:15.934Z"
   },
   {
    "duration": 170,
    "start_time": "2024-02-07T07:06:15.969Z"
   },
   {
    "duration": 6,
    "start_time": "2024-02-07T07:06:16.141Z"
   },
   {
    "duration": 149,
    "start_time": "2024-02-07T07:06:16.148Z"
   },
   {
    "duration": 1205,
    "start_time": "2024-02-07T07:15:33.751Z"
   },
   {
    "duration": 49,
    "start_time": "2024-02-07T07:15:34.963Z"
   },
   {
    "duration": 44,
    "start_time": "2024-02-07T07:15:35.014Z"
   },
   {
    "duration": 32,
    "start_time": "2024-02-07T07:15:35.060Z"
   },
   {
    "duration": 20,
    "start_time": "2024-02-07T07:15:35.095Z"
   },
   {
    "duration": 7,
    "start_time": "2024-02-07T07:15:35.116Z"
   },
   {
    "duration": 35,
    "start_time": "2024-02-07T07:15:35.125Z"
   },
   {
    "duration": 5,
    "start_time": "2024-02-07T07:15:35.163Z"
   },
   {
    "duration": 12,
    "start_time": "2024-02-07T07:15:35.170Z"
   },
   {
    "duration": 28,
    "start_time": "2024-02-07T07:15:35.185Z"
   },
   {
    "duration": 7,
    "start_time": "2024-02-07T07:15:35.215Z"
   },
   {
    "duration": 5,
    "start_time": "2024-02-07T07:15:35.223Z"
   },
   {
    "duration": 33,
    "start_time": "2024-02-07T07:15:35.230Z"
   },
   {
    "duration": 6,
    "start_time": "2024-02-07T07:15:35.264Z"
   },
   {
    "duration": 5,
    "start_time": "2024-02-07T07:15:35.272Z"
   },
   {
    "duration": 8,
    "start_time": "2024-02-07T07:15:35.279Z"
   },
   {
    "duration": 10,
    "start_time": "2024-02-07T07:15:35.288Z"
   },
   {
    "duration": 14,
    "start_time": "2024-02-07T07:15:35.300Z"
   },
   {
    "duration": 10,
    "start_time": "2024-02-07T07:15:35.316Z"
   },
   {
    "duration": 17,
    "start_time": "2024-02-07T07:15:35.358Z"
   },
   {
    "duration": 3,
    "start_time": "2024-02-07T07:15:35.377Z"
   },
   {
    "duration": 6,
    "start_time": "2024-02-07T07:15:35.381Z"
   },
   {
    "duration": 225,
    "start_time": "2024-02-07T07:15:35.389Z"
   },
   {
    "duration": 175,
    "start_time": "2024-02-07T07:15:35.616Z"
   },
   {
    "duration": 8,
    "start_time": "2024-02-07T07:15:35.793Z"
   },
   {
    "duration": 220,
    "start_time": "2024-02-07T07:15:35.803Z"
   },
   {
    "duration": 8,
    "start_time": "2024-02-07T07:15:36.025Z"
   },
   {
    "duration": 374,
    "start_time": "2024-02-07T07:15:36.037Z"
   },
   {
    "duration": 9,
    "start_time": "2024-02-07T07:15:36.413Z"
   },
   {
    "duration": 238,
    "start_time": "2024-02-07T07:15:36.423Z"
   },
   {
    "duration": 29,
    "start_time": "2024-02-07T07:15:36.663Z"
   },
   {
    "duration": 19,
    "start_time": "2024-02-07T07:15:36.694Z"
   },
   {
    "duration": 43,
    "start_time": "2024-02-07T07:15:36.715Z"
   },
   {
    "duration": 595,
    "start_time": "2024-02-07T07:15:36.760Z"
   },
   {
    "duration": 626,
    "start_time": "2024-02-07T07:15:37.358Z"
   },
   {
    "duration": 904,
    "start_time": "2024-02-07T07:15:37.986Z"
   },
   {
    "duration": 58845,
    "start_time": "2024-02-07T07:15:38.891Z"
   },
   {
    "duration": 22,
    "start_time": "2024-02-07T07:16:37.738Z"
   },
   {
    "duration": 14,
    "start_time": "2024-02-07T07:16:37.762Z"
   },
   {
    "duration": 7,
    "start_time": "2024-02-07T07:16:37.778Z"
   },
   {
    "duration": 16,
    "start_time": "2024-02-07T07:16:37.788Z"
   },
   {
    "duration": 207,
    "start_time": "2024-02-07T07:16:37.807Z"
   },
   {
    "duration": 5,
    "start_time": "2024-02-07T07:16:38.016Z"
   },
   {
    "duration": 147,
    "start_time": "2024-02-07T07:16:38.023Z"
   },
   {
    "duration": 20,
    "start_time": "2024-02-07T07:18:00.840Z"
   },
   {
    "duration": 7,
    "start_time": "2024-02-07T07:18:57.131Z"
   },
   {
    "duration": 22,
    "start_time": "2024-02-07T07:19:29.826Z"
   },
   {
    "duration": 8,
    "start_time": "2024-02-07T07:19:54.719Z"
   },
   {
    "duration": 7,
    "start_time": "2024-02-07T07:20:34.032Z"
   },
   {
    "duration": 6,
    "start_time": "2024-02-07T07:20:46.642Z"
   },
   {
    "duration": 101,
    "start_time": "2024-02-07T07:20:53.260Z"
   },
   {
    "duration": 6,
    "start_time": "2024-02-07T07:20:55.642Z"
   },
   {
    "duration": 6,
    "start_time": "2024-02-07T07:23:08.004Z"
   },
   {
    "duration": 5,
    "start_time": "2024-02-07T07:23:09.131Z"
   },
   {
    "duration": 6,
    "start_time": "2024-02-07T07:23:32.570Z"
   },
   {
    "duration": 6,
    "start_time": "2024-02-07T07:23:33.034Z"
   },
   {
    "duration": 6,
    "start_time": "2024-02-07T07:23:42.043Z"
   },
   {
    "duration": 5,
    "start_time": "2024-02-07T07:23:42.986Z"
   },
   {
    "duration": 41,
    "start_time": "2024-02-07T15:25:29.237Z"
   },
   {
    "duration": 1238,
    "start_time": "2024-02-07T15:37:42.858Z"
   },
   {
    "duration": 91,
    "start_time": "2024-02-07T15:37:44.098Z"
   },
   {
    "duration": 75,
    "start_time": "2024-02-07T15:37:44.191Z"
   },
   {
    "duration": 63,
    "start_time": "2024-02-07T15:37:44.268Z"
   },
   {
    "duration": 13,
    "start_time": "2024-02-07T15:37:44.332Z"
   },
   {
    "duration": 6,
    "start_time": "2024-02-07T15:37:44.346Z"
   },
   {
    "duration": 13,
    "start_time": "2024-02-07T15:37:44.353Z"
   },
   {
    "duration": 5,
    "start_time": "2024-02-07T15:37:44.367Z"
   },
   {
    "duration": 9,
    "start_time": "2024-02-07T15:37:44.373Z"
   },
   {
    "duration": 11,
    "start_time": "2024-02-07T15:37:44.385Z"
   },
   {
    "duration": 12,
    "start_time": "2024-02-07T15:37:44.398Z"
   },
   {
    "duration": 5,
    "start_time": "2024-02-07T15:37:44.412Z"
   },
   {
    "duration": 44,
    "start_time": "2024-02-07T15:37:44.419Z"
   },
   {
    "duration": 6,
    "start_time": "2024-02-07T15:37:44.465Z"
   },
   {
    "duration": 15,
    "start_time": "2024-02-07T15:37:44.473Z"
   },
   {
    "duration": 8,
    "start_time": "2024-02-07T15:37:44.489Z"
   },
   {
    "duration": 5,
    "start_time": "2024-02-07T15:37:44.498Z"
   },
   {
    "duration": 15,
    "start_time": "2024-02-07T15:37:44.504Z"
   },
   {
    "duration": 17,
    "start_time": "2024-02-07T15:37:44.520Z"
   },
   {
    "duration": 13,
    "start_time": "2024-02-07T15:37:44.553Z"
   },
   {
    "duration": 3,
    "start_time": "2024-02-07T15:37:44.568Z"
   },
   {
    "duration": 11,
    "start_time": "2024-02-07T15:37:44.572Z"
   },
   {
    "duration": 179,
    "start_time": "2024-02-07T15:37:44.585Z"
   },
   {
    "duration": 141,
    "start_time": "2024-02-07T15:37:44.766Z"
   },
   {
    "duration": 7,
    "start_time": "2024-02-07T15:37:44.909Z"
   },
   {
    "duration": 211,
    "start_time": "2024-02-07T15:37:44.918Z"
   },
   {
    "duration": 9,
    "start_time": "2024-02-07T15:37:45.132Z"
   },
   {
    "duration": 309,
    "start_time": "2024-02-07T15:37:45.151Z"
   },
   {
    "duration": 8,
    "start_time": "2024-02-07T15:37:45.462Z"
   },
   {
    "duration": 203,
    "start_time": "2024-02-07T15:37:45.472Z"
   },
   {
    "duration": 23,
    "start_time": "2024-02-07T15:37:45.677Z"
   },
   {
    "duration": 15,
    "start_time": "2024-02-07T15:37:45.701Z"
   },
   {
    "duration": 13,
    "start_time": "2024-02-07T15:37:45.717Z"
   },
   {
    "duration": 445,
    "start_time": "2024-02-07T15:37:45.756Z"
   },
   {
    "duration": 494,
    "start_time": "2024-02-07T15:37:46.202Z"
   },
   {
    "duration": 771,
    "start_time": "2024-02-07T15:37:46.697Z"
   },
   {
    "duration": 50230,
    "start_time": "2024-02-07T15:37:47.470Z"
   },
   {
    "duration": 12,
    "start_time": "2024-02-07T15:38:37.701Z"
   },
   {
    "duration": 7,
    "start_time": "2024-02-07T15:38:37.714Z"
   },
   {
    "duration": 5,
    "start_time": "2024-02-07T15:38:37.723Z"
   },
   {
    "duration": 25,
    "start_time": "2024-02-07T15:38:37.729Z"
   },
   {
    "duration": 146,
    "start_time": "2024-02-07T15:38:37.755Z"
   },
   {
    "duration": 5,
    "start_time": "2024-02-07T15:38:37.902Z"
   },
   {
    "duration": 118,
    "start_time": "2024-02-07T15:38:37.908Z"
   },
   {
    "duration": 142,
    "start_time": "2024-02-07T15:40:50.555Z"
   },
   {
    "duration": 122,
    "start_time": "2024-02-07T15:41:01.287Z"
   },
   {
    "duration": 182,
    "start_time": "2024-02-07T15:43:36.659Z"
   },
   {
    "duration": 128,
    "start_time": "2024-02-07T15:43:52.423Z"
   },
   {
    "duration": 116,
    "start_time": "2024-02-07T15:43:58.374Z"
   },
   {
    "duration": 61,
    "start_time": "2024-02-07T15:44:36.092Z"
   },
   {
    "duration": 117,
    "start_time": "2024-02-07T15:44:41.265Z"
   },
   {
    "duration": 112,
    "start_time": "2024-02-07T15:45:57.786Z"
   },
   {
    "duration": 130,
    "start_time": "2024-02-07T15:46:03.447Z"
   },
   {
    "duration": 124,
    "start_time": "2024-02-07T15:46:08.340Z"
   },
   {
    "duration": 117,
    "start_time": "2024-02-07T15:47:54.056Z"
   },
   {
    "duration": 138,
    "start_time": "2024-02-07T15:49:49.493Z"
   },
   {
    "duration": 124,
    "start_time": "2024-02-07T15:50:28.558Z"
   },
   {
    "duration": 128,
    "start_time": "2024-02-07T15:50:41.846Z"
   },
   {
    "duration": 17,
    "start_time": "2024-02-07T15:51:15.703Z"
   },
   {
    "duration": 155,
    "start_time": "2024-02-07T15:51:35.070Z"
   },
   {
    "duration": 16,
    "start_time": "2024-02-07T15:53:32.610Z"
   },
   {
    "duration": 11,
    "start_time": "2024-02-07T15:53:48.063Z"
   },
   {
    "duration": 19,
    "start_time": "2024-02-07T15:54:54.166Z"
   },
   {
    "duration": 19,
    "start_time": "2024-02-07T15:54:58.746Z"
   },
   {
    "duration": 20,
    "start_time": "2024-02-07T15:55:16.845Z"
   },
   {
    "duration": 6,
    "start_time": "2024-02-07T15:56:45.113Z"
   },
   {
    "duration": 21,
    "start_time": "2024-02-07T16:12:48.430Z"
   },
   {
    "duration": 3,
    "start_time": "2024-02-07T16:12:55.345Z"
   },
   {
    "duration": 58,
    "start_time": "2024-02-07T16:12:55.351Z"
   },
   {
    "duration": 36,
    "start_time": "2024-02-07T16:12:55.410Z"
   },
   {
    "duration": 24,
    "start_time": "2024-02-07T16:12:55.447Z"
   },
   {
    "duration": 29,
    "start_time": "2024-02-07T16:12:55.474Z"
   },
   {
    "duration": 6,
    "start_time": "2024-02-07T16:12:55.504Z"
   },
   {
    "duration": 10,
    "start_time": "2024-02-07T16:12:55.511Z"
   },
   {
    "duration": 5,
    "start_time": "2024-02-07T16:12:55.522Z"
   },
   {
    "duration": 26,
    "start_time": "2024-02-07T16:12:55.528Z"
   },
   {
    "duration": 21,
    "start_time": "2024-02-07T16:12:55.556Z"
   },
   {
    "duration": 34,
    "start_time": "2024-02-07T16:12:55.579Z"
   },
   {
    "duration": 14,
    "start_time": "2024-02-07T16:12:55.614Z"
   },
   {
    "duration": 12,
    "start_time": "2024-02-07T16:12:55.630Z"
   },
   {
    "duration": 26,
    "start_time": "2024-02-07T16:12:55.643Z"
   },
   {
    "duration": 23,
    "start_time": "2024-02-07T16:12:55.670Z"
   },
   {
    "duration": 8,
    "start_time": "2024-02-07T16:12:55.694Z"
   },
   {
    "duration": 23,
    "start_time": "2024-02-07T16:12:55.703Z"
   },
   {
    "duration": 30,
    "start_time": "2024-02-07T16:12:55.727Z"
   },
   {
    "duration": 17,
    "start_time": "2024-02-07T16:12:55.759Z"
   },
   {
    "duration": 12,
    "start_time": "2024-02-07T16:12:55.777Z"
   },
   {
    "duration": 1,
    "start_time": "2024-02-07T16:12:55.791Z"
   },
   {
    "duration": 20,
    "start_time": "2024-02-07T16:12:55.794Z"
   },
   {
    "duration": 157,
    "start_time": "2024-02-07T16:12:55.815Z"
   },
   {
    "duration": 199,
    "start_time": "2024-02-07T16:12:55.974Z"
   },
   {
    "duration": 6,
    "start_time": "2024-02-07T16:12:56.175Z"
   },
   {
    "duration": 175,
    "start_time": "2024-02-07T16:12:56.182Z"
   },
   {
    "duration": 8,
    "start_time": "2024-02-07T16:12:56.359Z"
   },
   {
    "duration": 296,
    "start_time": "2024-02-07T16:12:56.368Z"
   },
   {
    "duration": 9,
    "start_time": "2024-02-07T16:12:56.667Z"
   },
   {
    "duration": 206,
    "start_time": "2024-02-07T16:12:56.677Z"
   },
   {
    "duration": 18,
    "start_time": "2024-02-07T16:12:56.884Z"
   },
   {
    "duration": 18,
    "start_time": "2024-02-07T16:12:56.903Z"
   },
   {
    "duration": 3,
    "start_time": "2024-02-07T16:12:56.922Z"
   },
   {
    "duration": 16,
    "start_time": "2024-02-07T16:12:56.951Z"
   },
   {
    "duration": 13,
    "start_time": "2024-02-07T16:12:56.969Z"
   },
   {
    "duration": 485,
    "start_time": "2024-02-07T16:12:56.983Z"
   },
   {
    "duration": 452,
    "start_time": "2024-02-07T16:12:57.470Z"
   },
   {
    "duration": 759,
    "start_time": "2024-02-07T16:12:57.924Z"
   },
   {
    "duration": 51424,
    "start_time": "2024-02-07T16:12:58.684Z"
   },
   {
    "duration": 13,
    "start_time": "2024-02-07T16:13:50.110Z"
   },
   {
    "duration": 5,
    "start_time": "2024-02-07T16:13:50.125Z"
   },
   {
    "duration": 67,
    "start_time": "2024-02-07T16:13:50.152Z"
   },
   {
    "duration": 159,
    "start_time": "2024-02-07T16:13:50.220Z"
   },
   {
    "duration": 5,
    "start_time": "2024-02-07T16:13:50.381Z"
   },
   {
    "duration": 154,
    "start_time": "2024-02-07T16:13:50.387Z"
   },
   {
    "duration": 5,
    "start_time": "2024-02-07T16:13:50.544Z"
   },
   {
    "duration": 3,
    "start_time": "2024-02-07T16:16:25.466Z"
   },
   {
    "duration": 43,
    "start_time": "2024-02-07T16:16:25.471Z"
   },
   {
    "duration": 39,
    "start_time": "2024-02-07T16:16:25.516Z"
   },
   {
    "duration": 25,
    "start_time": "2024-02-07T16:16:25.556Z"
   },
   {
    "duration": 13,
    "start_time": "2024-02-07T16:16:25.584Z"
   },
   {
    "duration": 13,
    "start_time": "2024-02-07T16:16:25.598Z"
   },
   {
    "duration": 17,
    "start_time": "2024-02-07T16:16:25.613Z"
   },
   {
    "duration": 23,
    "start_time": "2024-02-07T16:16:25.632Z"
   },
   {
    "duration": 14,
    "start_time": "2024-02-07T16:16:25.657Z"
   },
   {
    "duration": 13,
    "start_time": "2024-02-07T16:16:25.672Z"
   },
   {
    "duration": 10,
    "start_time": "2024-02-07T16:16:25.687Z"
   },
   {
    "duration": 7,
    "start_time": "2024-02-07T16:16:25.699Z"
   },
   {
    "duration": 20,
    "start_time": "2024-02-07T16:16:25.708Z"
   },
   {
    "duration": 38,
    "start_time": "2024-02-07T16:16:25.729Z"
   },
   {
    "duration": 7,
    "start_time": "2024-02-07T16:16:25.769Z"
   },
   {
    "duration": 8,
    "start_time": "2024-02-07T16:16:25.777Z"
   },
   {
    "duration": 5,
    "start_time": "2024-02-07T16:16:25.786Z"
   },
   {
    "duration": 11,
    "start_time": "2024-02-07T16:16:25.792Z"
   },
   {
    "duration": 8,
    "start_time": "2024-02-07T16:16:25.804Z"
   },
   {
    "duration": 25,
    "start_time": "2024-02-07T16:16:25.813Z"
   },
   {
    "duration": 12,
    "start_time": "2024-02-07T16:16:25.840Z"
   },
   {
    "duration": 5,
    "start_time": "2024-02-07T16:16:25.853Z"
   },
   {
    "duration": 180,
    "start_time": "2024-02-07T16:16:25.859Z"
   },
   {
    "duration": 136,
    "start_time": "2024-02-07T16:16:26.040Z"
   },
   {
    "duration": 7,
    "start_time": "2024-02-07T16:16:26.178Z"
   },
   {
    "duration": 233,
    "start_time": "2024-02-07T16:16:26.187Z"
   },
   {
    "duration": 8,
    "start_time": "2024-02-07T16:16:26.422Z"
   },
   {
    "duration": 304,
    "start_time": "2024-02-07T16:16:26.431Z"
   },
   {
    "duration": 14,
    "start_time": "2024-02-07T16:16:26.738Z"
   },
   {
    "duration": 272,
    "start_time": "2024-02-07T16:16:26.754Z"
   },
   {
    "duration": 25,
    "start_time": "2024-02-07T16:16:27.027Z"
   },
   {
    "duration": 17,
    "start_time": "2024-02-07T16:16:27.054Z"
   },
   {
    "duration": 4,
    "start_time": "2024-02-07T16:16:27.072Z"
   },
   {
    "duration": 36,
    "start_time": "2024-02-07T16:16:27.077Z"
   },
   {
    "duration": 17,
    "start_time": "2024-02-07T16:16:27.115Z"
   },
   {
    "duration": 131,
    "start_time": "2024-02-07T16:16:54.465Z"
   },
   {
    "duration": 134,
    "start_time": "2024-02-07T16:17:00.014Z"
   },
   {
    "duration": 98,
    "start_time": "2024-02-07T16:27:32.868Z"
   },
   {
    "duration": 211,
    "start_time": "2024-02-07T16:30:26.692Z"
   },
   {
    "duration": 340,
    "start_time": "2024-02-07T16:30:38.998Z"
   },
   {
    "duration": 222,
    "start_time": "2024-02-07T16:30:58.389Z"
   },
   {
    "duration": 286,
    "start_time": "2024-02-07T16:32:09.648Z"
   },
   {
    "duration": 316,
    "start_time": "2024-02-07T16:32:19.115Z"
   },
   {
    "duration": 372,
    "start_time": "2024-02-07T16:33:06.009Z"
   },
   {
    "duration": 380,
    "start_time": "2024-02-07T16:34:03.961Z"
   },
   {
    "duration": 320,
    "start_time": "2024-02-07T16:35:00.186Z"
   },
   {
    "duration": 209,
    "start_time": "2024-02-07T16:35:05.607Z"
   },
   {
    "duration": 370,
    "start_time": "2024-02-07T16:35:32.028Z"
   },
   {
    "duration": 74,
    "start_time": "2024-02-07T16:36:54.487Z"
   },
   {
    "duration": 211,
    "start_time": "2024-02-07T16:37:05.752Z"
   },
   {
    "duration": 465,
    "start_time": "2024-02-07T16:37:40.110Z"
   },
   {
    "duration": 392,
    "start_time": "2024-02-07T16:38:33.083Z"
   },
   {
    "duration": 299,
    "start_time": "2024-02-07T16:39:11.653Z"
   },
   {
    "duration": 394,
    "start_time": "2024-02-07T16:42:27.811Z"
   },
   {
    "duration": 5,
    "start_time": "2024-02-07T16:52:45.945Z"
   },
   {
    "duration": 5,
    "start_time": "2024-02-07T16:53:17.667Z"
   },
   {
    "duration": 5,
    "start_time": "2024-02-07T16:54:01.553Z"
   },
   {
    "duration": 110,
    "start_time": "2024-02-07T16:56:16.494Z"
   },
   {
    "duration": 123,
    "start_time": "2024-02-07T16:56:33.383Z"
   },
   {
    "duration": 224,
    "start_time": "2024-02-07T16:57:38.788Z"
   },
   {
    "duration": 138,
    "start_time": "2024-02-07T16:57:52.282Z"
   },
   {
    "duration": 309,
    "start_time": "2024-02-07T17:01:13.919Z"
   },
   {
    "duration": 157,
    "start_time": "2024-02-07T17:01:19.724Z"
   },
   {
    "duration": 140,
    "start_time": "2024-02-07T17:01:27.639Z"
   },
   {
    "duration": 125,
    "start_time": "2024-02-07T17:01:38.117Z"
   },
   {
    "duration": 3,
    "start_time": "2024-02-07T17:02:30.952Z"
   },
   {
    "duration": 73,
    "start_time": "2024-02-07T17:02:30.957Z"
   },
   {
    "duration": 39,
    "start_time": "2024-02-07T17:02:31.032Z"
   },
   {
    "duration": 33,
    "start_time": "2024-02-07T17:02:31.072Z"
   },
   {
    "duration": 20,
    "start_time": "2024-02-07T17:02:31.107Z"
   },
   {
    "duration": 26,
    "start_time": "2024-02-07T17:02:31.129Z"
   },
   {
    "duration": 65,
    "start_time": "2024-02-07T17:02:31.156Z"
   },
   {
    "duration": 31,
    "start_time": "2024-02-07T17:02:31.222Z"
   },
   {
    "duration": 28,
    "start_time": "2024-02-07T17:02:31.255Z"
   },
   {
    "duration": 64,
    "start_time": "2024-02-07T17:02:31.285Z"
   },
   {
    "duration": 36,
    "start_time": "2024-02-07T17:02:31.352Z"
   },
   {
    "duration": 31,
    "start_time": "2024-02-07T17:02:31.390Z"
   },
   {
    "duration": 57,
    "start_time": "2024-02-07T17:02:31.423Z"
   },
   {
    "duration": 33,
    "start_time": "2024-02-07T17:02:31.482Z"
   },
   {
    "duration": 58,
    "start_time": "2024-02-07T17:02:31.517Z"
   },
   {
    "duration": 84,
    "start_time": "2024-02-07T17:02:31.577Z"
   },
   {
    "duration": 57,
    "start_time": "2024-02-07T17:02:31.663Z"
   },
   {
    "duration": 19,
    "start_time": "2024-02-07T17:02:31.722Z"
   },
   {
    "duration": 36,
    "start_time": "2024-02-07T17:02:31.743Z"
   },
   {
    "duration": 16,
    "start_time": "2024-02-07T17:02:31.780Z"
   },
   {
    "duration": 6,
    "start_time": "2024-02-07T17:02:31.798Z"
   },
   {
    "duration": 5,
    "start_time": "2024-02-07T17:02:31.806Z"
   },
   {
    "duration": 166,
    "start_time": "2024-02-07T17:02:31.813Z"
   },
   {
    "duration": 138,
    "start_time": "2024-02-07T17:02:31.981Z"
   },
   {
    "duration": 6,
    "start_time": "2024-02-07T17:02:32.121Z"
   },
   {
    "duration": 187,
    "start_time": "2024-02-07T17:02:32.129Z"
   },
   {
    "duration": 8,
    "start_time": "2024-02-07T17:02:32.318Z"
   },
   {
    "duration": 301,
    "start_time": "2024-02-07T17:02:32.327Z"
   },
   {
    "duration": 8,
    "start_time": "2024-02-07T17:02:32.633Z"
   },
   {
    "duration": 271,
    "start_time": "2024-02-07T17:02:32.652Z"
   },
   {
    "duration": 27,
    "start_time": "2024-02-07T17:02:32.925Z"
   },
   {
    "duration": 19,
    "start_time": "2024-02-07T17:02:32.954Z"
   },
   {
    "duration": 5,
    "start_time": "2024-02-07T17:02:32.975Z"
   },
   {
    "duration": 24,
    "start_time": "2024-02-07T17:02:32.982Z"
   },
   {
    "duration": 15,
    "start_time": "2024-02-07T17:02:33.008Z"
   },
   {
    "duration": 420,
    "start_time": "2024-02-07T17:02:33.025Z"
   },
   {
    "duration": 274,
    "start_time": "2024-02-07T17:02:33.447Z"
   },
   {
    "duration": 774,
    "start_time": "2024-02-07T17:02:33.723Z"
   },
   {
    "duration": 52067,
    "start_time": "2024-02-07T17:02:34.498Z"
   },
   {
    "duration": 11,
    "start_time": "2024-02-07T17:03:26.566Z"
   },
   {
    "duration": 22,
    "start_time": "2024-02-07T17:03:26.579Z"
   },
   {
    "duration": 10,
    "start_time": "2024-02-07T17:03:26.602Z"
   },
   {
    "duration": 13,
    "start_time": "2024-02-07T17:03:26.613Z"
   },
   {
    "duration": 137,
    "start_time": "2024-02-07T17:03:26.627Z"
   },
   {
    "duration": 5,
    "start_time": "2024-02-07T17:03:26.765Z"
   },
   {
    "duration": 211,
    "start_time": "2024-02-07T17:03:26.772Z"
   },
   {
    "duration": 4,
    "start_time": "2024-02-07T17:31:50.210Z"
   },
   {
    "duration": 62,
    "start_time": "2024-02-07T17:31:50.216Z"
   },
   {
    "duration": 36,
    "start_time": "2024-02-07T17:31:50.280Z"
   },
   {
    "duration": 25,
    "start_time": "2024-02-07T17:31:50.318Z"
   },
   {
    "duration": 14,
    "start_time": "2024-02-07T17:31:50.345Z"
   },
   {
    "duration": 15,
    "start_time": "2024-02-07T17:31:50.361Z"
   },
   {
    "duration": 13,
    "start_time": "2024-02-07T17:31:50.377Z"
   },
   {
    "duration": 5,
    "start_time": "2024-02-07T17:31:50.391Z"
   },
   {
    "duration": 10,
    "start_time": "2024-02-07T17:31:50.398Z"
   },
   {
    "duration": 44,
    "start_time": "2024-02-07T17:31:50.410Z"
   },
   {
    "duration": 28,
    "start_time": "2024-02-07T17:31:50.457Z"
   },
   {
    "duration": 5,
    "start_time": "2024-02-07T17:31:50.486Z"
   },
   {
    "duration": 38,
    "start_time": "2024-02-07T17:31:50.492Z"
   },
   {
    "duration": 18,
    "start_time": "2024-02-07T17:31:50.532Z"
   },
   {
    "duration": 16,
    "start_time": "2024-02-07T17:31:50.551Z"
   },
   {
    "duration": 9,
    "start_time": "2024-02-07T17:31:50.569Z"
   },
   {
    "duration": 6,
    "start_time": "2024-02-07T17:31:50.579Z"
   },
   {
    "duration": 9,
    "start_time": "2024-02-07T17:31:50.586Z"
   },
   {
    "duration": 18,
    "start_time": "2024-02-07T17:31:50.597Z"
   },
   {
    "duration": 13,
    "start_time": "2024-02-07T17:31:50.616Z"
   },
   {
    "duration": 2,
    "start_time": "2024-02-07T17:31:50.630Z"
   },
   {
    "duration": 16,
    "start_time": "2024-02-07T17:31:50.633Z"
   },
   {
    "duration": 171,
    "start_time": "2024-02-07T17:31:50.652Z"
   },
   {
    "duration": 136,
    "start_time": "2024-02-07T17:31:50.824Z"
   },
   {
    "duration": 7,
    "start_time": "2024-02-07T17:31:50.961Z"
   },
   {
    "duration": 197,
    "start_time": "2024-02-07T17:31:50.969Z"
   },
   {
    "duration": 7,
    "start_time": "2024-02-07T17:31:51.168Z"
   },
   {
    "duration": 281,
    "start_time": "2024-02-07T17:31:51.176Z"
   },
   {
    "duration": 8,
    "start_time": "2024-02-07T17:31:51.460Z"
   },
   {
    "duration": 201,
    "start_time": "2024-02-07T17:31:51.469Z"
   },
   {
    "duration": 18,
    "start_time": "2024-02-07T17:31:51.671Z"
   },
   {
    "duration": 16,
    "start_time": "2024-02-07T17:31:51.691Z"
   },
   {
    "duration": 3,
    "start_time": "2024-02-07T17:31:51.708Z"
   },
   {
    "duration": 45,
    "start_time": "2024-02-07T17:31:51.713Z"
   },
   {
    "duration": 16,
    "start_time": "2024-02-07T17:31:51.759Z"
   },
   {
    "duration": 406,
    "start_time": "2024-02-07T17:31:51.776Z"
   },
   {
    "duration": 377,
    "start_time": "2024-02-07T17:31:52.183Z"
   },
   {
    "duration": 884,
    "start_time": "2024-02-07T17:31:52.561Z"
   },
   {
    "duration": 52255,
    "start_time": "2024-02-07T17:31:53.447Z"
   },
   {
    "duration": 13,
    "start_time": "2024-02-07T17:32:45.703Z"
   },
   {
    "duration": 6,
    "start_time": "2024-02-07T17:32:45.717Z"
   },
   {
    "duration": 27,
    "start_time": "2024-02-07T17:32:45.725Z"
   },
   {
    "duration": 10,
    "start_time": "2024-02-07T17:32:45.754Z"
   },
   {
    "duration": 140,
    "start_time": "2024-02-07T17:32:45.765Z"
   },
   {
    "duration": 5,
    "start_time": "2024-02-07T17:32:45.906Z"
   },
   {
    "duration": 134,
    "start_time": "2024-02-07T17:32:45.912Z"
   },
   {
    "duration": 1083,
    "start_time": "2024-02-07T19:46:40.467Z"
   },
   {
    "duration": 45,
    "start_time": "2024-02-07T19:46:41.552Z"
   },
   {
    "duration": 41,
    "start_time": "2024-02-07T19:46:41.598Z"
   },
   {
    "duration": 61,
    "start_time": "2024-02-07T19:46:41.641Z"
   },
   {
    "duration": 13,
    "start_time": "2024-02-07T19:46:41.704Z"
   },
   {
    "duration": 10,
    "start_time": "2024-02-07T19:46:41.718Z"
   },
   {
    "duration": 24,
    "start_time": "2024-02-07T19:46:41.730Z"
   },
   {
    "duration": 5,
    "start_time": "2024-02-07T19:46:41.755Z"
   },
   {
    "duration": 9,
    "start_time": "2024-02-07T19:46:41.761Z"
   },
   {
    "duration": 27,
    "start_time": "2024-02-07T19:46:41.772Z"
   },
   {
    "duration": 9,
    "start_time": "2024-02-07T19:46:41.801Z"
   },
   {
    "duration": 8,
    "start_time": "2024-02-07T19:46:41.812Z"
   },
   {
    "duration": 83,
    "start_time": "2024-02-07T19:46:41.821Z"
   },
   {
    "duration": 5,
    "start_time": "2024-02-07T19:46:41.906Z"
   },
   {
    "duration": 12,
    "start_time": "2024-02-07T19:46:41.913Z"
   },
   {
    "duration": 15,
    "start_time": "2024-02-07T19:46:41.926Z"
   },
   {
    "duration": 9,
    "start_time": "2024-02-07T19:46:41.994Z"
   },
   {
    "duration": 16,
    "start_time": "2024-02-07T19:46:42.004Z"
   },
   {
    "duration": 9,
    "start_time": "2024-02-07T19:46:42.021Z"
   },
   {
    "duration": 71,
    "start_time": "2024-02-07T19:46:42.032Z"
   },
   {
    "duration": 5,
    "start_time": "2024-02-07T19:46:42.105Z"
   },
   {
    "duration": 20,
    "start_time": "2024-02-07T19:46:42.112Z"
   },
   {
    "duration": 394,
    "start_time": "2024-02-07T19:46:42.133Z"
   },
   {
    "duration": 182,
    "start_time": "2024-02-07T19:46:42.528Z"
   },
   {
    "duration": 7,
    "start_time": "2024-02-07T19:46:42.712Z"
   },
   {
    "duration": 479,
    "start_time": "2024-02-07T19:46:42.721Z"
   },
   {
    "duration": 9,
    "start_time": "2024-02-07T19:46:43.201Z"
   },
   {
    "duration": 681,
    "start_time": "2024-02-07T19:46:43.213Z"
   },
   {
    "duration": 9,
    "start_time": "2024-02-07T19:46:43.896Z"
   },
   {
    "duration": 592,
    "start_time": "2024-02-07T19:46:43.907Z"
   },
   {
    "duration": 19,
    "start_time": "2024-02-07T19:46:44.500Z"
   },
   {
    "duration": 79,
    "start_time": "2024-02-07T19:46:44.520Z"
   },
   {
    "duration": 4,
    "start_time": "2024-02-07T19:46:44.600Z"
   },
   {
    "duration": 88,
    "start_time": "2024-02-07T19:46:44.606Z"
   },
   {
    "duration": 18,
    "start_time": "2024-02-07T19:46:44.696Z"
   },
   {
    "duration": 728,
    "start_time": "2024-02-07T19:46:44.715Z"
   },
   {
    "duration": 695,
    "start_time": "2024-02-07T19:46:45.445Z"
   },
   {
    "duration": 1690,
    "start_time": "2024-02-07T19:46:46.141Z"
   },
   {
    "duration": 52823,
    "start_time": "2024-02-07T19:46:47.832Z"
   },
   {
    "duration": 12,
    "start_time": "2024-02-07T19:47:40.656Z"
   },
   {
    "duration": 36,
    "start_time": "2024-02-07T19:47:40.669Z"
   },
   {
    "duration": 25,
    "start_time": "2024-02-07T19:47:40.706Z"
   },
   {
    "duration": 31,
    "start_time": "2024-02-07T19:47:40.732Z"
   },
   {
    "duration": 174,
    "start_time": "2024-02-07T19:47:40.765Z"
   },
   {
    "duration": 4,
    "start_time": "2024-02-07T19:47:40.941Z"
   },
   {
    "duration": 174,
    "start_time": "2024-02-07T19:47:40.946Z"
   }
  ],
  "kernelspec": {
   "display_name": "Python 3 (ipykernel)",
   "language": "python",
   "name": "python3"
  },
  "language_info": {
   "codemirror_mode": {
    "name": "ipython",
    "version": 3
   },
   "file_extension": ".py",
   "mimetype": "text/x-python",
   "name": "python",
   "nbconvert_exporter": "python",
   "pygments_lexer": "ipython3",
   "version": "3.11.7"
  },
  "toc": {
   "base_numbering": 1,
   "nav_menu": {},
   "number_sections": true,
   "sideBar": true,
   "skip_h1_title": true,
   "title_cell": "Table of Contents",
   "title_sidebar": "Contents",
   "toc_cell": false,
   "toc_position": {},
   "toc_section_display": true,
   "toc_window_display": false
  }
 },
 "nbformat": 4,
 "nbformat_minor": 5
}
